{
 "cells": [
  {
   "cell_type": "markdown",
   "metadata": {
    "lines_to_next_cell": 0
   },
   "source": [
    "12.1 Bar Plot\n"
   ]
  },
  {
   "cell_type": "code",
   "execution_count": null,
   "metadata": {},
   "outputs": [],
   "source": [
    "library(DOSE)\n",
    "data(geneList)\n",
    "de <- names(geneList)[abs(geneList) > 2]"
   ]
  },
  {
   "cell_type": "code",
   "execution_count": null,
   "metadata": {},
   "outputs": [],
   "source": [
    "edo <- enrichDGN(de)"
   ]
  },
  {
   "cell_type": "code",
   "execution_count": null,
   "metadata": {},
   "outputs": [],
   "source": [
    "library(enrichplot)\n",
    "barplot(edo, showCategory=20)"
   ]
  },
  {
   "cell_type": "markdown",
   "metadata": {
    "lines_to_next_cell": 0
   },
   "source": [
    "12.2 Dot plot\n"
   ]
  },
  {
   "cell_type": "code",
   "execution_count": null,
   "metadata": {},
   "outputs": [],
   "source": [
    "edo2 <- gseNCG(geneList)#, nPerm=10000)"
   ]
  },
  {
   "cell_type": "code",
   "execution_count": null,
   "metadata": {},
   "outputs": [],
   "source": [
    "head(edo2)"
   ]
  },
  {
   "cell_type": "code",
   "execution_count": null,
   "metadata": {},
   "outputs": [],
   "source": [
    "p1 <- dotplot(edo, showCategory=30) + ggtitle(\"dotplot for ORA\")"
   ]
  },
  {
   "cell_type": "code",
   "execution_count": null,
   "metadata": {},
   "outputs": [],
   "source": [
    "p2 <- dotplot(edo2, showCategory=30) + ggtitle(\"dotplot for GSEA\")"
   ]
  },
  {
   "cell_type": "code",
   "execution_count": null,
   "metadata": {},
   "outputs": [],
   "source": [
    "plot_grid(p1, p2, ncol=2)"
   ]
  },
  {
   "cell_type": "code",
   "execution_count": null,
   "metadata": {},
   "outputs": [],
   "source": []
  },
  {
   "cell_type": "code",
   "execution_count": null,
   "metadata": {
    "lines_to_next_cell": 2
   },
   "outputs": [],
   "source": [
    "## convert gene ID to Symbol\n",
    "edox <- setReadable(edo, 'org.Hs.eg.db', 'ENTREZID')\n",
    "p1 <- cnetplot(edox, foldChange=geneList)\n",
    "## categorySize can be scaled by 'pvalue' or 'geneNum'\n",
    "p2 <- cnetplot(edox, categorySize=\"pvalue\", foldChange=geneList)\n",
    "p3 <- cnetplot(edox, foldChange=geneList, circular = TRUE, colorEdge = TRUE)\n",
    "cowplot::plot_grid(p1, p2, p3, ncol=3, labels=LETTERS[1:3], rel_widths=c(.8, .8, 1.2))"
   ]
  },
  {
   "cell_type": "markdown",
   "metadata": {
    "lines_to_next_cell": 0
   },
   "source": [
    "something wrong with this. "
   ]
  },
  {
   "cell_type": "code",
   "execution_count": null,
   "metadata": {},
   "outputs": [],
   "source": [
    "p1 <- cnetplot(edox, node_label=\"category\") \n",
    "p2 <- cnetplot(edox, node_label=\"gene\") \n",
    "p3 <- cnetplot(edox, node_label=\"all\") \n",
    "p4 <- cnetplot(edox, node_label=\"none\") \n",
    "cowplot::plot_grid(p1, p2, p3, p4, ncol=2, labels=LETTERS[1:4])"
   ]
  },
  {
   "cell_type": "markdown",
   "metadata": {
    "lines_to_next_cell": 0
   },
   "source": [
    "12.4 Heatmap-like functional classification\n"
   ]
  },
  {
   "cell_type": "code",
   "execution_count": null,
   "metadata": {
    "lines_to_next_cell": 0
   },
   "outputs": [],
   "source": [
    "p1 <- heatplot(edox)\n",
    "p2 <- heatplot(edox, foldChange=geneList)\n",
    "cowplot::plot_grid(p1, p2, ncol=1, labels=LETTERS[1:2])"
   ]
  },
  {
   "cell_type": "markdown",
   "metadata": {
    "lines_to_next_cell": 0
   },
   "source": [
    "12.5 Enrichment Map\n"
   ]
  },
  {
   "cell_type": "code",
   "execution_count": null,
   "metadata": {},
   "outputs": [],
   "source": [
    "p1 <- emapplot(edo)\n",
    "p2 <- emapplot(edo, pie_scale=1.5)\n",
    "p3 <- emapplot(edo,layout=\"kk\")\n",
    "p4 <- emapplot(edo, pie_scale=1.5,layout=\"kk\") \n",
    "cowplot::plot_grid(p1, p2, p3, p4, ncol=2, labels=LETTERS[1:4])"
   ]
  },
  {
   "cell_type": "code",
   "execution_count": null,
   "metadata": {},
   "outputs": [],
   "source": []
  },
  {
   "cell_type": "code",
   "execution_count": null,
   "metadata": {
    "lines_to_next_cell": 2
   },
   "outputs": [],
   "source": [
    "library(clusterProfiler)\n",
    "data(gcSample)\n",
    "xx <- compareCluster(gcSample, fun=\"enrichKEGG\",\n",
    "                     organism=\"hsa\", pvalueCutoff=0.05)\n",
    "p1 <- emapplot(xx)\n",
    "p2 <- emapplot(xx,legend_n=2) \n",
    "p3 <- emapplot(xx,pie=\"count\")\n",
    "p4 <- emapplot(xx,pie=\"count\", pie_scale=1.5, layout=\"kk\")\n",
    "cowplot::plot_grid(p1, p2, p3, p4, ncol=2, labels=LETTERS[1:4])"
   ]
  },
  {
   "cell_type": "markdown",
   "metadata": {
    "lines_to_next_cell": 0
   },
   "source": [
    "12.6 UpSet Plot\n"
   ]
  },
  {
   "cell_type": "code",
   "execution_count": null,
   "metadata": {},
   "outputs": [],
   "source": [
    "BiocManager::install(\"ggupset\")\n",
    "upsetplot(edo)"
   ]
  },
  {
   "cell_type": "markdown",
   "metadata": {
    "lines_to_next_cell": 0
   },
   "source": [
    "unsolved: what is the kk2?"
   ]
  },
  {
   "cell_type": "code",
   "execution_count": null,
   "metadata": {},
   "outputs": [],
   "source": [
    "upsetplot(edo2) "
   ]
  },
  {
   "cell_type": "markdown",
   "metadata": {},
   "source": [
    "12.7 ridgeline plot for expression distribution of GSEA result"
   ]
  },
  {
   "cell_type": "code",
   "execution_count": null,
   "metadata": {},
   "outputs": [],
   "source": [
    "ridgeplot(edo2)"
   ]
  },
  {
   "cell_type": "markdown",
   "metadata": {
    "lines_to_next_cell": 0
   },
   "source": [
    "12.8 running score and preranked list of GSEA result"
   ]
  },
  {
   "cell_type": "code",
   "execution_count": null,
   "metadata": {
    "lines_to_next_cell": 2
   },
   "outputs": [],
   "source": [
    "p1 <- gseaplot(edo2, geneSetID = 1, by = \"runningScore\", title = edo2$Description[1])\n",
    "p2 <- gseaplot(edo2, geneSetID = 1, by = \"preranked\", title = edo2$Description[1])\n",
    "p3 <- gseaplot(edo2, geneSetID = 1, title = edo2$Description[1])\n",
    "cowplot::plot_grid(p1, p2, p3, ncol=1, labels=LETTERS[1:3])"
   ]
  },
  {
   "cell_type": "code",
   "execution_count": null,
   "metadata": {},
   "outputs": [],
   "source": [
    "gseaplot2(edo2, geneSetID = 1, title = edo2$Description[1])"
   ]
  },
  {
   "cell_type": "code",
   "execution_count": null,
   "metadata": {},
   "outputs": [],
   "source": [
    "gseaplot2(edo2, geneSetID = 1:3)"
   ]
  },
  {
   "cell_type": "code",
   "execution_count": null,
   "metadata": {},
   "outputs": [],
   "source": [
    "gseaplot2(edo2, geneSetID = 1:3, pvalue_table = TRUE,\n",
    "          color = c(\"#E495A5\", \"#86B875\", \"#7DB0DD\"), ES_geom = \"dot\")"
   ]
  },
  {
   "cell_type": "code",
   "execution_count": null,
   "metadata": {},
   "outputs": [],
   "source": [
    "p1 <- gseaplot2(edo2, geneSetID = 1:3, subplots = 1)\n",
    "p2 <- gseaplot2(edo2, geneSetID = 1:3, subplots = 1:2)\n",
    "cowplot::plot_grid(p1, p2, ncol=1, labels=LETTERS[1:2])"
   ]
  },
  {
   "cell_type": "code",
   "execution_count": null,
   "metadata": {
    "lines_to_next_cell": 2
   },
   "outputs": [],
   "source": [
    "gsearank(edo2, 1, title = edo2[1, \"Description\"])"
   ]
  },
  {
   "cell_type": "code",
   "execution_count": null,
   "metadata": {},
   "outputs": [],
   "source": [
    "library(ggplot2)\n",
    "library(cowplot)"
   ]
  },
  {
   "cell_type": "code",
   "execution_count": null,
   "metadata": {
    "lines_to_next_cell": 2
   },
   "outputs": [],
   "source": [
    "pp <- lapply(1:3, function(i) {\n",
    "  anno <- edo2[i, c(\"NES\", \"pvalue\", \"p.adjust\")]\n",
    "  lab <- paste0(names(anno), \"=\",  round(anno, 3), collapse=\"\\n\")\n",
    "  \n",
    "  gsearank(edo2, i, edo2[i, 2]) + xlab(NULL) +ylab(NULL) +\n",
    "    annotate(\"text\", 0, edo2[i, \"enrichmentScore\"] * .9, label = lab, hjust=0, vjust=0)\n",
    "})\n",
    "plot_grid(plotlist=pp, ncol=1)"
   ]
  },
  {
   "cell_type": "markdown",
   "metadata": {},
   "source": [
    "12.9 pubmed trend of enriched terms"
   ]
  },
  {
   "cell_type": "code",
   "execution_count": null,
   "metadata": {},
   "outputs": [],
   "source": [
    "terms <- edo$Description[1:3]\n",
    "p <- pmcplot(terms, 2010:2017)\n",
    "p2 <- pmcplot(terms, 2010:2017, proportion=FALSE)\n",
    "plot_grid(p, p2, ncol=2)"
   ]
  },
  {
   "cell_type": "markdown",
   "metadata": {
    "lines_to_next_cell": 0
   },
   "source": [
    "12.10 goplot\n",
    "where is this ego? I don't find this. "
   ]
  },
  {
   "cell_type": "code",
   "execution_count": null,
   "metadata": {},
   "outputs": [],
   "source": [
    "goplot(ego)"
   ]
  },
  {
   "cell_type": "markdown",
   "metadata": {
    "lines_to_next_cell": 0
   },
   "source": [
    "12.11 browseKEGG\n",
    "kk not found ???"
   ]
  },
  {
   "cell_type": "code",
   "execution_count": null,
   "metadata": {},
   "outputs": [],
   "source": [
    "browseKEGG(kk, 'hsa04110')"
   ]
  },
  {
   "cell_type": "markdown",
   "metadata": {
    "lines_to_next_cell": 0
   },
   "source": [
    "12.12 pathview from pathview package\n"
   ]
  },
  {
   "cell_type": "code",
   "execution_count": null,
   "metadata": {},
   "outputs": [],
   "source": [
    "library(\"pathview\")\n",
    "library(\"pathview\")\n",
    "hsa04110 <- pathview(gene.data  = geneList,\n",
    "                     pathway.id = \"hsa04110\",\n",
    "                     species    = \"hsa\",\n",
    "                     limit      = list(gene=max(abs(geneList)), cpd=1))"
   ]
  },
  {
   "cell_type": "code",
   "execution_count": null,
   "metadata": {},
   "outputs": [],
   "source": []
  },
  {
   "cell_type": "code",
   "execution_count": null,
   "metadata": {},
   "outputs": [],
   "source": []
  },
  {
   "cell_type": "code",
   "execution_count": null,
   "metadata": {},
   "outputs": [],
   "source": []
  },
  {
   "cell_type": "code",
   "execution_count": null,
   "metadata": {
    "lines_to_next_cell": 2
   },
   "outputs": [],
   "source": []
  }
 ],
 "metadata": {
  "jupytext": {
   "cell_metadata_filter": "-all",
   "notebook_metadata_filter": "-all",
   "text_representation": {
    "extension": ".R",
    "format_name": "spin"
   }
  },
  "kernelspec": {
   "display_name": "R",
   "language": "R",
   "name": "ir"
  },
  "language_info": {
   "codemirror_mode": "r",
   "file_extension": ".r",
   "mimetype": "text/x-r-source",
   "name": "R",
   "pygments_lexer": "r",
   "version": "3.6.0"
  }
 },
 "nbformat": 4,
 "nbformat_minor": 4
}
