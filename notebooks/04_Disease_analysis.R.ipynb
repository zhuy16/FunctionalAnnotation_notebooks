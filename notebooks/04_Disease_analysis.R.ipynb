{
 "cells": [
  {
   "cell_type": "markdown",
   "metadata": {
    "lines_to_next_cell": 0
   },
   "source": [
    "Chapter 4 Disease analysis\n",
    "\n",
    "4.1 enrichDO function\n"
   ]
  },
  {
   "cell_type": "code",
   "execution_count": 1,
   "metadata": {},
   "outputs": [
    {
     "name": "stderr",
     "output_type": "stream",
     "text": [
      "Warning message:\n",
      "“multiple methods tables found for ‘splitAsList’”\n",
      "Warning message:\n",
      "“replacing previous import ‘S4Vectors::splitAsList’ by ‘IRanges::splitAsList’ when loading ‘AnnotationDbi’”\n",
      "\n",
      "\n",
      "DOSE v3.14.0  For help: https://guangchuangyu.github.io/software/DOSE\n",
      "\n",
      "If you use DOSE in published research, please cite:\n",
      "Guangchuang Yu, Li-Gen Wang, Guang-Rong Yan, Qing-Yu He. DOSE: an R/Bioconductor package for Disease Ontology Semantic and Enrichment analysis. Bioinformatics 2015, 31(4):608-609\n",
      "\n",
      "\n"
     ]
    },
    {
     "data": {
      "text/html": [
       "<ol class=list-inline>\n",
       "\t<li>'4312'</li>\n",
       "\t<li>'8318'</li>\n",
       "\t<li>'10874'</li>\n",
       "\t<li>'55143'</li>\n",
       "\t<li>'55388'</li>\n",
       "\t<li>'991'</li>\n",
       "</ol>\n"
      ],
      "text/latex": [
       "\\begin{enumerate*}\n",
       "\\item '4312'\n",
       "\\item '8318'\n",
       "\\item '10874'\n",
       "\\item '55143'\n",
       "\\item '55388'\n",
       "\\item '991'\n",
       "\\end{enumerate*}\n"
      ],
      "text/markdown": [
       "1. '4312'\n",
       "2. '8318'\n",
       "3. '10874'\n",
       "4. '55143'\n",
       "5. '55388'\n",
       "6. '991'\n",
       "\n",
       "\n"
      ],
      "text/plain": [
       "[1] \"4312\"  \"8318\"  \"10874\" \"55143\" \"55388\" \"991\"  "
      ]
     },
     "metadata": {},
     "output_type": "display_data"
    }
   ],
   "source": [
    "library(DOSE)\n",
    "data(geneList)\n",
    "gene <- names(geneList)[abs(geneList) > 1.5]\n",
    "head(gene)"
   ]
  },
  {
   "cell_type": "code",
   "execution_count": 2,
   "metadata": {},
   "outputs": [
    {
     "data": {
      "text/html": [
       "<table>\n",
       "<caption>A data.frame: 6 × 9</caption>\n",
       "<thead>\n",
       "\t<tr><th></th><th scope=col>ID</th><th scope=col>Description</th><th scope=col>GeneRatio</th><th scope=col>BgRatio</th><th scope=col>pvalue</th><th scope=col>p.adjust</th><th scope=col>qvalue</th><th scope=col>geneID</th><th scope=col>Count</th></tr>\n",
       "\t<tr><th></th><th scope=col>&lt;chr&gt;</th><th scope=col>&lt;chr&gt;</th><th scope=col>&lt;chr&gt;</th><th scope=col>&lt;chr&gt;</th><th scope=col>&lt;dbl&gt;</th><th scope=col>&lt;dbl&gt;</th><th scope=col>&lt;dbl&gt;</th><th scope=col>&lt;chr&gt;</th><th scope=col>&lt;int&gt;</th></tr>\n",
       "</thead>\n",
       "<tbody>\n",
       "\t<tr><th scope=row>DOID:170</th><td>DOID:170  </td><td>endocrine gland cancer        </td><td>48/331</td><td>472/6268</td><td>5.662129e-06</td><td>0.004784499</td><td>0.003826407</td><td>10874/7153/1381/6241/11065/10232/332/6286/2146/10112/891/9232/4171/993/5347/4318/3576/1515/4821/8836/3159/7980/5888/333/898/9768/4288/3551/2152/9590/185/7043/3357/2952/5327/3667/1634/1287/4582/7122/3479/4680/6424/80310/652/8839/9547/1524</td><td>48</td></tr>\n",
       "\t<tr><th scope=row>DOID:10283</th><td>DOID:10283</td><td>prostate cancer               </td><td>40/331</td><td>394/6268</td><td>3.859157e-05</td><td>0.013921739</td><td>0.011133923</td><td>4312/6280/6279/597/3627/332/6286/2146/4321/4521/891/5347/4102/4318/701/3576/79852/10321/6352/4288/3551/2152/247/2952/3487/367/3667/4128/4582/563/3679/4117/7031/3479/6424/10451/80310/652/4036/10551                                         </td><td>40</td></tr>\n",
       "\t<tr><th scope=row>DOID:3459</th><td>DOID:3459 </td><td>breast carcinoma              </td><td>37/331</td><td>357/6268</td><td>4.942629e-05</td><td>0.013921739</td><td>0.011133923</td><td>4312/6280/6279/7153/4751/890/4085/332/6286/6790/891/9232/10855/4171/5347/4318/701/2633/3576/9636/898/8792/4288/2952/4982/4128/4582/7031/3479/771/4250/2066/3169/10647/5304/5241/10551                                                        </td><td>37</td></tr>\n",
       "\t<tr><th scope=row>DOID:3856</th><td>DOID:3856 </td><td>male reproductive organ cancer</td><td>40/331</td><td>404/6268</td><td>6.821467e-05</td><td>0.014410349</td><td>0.011524689</td><td>4312/6280/6279/597/3627/332/6286/2146/4321/4521/891/5347/4102/4318/701/3576/79852/10321/6352/4288/3551/2152/247/2952/3487/367/3667/4128/4582/563/3679/4117/7031/3479/6424/10451/80310/652/4036/10551                                         </td><td>40</td></tr>\n",
       "\t<tr><th scope=row>DOID:824</th><td>DOID:824  </td><td>periodontitis                 </td><td>16/331</td><td>109/6268</td><td>1.699304e-04</td><td>0.018859464</td><td>0.015082872</td><td>4312/6279/820/7850/4321/3595/4318/4069/3576/1493/6352/8842/185/2952/5327/4982                                                                                                                                                                </td><td>16</td></tr>\n",
       "\t<tr><th scope=row>DOID:3905</th><td>DOID:3905 </td><td>lung carcinoma                </td><td>43/331</td><td>465/6268</td><td>1.749754e-04</td><td>0.018859464</td><td>0.015082872</td><td>4312/6280/2305/9133/6279/7153/6278/6241/55165/11065/8140/10232/332/6286/3002/9212/4521/891/4171/9928/8061/4318/3576/1978/1894/7980/7083/898/6352/8842/4288/2152/2697/2952/3572/4582/7049/563/3479/1846/3117/2532/2922                        </td><td>43</td></tr>\n",
       "</tbody>\n",
       "</table>\n"
      ],
      "text/latex": [
       "A data.frame: 6 × 9\n",
       "\\begin{tabular}{r|lllllllll}\n",
       "  & ID & Description & GeneRatio & BgRatio & pvalue & p.adjust & qvalue & geneID & Count\\\\\n",
       "  & <chr> & <chr> & <chr> & <chr> & <dbl> & <dbl> & <dbl> & <chr> & <int>\\\\\n",
       "\\hline\n",
       "\tDOID:170 & DOID:170   & endocrine gland cancer         & 48/331 & 472/6268 & 5.662129e-06 & 0.004784499 & 0.003826407 & 10874/7153/1381/6241/11065/10232/332/6286/2146/10112/891/9232/4171/993/5347/4318/3576/1515/4821/8836/3159/7980/5888/333/898/9768/4288/3551/2152/9590/185/7043/3357/2952/5327/3667/1634/1287/4582/7122/3479/4680/6424/80310/652/8839/9547/1524 & 48\\\\\n",
       "\tDOID:10283 & DOID:10283 & prostate cancer                & 40/331 & 394/6268 & 3.859157e-05 & 0.013921739 & 0.011133923 & 4312/6280/6279/597/3627/332/6286/2146/4321/4521/891/5347/4102/4318/701/3576/79852/10321/6352/4288/3551/2152/247/2952/3487/367/3667/4128/4582/563/3679/4117/7031/3479/6424/10451/80310/652/4036/10551                                          & 40\\\\\n",
       "\tDOID:3459 & DOID:3459  & breast carcinoma               & 37/331 & 357/6268 & 4.942629e-05 & 0.013921739 & 0.011133923 & 4312/6280/6279/7153/4751/890/4085/332/6286/6790/891/9232/10855/4171/5347/4318/701/2633/3576/9636/898/8792/4288/2952/4982/4128/4582/7031/3479/771/4250/2066/3169/10647/5304/5241/10551                                                         & 37\\\\\n",
       "\tDOID:3856 & DOID:3856  & male reproductive organ cancer & 40/331 & 404/6268 & 6.821467e-05 & 0.014410349 & 0.011524689 & 4312/6280/6279/597/3627/332/6286/2146/4321/4521/891/5347/4102/4318/701/3576/79852/10321/6352/4288/3551/2152/247/2952/3487/367/3667/4128/4582/563/3679/4117/7031/3479/6424/10451/80310/652/4036/10551                                          & 40\\\\\n",
       "\tDOID:824 & DOID:824   & periodontitis                  & 16/331 & 109/6268 & 1.699304e-04 & 0.018859464 & 0.015082872 & 4312/6279/820/7850/4321/3595/4318/4069/3576/1493/6352/8842/185/2952/5327/4982                                                                                                                                                                 & 16\\\\\n",
       "\tDOID:3905 & DOID:3905  & lung carcinoma                 & 43/331 & 465/6268 & 1.749754e-04 & 0.018859464 & 0.015082872 & 4312/6280/2305/9133/6279/7153/6278/6241/55165/11065/8140/10232/332/6286/3002/9212/4521/891/4171/9928/8061/4318/3576/1978/1894/7980/7083/898/6352/8842/4288/2152/2697/2952/3572/4582/7049/563/3479/1846/3117/2532/2922                         & 43\\\\\n",
       "\\end{tabular}\n"
      ],
      "text/markdown": [
       "\n",
       "A data.frame: 6 × 9\n",
       "\n",
       "| <!--/--> | ID &lt;chr&gt; | Description &lt;chr&gt; | GeneRatio &lt;chr&gt; | BgRatio &lt;chr&gt; | pvalue &lt;dbl&gt; | p.adjust &lt;dbl&gt; | qvalue &lt;dbl&gt; | geneID &lt;chr&gt; | Count &lt;int&gt; |\n",
       "|---|---|---|---|---|---|---|---|---|---|\n",
       "| DOID:170 | DOID:170   | endocrine gland cancer         | 48/331 | 472/6268 | 5.662129e-06 | 0.004784499 | 0.003826407 | 10874/7153/1381/6241/11065/10232/332/6286/2146/10112/891/9232/4171/993/5347/4318/3576/1515/4821/8836/3159/7980/5888/333/898/9768/4288/3551/2152/9590/185/7043/3357/2952/5327/3667/1634/1287/4582/7122/3479/4680/6424/80310/652/8839/9547/1524 | 48 |\n",
       "| DOID:10283 | DOID:10283 | prostate cancer                | 40/331 | 394/6268 | 3.859157e-05 | 0.013921739 | 0.011133923 | 4312/6280/6279/597/3627/332/6286/2146/4321/4521/891/5347/4102/4318/701/3576/79852/10321/6352/4288/3551/2152/247/2952/3487/367/3667/4128/4582/563/3679/4117/7031/3479/6424/10451/80310/652/4036/10551                                          | 40 |\n",
       "| DOID:3459 | DOID:3459  | breast carcinoma               | 37/331 | 357/6268 | 4.942629e-05 | 0.013921739 | 0.011133923 | 4312/6280/6279/7153/4751/890/4085/332/6286/6790/891/9232/10855/4171/5347/4318/701/2633/3576/9636/898/8792/4288/2952/4982/4128/4582/7031/3479/771/4250/2066/3169/10647/5304/5241/10551                                                         | 37 |\n",
       "| DOID:3856 | DOID:3856  | male reproductive organ cancer | 40/331 | 404/6268 | 6.821467e-05 | 0.014410349 | 0.011524689 | 4312/6280/6279/597/3627/332/6286/2146/4321/4521/891/5347/4102/4318/701/3576/79852/10321/6352/4288/3551/2152/247/2952/3487/367/3667/4128/4582/563/3679/4117/7031/3479/6424/10451/80310/652/4036/10551                                          | 40 |\n",
       "| DOID:824 | DOID:824   | periodontitis                  | 16/331 | 109/6268 | 1.699304e-04 | 0.018859464 | 0.015082872 | 4312/6279/820/7850/4321/3595/4318/4069/3576/1493/6352/8842/185/2952/5327/4982                                                                                                                                                                 | 16 |\n",
       "| DOID:3905 | DOID:3905  | lung carcinoma                 | 43/331 | 465/6268 | 1.749754e-04 | 0.018859464 | 0.015082872 | 4312/6280/2305/9133/6279/7153/6278/6241/55165/11065/8140/10232/332/6286/3002/9212/4521/891/4171/9928/8061/4318/3576/1978/1894/7980/7083/898/6352/8842/4288/2152/2697/2952/3572/4582/7049/563/3479/1846/3117/2532/2922                         | 43 |\n",
       "\n"
      ],
      "text/plain": [
       "           ID         Description                    GeneRatio BgRatio \n",
       "DOID:170   DOID:170   endocrine gland cancer         48/331    472/6268\n",
       "DOID:10283 DOID:10283 prostate cancer                40/331    394/6268\n",
       "DOID:3459  DOID:3459  breast carcinoma               37/331    357/6268\n",
       "DOID:3856  DOID:3856  male reproductive organ cancer 40/331    404/6268\n",
       "DOID:824   DOID:824   periodontitis                  16/331    109/6268\n",
       "DOID:3905  DOID:3905  lung carcinoma                 43/331    465/6268\n",
       "           pvalue       p.adjust    qvalue     \n",
       "DOID:170   5.662129e-06 0.004784499 0.003826407\n",
       "DOID:10283 3.859157e-05 0.013921739 0.011133923\n",
       "DOID:3459  4.942629e-05 0.013921739 0.011133923\n",
       "DOID:3856  6.821467e-05 0.014410349 0.011524689\n",
       "DOID:824   1.699304e-04 0.018859464 0.015082872\n",
       "DOID:3905  1.749754e-04 0.018859464 0.015082872\n",
       "           geneID                                                                                                                                                                                                                                       \n",
       "DOID:170   10874/7153/1381/6241/11065/10232/332/6286/2146/10112/891/9232/4171/993/5347/4318/3576/1515/4821/8836/3159/7980/5888/333/898/9768/4288/3551/2152/9590/185/7043/3357/2952/5327/3667/1634/1287/4582/7122/3479/4680/6424/80310/652/8839/9547/1524\n",
       "DOID:10283 4312/6280/6279/597/3627/332/6286/2146/4321/4521/891/5347/4102/4318/701/3576/79852/10321/6352/4288/3551/2152/247/2952/3487/367/3667/4128/4582/563/3679/4117/7031/3479/6424/10451/80310/652/4036/10551                                         \n",
       "DOID:3459  4312/6280/6279/7153/4751/890/4085/332/6286/6790/891/9232/10855/4171/5347/4318/701/2633/3576/9636/898/8792/4288/2952/4982/4128/4582/7031/3479/771/4250/2066/3169/10647/5304/5241/10551                                                        \n",
       "DOID:3856  4312/6280/6279/597/3627/332/6286/2146/4321/4521/891/5347/4102/4318/701/3576/79852/10321/6352/4288/3551/2152/247/2952/3487/367/3667/4128/4582/563/3679/4117/7031/3479/6424/10451/80310/652/4036/10551                                         \n",
       "DOID:824   4312/6279/820/7850/4321/3595/4318/4069/3576/1493/6352/8842/185/2952/5327/4982                                                                                                                                                                \n",
       "DOID:3905  4312/6280/2305/9133/6279/7153/6278/6241/55165/11065/8140/10232/332/6286/3002/9212/4521/891/4171/9928/8061/4318/3576/1978/1894/7980/7083/898/6352/8842/4288/2152/2697/2952/3572/4582/7049/563/3479/1846/3117/2532/2922                        \n",
       "           Count\n",
       "DOID:170   48   \n",
       "DOID:10283 40   \n",
       "DOID:3459  37   \n",
       "DOID:3856  40   \n",
       "DOID:824   16   \n",
       "DOID:3905  43   "
      ]
     },
     "metadata": {},
     "output_type": "display_data"
    }
   ],
   "source": [
    "x <- enrichDO(gene          = gene,\n",
    "              ont           = \"DO\",\n",
    "              pvalueCutoff  = 0.05,\n",
    "              pAdjustMethod = \"BH\",\n",
    "              universe      = names(geneList),\n",
    "              minGSSize     = 5,\n",
    "              maxGSSize     = 500,\n",
    "              qvalueCutoff  = 0.05,\n",
    "              readable      = FALSE)\n",
    "head(x)"
   ]
  },
  {
   "cell_type": "code",
   "execution_count": 3,
   "metadata": {},
   "outputs": [
    {
     "name": "stderr",
     "output_type": "stream",
     "text": [
      "Loading required package: org.Hs.eg.db\n",
      "\n",
      "Loading required package: AnnotationDbi\n",
      "\n",
      "Loading required package: stats4\n",
      "\n",
      "Loading required package: BiocGenerics\n",
      "\n",
      "Loading required package: parallel\n",
      "\n",
      "\n",
      "Attaching package: ‘BiocGenerics’\n",
      "\n",
      "\n",
      "The following objects are masked from ‘package:parallel’:\n",
      "\n",
      "    clusterApply, clusterApplyLB, clusterCall, clusterEvalQ,\n",
      "    clusterExport, clusterMap, parApply, parCapply, parLapply,\n",
      "    parLapplyLB, parRapply, parSapply, parSapplyLB\n",
      "\n",
      "\n",
      "The following objects are masked from ‘package:stats’:\n",
      "\n",
      "    IQR, mad, sd, var, xtabs\n",
      "\n",
      "\n",
      "The following objects are masked from ‘package:base’:\n",
      "\n",
      "    anyDuplicated, append, as.data.frame, basename, cbind, colnames,\n",
      "    dirname, do.call, duplicated, eval, evalq, Filter, Find, get, grep,\n",
      "    grepl, intersect, is.unsorted, lapply, Map, mapply, match, mget,\n",
      "    order, paste, pmax, pmax.int, pmin, pmin.int, Position, rank,\n",
      "    rbind, Reduce, rownames, sapply, setdiff, sort, table, tapply,\n",
      "    union, unique, unsplit, which, which.max, which.min\n",
      "\n",
      "\n",
      "Loading required package: Biobase\n",
      "\n",
      "Welcome to Bioconductor\n",
      "\n",
      "    Vignettes contain introductory material; view with\n",
      "    'browseVignettes()'. To cite Bioconductor, see\n",
      "    'citation(\"Biobase\")', and for packages 'citation(\"pkgname\")'.\n",
      "\n",
      "\n",
      "Loading required package: IRanges\n",
      "\n",
      "Loading required package: S4Vectors\n",
      "\n",
      "\n",
      "Attaching package: ‘S4Vectors’\n",
      "\n",
      "\n",
      "The following object is masked from ‘package:base’:\n",
      "\n",
      "    expand.grid\n",
      "\n",
      "\n",
      "\n",
      "Attaching package: ‘IRanges’\n",
      "\n",
      "\n",
      "The following object is masked from ‘package:S4Vectors’:\n",
      "\n",
      "    splitAsList\n",
      "\n",
      "\n",
      "\n",
      "\n"
     ]
    },
    {
     "data": {
      "text/html": [
       "<table>\n",
       "<caption>A data.frame: 6 × 9</caption>\n",
       "<thead>\n",
       "\t<tr><th></th><th scope=col>ID</th><th scope=col>Description</th><th scope=col>GeneRatio</th><th scope=col>BgRatio</th><th scope=col>pvalue</th><th scope=col>p.adjust</th><th scope=col>qvalue</th><th scope=col>geneID</th><th scope=col>Count</th></tr>\n",
       "\t<tr><th></th><th scope=col>&lt;chr&gt;</th><th scope=col>&lt;chr&gt;</th><th scope=col>&lt;chr&gt;</th><th scope=col>&lt;chr&gt;</th><th scope=col>&lt;dbl&gt;</th><th scope=col>&lt;dbl&gt;</th><th scope=col>&lt;dbl&gt;</th><th scope=col>&lt;chr&gt;</th><th scope=col>&lt;int&gt;</th></tr>\n",
       "</thead>\n",
       "<tbody>\n",
       "\t<tr><th scope=row>DOID:170</th><td>DOID:170  </td><td>endocrine gland cancer        </td><td>48/331</td><td>472/6268</td><td>5.662129e-06</td><td>0.004784499</td><td>0.003826407</td><td>NMU/TOP2A/CRABP1/RRM2/UBE2C/MSLN/BIRC5/S100P/EZH2/KIF20A/CCNB1/PTTG1/MCM2/CDC25A/PLK1/MMP9/CXCL8/CTSV/NKX2-2/GGH/HMGA1/TFPI2/RAD51/APLP1/CCNE1/PCLAF/MKI67/IKBKB/F3/AKAP12/AGTR1/TGFB3/HTR2B/GSTT1/PLAT/IRS1/DCN/COL4A5/MUC1/CLDN5/IGF1/CEACAM6/SFRP4/PDGFD/BMP4/CCN5/CXCL14/CX3CR1</td><td>48</td></tr>\n",
       "\t<tr><th scope=row>DOID:10283</th><td>DOID:10283</td><td>prostate cancer               </td><td>40/331</td><td>394/6268</td><td>3.859157e-05</td><td>0.013921739</td><td>0.011133923</td><td>MMP1/S100A9/S100A8/BCL2A1/CXCL10/BIRC5/S100P/EZH2/MMP12/NUDT1/CCNB1/PLK1/MAGEA3/MMP9/BUB1B/CXCL8/EPHX3/CRISP3/CCL5/MKI67/IKBKB/F3/ALOX15B/GSTT1/IGFBP4/AR/IRS1/MAOA/MUC1/AZGP1/ITGA7/MAK/TFF1/IGF1/SFRP4/VAV3/PDGFD/BMP4/LRP2/AGR2                                                 </td><td>40</td></tr>\n",
       "\t<tr><th scope=row>DOID:3459</th><td>DOID:3459 </td><td>breast carcinoma              </td><td>37/331</td><td>357/6268</td><td>4.942629e-05</td><td>0.013921739</td><td>0.011133923</td><td>MMP1/S100A9/S100A8/TOP2A/NEK2/CCNA2/MAD2L1/BIRC5/S100P/AURKA/CCNB1/PTTG1/HPSE/MCM2/PLK1/MMP9/BUB1B/GBP1/CXCL8/ISG15/CCNE1/TNFRSF11A/MKI67/GSTT1/TNFRSF11B/MAOA/MUC1/TFF1/IGF1/CA12/SCGB2A2/ERBB4/FOXA1/SCGB1D2/PIP/PGR/AGR2                                                        </td><td>37</td></tr>\n",
       "\t<tr><th scope=row>DOID:3856</th><td>DOID:3856 </td><td>male reproductive organ cancer</td><td>40/331</td><td>404/6268</td><td>6.821467e-05</td><td>0.014410349</td><td>0.011524689</td><td>MMP1/S100A9/S100A8/BCL2A1/CXCL10/BIRC5/S100P/EZH2/MMP12/NUDT1/CCNB1/PLK1/MAGEA3/MMP9/BUB1B/CXCL8/EPHX3/CRISP3/CCL5/MKI67/IKBKB/F3/ALOX15B/GSTT1/IGFBP4/AR/IRS1/MAOA/MUC1/AZGP1/ITGA7/MAK/TFF1/IGF1/SFRP4/VAV3/PDGFD/BMP4/LRP2/AGR2                                                 </td><td>40</td></tr>\n",
       "\t<tr><th scope=row>DOID:824</th><td>DOID:824  </td><td>periodontitis                 </td><td>16/331</td><td>109/6268</td><td>1.699304e-04</td><td>0.018859464</td><td>0.015082872</td><td>MMP1/S100A8/CAMP/IL1R2/MMP12/IL12RB2/MMP9/LYZ/CXCL8/CTLA4/CCL5/PROM1/AGTR1/GSTT1/PLAT/TNFRSF11B                                                                                                                                                                                    </td><td>16</td></tr>\n",
       "\t<tr><th scope=row>DOID:3905</th><td>DOID:3905 </td><td>lung carcinoma                </td><td>43/331</td><td>465/6268</td><td>1.749754e-04</td><td>0.018859464</td><td>0.015082872</td><td>MMP1/S100A9/FOXM1/CCNB2/S100A8/TOP2A/S100A7/RRM2/CEP55/UBE2C/SLC7A5/MSLN/BIRC5/S100P/GZMB/AURKB/NUDT1/CCNB1/MCM2/KIF14/FOSL1/MMP9/CXCL8/EIF4EBP1/ECT2/TFPI2/TK1/CCNE1/CCL5/PROM1/MKI67/F3/GJA1/GSTT1/IL6ST/MUC1/TGFBR3/AZGP1/IGF1/DUSP4/HLA-DQA1/ACKR1/GRP                         </td><td>43</td></tr>\n",
       "</tbody>\n",
       "</table>\n"
      ],
      "text/latex": [
       "A data.frame: 6 × 9\n",
       "\\begin{tabular}{r|lllllllll}\n",
       "  & ID & Description & GeneRatio & BgRatio & pvalue & p.adjust & qvalue & geneID & Count\\\\\n",
       "  & <chr> & <chr> & <chr> & <chr> & <dbl> & <dbl> & <dbl> & <chr> & <int>\\\\\n",
       "\\hline\n",
       "\tDOID:170 & DOID:170   & endocrine gland cancer         & 48/331 & 472/6268 & 5.662129e-06 & 0.004784499 & 0.003826407 & NMU/TOP2A/CRABP1/RRM2/UBE2C/MSLN/BIRC5/S100P/EZH2/KIF20A/CCNB1/PTTG1/MCM2/CDC25A/PLK1/MMP9/CXCL8/CTSV/NKX2-2/GGH/HMGA1/TFPI2/RAD51/APLP1/CCNE1/PCLAF/MKI67/IKBKB/F3/AKAP12/AGTR1/TGFB3/HTR2B/GSTT1/PLAT/IRS1/DCN/COL4A5/MUC1/CLDN5/IGF1/CEACAM6/SFRP4/PDGFD/BMP4/CCN5/CXCL14/CX3CR1 & 48\\\\\n",
       "\tDOID:10283 & DOID:10283 & prostate cancer                & 40/331 & 394/6268 & 3.859157e-05 & 0.013921739 & 0.011133923 & MMP1/S100A9/S100A8/BCL2A1/CXCL10/BIRC5/S100P/EZH2/MMP12/NUDT1/CCNB1/PLK1/MAGEA3/MMP9/BUB1B/CXCL8/EPHX3/CRISP3/CCL5/MKI67/IKBKB/F3/ALOX15B/GSTT1/IGFBP4/AR/IRS1/MAOA/MUC1/AZGP1/ITGA7/MAK/TFF1/IGF1/SFRP4/VAV3/PDGFD/BMP4/LRP2/AGR2                                                  & 40\\\\\n",
       "\tDOID:3459 & DOID:3459  & breast carcinoma               & 37/331 & 357/6268 & 4.942629e-05 & 0.013921739 & 0.011133923 & MMP1/S100A9/S100A8/TOP2A/NEK2/CCNA2/MAD2L1/BIRC5/S100P/AURKA/CCNB1/PTTG1/HPSE/MCM2/PLK1/MMP9/BUB1B/GBP1/CXCL8/ISG15/CCNE1/TNFRSF11A/MKI67/GSTT1/TNFRSF11B/MAOA/MUC1/TFF1/IGF1/CA12/SCGB2A2/ERBB4/FOXA1/SCGB1D2/PIP/PGR/AGR2                                                         & 37\\\\\n",
       "\tDOID:3856 & DOID:3856  & male reproductive organ cancer & 40/331 & 404/6268 & 6.821467e-05 & 0.014410349 & 0.011524689 & MMP1/S100A9/S100A8/BCL2A1/CXCL10/BIRC5/S100P/EZH2/MMP12/NUDT1/CCNB1/PLK1/MAGEA3/MMP9/BUB1B/CXCL8/EPHX3/CRISP3/CCL5/MKI67/IKBKB/F3/ALOX15B/GSTT1/IGFBP4/AR/IRS1/MAOA/MUC1/AZGP1/ITGA7/MAK/TFF1/IGF1/SFRP4/VAV3/PDGFD/BMP4/LRP2/AGR2                                                  & 40\\\\\n",
       "\tDOID:824 & DOID:824   & periodontitis                  & 16/331 & 109/6268 & 1.699304e-04 & 0.018859464 & 0.015082872 & MMP1/S100A8/CAMP/IL1R2/MMP12/IL12RB2/MMP9/LYZ/CXCL8/CTLA4/CCL5/PROM1/AGTR1/GSTT1/PLAT/TNFRSF11B                                                                                                                                                                                     & 16\\\\\n",
       "\tDOID:3905 & DOID:3905  & lung carcinoma                 & 43/331 & 465/6268 & 1.749754e-04 & 0.018859464 & 0.015082872 & MMP1/S100A9/FOXM1/CCNB2/S100A8/TOP2A/S100A7/RRM2/CEP55/UBE2C/SLC7A5/MSLN/BIRC5/S100P/GZMB/AURKB/NUDT1/CCNB1/MCM2/KIF14/FOSL1/MMP9/CXCL8/EIF4EBP1/ECT2/TFPI2/TK1/CCNE1/CCL5/PROM1/MKI67/F3/GJA1/GSTT1/IL6ST/MUC1/TGFBR3/AZGP1/IGF1/DUSP4/HLA-DQA1/ACKR1/GRP                          & 43\\\\\n",
       "\\end{tabular}\n"
      ],
      "text/markdown": [
       "\n",
       "A data.frame: 6 × 9\n",
       "\n",
       "| <!--/--> | ID &lt;chr&gt; | Description &lt;chr&gt; | GeneRatio &lt;chr&gt; | BgRatio &lt;chr&gt; | pvalue &lt;dbl&gt; | p.adjust &lt;dbl&gt; | qvalue &lt;dbl&gt; | geneID &lt;chr&gt; | Count &lt;int&gt; |\n",
       "|---|---|---|---|---|---|---|---|---|---|\n",
       "| DOID:170 | DOID:170   | endocrine gland cancer         | 48/331 | 472/6268 | 5.662129e-06 | 0.004784499 | 0.003826407 | NMU/TOP2A/CRABP1/RRM2/UBE2C/MSLN/BIRC5/S100P/EZH2/KIF20A/CCNB1/PTTG1/MCM2/CDC25A/PLK1/MMP9/CXCL8/CTSV/NKX2-2/GGH/HMGA1/TFPI2/RAD51/APLP1/CCNE1/PCLAF/MKI67/IKBKB/F3/AKAP12/AGTR1/TGFB3/HTR2B/GSTT1/PLAT/IRS1/DCN/COL4A5/MUC1/CLDN5/IGF1/CEACAM6/SFRP4/PDGFD/BMP4/CCN5/CXCL14/CX3CR1 | 48 |\n",
       "| DOID:10283 | DOID:10283 | prostate cancer                | 40/331 | 394/6268 | 3.859157e-05 | 0.013921739 | 0.011133923 | MMP1/S100A9/S100A8/BCL2A1/CXCL10/BIRC5/S100P/EZH2/MMP12/NUDT1/CCNB1/PLK1/MAGEA3/MMP9/BUB1B/CXCL8/EPHX3/CRISP3/CCL5/MKI67/IKBKB/F3/ALOX15B/GSTT1/IGFBP4/AR/IRS1/MAOA/MUC1/AZGP1/ITGA7/MAK/TFF1/IGF1/SFRP4/VAV3/PDGFD/BMP4/LRP2/AGR2                                                  | 40 |\n",
       "| DOID:3459 | DOID:3459  | breast carcinoma               | 37/331 | 357/6268 | 4.942629e-05 | 0.013921739 | 0.011133923 | MMP1/S100A9/S100A8/TOP2A/NEK2/CCNA2/MAD2L1/BIRC5/S100P/AURKA/CCNB1/PTTG1/HPSE/MCM2/PLK1/MMP9/BUB1B/GBP1/CXCL8/ISG15/CCNE1/TNFRSF11A/MKI67/GSTT1/TNFRSF11B/MAOA/MUC1/TFF1/IGF1/CA12/SCGB2A2/ERBB4/FOXA1/SCGB1D2/PIP/PGR/AGR2                                                         | 37 |\n",
       "| DOID:3856 | DOID:3856  | male reproductive organ cancer | 40/331 | 404/6268 | 6.821467e-05 | 0.014410349 | 0.011524689 | MMP1/S100A9/S100A8/BCL2A1/CXCL10/BIRC5/S100P/EZH2/MMP12/NUDT1/CCNB1/PLK1/MAGEA3/MMP9/BUB1B/CXCL8/EPHX3/CRISP3/CCL5/MKI67/IKBKB/F3/ALOX15B/GSTT1/IGFBP4/AR/IRS1/MAOA/MUC1/AZGP1/ITGA7/MAK/TFF1/IGF1/SFRP4/VAV3/PDGFD/BMP4/LRP2/AGR2                                                  | 40 |\n",
       "| DOID:824 | DOID:824   | periodontitis                  | 16/331 | 109/6268 | 1.699304e-04 | 0.018859464 | 0.015082872 | MMP1/S100A8/CAMP/IL1R2/MMP12/IL12RB2/MMP9/LYZ/CXCL8/CTLA4/CCL5/PROM1/AGTR1/GSTT1/PLAT/TNFRSF11B                                                                                                                                                                                     | 16 |\n",
       "| DOID:3905 | DOID:3905  | lung carcinoma                 | 43/331 | 465/6268 | 1.749754e-04 | 0.018859464 | 0.015082872 | MMP1/S100A9/FOXM1/CCNB2/S100A8/TOP2A/S100A7/RRM2/CEP55/UBE2C/SLC7A5/MSLN/BIRC5/S100P/GZMB/AURKB/NUDT1/CCNB1/MCM2/KIF14/FOSL1/MMP9/CXCL8/EIF4EBP1/ECT2/TFPI2/TK1/CCNE1/CCL5/PROM1/MKI67/F3/GJA1/GSTT1/IL6ST/MUC1/TGFBR3/AZGP1/IGF1/DUSP4/HLA-DQA1/ACKR1/GRP                          | 43 |\n",
       "\n"
      ],
      "text/plain": [
       "           ID         Description                    GeneRatio BgRatio \n",
       "DOID:170   DOID:170   endocrine gland cancer         48/331    472/6268\n",
       "DOID:10283 DOID:10283 prostate cancer                40/331    394/6268\n",
       "DOID:3459  DOID:3459  breast carcinoma               37/331    357/6268\n",
       "DOID:3856  DOID:3856  male reproductive organ cancer 40/331    404/6268\n",
       "DOID:824   DOID:824   periodontitis                  16/331    109/6268\n",
       "DOID:3905  DOID:3905  lung carcinoma                 43/331    465/6268\n",
       "           pvalue       p.adjust    qvalue     \n",
       "DOID:170   5.662129e-06 0.004784499 0.003826407\n",
       "DOID:10283 3.859157e-05 0.013921739 0.011133923\n",
       "DOID:3459  4.942629e-05 0.013921739 0.011133923\n",
       "DOID:3856  6.821467e-05 0.014410349 0.011524689\n",
       "DOID:824   1.699304e-04 0.018859464 0.015082872\n",
       "DOID:3905  1.749754e-04 0.018859464 0.015082872\n",
       "           geneID                                                                                                                                                                                                                                                                             \n",
       "DOID:170   NMU/TOP2A/CRABP1/RRM2/UBE2C/MSLN/BIRC5/S100P/EZH2/KIF20A/CCNB1/PTTG1/MCM2/CDC25A/PLK1/MMP9/CXCL8/CTSV/NKX2-2/GGH/HMGA1/TFPI2/RAD51/APLP1/CCNE1/PCLAF/MKI67/IKBKB/F3/AKAP12/AGTR1/TGFB3/HTR2B/GSTT1/PLAT/IRS1/DCN/COL4A5/MUC1/CLDN5/IGF1/CEACAM6/SFRP4/PDGFD/BMP4/CCN5/CXCL14/CX3CR1\n",
       "DOID:10283 MMP1/S100A9/S100A8/BCL2A1/CXCL10/BIRC5/S100P/EZH2/MMP12/NUDT1/CCNB1/PLK1/MAGEA3/MMP9/BUB1B/CXCL8/EPHX3/CRISP3/CCL5/MKI67/IKBKB/F3/ALOX15B/GSTT1/IGFBP4/AR/IRS1/MAOA/MUC1/AZGP1/ITGA7/MAK/TFF1/IGF1/SFRP4/VAV3/PDGFD/BMP4/LRP2/AGR2                                                 \n",
       "DOID:3459  MMP1/S100A9/S100A8/TOP2A/NEK2/CCNA2/MAD2L1/BIRC5/S100P/AURKA/CCNB1/PTTG1/HPSE/MCM2/PLK1/MMP9/BUB1B/GBP1/CXCL8/ISG15/CCNE1/TNFRSF11A/MKI67/GSTT1/TNFRSF11B/MAOA/MUC1/TFF1/IGF1/CA12/SCGB2A2/ERBB4/FOXA1/SCGB1D2/PIP/PGR/AGR2                                                        \n",
       "DOID:3856  MMP1/S100A9/S100A8/BCL2A1/CXCL10/BIRC5/S100P/EZH2/MMP12/NUDT1/CCNB1/PLK1/MAGEA3/MMP9/BUB1B/CXCL8/EPHX3/CRISP3/CCL5/MKI67/IKBKB/F3/ALOX15B/GSTT1/IGFBP4/AR/IRS1/MAOA/MUC1/AZGP1/ITGA7/MAK/TFF1/IGF1/SFRP4/VAV3/PDGFD/BMP4/LRP2/AGR2                                                 \n",
       "DOID:824   MMP1/S100A8/CAMP/IL1R2/MMP12/IL12RB2/MMP9/LYZ/CXCL8/CTLA4/CCL5/PROM1/AGTR1/GSTT1/PLAT/TNFRSF11B                                                                                                                                                                                    \n",
       "DOID:3905  MMP1/S100A9/FOXM1/CCNB2/S100A8/TOP2A/S100A7/RRM2/CEP55/UBE2C/SLC7A5/MSLN/BIRC5/S100P/GZMB/AURKB/NUDT1/CCNB1/MCM2/KIF14/FOSL1/MMP9/CXCL8/EIF4EBP1/ECT2/TFPI2/TK1/CCNE1/CCL5/PROM1/MKI67/F3/GJA1/GSTT1/IL6ST/MUC1/TGFBR3/AZGP1/IGF1/DUSP4/HLA-DQA1/ACKR1/GRP                         \n",
       "           Count\n",
       "DOID:170   48   \n",
       "DOID:10283 40   \n",
       "DOID:3459  37   \n",
       "DOID:3856  40   \n",
       "DOID:824   16   \n",
       "DOID:3905  43   "
      ]
     },
     "metadata": {},
     "output_type": "display_data"
    }
   ],
   "source": [
    "x <- setReadable(x, 'org.Hs.eg.db')\n",
    "head(x)"
   ]
  },
  {
   "cell_type": "markdown",
   "metadata": {
    "lines_to_next_cell": 0
   },
   "source": [
    "4.2 enrichNCG function\n"
   ]
  },
  {
   "cell_type": "code",
   "execution_count": 4,
   "metadata": {},
   "outputs": [
    {
     "data": {
      "text/html": [
       "<table>\n",
       "<caption>A data.frame: 3 × 9</caption>\n",
       "<thead>\n",
       "\t<tr><th></th><th scope=col>ID</th><th scope=col>Description</th><th scope=col>GeneRatio</th><th scope=col>BgRatio</th><th scope=col>pvalue</th><th scope=col>p.adjust</th><th scope=col>qvalue</th><th scope=col>geneID</th><th scope=col>Count</th></tr>\n",
       "\t<tr><th></th><th scope=col>&lt;chr&gt;</th><th scope=col>&lt;chr&gt;</th><th scope=col>&lt;chr&gt;</th><th scope=col>&lt;chr&gt;</th><th scope=col>&lt;dbl&gt;</th><th scope=col>&lt;dbl&gt;</th><th scope=col>&lt;dbl&gt;</th><th scope=col>&lt;chr&gt;</th><th scope=col>&lt;int&gt;</th></tr>\n",
       "</thead>\n",
       "<tbody>\n",
       "\t<tr><th scope=row>soft_tissue_sarcomas</th><td>soft_tissue_sarcomas</td><td>soft_tissue_sarcomas</td><td>28/1172</td><td>28/1571</td><td>0.0002517511</td><td>0.008056037</td><td>0.006360029</td><td>1029/999/6850/4914/4342/2185/55294/2041/4851/23512/2044/4058/5290/8726/4486/5297/5728/3815/2324/7403/5925/4763/1499/7157/5159/2045/3667/2066                                                                                                                                                                                                      </td><td>28</td></tr>\n",
       "\t<tr><th scope=row>bladder</th><td>bladder             </td><td>bladder             </td><td>61/1172</td><td>67/1571</td><td>0.0005108168</td><td>0.008173069</td><td>0.006452423</td><td>9700/2175/9603/1029/8997/688/1026/896/677/6256/55294/8085/4851/3265/1999/3845/8243/10605/8295/4854/5290/2033/4780/23224/23217/2064/23385/55252/10735/4853/387/288/30849/9794/7403/287/463/472/4297/2065/2262/8289/9611/5925/2068/4763/7157/2186/1387/3910/2261/7248/23037/23345/7832/79633/10628/22906/388/4036/3169                              </td><td>61</td></tr>\n",
       "\t<tr><th scope=row>glioma</th><td>glioma              </td><td>glioma              </td><td>68/1172</td><td>76/1571</td><td>0.0008511747</td><td>0.009079196</td><td>0.007167787</td><td>4603/4609/1029/3418/8877/1019/7027/4613/1030/1956/1106/2264/3417/6597/4914/55359/896/894/2321/3954/5335/5781/8439/673/9444/4851/8087/2050/8493/3845/3482/667/56999/5290/2033/4233/577/5894/5156/80036/9407/3020/1021/5598/5728/8621/1828/63035/23592/8880/2260/54880/4916/2263/1639/90/546/8289/4763/7157/23152/5295/4602/595/2261/6938/4915/26137</td><td>68</td></tr>\n",
       "</tbody>\n",
       "</table>\n"
      ],
      "text/latex": [
       "A data.frame: 3 × 9\n",
       "\\begin{tabular}{r|lllllllll}\n",
       "  & ID & Description & GeneRatio & BgRatio & pvalue & p.adjust & qvalue & geneID & Count\\\\\n",
       "  & <chr> & <chr> & <chr> & <chr> & <dbl> & <dbl> & <dbl> & <chr> & <int>\\\\\n",
       "\\hline\n",
       "\tsoft\\_tissue\\_sarcomas & soft\\_tissue\\_sarcomas & soft\\_tissue\\_sarcomas & 28/1172 & 28/1571 & 0.0002517511 & 0.008056037 & 0.006360029 & 1029/999/6850/4914/4342/2185/55294/2041/4851/23512/2044/4058/5290/8726/4486/5297/5728/3815/2324/7403/5925/4763/1499/7157/5159/2045/3667/2066                                                                                                                                                                                                       & 28\\\\\n",
       "\tbladder & bladder              & bladder              & 61/1172 & 67/1571 & 0.0005108168 & 0.008173069 & 0.006452423 & 9700/2175/9603/1029/8997/688/1026/896/677/6256/55294/8085/4851/3265/1999/3845/8243/10605/8295/4854/5290/2033/4780/23224/23217/2064/23385/55252/10735/4853/387/288/30849/9794/7403/287/463/472/4297/2065/2262/8289/9611/5925/2068/4763/7157/2186/1387/3910/2261/7248/23037/23345/7832/79633/10628/22906/388/4036/3169                               & 61\\\\\n",
       "\tglioma & glioma               & glioma               & 68/1172 & 76/1571 & 0.0008511747 & 0.009079196 & 0.007167787 & 4603/4609/1029/3418/8877/1019/7027/4613/1030/1956/1106/2264/3417/6597/4914/55359/896/894/2321/3954/5335/5781/8439/673/9444/4851/8087/2050/8493/3845/3482/667/56999/5290/2033/4233/577/5894/5156/80036/9407/3020/1021/5598/5728/8621/1828/63035/23592/8880/2260/54880/4916/2263/1639/90/546/8289/4763/7157/23152/5295/4602/595/2261/6938/4915/26137 & 68\\\\\n",
       "\\end{tabular}\n"
      ],
      "text/markdown": [
       "\n",
       "A data.frame: 3 × 9\n",
       "\n",
       "| <!--/--> | ID &lt;chr&gt; | Description &lt;chr&gt; | GeneRatio &lt;chr&gt; | BgRatio &lt;chr&gt; | pvalue &lt;dbl&gt; | p.adjust &lt;dbl&gt; | qvalue &lt;dbl&gt; | geneID &lt;chr&gt; | Count &lt;int&gt; |\n",
       "|---|---|---|---|---|---|---|---|---|---|\n",
       "| soft_tissue_sarcomas | soft_tissue_sarcomas | soft_tissue_sarcomas | 28/1172 | 28/1571 | 0.0002517511 | 0.008056037 | 0.006360029 | 1029/999/6850/4914/4342/2185/55294/2041/4851/23512/2044/4058/5290/8726/4486/5297/5728/3815/2324/7403/5925/4763/1499/7157/5159/2045/3667/2066                                                                                                                                                                                                       | 28 |\n",
       "| bladder | bladder              | bladder              | 61/1172 | 67/1571 | 0.0005108168 | 0.008173069 | 0.006452423 | 9700/2175/9603/1029/8997/688/1026/896/677/6256/55294/8085/4851/3265/1999/3845/8243/10605/8295/4854/5290/2033/4780/23224/23217/2064/23385/55252/10735/4853/387/288/30849/9794/7403/287/463/472/4297/2065/2262/8289/9611/5925/2068/4763/7157/2186/1387/3910/2261/7248/23037/23345/7832/79633/10628/22906/388/4036/3169                               | 61 |\n",
       "| glioma | glioma               | glioma               | 68/1172 | 76/1571 | 0.0008511747 | 0.009079196 | 0.007167787 | 4603/4609/1029/3418/8877/1019/7027/4613/1030/1956/1106/2264/3417/6597/4914/55359/896/894/2321/3954/5335/5781/8439/673/9444/4851/8087/2050/8493/3845/3482/667/56999/5290/2033/4233/577/5894/5156/80036/9407/3020/1021/5598/5728/8621/1828/63035/23592/8880/2260/54880/4916/2263/1639/90/546/8289/4763/7157/23152/5295/4602/595/2261/6938/4915/26137 | 68 |\n",
       "\n"
      ],
      "text/plain": [
       "                     ID                   Description          GeneRatio\n",
       "soft_tissue_sarcomas soft_tissue_sarcomas soft_tissue_sarcomas 28/1172  \n",
       "bladder              bladder              bladder              61/1172  \n",
       "glioma               glioma               glioma               68/1172  \n",
       "                     BgRatio pvalue       p.adjust    qvalue     \n",
       "soft_tissue_sarcomas 28/1571 0.0002517511 0.008056037 0.006360029\n",
       "bladder              67/1571 0.0005108168 0.008173069 0.006452423\n",
       "glioma               76/1571 0.0008511747 0.009079196 0.007167787\n",
       "                     geneID                                                                                                                                                                                                                                                                                                                                            \n",
       "soft_tissue_sarcomas 1029/999/6850/4914/4342/2185/55294/2041/4851/23512/2044/4058/5290/8726/4486/5297/5728/3815/2324/7403/5925/4763/1499/7157/5159/2045/3667/2066                                                                                                                                                                                                      \n",
       "bladder              9700/2175/9603/1029/8997/688/1026/896/677/6256/55294/8085/4851/3265/1999/3845/8243/10605/8295/4854/5290/2033/4780/23224/23217/2064/23385/55252/10735/4853/387/288/30849/9794/7403/287/463/472/4297/2065/2262/8289/9611/5925/2068/4763/7157/2186/1387/3910/2261/7248/23037/23345/7832/79633/10628/22906/388/4036/3169                              \n",
       "glioma               4603/4609/1029/3418/8877/1019/7027/4613/1030/1956/1106/2264/3417/6597/4914/55359/896/894/2321/3954/5335/5781/8439/673/9444/4851/8087/2050/8493/3845/3482/667/56999/5290/2033/4233/577/5894/5156/80036/9407/3020/1021/5598/5728/8621/1828/63035/23592/8880/2260/54880/4916/2263/1639/90/546/8289/4763/7157/23152/5295/4602/595/2261/6938/4915/26137\n",
       "                     Count\n",
       "soft_tissue_sarcomas 28   \n",
       "bladder              61   \n",
       "glioma               68   "
      ]
     },
     "metadata": {},
     "output_type": "display_data"
    }
   ],
   "source": [
    "gene2 <- names(geneList)[abs(geneList) < 3]\n",
    "ncg <- enrichNCG(gene2)\n",
    "head(ncg)"
   ]
  },
  {
   "cell_type": "markdown",
   "metadata": {},
   "source": [
    "4.3 enrichDGN and enrichDGNv functions\n"
   ]
  },
  {
   "cell_type": "code",
   "execution_count": 5,
   "metadata": {},
   "outputs": [
    {
     "data": {
      "text/html": [
       "<table>\n",
       "<caption>A data.frame: 6 × 9</caption>\n",
       "<thead>\n",
       "\t<tr><th></th><th scope=col>ID</th><th scope=col>Description</th><th scope=col>GeneRatio</th><th scope=col>BgRatio</th><th scope=col>pvalue</th><th scope=col>p.adjust</th><th scope=col>qvalue</th><th scope=col>geneID</th><th scope=col>Count</th></tr>\n",
       "\t<tr><th></th><th scope=col>&lt;chr&gt;</th><th scope=col>&lt;chr&gt;</th><th scope=col>&lt;chr&gt;</th><th scope=col>&lt;chr&gt;</th><th scope=col>&lt;dbl&gt;</th><th scope=col>&lt;dbl&gt;</th><th scope=col>&lt;dbl&gt;</th><th scope=col>&lt;chr&gt;</th><th scope=col>&lt;int&gt;</th></tr>\n",
       "</thead>\n",
       "<tbody>\n",
       "\t<tr><th scope=row>umls:C1134719</th><td>umls:C1134719</td><td>Invasive Ductal Breast Carcinoma</td><td>28/476</td><td>231/17381</td><td>4.312190e-11</td><td>1.225524e-07</td><td>9.164539e-08</td><td>9133/7153/6241/55165/11065/51203/22974/4751/5080/332/2568/3902/6790/891/24137/9232/10855/79801/4318/55635/5888/1493/9768/3070/4288/367/4582/5241                                                </td><td>28</td></tr>\n",
       "\t<tr><th scope=row>umls:C0032460</th><td>umls:C0032460</td><td>Polycystic Ovary Syndrome       </td><td>38/476</td><td>434/17381</td><td>2.819624e-10</td><td>3.521620e-07</td><td>2.633487e-07</td><td>4312/6280/6279/7153/259266/6241/55165/55872/4085/6286/7272/366/891/4171/7941/1164/3161/4603/990/29127/4318/53335/3294/3070/2952/5327/367/3667/4582/563/27324/3479/114899/9370/2167/652/5346/5241</td><td>38</td></tr>\n",
       "\t<tr><th scope=row>umls:C0206698</th><td>umls:C0206698</td><td>Cholangiocarcinoma              </td><td>36/476</td><td>399/17381</td><td>3.717403e-10</td><td>3.521620e-07</td><td>2.633487e-07</td><td>4312/2305/55872/4751/8140/10635/10232/5918/332/6286/2146/4521/891/10855/2921/7941/1164/4318/3576/1978/79852/8842/4485/214/65982/6863/1036/6935/4128/3572/4582/7031/7166/4680/80310/9            </td><td>36</td></tr>\n",
       "\t<tr><th scope=row>umls:C0007138</th><td>umls:C0007138</td><td>Carcinoma, Transitional Cell    </td><td>35/476</td><td>389/17381</td><td>7.093837e-10</td><td>5.040171e-07</td><td>3.769068e-07</td><td>4312/991/6280/6241/55165/10460/6373/8140/890/10232/4085/332/6286/2146/4171/1033/6364/5347/4318/3576/8836/9700/898/4288/2952/367/8382/2947/3479/9338/23158/2167/2066/2625/9                      </td><td>35</td></tr>\n",
       "\t<tr><th scope=row>umls:C0031099</th><td>umls:C0031099</td><td>Periodontitis                   </td><td>28/476</td><td>270/17381</td><td>1.634417e-09</td><td>9.290027e-07</td><td>6.947133e-07</td><td>4312/6279/3669/820/7850/332/4321/6364/3595/4318/3576/3898/8792/1493/4485/10472/185/6863/2205/2952/5327/4982/23261/2200/3572/2006/1308/2625                                                      </td><td>28</td></tr>\n",
       "\t<tr><th scope=row>umls:C0005695</th><td>umls:C0005695</td><td>Bladder Neoplasm                </td><td>36/476</td><td>442/17381</td><td>5.871618e-09</td><td>2.781190e-06</td><td>2.079789e-06</td><td>4312/10874/6280/3868/6279/597/7153/6241/9582/10460/4085/5080/332/2146/6790/10855/4171/5347/4318/3576/8836/9636/9700/898/4288/214/2952/367/2947/4582/3479/6424/9338/2066/1580/9                  </td><td>36</td></tr>\n",
       "</tbody>\n",
       "</table>\n"
      ],
      "text/latex": [
       "A data.frame: 6 × 9\n",
       "\\begin{tabular}{r|lllllllll}\n",
       "  & ID & Description & GeneRatio & BgRatio & pvalue & p.adjust & qvalue & geneID & Count\\\\\n",
       "  & <chr> & <chr> & <chr> & <chr> & <dbl> & <dbl> & <dbl> & <chr> & <int>\\\\\n",
       "\\hline\n",
       "\tumls:C1134719 & umls:C1134719 & Invasive Ductal Breast Carcinoma & 28/476 & 231/17381 & 4.312190e-11 & 1.225524e-07 & 9.164539e-08 & 9133/7153/6241/55165/11065/51203/22974/4751/5080/332/2568/3902/6790/891/24137/9232/10855/79801/4318/55635/5888/1493/9768/3070/4288/367/4582/5241                                                 & 28\\\\\n",
       "\tumls:C0032460 & umls:C0032460 & Polycystic Ovary Syndrome        & 38/476 & 434/17381 & 2.819624e-10 & 3.521620e-07 & 2.633487e-07 & 4312/6280/6279/7153/259266/6241/55165/55872/4085/6286/7272/366/891/4171/7941/1164/3161/4603/990/29127/4318/53335/3294/3070/2952/5327/367/3667/4582/563/27324/3479/114899/9370/2167/652/5346/5241 & 38\\\\\n",
       "\tumls:C0206698 & umls:C0206698 & Cholangiocarcinoma               & 36/476 & 399/17381 & 3.717403e-10 & 3.521620e-07 & 2.633487e-07 & 4312/2305/55872/4751/8140/10635/10232/5918/332/6286/2146/4521/891/10855/2921/7941/1164/4318/3576/1978/79852/8842/4485/214/65982/6863/1036/6935/4128/3572/4582/7031/7166/4680/80310/9             & 36\\\\\n",
       "\tumls:C0007138 & umls:C0007138 & Carcinoma, Transitional Cell     & 35/476 & 389/17381 & 7.093837e-10 & 5.040171e-07 & 3.769068e-07 & 4312/991/6280/6241/55165/10460/6373/8140/890/10232/4085/332/6286/2146/4171/1033/6364/5347/4318/3576/8836/9700/898/4288/2952/367/8382/2947/3479/9338/23158/2167/2066/2625/9                       & 35\\\\\n",
       "\tumls:C0031099 & umls:C0031099 & Periodontitis                    & 28/476 & 270/17381 & 1.634417e-09 & 9.290027e-07 & 6.947133e-07 & 4312/6279/3669/820/7850/332/4321/6364/3595/4318/3576/3898/8792/1493/4485/10472/185/6863/2205/2952/5327/4982/23261/2200/3572/2006/1308/2625                                                       & 28\\\\\n",
       "\tumls:C0005695 & umls:C0005695 & Bladder Neoplasm                 & 36/476 & 442/17381 & 5.871618e-09 & 2.781190e-06 & 2.079789e-06 & 4312/10874/6280/3868/6279/597/7153/6241/9582/10460/4085/5080/332/2146/6790/10855/4171/5347/4318/3576/8836/9636/9700/898/4288/214/2952/367/2947/4582/3479/6424/9338/2066/1580/9                   & 36\\\\\n",
       "\\end{tabular}\n"
      ],
      "text/markdown": [
       "\n",
       "A data.frame: 6 × 9\n",
       "\n",
       "| <!--/--> | ID &lt;chr&gt; | Description &lt;chr&gt; | GeneRatio &lt;chr&gt; | BgRatio &lt;chr&gt; | pvalue &lt;dbl&gt; | p.adjust &lt;dbl&gt; | qvalue &lt;dbl&gt; | geneID &lt;chr&gt; | Count &lt;int&gt; |\n",
       "|---|---|---|---|---|---|---|---|---|---|\n",
       "| umls:C1134719 | umls:C1134719 | Invasive Ductal Breast Carcinoma | 28/476 | 231/17381 | 4.312190e-11 | 1.225524e-07 | 9.164539e-08 | 9133/7153/6241/55165/11065/51203/22974/4751/5080/332/2568/3902/6790/891/24137/9232/10855/79801/4318/55635/5888/1493/9768/3070/4288/367/4582/5241                                                 | 28 |\n",
       "| umls:C0032460 | umls:C0032460 | Polycystic Ovary Syndrome        | 38/476 | 434/17381 | 2.819624e-10 | 3.521620e-07 | 2.633487e-07 | 4312/6280/6279/7153/259266/6241/55165/55872/4085/6286/7272/366/891/4171/7941/1164/3161/4603/990/29127/4318/53335/3294/3070/2952/5327/367/3667/4582/563/27324/3479/114899/9370/2167/652/5346/5241 | 38 |\n",
       "| umls:C0206698 | umls:C0206698 | Cholangiocarcinoma               | 36/476 | 399/17381 | 3.717403e-10 | 3.521620e-07 | 2.633487e-07 | 4312/2305/55872/4751/8140/10635/10232/5918/332/6286/2146/4521/891/10855/2921/7941/1164/4318/3576/1978/79852/8842/4485/214/65982/6863/1036/6935/4128/3572/4582/7031/7166/4680/80310/9             | 36 |\n",
       "| umls:C0007138 | umls:C0007138 | Carcinoma, Transitional Cell     | 35/476 | 389/17381 | 7.093837e-10 | 5.040171e-07 | 3.769068e-07 | 4312/991/6280/6241/55165/10460/6373/8140/890/10232/4085/332/6286/2146/4171/1033/6364/5347/4318/3576/8836/9700/898/4288/2952/367/8382/2947/3479/9338/23158/2167/2066/2625/9                       | 35 |\n",
       "| umls:C0031099 | umls:C0031099 | Periodontitis                    | 28/476 | 270/17381 | 1.634417e-09 | 9.290027e-07 | 6.947133e-07 | 4312/6279/3669/820/7850/332/4321/6364/3595/4318/3576/3898/8792/1493/4485/10472/185/6863/2205/2952/5327/4982/23261/2200/3572/2006/1308/2625                                                       | 28 |\n",
       "| umls:C0005695 | umls:C0005695 | Bladder Neoplasm                 | 36/476 | 442/17381 | 5.871618e-09 | 2.781190e-06 | 2.079789e-06 | 4312/10874/6280/3868/6279/597/7153/6241/9582/10460/4085/5080/332/2146/6790/10855/4171/5347/4318/3576/8836/9636/9700/898/4288/214/2952/367/2947/4582/3479/6424/9338/2066/1580/9                   | 36 |\n",
       "\n"
      ],
      "text/plain": [
       "              ID            Description                      GeneRatio\n",
       "umls:C1134719 umls:C1134719 Invasive Ductal Breast Carcinoma 28/476   \n",
       "umls:C0032460 umls:C0032460 Polycystic Ovary Syndrome        38/476   \n",
       "umls:C0206698 umls:C0206698 Cholangiocarcinoma               36/476   \n",
       "umls:C0007138 umls:C0007138 Carcinoma, Transitional Cell     35/476   \n",
       "umls:C0031099 umls:C0031099 Periodontitis                    28/476   \n",
       "umls:C0005695 umls:C0005695 Bladder Neoplasm                 36/476   \n",
       "              BgRatio   pvalue       p.adjust     qvalue      \n",
       "umls:C1134719 231/17381 4.312190e-11 1.225524e-07 9.164539e-08\n",
       "umls:C0032460 434/17381 2.819624e-10 3.521620e-07 2.633487e-07\n",
       "umls:C0206698 399/17381 3.717403e-10 3.521620e-07 2.633487e-07\n",
       "umls:C0007138 389/17381 7.093837e-10 5.040171e-07 3.769068e-07\n",
       "umls:C0031099 270/17381 1.634417e-09 9.290027e-07 6.947133e-07\n",
       "umls:C0005695 442/17381 5.871618e-09 2.781190e-06 2.079789e-06\n",
       "              geneID                                                                                                                                                                                          \n",
       "umls:C1134719 9133/7153/6241/55165/11065/51203/22974/4751/5080/332/2568/3902/6790/891/24137/9232/10855/79801/4318/55635/5888/1493/9768/3070/4288/367/4582/5241                                                \n",
       "umls:C0032460 4312/6280/6279/7153/259266/6241/55165/55872/4085/6286/7272/366/891/4171/7941/1164/3161/4603/990/29127/4318/53335/3294/3070/2952/5327/367/3667/4582/563/27324/3479/114899/9370/2167/652/5346/5241\n",
       "umls:C0206698 4312/2305/55872/4751/8140/10635/10232/5918/332/6286/2146/4521/891/10855/2921/7941/1164/4318/3576/1978/79852/8842/4485/214/65982/6863/1036/6935/4128/3572/4582/7031/7166/4680/80310/9            \n",
       "umls:C0007138 4312/991/6280/6241/55165/10460/6373/8140/890/10232/4085/332/6286/2146/4171/1033/6364/5347/4318/3576/8836/9700/898/4288/2952/367/8382/2947/3479/9338/23158/2167/2066/2625/9                      \n",
       "umls:C0031099 4312/6279/3669/820/7850/332/4321/6364/3595/4318/3576/3898/8792/1493/4485/10472/185/6863/2205/2952/5327/4982/23261/2200/3572/2006/1308/2625                                                      \n",
       "umls:C0005695 4312/10874/6280/3868/6279/597/7153/6241/9582/10460/4085/5080/332/2146/6790/10855/4171/5347/4318/3576/8836/9636/9700/898/4288/214/2952/367/2947/4582/3479/6424/9338/2066/1580/9                  \n",
       "              Count\n",
       "umls:C1134719 28   \n",
       "umls:C0032460 38   \n",
       "umls:C0206698 36   \n",
       "umls:C0007138 35   \n",
       "umls:C0031099 28   \n",
       "umls:C0005695 36   "
      ]
     },
     "metadata": {},
     "output_type": "display_data"
    }
   ],
   "source": [
    "dgn <- enrichDGN(gene)\n",
    "head(dgn)"
   ]
  },
  {
   "cell_type": "code",
   "execution_count": 6,
   "metadata": {},
   "outputs": [
    {
     "data": {
      "text/html": [
       "<table>\n",
       "<caption>A data.frame: 6 × 9</caption>\n",
       "<thead>\n",
       "\t<tr><th></th><th scope=col>ID</th><th scope=col>Description</th><th scope=col>GeneRatio</th><th scope=col>BgRatio</th><th scope=col>pvalue</th><th scope=col>p.adjust</th><th scope=col>qvalue</th><th scope=col>geneID</th><th scope=col>Count</th></tr>\n",
       "\t<tr><th></th><th scope=col>&lt;chr&gt;</th><th scope=col>&lt;chr&gt;</th><th scope=col>&lt;chr&gt;</th><th scope=col>&lt;chr&gt;</th><th scope=col>&lt;dbl&gt;</th><th scope=col>&lt;dbl&gt;</th><th scope=col>&lt;dbl&gt;</th><th scope=col>&lt;chr&gt;</th><th scope=col>&lt;int&gt;</th></tr>\n",
       "</thead>\n",
       "<tbody>\n",
       "\t<tr><th scope=row>umls:C3272363</th><td>umls:C3272363</td><td>Ischemic Cerebrovascular Accident</td><td>20/20</td><td>141/46589</td><td>1.014503e-51</td><td>1.379725e-49</td><td>1.922217e-50</td><td>rs1401296/rs9315050/rs5498/rs1524668/rs147377392/rs841/rs909253/rs7193343/rs3918232/rs3760396/rs2231137/rs10947803/rs17222919/rs386602276/rs11053646/rs1805192/rs139564723/rs2230806/rs20417/rs966221</td><td>20</td></tr>\n",
       "\t<tr><th scope=row>umls:C0948008</th><td>umls:C0948008</td><td>Ischemic stroke                  </td><td>20/20</td><td>148/46589</td><td>2.867870e-51</td><td>1.950151e-49</td><td>2.716929e-50</td><td>rs1401296/rs9315050/rs5498/rs1524668/rs147377392/rs841/rs909253/rs7193343/rs3918232/rs3760396/rs2231137/rs10947803/rs17222919/rs386602276/rs11053646/rs1805192/rs139564723/rs2230806/rs20417/rs966221</td><td>20</td></tr>\n",
       "\t<tr><th scope=row>umls:C0038454</th><td>umls:C0038454</td><td>Cerebrovascular accident         </td><td>7/20 </td><td>243/46589</td><td>7.045680e-12</td><td>3.194042e-10</td><td>4.449903e-11</td><td>rs1524668/rs147377392/rs2231137/rs10947803/rs386602276/rs2230806/rs20417                                                                                                                             </td><td> 7</td></tr>\n",
       "\t<tr><th scope=row>umls:C0027051</th><td>umls:C0027051</td><td>Myocardial Infarction            </td><td>6/20 </td><td>163/46589</td><td>6.222154e-11</td><td>1.889883e-09</td><td>2.632964e-10</td><td>rs5498/rs147377392/rs909253/rs11053646/rs1805192/rs20417                                                                                                                                             </td><td> 6</td></tr>\n",
       "\t<tr><th scope=row>umls:C0010054</th><td>umls:C0010054</td><td>Coronary Arteriosclerosis        </td><td>6/20 </td><td>166/46589</td><td>6.948100e-11</td><td>1.889883e-09</td><td>2.632964e-10</td><td>rs5498/rs147377392/rs11053646/rs1805192/rs2230806/rs20417                                                                                                                                            </td><td> 6</td></tr>\n",
       "\t<tr><th scope=row>umls:C0010068</th><td>umls:C0010068</td><td>Coronary heart disease           </td><td>6/20 </td><td>314/46589</td><td>3.198889e-09</td><td>7.250815e-08</td><td>1.010175e-08</td><td>rs5498/rs147377392/rs11053646/rs1805192/rs2230806/rs20417                                                                                                                                            </td><td> 6</td></tr>\n",
       "</tbody>\n",
       "</table>\n"
      ],
      "text/latex": [
       "A data.frame: 6 × 9\n",
       "\\begin{tabular}{r|lllllllll}\n",
       "  & ID & Description & GeneRatio & BgRatio & pvalue & p.adjust & qvalue & geneID & Count\\\\\n",
       "  & <chr> & <chr> & <chr> & <chr> & <dbl> & <dbl> & <dbl> & <chr> & <int>\\\\\n",
       "\\hline\n",
       "\tumls:C3272363 & umls:C3272363 & Ischemic Cerebrovascular Accident & 20/20 & 141/46589 & 1.014503e-51 & 1.379725e-49 & 1.922217e-50 & rs1401296/rs9315050/rs5498/rs1524668/rs147377392/rs841/rs909253/rs7193343/rs3918232/rs3760396/rs2231137/rs10947803/rs17222919/rs386602276/rs11053646/rs1805192/rs139564723/rs2230806/rs20417/rs966221 & 20\\\\\n",
       "\tumls:C0948008 & umls:C0948008 & Ischemic stroke                   & 20/20 & 148/46589 & 2.867870e-51 & 1.950151e-49 & 2.716929e-50 & rs1401296/rs9315050/rs5498/rs1524668/rs147377392/rs841/rs909253/rs7193343/rs3918232/rs3760396/rs2231137/rs10947803/rs17222919/rs386602276/rs11053646/rs1805192/rs139564723/rs2230806/rs20417/rs966221 & 20\\\\\n",
       "\tumls:C0038454 & umls:C0038454 & Cerebrovascular accident          & 7/20  & 243/46589 & 7.045680e-12 & 3.194042e-10 & 4.449903e-11 & rs1524668/rs147377392/rs2231137/rs10947803/rs386602276/rs2230806/rs20417                                                                                                                              &  7\\\\\n",
       "\tumls:C0027051 & umls:C0027051 & Myocardial Infarction             & 6/20  & 163/46589 & 6.222154e-11 & 1.889883e-09 & 2.632964e-10 & rs5498/rs147377392/rs909253/rs11053646/rs1805192/rs20417                                                                                                                                              &  6\\\\\n",
       "\tumls:C0010054 & umls:C0010054 & Coronary Arteriosclerosis         & 6/20  & 166/46589 & 6.948100e-11 & 1.889883e-09 & 2.632964e-10 & rs5498/rs147377392/rs11053646/rs1805192/rs2230806/rs20417                                                                                                                                             &  6\\\\\n",
       "\tumls:C0010068 & umls:C0010068 & Coronary heart disease            & 6/20  & 314/46589 & 3.198889e-09 & 7.250815e-08 & 1.010175e-08 & rs5498/rs147377392/rs11053646/rs1805192/rs2230806/rs20417                                                                                                                                             &  6\\\\\n",
       "\\end{tabular}\n"
      ],
      "text/markdown": [
       "\n",
       "A data.frame: 6 × 9\n",
       "\n",
       "| <!--/--> | ID &lt;chr&gt; | Description &lt;chr&gt; | GeneRatio &lt;chr&gt; | BgRatio &lt;chr&gt; | pvalue &lt;dbl&gt; | p.adjust &lt;dbl&gt; | qvalue &lt;dbl&gt; | geneID &lt;chr&gt; | Count &lt;int&gt; |\n",
       "|---|---|---|---|---|---|---|---|---|---|\n",
       "| umls:C3272363 | umls:C3272363 | Ischemic Cerebrovascular Accident | 20/20 | 141/46589 | 1.014503e-51 | 1.379725e-49 | 1.922217e-50 | rs1401296/rs9315050/rs5498/rs1524668/rs147377392/rs841/rs909253/rs7193343/rs3918232/rs3760396/rs2231137/rs10947803/rs17222919/rs386602276/rs11053646/rs1805192/rs139564723/rs2230806/rs20417/rs966221 | 20 |\n",
       "| umls:C0948008 | umls:C0948008 | Ischemic stroke                   | 20/20 | 148/46589 | 2.867870e-51 | 1.950151e-49 | 2.716929e-50 | rs1401296/rs9315050/rs5498/rs1524668/rs147377392/rs841/rs909253/rs7193343/rs3918232/rs3760396/rs2231137/rs10947803/rs17222919/rs386602276/rs11053646/rs1805192/rs139564723/rs2230806/rs20417/rs966221 | 20 |\n",
       "| umls:C0038454 | umls:C0038454 | Cerebrovascular accident          | 7/20  | 243/46589 | 7.045680e-12 | 3.194042e-10 | 4.449903e-11 | rs1524668/rs147377392/rs2231137/rs10947803/rs386602276/rs2230806/rs20417                                                                                                                              |  7 |\n",
       "| umls:C0027051 | umls:C0027051 | Myocardial Infarction             | 6/20  | 163/46589 | 6.222154e-11 | 1.889883e-09 | 2.632964e-10 | rs5498/rs147377392/rs909253/rs11053646/rs1805192/rs20417                                                                                                                                              |  6 |\n",
       "| umls:C0010054 | umls:C0010054 | Coronary Arteriosclerosis         | 6/20  | 166/46589 | 6.948100e-11 | 1.889883e-09 | 2.632964e-10 | rs5498/rs147377392/rs11053646/rs1805192/rs2230806/rs20417                                                                                                                                             |  6 |\n",
       "| umls:C0010068 | umls:C0010068 | Coronary heart disease            | 6/20  | 314/46589 | 3.198889e-09 | 7.250815e-08 | 1.010175e-08 | rs5498/rs147377392/rs11053646/rs1805192/rs2230806/rs20417                                                                                                                                             |  6 |\n",
       "\n"
      ],
      "text/plain": [
       "              ID            Description                       GeneRatio\n",
       "umls:C3272363 umls:C3272363 Ischemic Cerebrovascular Accident 20/20    \n",
       "umls:C0948008 umls:C0948008 Ischemic stroke                   20/20    \n",
       "umls:C0038454 umls:C0038454 Cerebrovascular accident          7/20     \n",
       "umls:C0027051 umls:C0027051 Myocardial Infarction             6/20     \n",
       "umls:C0010054 umls:C0010054 Coronary Arteriosclerosis         6/20     \n",
       "umls:C0010068 umls:C0010068 Coronary heart disease            6/20     \n",
       "              BgRatio   pvalue       p.adjust     qvalue      \n",
       "umls:C3272363 141/46589 1.014503e-51 1.379725e-49 1.922217e-50\n",
       "umls:C0948008 148/46589 2.867870e-51 1.950151e-49 2.716929e-50\n",
       "umls:C0038454 243/46589 7.045680e-12 3.194042e-10 4.449903e-11\n",
       "umls:C0027051 163/46589 6.222154e-11 1.889883e-09 2.632964e-10\n",
       "umls:C0010054 166/46589 6.948100e-11 1.889883e-09 2.632964e-10\n",
       "umls:C0010068 314/46589 3.198889e-09 7.250815e-08 1.010175e-08\n",
       "              geneID                                                                                                                                                                                               \n",
       "umls:C3272363 rs1401296/rs9315050/rs5498/rs1524668/rs147377392/rs841/rs909253/rs7193343/rs3918232/rs3760396/rs2231137/rs10947803/rs17222919/rs386602276/rs11053646/rs1805192/rs139564723/rs2230806/rs20417/rs966221\n",
       "umls:C0948008 rs1401296/rs9315050/rs5498/rs1524668/rs147377392/rs841/rs909253/rs7193343/rs3918232/rs3760396/rs2231137/rs10947803/rs17222919/rs386602276/rs11053646/rs1805192/rs139564723/rs2230806/rs20417/rs966221\n",
       "umls:C0038454 rs1524668/rs147377392/rs2231137/rs10947803/rs386602276/rs2230806/rs20417                                                                                                                             \n",
       "umls:C0027051 rs5498/rs147377392/rs909253/rs11053646/rs1805192/rs20417                                                                                                                                             \n",
       "umls:C0010054 rs5498/rs147377392/rs11053646/rs1805192/rs2230806/rs20417                                                                                                                                            \n",
       "umls:C0010068 rs5498/rs147377392/rs11053646/rs1805192/rs2230806/rs20417                                                                                                                                            \n",
       "              Count\n",
       "umls:C3272363 20   \n",
       "umls:C0948008 20   \n",
       "umls:C0038454  7   \n",
       "umls:C0027051  6   \n",
       "umls:C0010054  6   \n",
       "umls:C0010068  6   "
      ]
     },
     "metadata": {},
     "output_type": "display_data"
    }
   ],
   "source": [
    "snp <- c(\"rs1401296\", \"rs9315050\", \"rs5498\", \"rs1524668\", \"rs147377392\",\n",
    "         \"rs841\", \"rs909253\", \"rs7193343\", \"rs3918232\", \"rs3760396\",\n",
    "         \"rs2231137\", \"rs10947803\", \"rs17222919\", \"rs386602276\", \"rs11053646\",\n",
    "         \"rs1805192\", \"rs139564723\", \"rs2230806\", \"rs20417\", \"rs966221\")\n",
    "dgnv <- enrichDGNv(snp)\n",
    "head(dgnv)"
   ]
  },
  {
   "cell_type": "markdown",
   "metadata": {
    "lines_to_next_cell": 0
   },
   "source": [
    "4.4 gseDO fuction\n"
   ]
  },
  {
   "cell_type": "code",
   "execution_count": 7,
   "metadata": {},
   "outputs": [
    {
     "name": "stderr",
     "output_type": "stream",
     "text": [
      "Warning message in .GSEA(geneList = geneList, exponent = exponent, minGSSize = minGSSize, :\n",
      "“We do not recommend using nPerm parameter incurrent and future releases”\n",
      "Warning message in fgsea(pathways = geneSets, stats = geneList, nperm = nPerm, minSize = minGSSize, :\n",
      "“You are trying to run fgseaSimple. It is recommended to use fgseaMultilevel. To run fgseaMultilevel, you need to remove the nperm argument in the fgsea function call.”\n"
     ]
    },
    {
     "data": {
      "text/html": [
       "<table>\n",
       "<caption>A data.frame: 3 × 11</caption>\n",
       "<thead>\n",
       "\t<tr><th></th><th scope=col>ID</th><th scope=col>Description</th><th scope=col>setSize</th><th scope=col>enrichmentScore</th><th scope=col>NES</th><th scope=col>pvalue</th><th scope=col>p.adjust</th><th scope=col>qvalues</th><th scope=col>rank</th><th scope=col>leading_edge</th><th scope=col>core_enrichment</th></tr>\n",
       "\t<tr><th></th><th scope=col>&lt;chr&gt;</th><th scope=col>&lt;chr&gt;</th><th scope=col>&lt;int&gt;</th><th scope=col>&lt;dbl&gt;</th><th scope=col>&lt;dbl&gt;</th><th scope=col>&lt;dbl&gt;</th><th scope=col>&lt;dbl&gt;</th><th scope=col>&lt;dbl&gt;</th><th scope=col>&lt;dbl&gt;</th><th scope=col>&lt;chr&gt;</th><th scope=col>&lt;chr&gt;</th></tr>\n",
       "</thead>\n",
       "<tbody>\n",
       "\t<tr><th scope=row>DOID:5614</th><td>DOID:5614 </td><td>eye disease              </td><td>450</td><td>-0.3125247</td><td>-1.359941</td><td>0.01250000</td><td>0.100641</td><td>0.0560054</td><td>1768</td><td>tags=22%, list=14%, signal=19%</td><td>3371/3082/5914/2878/4153/3791/23247/1543/80184/6750/1958/2098/7450/596/9187/2034/482/948/1490/1280/3931/5737/4314/4881/2261/3426/187/629/6403/7042/6785/7507/2934/5176/4060/1277/7078/5950/2057/727/10516/4311/2247/1295/358/10203/2192/582/10218/57125/3485/585/1675/6310/2202/4313/2944/4254/3075/1501/2099/3480/4653/6387/3305/1471/857/4016/1909/4053/6678/1296/7033/4915/55812/1191/5654/10631/2152/2697/7043/2952/6935/2200/3572/7177/7031/3479/2006/10451/9370/771/3117/125/652/4693/5346/1524          </td></tr>\n",
       "\t<tr><th scope=row>DOID:11612</th><td>DOID:11612</td><td>polycystic ovary syndrome</td><td>155</td><td>-0.3823822</td><td>-1.542505</td><td>0.01265823</td><td>0.100641</td><td>0.0560054</td><td>2379</td><td>tags=32%, list=19%, signal=26%</td><td>5921/3624/3375/154/6716/2776/9563/8660/5563/11132/5295/268/1543/56547/3643/3685/8644/948/8204/3087/2308/5176/3953/5950/10580/5468/3952/5577/79068/4313/3625/2944/10468/2099/3991/1589/5167/2952/5327/367/4982/3667/3572/7049/3479/8972/9370/2167/5346                                                                                                                                                                                                                                                          </td></tr>\n",
       "\t<tr><th scope=row>DOID:1492</th><td>DOID:1492 </td><td>eye and adnexa disease   </td><td>459</td><td>-0.3105160</td><td>-1.350366</td><td>0.01282051</td><td>0.100641</td><td>0.0560054</td><td>1793</td><td>tags=22%, list=14%, signal=19%</td><td>8106/3371/3082/5914/2878/4153/3791/23247/1543/80184/6750/1958/2098/7450/596/9187/2034/482/948/1490/1280/3931/5737/4314/4881/2261/3426/187/629/6403/7042/6785/7507/2934/5176/4060/1277/7078/5950/2057/727/10516/4311/2247/1295/358/10203/2192/582/10218/57125/3485/585/1675/6310/2202/4313/2944/4254/3075/1501/2099/3480/4653/1195/6387/3305/1471/857/4016/1909/4053/6678/1296/7033/4915/55812/1191/5654/10631/2152/2697/7043/2952/6935/2200/3572/7177/7031/3479/2006/10451/9370/771/3117/125/652/4693/5346/1524</td></tr>\n",
       "</tbody>\n",
       "</table>\n"
      ],
      "text/latex": [
       "A data.frame: 3 × 11\n",
       "\\begin{tabular}{r|lllllllllll}\n",
       "  & ID & Description & setSize & enrichmentScore & NES & pvalue & p.adjust & qvalues & rank & leading\\_edge & core\\_enrichment\\\\\n",
       "  & <chr> & <chr> & <int> & <dbl> & <dbl> & <dbl> & <dbl> & <dbl> & <dbl> & <chr> & <chr>\\\\\n",
       "\\hline\n",
       "\tDOID:5614 & DOID:5614  & eye disease               & 450 & -0.3125247 & -1.359941 & 0.01250000 & 0.100641 & 0.0560054 & 1768 & tags=22\\%, list=14\\%, signal=19\\% & 3371/3082/5914/2878/4153/3791/23247/1543/80184/6750/1958/2098/7450/596/9187/2034/482/948/1490/1280/3931/5737/4314/4881/2261/3426/187/629/6403/7042/6785/7507/2934/5176/4060/1277/7078/5950/2057/727/10516/4311/2247/1295/358/10203/2192/582/10218/57125/3485/585/1675/6310/2202/4313/2944/4254/3075/1501/2099/3480/4653/6387/3305/1471/857/4016/1909/4053/6678/1296/7033/4915/55812/1191/5654/10631/2152/2697/7043/2952/6935/2200/3572/7177/7031/3479/2006/10451/9370/771/3117/125/652/4693/5346/1524          \\\\\n",
       "\tDOID:11612 & DOID:11612 & polycystic ovary syndrome & 155 & -0.3823822 & -1.542505 & 0.01265823 & 0.100641 & 0.0560054 & 2379 & tags=32\\%, list=19\\%, signal=26\\% & 5921/3624/3375/154/6716/2776/9563/8660/5563/11132/5295/268/1543/56547/3643/3685/8644/948/8204/3087/2308/5176/3953/5950/10580/5468/3952/5577/79068/4313/3625/2944/10468/2099/3991/1589/5167/2952/5327/367/4982/3667/3572/7049/3479/8972/9370/2167/5346                                                                                                                                                                                                                                                          \\\\\n",
       "\tDOID:1492 & DOID:1492  & eye and adnexa disease    & 459 & -0.3105160 & -1.350366 & 0.01282051 & 0.100641 & 0.0560054 & 1793 & tags=22\\%, list=14\\%, signal=19\\% & 8106/3371/3082/5914/2878/4153/3791/23247/1543/80184/6750/1958/2098/7450/596/9187/2034/482/948/1490/1280/3931/5737/4314/4881/2261/3426/187/629/6403/7042/6785/7507/2934/5176/4060/1277/7078/5950/2057/727/10516/4311/2247/1295/358/10203/2192/582/10218/57125/3485/585/1675/6310/2202/4313/2944/4254/3075/1501/2099/3480/4653/1195/6387/3305/1471/857/4016/1909/4053/6678/1296/7033/4915/55812/1191/5654/10631/2152/2697/7043/2952/6935/2200/3572/7177/7031/3479/2006/10451/9370/771/3117/125/652/4693/5346/1524\\\\\n",
       "\\end{tabular}\n"
      ],
      "text/markdown": [
       "\n",
       "A data.frame: 3 × 11\n",
       "\n",
       "| <!--/--> | ID &lt;chr&gt; | Description &lt;chr&gt; | setSize &lt;int&gt; | enrichmentScore &lt;dbl&gt; | NES &lt;dbl&gt; | pvalue &lt;dbl&gt; | p.adjust &lt;dbl&gt; | qvalues &lt;dbl&gt; | rank &lt;dbl&gt; | leading_edge &lt;chr&gt; | core_enrichment &lt;chr&gt; |\n",
       "|---|---|---|---|---|---|---|---|---|---|---|---|\n",
       "| DOID:5614 | DOID:5614  | eye disease               | 450 | -0.3125247 | -1.359941 | 0.01250000 | 0.100641 | 0.0560054 | 1768 | tags=22%, list=14%, signal=19% | 3371/3082/5914/2878/4153/3791/23247/1543/80184/6750/1958/2098/7450/596/9187/2034/482/948/1490/1280/3931/5737/4314/4881/2261/3426/187/629/6403/7042/6785/7507/2934/5176/4060/1277/7078/5950/2057/727/10516/4311/2247/1295/358/10203/2192/582/10218/57125/3485/585/1675/6310/2202/4313/2944/4254/3075/1501/2099/3480/4653/6387/3305/1471/857/4016/1909/4053/6678/1296/7033/4915/55812/1191/5654/10631/2152/2697/7043/2952/6935/2200/3572/7177/7031/3479/2006/10451/9370/771/3117/125/652/4693/5346/1524           |\n",
       "| DOID:11612 | DOID:11612 | polycystic ovary syndrome | 155 | -0.3823822 | -1.542505 | 0.01265823 | 0.100641 | 0.0560054 | 2379 | tags=32%, list=19%, signal=26% | 5921/3624/3375/154/6716/2776/9563/8660/5563/11132/5295/268/1543/56547/3643/3685/8644/948/8204/3087/2308/5176/3953/5950/10580/5468/3952/5577/79068/4313/3625/2944/10468/2099/3991/1589/5167/2952/5327/367/4982/3667/3572/7049/3479/8972/9370/2167/5346                                                                                                                                                                                                                                                           |\n",
       "| DOID:1492 | DOID:1492  | eye and adnexa disease    | 459 | -0.3105160 | -1.350366 | 0.01282051 | 0.100641 | 0.0560054 | 1793 | tags=22%, list=14%, signal=19% | 8106/3371/3082/5914/2878/4153/3791/23247/1543/80184/6750/1958/2098/7450/596/9187/2034/482/948/1490/1280/3931/5737/4314/4881/2261/3426/187/629/6403/7042/6785/7507/2934/5176/4060/1277/7078/5950/2057/727/10516/4311/2247/1295/358/10203/2192/582/10218/57125/3485/585/1675/6310/2202/4313/2944/4254/3075/1501/2099/3480/4653/1195/6387/3305/1471/857/4016/1909/4053/6678/1296/7033/4915/55812/1191/5654/10631/2152/2697/7043/2952/6935/2200/3572/7177/7031/3479/2006/10451/9370/771/3117/125/652/4693/5346/1524 |\n",
       "\n"
      ],
      "text/plain": [
       "           ID         Description               setSize enrichmentScore\n",
       "DOID:5614  DOID:5614  eye disease               450     -0.3125247     \n",
       "DOID:11612 DOID:11612 polycystic ovary syndrome 155     -0.3823822     \n",
       "DOID:1492  DOID:1492  eye and adnexa disease    459     -0.3105160     \n",
       "           NES       pvalue     p.adjust qvalues   rank\n",
       "DOID:5614  -1.359941 0.01250000 0.100641 0.0560054 1768\n",
       "DOID:11612 -1.542505 0.01265823 0.100641 0.0560054 2379\n",
       "DOID:1492  -1.350366 0.01282051 0.100641 0.0560054 1793\n",
       "           leading_edge                  \n",
       "DOID:5614  tags=22%, list=14%, signal=19%\n",
       "DOID:11612 tags=32%, list=19%, signal=26%\n",
       "DOID:1492  tags=22%, list=14%, signal=19%\n",
       "           core_enrichment                                                                                                                                                                                                                                                                                                                                                                                                                                                                                                \n",
       "DOID:5614  3371/3082/5914/2878/4153/3791/23247/1543/80184/6750/1958/2098/7450/596/9187/2034/482/948/1490/1280/3931/5737/4314/4881/2261/3426/187/629/6403/7042/6785/7507/2934/5176/4060/1277/7078/5950/2057/727/10516/4311/2247/1295/358/10203/2192/582/10218/57125/3485/585/1675/6310/2202/4313/2944/4254/3075/1501/2099/3480/4653/6387/3305/1471/857/4016/1909/4053/6678/1296/7033/4915/55812/1191/5654/10631/2152/2697/7043/2952/6935/2200/3572/7177/7031/3479/2006/10451/9370/771/3117/125/652/4693/5346/1524          \n",
       "DOID:11612 5921/3624/3375/154/6716/2776/9563/8660/5563/11132/5295/268/1543/56547/3643/3685/8644/948/8204/3087/2308/5176/3953/5950/10580/5468/3952/5577/79068/4313/3625/2944/10468/2099/3991/1589/5167/2952/5327/367/4982/3667/3572/7049/3479/8972/9370/2167/5346                                                                                                                                                                                                                                                          \n",
       "DOID:1492  8106/3371/3082/5914/2878/4153/3791/23247/1543/80184/6750/1958/2098/7450/596/9187/2034/482/948/1490/1280/3931/5737/4314/4881/2261/3426/187/629/6403/7042/6785/7507/2934/5176/4060/1277/7078/5950/2057/727/10516/4311/2247/1295/358/10203/2192/582/10218/57125/3485/585/1675/6310/2202/4313/2944/4254/3075/1501/2099/3480/4653/1195/6387/3305/1471/857/4016/1909/4053/6678/1296/7033/4915/55812/1191/5654/10631/2152/2697/7043/2952/6935/2200/3572/7177/7031/3479/2006/10451/9370/771/3117/125/652/4693/5346/1524"
      ]
     },
     "metadata": {},
     "output_type": "display_data"
    }
   ],
   "source": [
    "library(DOSE)\n",
    "data(geneList)\n",
    "y <- gseDO(geneList,\n",
    "           nPerm         = 100,\n",
    "           minGSSize     = 120,\n",
    "           pvalueCutoff  = 0.2,\n",
    "           pAdjustMethod = \"BH\",\n",
    "           verbose       = FALSE)\n",
    "head(y, 3)"
   ]
  },
  {
   "cell_type": "markdown",
   "metadata": {
    "lines_to_next_cell": 0
   },
   "source": [
    "4.5 gseNCG fuction\n"
   ]
  },
  {
   "cell_type": "code",
   "execution_count": 8,
   "metadata": {},
   "outputs": [
    {
     "name": "stderr",
     "output_type": "stream",
     "text": [
      "Warning message in .GSEA(geneList = geneList, exponent = exponent, minGSSize = minGSSize, :\n",
      "“We do not recommend using nPerm parameter incurrent and future releases”\n",
      "Warning message in fgsea(pathways = geneSets, stats = geneList, nperm = nPerm, minSize = minGSSize, :\n",
      "“You are trying to run fgseaSimple. It is recommended to use fgseaMultilevel. To run fgseaMultilevel, you need to remove the nperm argument in the fgsea function call.”\n",
      "no term enriched under specific pvalueCutoff...\n",
      "\n"
     ]
    },
    {
     "data": {
      "text/html": [
       "<table>\n",
       "<caption>A data.frame: 0 × 8</caption>\n",
       "<thead>\n",
       "\t<tr><th scope=col>ID</th><th scope=col>Description</th><th scope=col>setSize</th><th scope=col>enrichmentScore</th><th scope=col>NES</th><th scope=col>pvalue</th><th scope=col>p.adjust</th><th scope=col>qvalues</th></tr>\n",
       "\t<tr><th scope=col>&lt;chr&gt;</th><th scope=col>&lt;chr&gt;</th><th scope=col>&lt;int&gt;</th><th scope=col>&lt;dbl&gt;</th><th scope=col>&lt;dbl&gt;</th><th scope=col>&lt;dbl&gt;</th><th scope=col>&lt;dbl&gt;</th><th scope=col>&lt;dbl&gt;</th></tr>\n",
       "</thead>\n",
       "<tbody>\n",
       "</tbody>\n",
       "</table>\n"
      ],
      "text/latex": [
       "A data.frame: 0 × 8\n",
       "\\begin{tabular}{r|llllllll}\n",
       " ID & Description & setSize & enrichmentScore & NES & pvalue & p.adjust & qvalues\\\\\n",
       " <chr> & <chr> & <int> & <dbl> & <dbl> & <dbl> & <dbl> & <dbl>\\\\\n",
       "\\hline\n",
       "\\end{tabular}\n"
      ],
      "text/markdown": [
       "\n",
       "A data.frame: 0 × 8\n",
       "\n",
       "| ID &lt;chr&gt; | Description &lt;chr&gt; | setSize &lt;int&gt; | enrichmentScore &lt;dbl&gt; | NES &lt;dbl&gt; | pvalue &lt;dbl&gt; | p.adjust &lt;dbl&gt; | qvalues &lt;dbl&gt; |\n",
       "|---|---|---|---|---|---|---|---|\n",
       "\n"
      ],
      "text/plain": [
       "     ID Description setSize enrichmentScore NES pvalue p.adjust qvalues"
      ]
     },
     "metadata": {},
     "output_type": "display_data"
    }
   ],
   "source": [
    "ncg <- gseNCG(geneList,\n",
    "              nPerm         = 100,\n",
    "              minGSSize     = 120,\n",
    "              pvalueCutoff  = 0.2,\n",
    "              pAdjustMethod = \"BH\",\n",
    "              verbose       = FALSE)\n",
    "ncg <- setReadable(ncg, 'org.Hs.eg.db')\n",
    "head(ncg, 3)"
   ]
  },
  {
   "cell_type": "markdown",
   "metadata": {
    "lines_to_next_cell": 0
   },
   "source": [
    "4.6 gseDGN fuction\n"
   ]
  },
  {
   "cell_type": "code",
   "execution_count": 9,
   "metadata": {},
   "outputs": [
    {
     "name": "stderr",
     "output_type": "stream",
     "text": [
      "Warning message in .GSEA(geneList = geneList, exponent = exponent, minGSSize = minGSSize, :\n",
      "“We do not recommend using nPerm parameter incurrent and future releases”\n",
      "Warning message in fgsea(pathways = geneSets, stats = geneList, nperm = nPerm, minSize = minGSSize, :\n",
      "“You are trying to run fgseaSimple. It is recommended to use fgseaMultilevel. To run fgseaMultilevel, you need to remove the nperm argument in the fgsea function call.”\n"
     ]
    },
    {
     "data": {
      "text/html": [
       "<table>\n",
       "<caption>A data.frame: 3 × 11</caption>\n",
       "<thead>\n",
       "\t<tr><th></th><th scope=col>ID</th><th scope=col>Description</th><th scope=col>setSize</th><th scope=col>enrichmentScore</th><th scope=col>NES</th><th scope=col>pvalue</th><th scope=col>p.adjust</th><th scope=col>qvalues</th><th scope=col>rank</th><th scope=col>leading_edge</th><th scope=col>core_enrichment</th></tr>\n",
       "\t<tr><th></th><th scope=col>&lt;chr&gt;</th><th scope=col>&lt;chr&gt;</th><th scope=col>&lt;int&gt;</th><th scope=col>&lt;dbl&gt;</th><th scope=col>&lt;dbl&gt;</th><th scope=col>&lt;dbl&gt;</th><th scope=col>&lt;dbl&gt;</th><th scope=col>&lt;dbl&gt;</th><th scope=col>&lt;dbl&gt;</th><th scope=col>&lt;chr&gt;</th><th scope=col>&lt;chr&gt;</th></tr>\n",
       "</thead>\n",
       "<tbody>\n",
       "\t<tr><th scope=row>umls:C0021655</th><td>umls:C0021655</td><td>Insulin Resistance    </td><td>256</td><td>-0.3744074</td><td>-1.578431</td><td>0.0125</td><td>0.117096</td><td>0.07313365</td><td>1971</td><td>tags=26%, list=16%, signal=22%</td><td>NR3C1/IRS2/PRKAA2/CAPN10/PIK3R1/STK11/UGT2B15/SSTR2/RXRG/GPX3/MBL2/CD93/INSR/GAS1/VWA8/FABP2/CD36/LCAT/AHR/TSC22D1/IGFALS/SELP/LRRTM4/HHEX/FOXO1/SERPINF1/COL1A1/LEPR/RBP4/SLC5A12/SELENOP/PPARG/LPL/TRPS1/RHOBTB1/IGFBP2/LEP/FTO/ABCB4/TMEM144/SREBF1/ESR1/ABCC8/LIPE/CAV1/PCDH9/CPE/CLU/ACACB/ENPP1/PNPLA4/IKBKB/APOD/AGTR1/AR/IRS1/COX7A1/CTF1/IGF1/CACNA1D/ADIPOQ/EBLN2/PDZK1/FABP4/TFAP2B/STEAP4                                                                                                  </td></tr>\n",
       "\t<tr><th scope=row>umls:C0029456</th><td>umls:C0029456</td><td>Osteoporosis          </td><td>375</td><td>-0.3439046</td><td>-1.478572</td><td>0.0125</td><td>0.117096</td><td>0.07313365</td><td>1766</td><td>tags=23%, list=14%, signal=20%</td><td>RXRG/HGF/PTH1R/CYP1A1/JAG1/ROR2/FLT3/CUL9/EEF1A2/THSD4/BCL2/ITGAV/WIF1/GREM2/COL15A1/HPGDS/VGLL3/SLIT3/NRIP1/TMEM135/MGP/PLCL1/OSBPL1A/PIBF1/SELP/SPRY1/MMP13/ID4/SPP2/COL1A2/AOX1/ARHGEF3/GSN/TSC22D3/ATP1B1/NR5A2/ANKH/COL1A1/LEPR/THSD7A/GC/FGF2/PPARG/NOX4/ZNF266/GHRH/BHLHE40/SLC19A2/THBD/FLNB/KL/LEP/HSD17B4/CTSK/FTO/MMP2/ESR1/IGF1R/PTN/IRAK3/HSPA1L/CST3/GHR/SPARC/KDM4B/LRP1/INPP4B/BMPR1B/PTHLH/DPT/FRZB/GSTT1/AR/TNFRSF11B/IRS1/WLS/GSTM3/TGFBR3/TPH1/IGF1/SFRP4/CORIN/BMP4/CHAD/FOXA1/PGR</td></tr>\n",
       "\t<tr><th scope=row>umls:C0085580</th><td>umls:C0085580</td><td>Essential Hypertension</td><td>256</td><td>-0.3652907</td><td>-1.539997</td><td>0.0125</td><td>0.117096</td><td>0.07313365</td><td>1971</td><td>tags=26%, list=16%, signal=22%</td><td>NR3C1/ATP2B1/CAPN10/SOD3/NPR2/SLC9A1/HGF/GPX3/SCNN1A/STK39/INSR/TESC/TRHR/HP/CD36/HPGDS/DBH/PTGFR/NPR1/LPA/TSC1/APLNR/SELP/GJA4/P2RY2/LPAR1/EDN2/TGFBR2/SULT1A1/ATP1B1/LEPR/FKBP1B/ABCB1/NEFH/PPARG/SYNE1/GRK4/CALCRL/LPL/KL/LEP/KCNMA1/FTO/GSTM1/IGF1R/NEDD4L/HSPA1L/EMILIN1/CACNA1C/EDNRA/NR3C2/BGN/ALB/AGTR1/GSTT1/PLAT/TNFRSF11B/IRS1/FBN1/ACADSB/RGS5/CTF1/IGF1/ELN/CACNA1D/ADIPOQ                                                                                                                </td></tr>\n",
       "</tbody>\n",
       "</table>\n"
      ],
      "text/latex": [
       "A data.frame: 3 × 11\n",
       "\\begin{tabular}{r|lllllllllll}\n",
       "  & ID & Description & setSize & enrichmentScore & NES & pvalue & p.adjust & qvalues & rank & leading\\_edge & core\\_enrichment\\\\\n",
       "  & <chr> & <chr> & <int> & <dbl> & <dbl> & <dbl> & <dbl> & <dbl> & <dbl> & <chr> & <chr>\\\\\n",
       "\\hline\n",
       "\tumls:C0021655 & umls:C0021655 & Insulin Resistance     & 256 & -0.3744074 & -1.578431 & 0.0125 & 0.117096 & 0.07313365 & 1971 & tags=26\\%, list=16\\%, signal=22\\% & NR3C1/IRS2/PRKAA2/CAPN10/PIK3R1/STK11/UGT2B15/SSTR2/RXRG/GPX3/MBL2/CD93/INSR/GAS1/VWA8/FABP2/CD36/LCAT/AHR/TSC22D1/IGFALS/SELP/LRRTM4/HHEX/FOXO1/SERPINF1/COL1A1/LEPR/RBP4/SLC5A12/SELENOP/PPARG/LPL/TRPS1/RHOBTB1/IGFBP2/LEP/FTO/ABCB4/TMEM144/SREBF1/ESR1/ABCC8/LIPE/CAV1/PCDH9/CPE/CLU/ACACB/ENPP1/PNPLA4/IKBKB/APOD/AGTR1/AR/IRS1/COX7A1/CTF1/IGF1/CACNA1D/ADIPOQ/EBLN2/PDZK1/FABP4/TFAP2B/STEAP4                                                                                                  \\\\\n",
       "\tumls:C0029456 & umls:C0029456 & Osteoporosis           & 375 & -0.3439046 & -1.478572 & 0.0125 & 0.117096 & 0.07313365 & 1766 & tags=23\\%, list=14\\%, signal=20\\% & RXRG/HGF/PTH1R/CYP1A1/JAG1/ROR2/FLT3/CUL9/EEF1A2/THSD4/BCL2/ITGAV/WIF1/GREM2/COL15A1/HPGDS/VGLL3/SLIT3/NRIP1/TMEM135/MGP/PLCL1/OSBPL1A/PIBF1/SELP/SPRY1/MMP13/ID4/SPP2/COL1A2/AOX1/ARHGEF3/GSN/TSC22D3/ATP1B1/NR5A2/ANKH/COL1A1/LEPR/THSD7A/GC/FGF2/PPARG/NOX4/ZNF266/GHRH/BHLHE40/SLC19A2/THBD/FLNB/KL/LEP/HSD17B4/CTSK/FTO/MMP2/ESR1/IGF1R/PTN/IRAK3/HSPA1L/CST3/GHR/SPARC/KDM4B/LRP1/INPP4B/BMPR1B/PTHLH/DPT/FRZB/GSTT1/AR/TNFRSF11B/IRS1/WLS/GSTM3/TGFBR3/TPH1/IGF1/SFRP4/CORIN/BMP4/CHAD/FOXA1/PGR\\\\\n",
       "\tumls:C0085580 & umls:C0085580 & Essential Hypertension & 256 & -0.3652907 & -1.539997 & 0.0125 & 0.117096 & 0.07313365 & 1971 & tags=26\\%, list=16\\%, signal=22\\% & NR3C1/ATP2B1/CAPN10/SOD3/NPR2/SLC9A1/HGF/GPX3/SCNN1A/STK39/INSR/TESC/TRHR/HP/CD36/HPGDS/DBH/PTGFR/NPR1/LPA/TSC1/APLNR/SELP/GJA4/P2RY2/LPAR1/EDN2/TGFBR2/SULT1A1/ATP1B1/LEPR/FKBP1B/ABCB1/NEFH/PPARG/SYNE1/GRK4/CALCRL/LPL/KL/LEP/KCNMA1/FTO/GSTM1/IGF1R/NEDD4L/HSPA1L/EMILIN1/CACNA1C/EDNRA/NR3C2/BGN/ALB/AGTR1/GSTT1/PLAT/TNFRSF11B/IRS1/FBN1/ACADSB/RGS5/CTF1/IGF1/ELN/CACNA1D/ADIPOQ                                                                                                                \\\\\n",
       "\\end{tabular}\n"
      ],
      "text/markdown": [
       "\n",
       "A data.frame: 3 × 11\n",
       "\n",
       "| <!--/--> | ID &lt;chr&gt; | Description &lt;chr&gt; | setSize &lt;int&gt; | enrichmentScore &lt;dbl&gt; | NES &lt;dbl&gt; | pvalue &lt;dbl&gt; | p.adjust &lt;dbl&gt; | qvalues &lt;dbl&gt; | rank &lt;dbl&gt; | leading_edge &lt;chr&gt; | core_enrichment &lt;chr&gt; |\n",
       "|---|---|---|---|---|---|---|---|---|---|---|---|\n",
       "| umls:C0021655 | umls:C0021655 | Insulin Resistance     | 256 | -0.3744074 | -1.578431 | 0.0125 | 0.117096 | 0.07313365 | 1971 | tags=26%, list=16%, signal=22% | NR3C1/IRS2/PRKAA2/CAPN10/PIK3R1/STK11/UGT2B15/SSTR2/RXRG/GPX3/MBL2/CD93/INSR/GAS1/VWA8/FABP2/CD36/LCAT/AHR/TSC22D1/IGFALS/SELP/LRRTM4/HHEX/FOXO1/SERPINF1/COL1A1/LEPR/RBP4/SLC5A12/SELENOP/PPARG/LPL/TRPS1/RHOBTB1/IGFBP2/LEP/FTO/ABCB4/TMEM144/SREBF1/ESR1/ABCC8/LIPE/CAV1/PCDH9/CPE/CLU/ACACB/ENPP1/PNPLA4/IKBKB/APOD/AGTR1/AR/IRS1/COX7A1/CTF1/IGF1/CACNA1D/ADIPOQ/EBLN2/PDZK1/FABP4/TFAP2B/STEAP4                                                                                                   |\n",
       "| umls:C0029456 | umls:C0029456 | Osteoporosis           | 375 | -0.3439046 | -1.478572 | 0.0125 | 0.117096 | 0.07313365 | 1766 | tags=23%, list=14%, signal=20% | RXRG/HGF/PTH1R/CYP1A1/JAG1/ROR2/FLT3/CUL9/EEF1A2/THSD4/BCL2/ITGAV/WIF1/GREM2/COL15A1/HPGDS/VGLL3/SLIT3/NRIP1/TMEM135/MGP/PLCL1/OSBPL1A/PIBF1/SELP/SPRY1/MMP13/ID4/SPP2/COL1A2/AOX1/ARHGEF3/GSN/TSC22D3/ATP1B1/NR5A2/ANKH/COL1A1/LEPR/THSD7A/GC/FGF2/PPARG/NOX4/ZNF266/GHRH/BHLHE40/SLC19A2/THBD/FLNB/KL/LEP/HSD17B4/CTSK/FTO/MMP2/ESR1/IGF1R/PTN/IRAK3/HSPA1L/CST3/GHR/SPARC/KDM4B/LRP1/INPP4B/BMPR1B/PTHLH/DPT/FRZB/GSTT1/AR/TNFRSF11B/IRS1/WLS/GSTM3/TGFBR3/TPH1/IGF1/SFRP4/CORIN/BMP4/CHAD/FOXA1/PGR |\n",
       "| umls:C0085580 | umls:C0085580 | Essential Hypertension | 256 | -0.3652907 | -1.539997 | 0.0125 | 0.117096 | 0.07313365 | 1971 | tags=26%, list=16%, signal=22% | NR3C1/ATP2B1/CAPN10/SOD3/NPR2/SLC9A1/HGF/GPX3/SCNN1A/STK39/INSR/TESC/TRHR/HP/CD36/HPGDS/DBH/PTGFR/NPR1/LPA/TSC1/APLNR/SELP/GJA4/P2RY2/LPAR1/EDN2/TGFBR2/SULT1A1/ATP1B1/LEPR/FKBP1B/ABCB1/NEFH/PPARG/SYNE1/GRK4/CALCRL/LPL/KL/LEP/KCNMA1/FTO/GSTM1/IGF1R/NEDD4L/HSPA1L/EMILIN1/CACNA1C/EDNRA/NR3C2/BGN/ALB/AGTR1/GSTT1/PLAT/TNFRSF11B/IRS1/FBN1/ACADSB/RGS5/CTF1/IGF1/ELN/CACNA1D/ADIPOQ                                                                                                                 |\n",
       "\n"
      ],
      "text/plain": [
       "              ID            Description            setSize enrichmentScore\n",
       "umls:C0021655 umls:C0021655 Insulin Resistance     256     -0.3744074     \n",
       "umls:C0029456 umls:C0029456 Osteoporosis           375     -0.3439046     \n",
       "umls:C0085580 umls:C0085580 Essential Hypertension 256     -0.3652907     \n",
       "              NES       pvalue p.adjust qvalues    rank\n",
       "umls:C0021655 -1.578431 0.0125 0.117096 0.07313365 1971\n",
       "umls:C0029456 -1.478572 0.0125 0.117096 0.07313365 1766\n",
       "umls:C0085580 -1.539997 0.0125 0.117096 0.07313365 1971\n",
       "              leading_edge                  \n",
       "umls:C0021655 tags=26%, list=16%, signal=22%\n",
       "umls:C0029456 tags=23%, list=14%, signal=20%\n",
       "umls:C0085580 tags=26%, list=16%, signal=22%\n",
       "              core_enrichment                                                                                                                                                                                                                                                                                                                                                                                                                                                                                        \n",
       "umls:C0021655 NR3C1/IRS2/PRKAA2/CAPN10/PIK3R1/STK11/UGT2B15/SSTR2/RXRG/GPX3/MBL2/CD93/INSR/GAS1/VWA8/FABP2/CD36/LCAT/AHR/TSC22D1/IGFALS/SELP/LRRTM4/HHEX/FOXO1/SERPINF1/COL1A1/LEPR/RBP4/SLC5A12/SELENOP/PPARG/LPL/TRPS1/RHOBTB1/IGFBP2/LEP/FTO/ABCB4/TMEM144/SREBF1/ESR1/ABCC8/LIPE/CAV1/PCDH9/CPE/CLU/ACACB/ENPP1/PNPLA4/IKBKB/APOD/AGTR1/AR/IRS1/COX7A1/CTF1/IGF1/CACNA1D/ADIPOQ/EBLN2/PDZK1/FABP4/TFAP2B/STEAP4                                                                                                  \n",
       "umls:C0029456 RXRG/HGF/PTH1R/CYP1A1/JAG1/ROR2/FLT3/CUL9/EEF1A2/THSD4/BCL2/ITGAV/WIF1/GREM2/COL15A1/HPGDS/VGLL3/SLIT3/NRIP1/TMEM135/MGP/PLCL1/OSBPL1A/PIBF1/SELP/SPRY1/MMP13/ID4/SPP2/COL1A2/AOX1/ARHGEF3/GSN/TSC22D3/ATP1B1/NR5A2/ANKH/COL1A1/LEPR/THSD7A/GC/FGF2/PPARG/NOX4/ZNF266/GHRH/BHLHE40/SLC19A2/THBD/FLNB/KL/LEP/HSD17B4/CTSK/FTO/MMP2/ESR1/IGF1R/PTN/IRAK3/HSPA1L/CST3/GHR/SPARC/KDM4B/LRP1/INPP4B/BMPR1B/PTHLH/DPT/FRZB/GSTT1/AR/TNFRSF11B/IRS1/WLS/GSTM3/TGFBR3/TPH1/IGF1/SFRP4/CORIN/BMP4/CHAD/FOXA1/PGR\n",
       "umls:C0085580 NR3C1/ATP2B1/CAPN10/SOD3/NPR2/SLC9A1/HGF/GPX3/SCNN1A/STK39/INSR/TESC/TRHR/HP/CD36/HPGDS/DBH/PTGFR/NPR1/LPA/TSC1/APLNR/SELP/GJA4/P2RY2/LPAR1/EDN2/TGFBR2/SULT1A1/ATP1B1/LEPR/FKBP1B/ABCB1/NEFH/PPARG/SYNE1/GRK4/CALCRL/LPL/KL/LEP/KCNMA1/FTO/GSTM1/IGF1R/NEDD4L/HSPA1L/EMILIN1/CACNA1C/EDNRA/NR3C2/BGN/ALB/AGTR1/GSTT1/PLAT/TNFRSF11B/IRS1/FBN1/ACADSB/RGS5/CTF1/IGF1/ELN/CACNA1D/ADIPOQ                                                                                                                "
      ]
     },
     "metadata": {},
     "output_type": "display_data"
    }
   ],
   "source": [
    "dgn <- gseDGN(geneList,\n",
    "              nPerm         = 100,\n",
    "              minGSSize     = 120,\n",
    "              pvalueCutoff  = 0.2,\n",
    "              pAdjustMethod = \"BH\",\n",
    "              verbose       = FALSE)\n",
    "dgn <- setReadable(dgn, 'org.Hs.eg.db')\n",
    "head(dgn, 3)"
   ]
  },
  {
   "cell_type": "code",
   "execution_count": null,
   "metadata": {},
   "outputs": [],
   "source": []
  },
  {
   "cell_type": "code",
   "execution_count": null,
   "metadata": {},
   "outputs": [],
   "source": []
  }
 ],
 "metadata": {
  "jupytext": {
   "cell_metadata_filter": "-all",
   "notebook_metadata_filter": "-all",
   "text_representation": {
    "extension": ".R",
    "format_name": "spin"
   }
  },
  "kernelspec": {
   "display_name": "R",
   "language": "R",
   "name": "ir"
  },
  "language_info": {
   "codemirror_mode": "r",
   "file_extension": ".r",
   "mimetype": "text/x-r-source",
   "name": "R",
   "pygments_lexer": "r",
   "version": "3.6.0"
  }
 },
 "nbformat": 4,
 "nbformat_minor": 4
}
