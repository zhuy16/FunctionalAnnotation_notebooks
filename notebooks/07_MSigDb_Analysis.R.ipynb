{
 "cells": [
  {
   "cell_type": "code",
   "execution_count": 1,
   "metadata": {},
   "outputs": [],
   "source": [
    "data(geneList, package=\"DOSE\")\n",
    "gene <- names(geneList)[abs(geneList) > 2]"
   ]
  },
  {
   "cell_type": "code",
   "execution_count": 2,
   "metadata": {},
   "outputs": [
    {
     "name": "stderr",
     "output_type": "stream",
     "text": [
      "Warning message:\n",
      "“multiple methods tables found for ‘splitAsList’”\n",
      "Warning message:\n",
      "“replacing previous import ‘S4Vectors::splitAsList’ by ‘IRanges::splitAsList’ when loading ‘AnnotationDbi’”\n",
      "\n",
      "\n",
      "clusterProfiler v3.17.0  For help: https://guangchuangyu.github.io/software/clusterProfiler\n",
      "\n",
      "If you use clusterProfiler in published research, please cite:\n",
      "Guangchuang Yu, Li-Gen Wang, Yanyan Han, Qing-Yu He. clusterProfiler: an R package for comparing biological themes among gene clusters. OMICS: A Journal of Integrative Biology. 2012, 16(5):284-287.\n",
      "\n",
      "\n",
      "Attaching package: ‘clusterProfiler’\n",
      "\n",
      "\n",
      "The following object is masked from ‘package:stats’:\n",
      "\n",
      "    filter\n",
      "\n",
      "\n"
     ]
    }
   ],
   "source": [
    "library(magrittr)\n",
    "library(clusterProfiler)"
   ]
  },
  {
   "cell_type": "code",
   "execution_count": 3,
   "metadata": {},
   "outputs": [],
   "source": [
    "gmtfile <- system.file(\"extdata\", \"c5.cc.v5.0.entrez.gmt\", package=\"clusterProfiler\")\n",
    "c5 <- read.gmt(gmtfile)"
   ]
  },
  {
   "cell_type": "code",
   "execution_count": 4,
   "metadata": {},
   "outputs": [
    {
     "data": {
      "text/html": [
       "<table>\n",
       "<caption>A data.frame: 6 × 9</caption>\n",
       "<thead>\n",
       "\t<tr><th></th><th scope=col>ID</th><th scope=col>Description</th><th scope=col>GeneRatio</th><th scope=col>BgRatio</th><th scope=col>pvalue</th><th scope=col>p.adjust</th><th scope=col>qvalue</th><th scope=col>geneID</th><th scope=col>Count</th></tr>\n",
       "\t<tr><th></th><th scope=col>&lt;chr&gt;</th><th scope=col>&lt;chr&gt;</th><th scope=col>&lt;chr&gt;</th><th scope=col>&lt;chr&gt;</th><th scope=col>&lt;dbl&gt;</th><th scope=col>&lt;dbl&gt;</th><th scope=col>&lt;dbl&gt;</th><th scope=col>&lt;chr&gt;</th><th scope=col>&lt;int&gt;</th></tr>\n",
       "</thead>\n",
       "<tbody>\n",
       "\t<tr><th scope=row>SPINDLE</th><td>SPINDLE                 </td><td>SPINDLE                 </td><td>11/82</td><td>39/5270 </td><td>7.667674e-12</td><td>5.214018e-10</td><td>4.197043e-10</td><td>991/9493/9787/22974/983/332/3832/7272/9055/6790/24137                         </td><td>11</td></tr>\n",
       "\t<tr><th scope=row>MICROTUBULE_CYTOSKELETON</th><td>MICROTUBULE_CYTOSKELETON</td><td>MICROTUBULE_CYTOSKELETON</td><td>16/82</td><td>152/5270</td><td>8.449298e-10</td><td>2.872761e-08</td><td>2.312439e-08</td><td>991/9493/9133/7153/9787/22974/4751/983/332/3832/7272/9055/6790/24137/4137/7802</td><td>16</td></tr>\n",
       "\t<tr><th scope=row>CYTOSKELETAL_PART</th><td>CYTOSKELETAL_PART       </td><td>CYTOSKELETAL_PART       </td><td>15/82</td><td>235/5270</td><td>2.414879e-06</td><td>5.237096e-05</td><td>4.215619e-05</td><td>991/9493/7153/9787/22974/4751/983/332/3832/7272/9055/6790/24137/4137/7802     </td><td>15</td></tr>\n",
       "\t<tr><th scope=row>SPINDLE_MICROTUBULE</th><td>SPINDLE_MICROTUBULE     </td><td>SPINDLE_MICROTUBULE     </td><td>5/82 </td><td>16/5270 </td><td>3.080645e-06</td><td>5.237096e-05</td><td>4.215619e-05</td><td>983/332/3832/9055/24137                                                       </td><td> 5</td></tr>\n",
       "\t<tr><th scope=row>MICROTUBULE</th><td>MICROTUBULE             </td><td>MICROTUBULE             </td><td>6/82 </td><td>32/5270 </td><td>7.740446e-06</td><td>1.052701e-04</td><td>8.473751e-05</td><td>983/332/3832/9055/24137/4137                                                  </td><td> 6</td></tr>\n",
       "\t<tr><th scope=row>CYTOSKELETON</th><td>CYTOSKELETON            </td><td>CYTOSKELETON            </td><td>16/82</td><td>367/5270</td><td>1.308357e-04</td><td>1.482805e-03</td><td>1.193589e-03</td><td>991/9493/9133/7153/9787/22974/4751/983/332/3832/7272/9055/6790/24137/4137/7802</td><td>16</td></tr>\n",
       "</tbody>\n",
       "</table>\n"
      ],
      "text/latex": [
       "A data.frame: 6 × 9\n",
       "\\begin{tabular}{r|lllllllll}\n",
       "  & ID & Description & GeneRatio & BgRatio & pvalue & p.adjust & qvalue & geneID & Count\\\\\n",
       "  & <chr> & <chr> & <chr> & <chr> & <dbl> & <dbl> & <dbl> & <chr> & <int>\\\\\n",
       "\\hline\n",
       "\tSPINDLE & SPINDLE                  & SPINDLE                  & 11/82 & 39/5270  & 7.667674e-12 & 5.214018e-10 & 4.197043e-10 & 991/9493/9787/22974/983/332/3832/7272/9055/6790/24137                          & 11\\\\\n",
       "\tMICROTUBULE\\_CYTOSKELETON & MICROTUBULE\\_CYTOSKELETON & MICROTUBULE\\_CYTOSKELETON & 16/82 & 152/5270 & 8.449298e-10 & 2.872761e-08 & 2.312439e-08 & 991/9493/9133/7153/9787/22974/4751/983/332/3832/7272/9055/6790/24137/4137/7802 & 16\\\\\n",
       "\tCYTOSKELETAL\\_PART & CYTOSKELETAL\\_PART        & CYTOSKELETAL\\_PART        & 15/82 & 235/5270 & 2.414879e-06 & 5.237096e-05 & 4.215619e-05 & 991/9493/7153/9787/22974/4751/983/332/3832/7272/9055/6790/24137/4137/7802      & 15\\\\\n",
       "\tSPINDLE\\_MICROTUBULE & SPINDLE\\_MICROTUBULE      & SPINDLE\\_MICROTUBULE      & 5/82  & 16/5270  & 3.080645e-06 & 5.237096e-05 & 4.215619e-05 & 983/332/3832/9055/24137                                                        &  5\\\\\n",
       "\tMICROTUBULE & MICROTUBULE              & MICROTUBULE              & 6/82  & 32/5270  & 7.740446e-06 & 1.052701e-04 & 8.473751e-05 & 983/332/3832/9055/24137/4137                                                   &  6\\\\\n",
       "\tCYTOSKELETON & CYTOSKELETON             & CYTOSKELETON             & 16/82 & 367/5270 & 1.308357e-04 & 1.482805e-03 & 1.193589e-03 & 991/9493/9133/7153/9787/22974/4751/983/332/3832/7272/9055/6790/24137/4137/7802 & 16\\\\\n",
       "\\end{tabular}\n"
      ],
      "text/markdown": [
       "\n",
       "A data.frame: 6 × 9\n",
       "\n",
       "| <!--/--> | ID &lt;chr&gt; | Description &lt;chr&gt; | GeneRatio &lt;chr&gt; | BgRatio &lt;chr&gt; | pvalue &lt;dbl&gt; | p.adjust &lt;dbl&gt; | qvalue &lt;dbl&gt; | geneID &lt;chr&gt; | Count &lt;int&gt; |\n",
       "|---|---|---|---|---|---|---|---|---|---|\n",
       "| SPINDLE | SPINDLE                  | SPINDLE                  | 11/82 | 39/5270  | 7.667674e-12 | 5.214018e-10 | 4.197043e-10 | 991/9493/9787/22974/983/332/3832/7272/9055/6790/24137                          | 11 |\n",
       "| MICROTUBULE_CYTOSKELETON | MICROTUBULE_CYTOSKELETON | MICROTUBULE_CYTOSKELETON | 16/82 | 152/5270 | 8.449298e-10 | 2.872761e-08 | 2.312439e-08 | 991/9493/9133/7153/9787/22974/4751/983/332/3832/7272/9055/6790/24137/4137/7802 | 16 |\n",
       "| CYTOSKELETAL_PART | CYTOSKELETAL_PART        | CYTOSKELETAL_PART        | 15/82 | 235/5270 | 2.414879e-06 | 5.237096e-05 | 4.215619e-05 | 991/9493/7153/9787/22974/4751/983/332/3832/7272/9055/6790/24137/4137/7802      | 15 |\n",
       "| SPINDLE_MICROTUBULE | SPINDLE_MICROTUBULE      | SPINDLE_MICROTUBULE      | 5/82  | 16/5270  | 3.080645e-06 | 5.237096e-05 | 4.215619e-05 | 983/332/3832/9055/24137                                                        |  5 |\n",
       "| MICROTUBULE | MICROTUBULE              | MICROTUBULE              | 6/82  | 32/5270  | 7.740446e-06 | 1.052701e-04 | 8.473751e-05 | 983/332/3832/9055/24137/4137                                                   |  6 |\n",
       "| CYTOSKELETON | CYTOSKELETON             | CYTOSKELETON             | 16/82 | 367/5270 | 1.308357e-04 | 1.482805e-03 | 1.193589e-03 | 991/9493/9133/7153/9787/22974/4751/983/332/3832/7272/9055/6790/24137/4137/7802 | 16 |\n",
       "\n"
      ],
      "text/plain": [
       "                         ID                       Description             \n",
       "SPINDLE                  SPINDLE                  SPINDLE                 \n",
       "MICROTUBULE_CYTOSKELETON MICROTUBULE_CYTOSKELETON MICROTUBULE_CYTOSKELETON\n",
       "CYTOSKELETAL_PART        CYTOSKELETAL_PART        CYTOSKELETAL_PART       \n",
       "SPINDLE_MICROTUBULE      SPINDLE_MICROTUBULE      SPINDLE_MICROTUBULE     \n",
       "MICROTUBULE              MICROTUBULE              MICROTUBULE             \n",
       "CYTOSKELETON             CYTOSKELETON             CYTOSKELETON            \n",
       "                         GeneRatio BgRatio  pvalue       p.adjust    \n",
       "SPINDLE                  11/82     39/5270  7.667674e-12 5.214018e-10\n",
       "MICROTUBULE_CYTOSKELETON 16/82     152/5270 8.449298e-10 2.872761e-08\n",
       "CYTOSKELETAL_PART        15/82     235/5270 2.414879e-06 5.237096e-05\n",
       "SPINDLE_MICROTUBULE      5/82      16/5270  3.080645e-06 5.237096e-05\n",
       "MICROTUBULE              6/82      32/5270  7.740446e-06 1.052701e-04\n",
       "CYTOSKELETON             16/82     367/5270 1.308357e-04 1.482805e-03\n",
       "                         qvalue      \n",
       "SPINDLE                  4.197043e-10\n",
       "MICROTUBULE_CYTOSKELETON 2.312439e-08\n",
       "CYTOSKELETAL_PART        4.215619e-05\n",
       "SPINDLE_MICROTUBULE      4.215619e-05\n",
       "MICROTUBULE              8.473751e-05\n",
       "CYTOSKELETON             1.193589e-03\n",
       "                         geneID                                                                        \n",
       "SPINDLE                  991/9493/9787/22974/983/332/3832/7272/9055/6790/24137                         \n",
       "MICROTUBULE_CYTOSKELETON 991/9493/9133/7153/9787/22974/4751/983/332/3832/7272/9055/6790/24137/4137/7802\n",
       "CYTOSKELETAL_PART        991/9493/7153/9787/22974/4751/983/332/3832/7272/9055/6790/24137/4137/7802     \n",
       "SPINDLE_MICROTUBULE      983/332/3832/9055/24137                                                       \n",
       "MICROTUBULE              983/332/3832/9055/24137/4137                                                  \n",
       "CYTOSKELETON             991/9493/9133/7153/9787/22974/4751/983/332/3832/7272/9055/6790/24137/4137/7802\n",
       "                         Count\n",
       "SPINDLE                  11   \n",
       "MICROTUBULE_CYTOSKELETON 16   \n",
       "CYTOSKELETAL_PART        15   \n",
       "SPINDLE_MICROTUBULE       5   \n",
       "MICROTUBULE               6   \n",
       "CYTOSKELETON             16   "
      ]
     },
     "metadata": {},
     "output_type": "display_data"
    }
   ],
   "source": [
    "egmt <- enricher(gene, TERM2GENE=c5)\n",
    "head(egmt)"
   ]
  },
  {
   "cell_type": "code",
   "execution_count": 5,
   "metadata": {},
   "outputs": [
    {
     "name": "stderr",
     "output_type": "stream",
     "text": [
      "Warning message in fgseaMultilevel(...):\n",
      "“For some pathways, in reality P-values are less than 1e-10. You can set the `eps` argument to zero for better estimation.”\n"
     ]
    },
    {
     "data": {
      "text/html": [
       "<table>\n",
       "<caption>A data.frame: 6 × 11</caption>\n",
       "<thead>\n",
       "\t<tr><th></th><th scope=col>ID</th><th scope=col>Description</th><th scope=col>setSize</th><th scope=col>enrichmentScore</th><th scope=col>NES</th><th scope=col>pvalue</th><th scope=col>p.adjust</th><th scope=col>qvalues</th><th scope=col>rank</th><th scope=col>leading_edge</th><th scope=col>core_enrichment</th></tr>\n",
       "\t<tr><th></th><th scope=col>&lt;chr&gt;</th><th scope=col>&lt;chr&gt;</th><th scope=col>&lt;int&gt;</th><th scope=col>&lt;dbl&gt;</th><th scope=col>&lt;dbl&gt;</th><th scope=col>&lt;dbl&gt;</th><th scope=col>&lt;dbl&gt;</th><th scope=col>&lt;dbl&gt;</th><th scope=col>&lt;dbl&gt;</th><th scope=col>&lt;chr&gt;</th><th scope=col>&lt;chr&gt;</th></tr>\n",
       "</thead>\n",
       "<tbody>\n",
       "\t<tr><th scope=row>CHROMOSOMAL_PART</th><td>CHROMOSOMAL_PART                  </td><td>CHROMOSOMAL_PART                  </td><td> 87</td><td> 0.6306975</td><td> 2.490691</td><td>1.000000e-10</td><td>6.466667e-09</td><td>5.052632e-09</td><td>1681</td><td>tags=38%, list=13%, signal=33%</td><td>1062/10403/4085/81620/332/4171/701/11130/11339/3070/54962/5984/1058/699/1063/5111/55055/55506/4176/7112/2296/79980/5982/10051/1104/4172/2072/5983/10592/8914/1788/4613/3619                                                                </td></tr>\n",
       "\t<tr><th scope=row>CHROMOSOME</th><td>CHROMOSOME                        </td><td>CHROMOSOME                        </td><td>112</td><td> 0.6136947</td><td> 2.527496</td><td>1.000000e-10</td><td>6.466667e-09</td><td>5.052632e-09</td><td>1905</td><td>tags=38%, list=15%, signal=33%</td><td>1062/10403/7153/4085/81620/332/1111/4171/701/11130/5888/11339/3070/54962/5984/9918/1058/699/1063/5111/55055/55506/4176/7112/2296/3148/79980/5982/10051/1104/4172/2072/7283/5983/10592/8914/1788/6839/4613/3619/5901/7273/6119              </td></tr>\n",
       "\t<tr><th scope=row>PROTEINACEOUS_EXTRACELLULAR_MATRIX</th><td>PROTEINACEOUS_EXTRACELLULAR_MATRIX</td><td>PROTEINACEOUS_EXTRACELLULAR_MATRIX</td><td> 93</td><td>-0.6355317</td><td>-2.395230</td><td>1.000000e-10</td><td>6.466667e-09</td><td>5.052632e-09</td><td>1473</td><td>tags=49%, list=12%, signal=44%</td><td>80781/1490/1306/8425/8082/4256/8910/3912/1278/4060/283/30008/5549/22795/10516/1293/1295/2192/1281/50509/4319/1290/11096/2202/2199/6444/1294/1462/1289/3908/3909/4053/8292/1842/10631/2331/3730/3913/1300/2200/1287/7060/1307/1311/4148/1101</td></tr>\n",
       "\t<tr><th scope=row>EXTRACELLULAR_MATRIX</th><td>EXTRACELLULAR_MATRIX              </td><td>EXTRACELLULAR_MATRIX              </td><td> 95</td><td>-0.6229461</td><td>-2.346752</td><td>1.711043e-10</td><td>8.298557e-09</td><td>6.483952e-09</td><td>1473</td><td>tags=48%, list=12%, signal=43%</td><td>80781/1490/1306/8425/8082/4256/8910/3912/1278/4060/283/30008/5549/22795/10516/1293/1295/2192/1281/50509/4319/1290/11096/2202/2199/6444/1294/1462/1289/3908/3909/4053/8292/1842/10631/2331/3730/3913/1300/2200/1287/7060/1307/1311/4148/1101</td></tr>\n",
       "\t<tr><th scope=row>SPINDLE</th><td>SPINDLE                           </td><td>SPINDLE                           </td><td> 37</td><td> 0.7512846</td><td> 2.533862</td><td>4.217458e-09</td><td>1.636374e-07</td><td>1.278556e-07</td><td> 759</td><td>tags=43%, list=6%, signal=41% </td><td>991/9493/9787/22974/983/332/3832/7272/9055/6790/24137/699/1063/26271/29901/9735                                                                                                                                                            </td></tr>\n",
       "\t<tr><th scope=row>CHROMOSOMEPERICENTRIC_REGION</th><td>CHROMOSOMEPERICENTRIC_REGION      </td><td>CHROMOSOMEPERICENTRIC_REGION      </td><td> 30</td><td> 0.7846974</td><td> 2.492308</td><td>7.138304e-09</td><td>2.308052e-07</td><td>1.803361e-07</td><td> 730</td><td>tags=40%, list=6%, signal=38% </td><td>1062/10403/4085/332/701/11130/3070/1058/699/1063/55055/79980                                                                                                                                                                               </td></tr>\n",
       "</tbody>\n",
       "</table>\n"
      ],
      "text/latex": [
       "A data.frame: 6 × 11\n",
       "\\begin{tabular}{r|lllllllllll}\n",
       "  & ID & Description & setSize & enrichmentScore & NES & pvalue & p.adjust & qvalues & rank & leading\\_edge & core\\_enrichment\\\\\n",
       "  & <chr> & <chr> & <int> & <dbl> & <dbl> & <dbl> & <dbl> & <dbl> & <dbl> & <chr> & <chr>\\\\\n",
       "\\hline\n",
       "\tCHROMOSOMAL\\_PART & CHROMOSOMAL\\_PART                   & CHROMOSOMAL\\_PART                   &  87 &  0.6306975 &  2.490691 & 1.000000e-10 & 6.466667e-09 & 5.052632e-09 & 1681 & tags=38\\%, list=13\\%, signal=33\\% & 1062/10403/4085/81620/332/4171/701/11130/11339/3070/54962/5984/1058/699/1063/5111/55055/55506/4176/7112/2296/79980/5982/10051/1104/4172/2072/5983/10592/8914/1788/4613/3619                                                                \\\\\n",
       "\tCHROMOSOME & CHROMOSOME                         & CHROMOSOME                         & 112 &  0.6136947 &  2.527496 & 1.000000e-10 & 6.466667e-09 & 5.052632e-09 & 1905 & tags=38\\%, list=15\\%, signal=33\\% & 1062/10403/7153/4085/81620/332/1111/4171/701/11130/5888/11339/3070/54962/5984/9918/1058/699/1063/5111/55055/55506/4176/7112/2296/3148/79980/5982/10051/1104/4172/2072/7283/5983/10592/8914/1788/6839/4613/3619/5901/7273/6119              \\\\\n",
       "\tPROTEINACEOUS\\_EXTRACELLULAR\\_MATRIX & PROTEINACEOUS\\_EXTRACELLULAR\\_MATRIX & PROTEINACEOUS\\_EXTRACELLULAR\\_MATRIX &  93 & -0.6355317 & -2.395230 & 1.000000e-10 & 6.466667e-09 & 5.052632e-09 & 1473 & tags=49\\%, list=12\\%, signal=44\\% & 80781/1490/1306/8425/8082/4256/8910/3912/1278/4060/283/30008/5549/22795/10516/1293/1295/2192/1281/50509/4319/1290/11096/2202/2199/6444/1294/1462/1289/3908/3909/4053/8292/1842/10631/2331/3730/3913/1300/2200/1287/7060/1307/1311/4148/1101\\\\\n",
       "\tEXTRACELLULAR\\_MATRIX & EXTRACELLULAR\\_MATRIX               & EXTRACELLULAR\\_MATRIX               &  95 & -0.6229461 & -2.346752 & 1.711043e-10 & 8.298557e-09 & 6.483952e-09 & 1473 & tags=48\\%, list=12\\%, signal=43\\% & 80781/1490/1306/8425/8082/4256/8910/3912/1278/4060/283/30008/5549/22795/10516/1293/1295/2192/1281/50509/4319/1290/11096/2202/2199/6444/1294/1462/1289/3908/3909/4053/8292/1842/10631/2331/3730/3913/1300/2200/1287/7060/1307/1311/4148/1101\\\\\n",
       "\tSPINDLE & SPINDLE                            & SPINDLE                            &  37 &  0.7512846 &  2.533862 & 4.217458e-09 & 1.636374e-07 & 1.278556e-07 &  759 & tags=43\\%, list=6\\%, signal=41\\%  & 991/9493/9787/22974/983/332/3832/7272/9055/6790/24137/699/1063/26271/29901/9735                                                                                                                                                            \\\\\n",
       "\tCHROMOSOMEPERICENTRIC\\_REGION & CHROMOSOMEPERICENTRIC\\_REGION       & CHROMOSOMEPERICENTRIC\\_REGION       &  30 &  0.7846974 &  2.492308 & 7.138304e-09 & 2.308052e-07 & 1.803361e-07 &  730 & tags=40\\%, list=6\\%, signal=38\\%  & 1062/10403/4085/332/701/11130/3070/1058/699/1063/55055/79980                                                                                                                                                                               \\\\\n",
       "\\end{tabular}\n"
      ],
      "text/markdown": [
       "\n",
       "A data.frame: 6 × 11\n",
       "\n",
       "| <!--/--> | ID &lt;chr&gt; | Description &lt;chr&gt; | setSize &lt;int&gt; | enrichmentScore &lt;dbl&gt; | NES &lt;dbl&gt; | pvalue &lt;dbl&gt; | p.adjust &lt;dbl&gt; | qvalues &lt;dbl&gt; | rank &lt;dbl&gt; | leading_edge &lt;chr&gt; | core_enrichment &lt;chr&gt; |\n",
       "|---|---|---|---|---|---|---|---|---|---|---|---|\n",
       "| CHROMOSOMAL_PART | CHROMOSOMAL_PART                   | CHROMOSOMAL_PART                   |  87 |  0.6306975 |  2.490691 | 1.000000e-10 | 6.466667e-09 | 5.052632e-09 | 1681 | tags=38%, list=13%, signal=33% | 1062/10403/4085/81620/332/4171/701/11130/11339/3070/54962/5984/1058/699/1063/5111/55055/55506/4176/7112/2296/79980/5982/10051/1104/4172/2072/5983/10592/8914/1788/4613/3619                                                                 |\n",
       "| CHROMOSOME | CHROMOSOME                         | CHROMOSOME                         | 112 |  0.6136947 |  2.527496 | 1.000000e-10 | 6.466667e-09 | 5.052632e-09 | 1905 | tags=38%, list=15%, signal=33% | 1062/10403/7153/4085/81620/332/1111/4171/701/11130/5888/11339/3070/54962/5984/9918/1058/699/1063/5111/55055/55506/4176/7112/2296/3148/79980/5982/10051/1104/4172/2072/7283/5983/10592/8914/1788/6839/4613/3619/5901/7273/6119               |\n",
       "| PROTEINACEOUS_EXTRACELLULAR_MATRIX | PROTEINACEOUS_EXTRACELLULAR_MATRIX | PROTEINACEOUS_EXTRACELLULAR_MATRIX |  93 | -0.6355317 | -2.395230 | 1.000000e-10 | 6.466667e-09 | 5.052632e-09 | 1473 | tags=49%, list=12%, signal=44% | 80781/1490/1306/8425/8082/4256/8910/3912/1278/4060/283/30008/5549/22795/10516/1293/1295/2192/1281/50509/4319/1290/11096/2202/2199/6444/1294/1462/1289/3908/3909/4053/8292/1842/10631/2331/3730/3913/1300/2200/1287/7060/1307/1311/4148/1101 |\n",
       "| EXTRACELLULAR_MATRIX | EXTRACELLULAR_MATRIX               | EXTRACELLULAR_MATRIX               |  95 | -0.6229461 | -2.346752 | 1.711043e-10 | 8.298557e-09 | 6.483952e-09 | 1473 | tags=48%, list=12%, signal=43% | 80781/1490/1306/8425/8082/4256/8910/3912/1278/4060/283/30008/5549/22795/10516/1293/1295/2192/1281/50509/4319/1290/11096/2202/2199/6444/1294/1462/1289/3908/3909/4053/8292/1842/10631/2331/3730/3913/1300/2200/1287/7060/1307/1311/4148/1101 |\n",
       "| SPINDLE | SPINDLE                            | SPINDLE                            |  37 |  0.7512846 |  2.533862 | 4.217458e-09 | 1.636374e-07 | 1.278556e-07 |  759 | tags=43%, list=6%, signal=41%  | 991/9493/9787/22974/983/332/3832/7272/9055/6790/24137/699/1063/26271/29901/9735                                                                                                                                                             |\n",
       "| CHROMOSOMEPERICENTRIC_REGION | CHROMOSOMEPERICENTRIC_REGION       | CHROMOSOMEPERICENTRIC_REGION       |  30 |  0.7846974 |  2.492308 | 7.138304e-09 | 2.308052e-07 | 1.803361e-07 |  730 | tags=40%, list=6%, signal=38%  | 1062/10403/4085/332/701/11130/3070/1058/699/1063/55055/79980                                                                                                                                                                                |\n",
       "\n"
      ],
      "text/plain": [
       "                                   ID                                \n",
       "CHROMOSOMAL_PART                   CHROMOSOMAL_PART                  \n",
       "CHROMOSOME                         CHROMOSOME                        \n",
       "PROTEINACEOUS_EXTRACELLULAR_MATRIX PROTEINACEOUS_EXTRACELLULAR_MATRIX\n",
       "EXTRACELLULAR_MATRIX               EXTRACELLULAR_MATRIX              \n",
       "SPINDLE                            SPINDLE                           \n",
       "CHROMOSOMEPERICENTRIC_REGION       CHROMOSOMEPERICENTRIC_REGION      \n",
       "                                   Description                        setSize\n",
       "CHROMOSOMAL_PART                   CHROMOSOMAL_PART                    87    \n",
       "CHROMOSOME                         CHROMOSOME                         112    \n",
       "PROTEINACEOUS_EXTRACELLULAR_MATRIX PROTEINACEOUS_EXTRACELLULAR_MATRIX  93    \n",
       "EXTRACELLULAR_MATRIX               EXTRACELLULAR_MATRIX                95    \n",
       "SPINDLE                            SPINDLE                             37    \n",
       "CHROMOSOMEPERICENTRIC_REGION       CHROMOSOMEPERICENTRIC_REGION        30    \n",
       "                                   enrichmentScore NES       pvalue      \n",
       "CHROMOSOMAL_PART                    0.6306975       2.490691 1.000000e-10\n",
       "CHROMOSOME                          0.6136947       2.527496 1.000000e-10\n",
       "PROTEINACEOUS_EXTRACELLULAR_MATRIX -0.6355317      -2.395230 1.000000e-10\n",
       "EXTRACELLULAR_MATRIX               -0.6229461      -2.346752 1.711043e-10\n",
       "SPINDLE                             0.7512846       2.533862 4.217458e-09\n",
       "CHROMOSOMEPERICENTRIC_REGION        0.7846974       2.492308 7.138304e-09\n",
       "                                   p.adjust     qvalues      rank\n",
       "CHROMOSOMAL_PART                   6.466667e-09 5.052632e-09 1681\n",
       "CHROMOSOME                         6.466667e-09 5.052632e-09 1905\n",
       "PROTEINACEOUS_EXTRACELLULAR_MATRIX 6.466667e-09 5.052632e-09 1473\n",
       "EXTRACELLULAR_MATRIX               8.298557e-09 6.483952e-09 1473\n",
       "SPINDLE                            1.636374e-07 1.278556e-07  759\n",
       "CHROMOSOMEPERICENTRIC_REGION       2.308052e-07 1.803361e-07  730\n",
       "                                   leading_edge                  \n",
       "CHROMOSOMAL_PART                   tags=38%, list=13%, signal=33%\n",
       "CHROMOSOME                         tags=38%, list=15%, signal=33%\n",
       "PROTEINACEOUS_EXTRACELLULAR_MATRIX tags=49%, list=12%, signal=44%\n",
       "EXTRACELLULAR_MATRIX               tags=48%, list=12%, signal=43%\n",
       "SPINDLE                            tags=43%, list=6%, signal=41% \n",
       "CHROMOSOMEPERICENTRIC_REGION       tags=40%, list=6%, signal=38% \n",
       "                                   core_enrichment                                                                                                                                                                                                                            \n",
       "CHROMOSOMAL_PART                   1062/10403/4085/81620/332/4171/701/11130/11339/3070/54962/5984/1058/699/1063/5111/55055/55506/4176/7112/2296/79980/5982/10051/1104/4172/2072/5983/10592/8914/1788/4613/3619                                                                \n",
       "CHROMOSOME                         1062/10403/7153/4085/81620/332/1111/4171/701/11130/5888/11339/3070/54962/5984/9918/1058/699/1063/5111/55055/55506/4176/7112/2296/3148/79980/5982/10051/1104/4172/2072/7283/5983/10592/8914/1788/6839/4613/3619/5901/7273/6119              \n",
       "PROTEINACEOUS_EXTRACELLULAR_MATRIX 80781/1490/1306/8425/8082/4256/8910/3912/1278/4060/283/30008/5549/22795/10516/1293/1295/2192/1281/50509/4319/1290/11096/2202/2199/6444/1294/1462/1289/3908/3909/4053/8292/1842/10631/2331/3730/3913/1300/2200/1287/7060/1307/1311/4148/1101\n",
       "EXTRACELLULAR_MATRIX               80781/1490/1306/8425/8082/4256/8910/3912/1278/4060/283/30008/5549/22795/10516/1293/1295/2192/1281/50509/4319/1290/11096/2202/2199/6444/1294/1462/1289/3908/3909/4053/8292/1842/10631/2331/3730/3913/1300/2200/1287/7060/1307/1311/4148/1101\n",
       "SPINDLE                            991/9493/9787/22974/983/332/3832/7272/9055/6790/24137/699/1063/26271/29901/9735                                                                                                                                                            \n",
       "CHROMOSOMEPERICENTRIC_REGION       1062/10403/4085/332/701/11130/3070/1058/699/1063/55055/79980                                                                                                                                                                               "
      ]
     },
     "metadata": {},
     "output_type": "display_data"
    }
   ],
   "source": [
    "egmt2 <- GSEA(geneList, TERM2GENE=c5, verbose=FALSE)\n",
    "head(egmt2)"
   ]
  },
  {
   "cell_type": "code",
   "execution_count": null,
   "metadata": {},
   "outputs": [],
   "source": []
  }
 ],
 "metadata": {
  "jupytext": {
   "cell_metadata_filter": "-all",
   "notebook_metadata_filter": "-all",
   "text_representation": {
    "extension": ".R",
    "format_name": "light"
   }
  },
  "kernelspec": {
   "display_name": "R",
   "language": "R",
   "name": "ir"
  },
  "language_info": {
   "codemirror_mode": "r",
   "file_extension": ".r",
   "mimetype": "text/x-r-source",
   "name": "R",
   "pygments_lexer": "r",
   "version": "3.6.0"
  }
 },
 "nbformat": 4,
 "nbformat_minor": 4
}
