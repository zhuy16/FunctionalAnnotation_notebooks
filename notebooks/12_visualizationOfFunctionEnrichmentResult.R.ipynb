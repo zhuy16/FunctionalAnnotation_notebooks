{
 "cells": [
  {
   "cell_type": "code",
   "execution_count": 1,
   "metadata": {},
   "outputs": [
    {
     "data": {
      "text/html": [
       "'/sysapps/cluster/software/Anaconda2/5.3.0/lib/R'"
      ],
      "text/latex": [
       "'/sysapps/cluster/software/Anaconda2/5.3.0/lib/R'"
      ],
      "text/markdown": [
       "'/sysapps/cluster/software/Anaconda2/5.3.0/lib/R'"
      ],
      "text/plain": [
       "[1] \"/sysapps/cluster/software/Anaconda2/5.3.0/lib/R\""
      ]
     },
     "metadata": {},
     "output_type": "display_data"
    },
    {
     "data": {
      "text/plain": [
       "[1] ‘3.14.0’"
      ]
     },
     "metadata": {},
     "output_type": "display_data"
    }
   ],
   "source": [
    "#R.Version()\n",
    "R.home()\n",
    "packageVersion(\"DOSE\")\n"
   ]
  },
  {
   "cell_type": "markdown",
   "metadata": {
    "lines_to_next_cell": 0
   },
   "source": [
    "12.1 Bar Plot\n"
   ]
  },
  {
   "cell_type": "code",
   "execution_count": 3,
   "metadata": {},
   "outputs": [
    {
     "ename": "ERROR",
     "evalue": "Error: package or namespace load failed for ‘DOSE’:\n Function found when exporting methods from the namespace ‘S4Vectors’ which is not S4 generic: ‘%in%’\n",
     "output_type": "error",
     "traceback": [
      "Error: package or namespace load failed for ‘DOSE’:\n Function found when exporting methods from the namespace ‘S4Vectors’ which is not S4 generic: ‘%in%’\nTraceback:\n",
      "1. library(DOSE)",
      "2. tryCatch({\n .     attr(package, \"LibPath\") <- which.lib.loc\n .     ns <- loadNamespace(package, lib.loc)\n .     env <- attachNamespace(ns, pos = pos, deps, exclude, include.only)\n . }, error = function(e) {\n .     P <- if (!is.null(cc <- conditionCall(e))) \n .         paste(\" in\", deparse(cc)[1L])\n .     else \"\"\n .     msg <- gettextf(\"package or namespace load failed for %s%s:\\n %s\", \n .         sQuote(package), P, conditionMessage(e))\n .     if (logical.return) \n .         message(paste(\"Error:\", msg), domain = NA)\n .     else stop(msg, call. = FALSE, domain = NA)\n . })",
      "3. tryCatchList(expr, classes, parentenv, handlers)",
      "4. tryCatchOne(expr, names, parentenv, handlers[[1L]])",
      "5. value[[3L]](cond)",
      "6. stop(msg, call. = FALSE, domain = NA)"
     ]
    }
   ],
   "source": [
    "library(DOSE)"
   ]
  },
  {
   "cell_type": "code",
   "execution_count": 2,
   "metadata": {},
   "outputs": [
    {
     "ename": "ERROR",
     "evalue": "Error: package or namespace load failed for ‘DOSE’:\n Function found when exporting methods from the namespace ‘S4Vectors’ which is not S4 generic: ‘%in%’\n",
     "output_type": "error",
     "traceback": [
      "Error: package or namespace load failed for ‘DOSE’:\n Function found when exporting methods from the namespace ‘S4Vectors’ which is not S4 generic: ‘%in%’\nTraceback:\n",
      "1. library(DOSE)",
      "2. tryCatch({\n .     attr(package, \"LibPath\") <- which.lib.loc\n .     ns <- loadNamespace(package, lib.loc)\n .     env <- attachNamespace(ns, pos = pos, deps, exclude, include.only)\n . }, error = function(e) {\n .     P <- if (!is.null(cc <- conditionCall(e))) \n .         paste(\" in\", deparse(cc)[1L])\n .     else \"\"\n .     msg <- gettextf(\"package or namespace load failed for %s%s:\\n %s\", \n .         sQuote(package), P, conditionMessage(e))\n .     if (logical.return) \n .         message(paste(\"Error:\", msg), domain = NA)\n .     else stop(msg, call. = FALSE, domain = NA)\n . })",
      "3. tryCatchList(expr, classes, parentenv, handlers)",
      "4. tryCatchOne(expr, names, parentenv, handlers[[1L]])",
      "5. value[[3L]](cond)",
      "6. stop(msg, call. = FALSE, domain = NA)"
     ]
    }
   ],
   "source": [
    "data(geneList)\n",
    "de <- names(geneList)[abs(geneList) > 2]"
   ]
  },
  {
   "cell_type": "code",
   "execution_count": 10,
   "metadata": {},
   "outputs": [
    {
     "ename": "ERROR",
     "evalue": "Error in enrichDGN(de): could not find function \"enrichDGN\"\n",
     "output_type": "error",
     "traceback": [
      "Error in enrichDGN(de): could not find function \"enrichDGN\"\nTraceback:\n"
     ]
    }
   ],
   "source": [
    "edo <- enrichDGN(de)"
   ]
  },
  {
   "cell_type": "code",
   "execution_count": 11,
   "metadata": {},
   "outputs": [
    {
     "ename": "ERROR",
     "evalue": "Error: package or namespace load failed for ‘enrichplot’:\n Function found when exporting methods from the namespace ‘S4Vectors’ which is not S4 generic: ‘%in%’\n",
     "output_type": "error",
     "traceback": [
      "Error: package or namespace load failed for ‘enrichplot’:\n Function found when exporting methods from the namespace ‘S4Vectors’ which is not S4 generic: ‘%in%’\nTraceback:\n",
      "1. library(enrichplot)",
      "2. tryCatch({\n .     attr(package, \"LibPath\") <- which.lib.loc\n .     ns <- loadNamespace(package, lib.loc)\n .     env <- attachNamespace(ns, pos = pos, deps, exclude, include.only)\n . }, error = function(e) {\n .     P <- if (!is.null(cc <- conditionCall(e))) \n .         paste(\" in\", deparse(cc)[1L])\n .     else \"\"\n .     msg <- gettextf(\"package or namespace load failed for %s%s:\\n %s\", \n .         sQuote(package), P, conditionMessage(e))\n .     if (logical.return) \n .         message(paste(\"Error:\", msg), domain = NA)\n .     else stop(msg, call. = FALSE, domain = NA)\n . })",
      "3. tryCatchList(expr, classes, parentenv, handlers)",
      "4. tryCatchOne(expr, names, parentenv, handlers[[1L]])",
      "5. value[[3L]](cond)",
      "6. stop(msg, call. = FALSE, domain = NA)"
     ]
    }
   ],
   "source": [
    "library(enrichplot)\n",
    "barplot(edo, showCategory=20)"
   ]
  },
  {
   "cell_type": "markdown",
   "metadata": {
    "lines_to_next_cell": 0
   },
   "source": [
    "12.2 Dot plot\n"
   ]
  },
  {
   "cell_type": "code",
   "execution_count": 4,
   "metadata": {},
   "outputs": [
    {
     "name": "stderr",
     "output_type": "stream",
     "text": [
      "preparing geneSet collections...\n",
      "\n",
      "GSEA analysis...\n",
      "\n",
      "Warning message in .GSEA(geneList = geneList, exponent = exponent, minGSSize = minGSSize, :\n",
      "“We do not recommend using nPerm parameter incurrent and future releases”\n",
      "Warning message in fgsea(pathways = geneSets, stats = geneList, nperm = nPerm, minSize = minGSSize, :\n",
      "“You are trying to run fgseaSimple. It is recommended to use fgseaMultilevel. To run fgseaMultilevel, you need to remove the nperm argument in the fgsea function call.”\n",
      "no term enriched under specific pvalueCutoff...\n",
      "\n"
     ]
    }
   ],
   "source": [
    "edo2 <- gseNCG(geneList, nPerm=10000)"
   ]
  },
  {
   "cell_type": "code",
   "execution_count": 5,
   "metadata": {},
   "outputs": [
    {
     "data": {
      "text/html": [
       "<table>\n",
       "<caption>A data.frame: 0 × 8</caption>\n",
       "<thead>\n",
       "\t<tr><th scope=col>ID</th><th scope=col>Description</th><th scope=col>setSize</th><th scope=col>enrichmentScore</th><th scope=col>NES</th><th scope=col>pvalue</th><th scope=col>p.adjust</th><th scope=col>qvalues</th></tr>\n",
       "\t<tr><th scope=col>&lt;chr&gt;</th><th scope=col>&lt;chr&gt;</th><th scope=col>&lt;int&gt;</th><th scope=col>&lt;dbl&gt;</th><th scope=col>&lt;dbl&gt;</th><th scope=col>&lt;dbl&gt;</th><th scope=col>&lt;dbl&gt;</th><th scope=col>&lt;dbl&gt;</th></tr>\n",
       "</thead>\n",
       "<tbody>\n",
       "</tbody>\n",
       "</table>\n"
      ],
      "text/latex": [
       "A data.frame: 0 × 8\n",
       "\\begin{tabular}{r|llllllll}\n",
       " ID & Description & setSize & enrichmentScore & NES & pvalue & p.adjust & qvalues\\\\\n",
       " <chr> & <chr> & <int> & <dbl> & <dbl> & <dbl> & <dbl> & <dbl>\\\\\n",
       "\\hline\n",
       "\\end{tabular}\n"
      ],
      "text/markdown": [
       "\n",
       "A data.frame: 0 × 8\n",
       "\n",
       "| ID &lt;chr&gt; | Description &lt;chr&gt; | setSize &lt;int&gt; | enrichmentScore &lt;dbl&gt; | NES &lt;dbl&gt; | pvalue &lt;dbl&gt; | p.adjust &lt;dbl&gt; | qvalues &lt;dbl&gt; |\n",
       "|---|---|---|---|---|---|---|---|\n",
       "\n"
      ],
      "text/plain": [
       "     ID Description setSize enrichmentScore NES pvalue p.adjust qvalues"
      ]
     },
     "metadata": {},
     "output_type": "display_data"
    }
   ],
   "source": [
    "head(edo2)"
   ]
  },
  {
   "cell_type": "code",
   "execution_count": 8,
   "metadata": {},
   "outputs": [],
   "source": [
    "p1 <- dotplot(edo, showCategory=30) + ggtitle(\"dotplot for ORA\")"
   ]
  },
  {
   "cell_type": "code",
   "execution_count": 9,
   "metadata": {},
   "outputs": [
    {
     "ename": "ERROR",
     "evalue": "Error in str_count(res$core_enrichment, \"/\") + 1: non-numeric argument to binary operator\n",
     "output_type": "error",
     "traceback": [
      "Error in str_count(res$core_enrichment, \"/\") + 1: non-numeric argument to binary operator\nTraceback:\n",
      "1. dotplot(edo2, showCategory = 30)",
      "2. dotplot(edo2, showCategory = 30)",
      "3. .local(object, ...)",
      "4. dotplot_internal(object, x, color, showCategory, size, split, \n .     font.size, title, ...)",
      "5. fortify(object, showCategory = showCategory, split = split)",
      "6. fortify.gseaResult(object, showCategory = showCategory, split = split)",
      "7. fortify.internal(model, data, showCategory, by, order, drop, \n .     split, ...)"
     ]
    }
   ],
   "source": [
    "p2 <- dotplot(edo2, showCategory=30) + ggtitle(\"dotplot for GSEA\")"
   ]
  },
  {
   "cell_type": "code",
   "execution_count": 8,
   "metadata": {},
   "outputs": [
    {
     "ename": "ERROR",
     "evalue": "Error in plot_grid(p1, p2, ncol = 2): object 'p2' not found\n",
     "output_type": "error",
     "traceback": [
      "Error in plot_grid(p1, p2, ncol = 2): object 'p2' not found\nTraceback:\n",
      "1. plot_grid(p1, p2, ncol = 2)"
     ]
    }
   ],
   "source": [
    "plot_grid(p1, p2, ncol=2)"
   ]
  },
  {
   "cell_type": "code",
   "execution_count": null,
   "metadata": {},
   "outputs": [],
   "source": []
  },
  {
   "cell_type": "code",
   "execution_count": null,
   "metadata": {
    "lines_to_next_cell": 2
   },
   "outputs": [],
   "source": [
    "## convert gene ID to Symbol\n",
    "edox <- setReadable(edo, 'org.Hs.eg.db', 'ENTREZID')\n",
    "p1 <- cnetplot(edox, foldChange=geneList)\n",
    "## categorySize can be scaled by 'pvalue' or 'geneNum'\n",
    "p2 <- cnetplot(edox, categorySize=\"pvalue\", foldChange=geneList)\n",
    "p3 <- cnetplot(edox, foldChange=geneList, circular = TRUE, colorEdge = TRUE)\n",
    "cowplot::plot_grid(p1, p2, p3, ncol=3, labels=LETTERS[1:3], rel_widths=c(.8, .8, 1.2))"
   ]
  },
  {
   "cell_type": "markdown",
   "metadata": {
    "lines_to_next_cell": 0
   },
   "source": [
    "something wrong with this. "
   ]
  },
  {
   "cell_type": "code",
   "execution_count": null,
   "metadata": {},
   "outputs": [],
   "source": [
    "p1 <- cnetplot(edox, node_label=\"category\") \n",
    "p2 <- cnetplot(edox, node_label=\"gene\") \n",
    "p3 <- cnetplot(edox, node_label=\"all\") \n",
    "p4 <- cnetplot(edox, node_label=\"none\") \n",
    "cowplot::plot_grid(p1, p2, p3, p4, ncol=2, labels=LETTERS[1:4])"
   ]
  },
  {
   "cell_type": "markdown",
   "metadata": {
    "lines_to_next_cell": 0
   },
   "source": [
    "12.4 Heatmap-like functional classification\n"
   ]
  },
  {
   "cell_type": "code",
   "execution_count": null,
   "metadata": {
    "lines_to_next_cell": 0
   },
   "outputs": [],
   "source": [
    "p1 <- heatplot(edox)\n",
    "p2 <- heatplot(edox, foldChange=geneList)\n",
    "cowplot::plot_grid(p1, p2, ncol=1, labels=LETTERS[1:2])"
   ]
  },
  {
   "cell_type": "markdown",
   "metadata": {
    "lines_to_next_cell": 0
   },
   "source": [
    "12.5 Enrichment Map\n"
   ]
  },
  {
   "cell_type": "code",
   "execution_count": null,
   "metadata": {},
   "outputs": [],
   "source": [
    "p1 <- emapplot(edo)\n",
    "p2 <- emapplot(edo, pie_scale=1.5)\n",
    "p3 <- emapplot(edo,layout=\"kk\")\n",
    "p4 <- emapplot(edo, pie_scale=1.5,layout=\"kk\") \n",
    "cowplot::plot_grid(p1, p2, p3, p4, ncol=2, labels=LETTERS[1:4])"
   ]
  },
  {
   "cell_type": "code",
   "execution_count": null,
   "metadata": {},
   "outputs": [],
   "source": []
  },
  {
   "cell_type": "code",
   "execution_count": null,
   "metadata": {
    "lines_to_next_cell": 2
   },
   "outputs": [],
   "source": [
    "library(clusterProfiler)\n",
    "data(gcSample)\n",
    "xx <- compareCluster(gcSample, fun=\"enrichKEGG\",\n",
    "                     organism=\"hsa\", pvalueCutoff=0.05)\n",
    "p1 <- emapplot(xx)\n",
    "p2 <- emapplot(xx,legend_n=2) \n",
    "p3 <- emapplot(xx,pie=\"count\")\n",
    "p4 <- emapplot(xx,pie=\"count\", pie_scale=1.5, layout=\"kk\")\n",
    "cowplot::plot_grid(p1, p2, p3, p4, ncol=2, labels=LETTERS[1:4])"
   ]
  },
  {
   "cell_type": "markdown",
   "metadata": {
    "lines_to_next_cell": 0
   },
   "source": [
    "12.6 UpSet Plot\n"
   ]
  },
  {
   "cell_type": "code",
   "execution_count": null,
   "metadata": {},
   "outputs": [],
   "source": [
    "BiocManager::install(\"ggupset\")\n",
    "upsetplot(edo)"
   ]
  },
  {
   "cell_type": "markdown",
   "metadata": {
    "lines_to_next_cell": 0
   },
   "source": [
    "unsolved: what is the kk2?"
   ]
  },
  {
   "cell_type": "code",
   "execution_count": null,
   "metadata": {},
   "outputs": [],
   "source": [
    "upsetplot(edo2) "
   ]
  },
  {
   "cell_type": "markdown",
   "metadata": {},
   "source": [
    "12.7 ridgeline plot for expression distribution of GSEA result"
   ]
  },
  {
   "cell_type": "code",
   "execution_count": null,
   "metadata": {},
   "outputs": [],
   "source": [
    "ridgeplot(edo2)"
   ]
  },
  {
   "cell_type": "markdown",
   "metadata": {
    "lines_to_next_cell": 0
   },
   "source": [
    "12.8 running score and preranked list of GSEA result"
   ]
  },
  {
   "cell_type": "code",
   "execution_count": null,
   "metadata": {
    "lines_to_next_cell": 2
   },
   "outputs": [],
   "source": [
    "p1 <- gseaplot(edo2, geneSetID = 1, by = \"runningScore\", title = edo2$Description[1])\n",
    "p2 <- gseaplot(edo2, geneSetID = 1, by = \"preranked\", title = edo2$Description[1])\n",
    "p3 <- gseaplot(edo2, geneSetID = 1, title = edo2$Description[1])\n",
    "cowplot::plot_grid(p1, p2, p3, ncol=1, labels=LETTERS[1:3])"
   ]
  },
  {
   "cell_type": "code",
   "execution_count": null,
   "metadata": {},
   "outputs": [],
   "source": [
    "gseaplot2(edo2, geneSetID = 1, title = edo2$Description[1])"
   ]
  },
  {
   "cell_type": "code",
   "execution_count": null,
   "metadata": {},
   "outputs": [],
   "source": [
    "gseaplot2(edo2, geneSetID = 1:3)"
   ]
  },
  {
   "cell_type": "code",
   "execution_count": null,
   "metadata": {},
   "outputs": [],
   "source": [
    "gseaplot2(edo2, geneSetID = 1:3, pvalue_table = TRUE,\n",
    "          color = c(\"#E495A5\", \"#86B875\", \"#7DB0DD\"), ES_geom = \"dot\")"
   ]
  },
  {
   "cell_type": "code",
   "execution_count": null,
   "metadata": {},
   "outputs": [],
   "source": [
    "p1 <- gseaplot2(edo2, geneSetID = 1:3, subplots = 1)\n",
    "p2 <- gseaplot2(edo2, geneSetID = 1:3, subplots = 1:2)\n",
    "cowplot::plot_grid(p1, p2, ncol=1, labels=LETTERS[1:2])"
   ]
  },
  {
   "cell_type": "code",
   "execution_count": null,
   "metadata": {
    "lines_to_next_cell": 2
   },
   "outputs": [],
   "source": [
    "gsearank(edo2, 1, title = edo2[1, \"Description\"])"
   ]
  },
  {
   "cell_type": "code",
   "execution_count": null,
   "metadata": {},
   "outputs": [],
   "source": [
    "library(ggplot2)\n",
    "library(cowplot)"
   ]
  },
  {
   "cell_type": "code",
   "execution_count": null,
   "metadata": {
    "lines_to_next_cell": 2
   },
   "outputs": [],
   "source": [
    "pp <- lapply(1:3, function(i) {\n",
    "  anno <- edo2[i, c(\"NES\", \"pvalue\", \"p.adjust\")]\n",
    "  lab <- paste0(names(anno), \"=\",  round(anno, 3), collapse=\"\\n\")\n",
    "  \n",
    "  gsearank(edo2, i, edo2[i, 2]) + xlab(NULL) +ylab(NULL) +\n",
    "    annotate(\"text\", 0, edo2[i, \"enrichmentScore\"] * .9, label = lab, hjust=0, vjust=0)\n",
    "})\n",
    "plot_grid(plotlist=pp, ncol=1)"
   ]
  },
  {
   "cell_type": "markdown",
   "metadata": {},
   "source": [
    "12.9 pubmed trend of enriched terms"
   ]
  },
  {
   "cell_type": "code",
   "execution_count": null,
   "metadata": {},
   "outputs": [],
   "source": [
    "terms <- edo$Description[1:3]\n",
    "p <- pmcplot(terms, 2010:2017)\n",
    "p2 <- pmcplot(terms, 2010:2017, proportion=FALSE)\n",
    "plot_grid(p, p2, ncol=2)"
   ]
  },
  {
   "cell_type": "markdown",
   "metadata": {
    "lines_to_next_cell": 0
   },
   "source": [
    "12.10 goplot\n",
    "where is this ego? I don't find this. "
   ]
  },
  {
   "cell_type": "code",
   "execution_count": null,
   "metadata": {},
   "outputs": [],
   "source": [
    "goplot(ego)"
   ]
  },
  {
   "cell_type": "markdown",
   "metadata": {
    "lines_to_next_cell": 0
   },
   "source": [
    "12.11 browseKEGG\n",
    "kk not found ???"
   ]
  },
  {
   "cell_type": "code",
   "execution_count": null,
   "metadata": {},
   "outputs": [],
   "source": [
    "browseKEGG(kk, 'hsa04110')"
   ]
  },
  {
   "cell_type": "markdown",
   "metadata": {
    "lines_to_next_cell": 0
   },
   "source": [
    "12.12 pathview from pathview package\n"
   ]
  },
  {
   "cell_type": "code",
   "execution_count": null,
   "metadata": {},
   "outputs": [],
   "source": [
    "library(\"pathview\")\n",
    "library(\"pathview\")\n",
    "hsa04110 <- pathview(gene.data  = geneList,\n",
    "                     pathway.id = \"hsa04110\",\n",
    "                     species    = \"hsa\",\n",
    "                     limit      = list(gene=max(abs(geneList)), cpd=1))"
   ]
  },
  {
   "cell_type": "code",
   "execution_count": null,
   "metadata": {},
   "outputs": [],
   "source": []
  },
  {
   "cell_type": "code",
   "execution_count": null,
   "metadata": {},
   "outputs": [],
   "source": []
  },
  {
   "cell_type": "code",
   "execution_count": null,
   "metadata": {},
   "outputs": [],
   "source": []
  },
  {
   "cell_type": "code",
   "execution_count": null,
   "metadata": {
    "lines_to_next_cell": 2
   },
   "outputs": [],
   "source": []
  }
 ],
 "metadata": {
  "jupytext": {
   "cell_metadata_filter": "-all",
   "notebook_metadata_filter": "-all",
   "text_representation": {
    "extension": ".R",
    "format_name": "spin"
   }
  },
  "kernelspec": {
   "display_name": "R",
   "language": "R",
   "name": "ir"
  },
  "language_info": {
   "codemirror_mode": "r",
   "file_extension": ".r",
   "mimetype": "text/x-r-source",
   "name": "R",
   "pygments_lexer": "r",
   "version": "3.6.1"
  }
 },
 "nbformat": 4,
 "nbformat_minor": 4
}
