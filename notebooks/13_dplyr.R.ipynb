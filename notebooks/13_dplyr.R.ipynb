{
 "cells": [
  {
   "cell_type": "markdown",
   "metadata": {},
   "source": [
    "Chapter 13 dplyr verbs for clusterProfiler"
   ]
  },
  {
   "cell_type": "code",
   "execution_count": 1,
   "metadata": {},
   "outputs": [
    {
     "name": "stderr",
     "output_type": "stream",
     "text": [
      "Warning message:\n",
      "“multiple methods tables found for ‘splitAsList’”\n",
      "Warning message:\n",
      "“replacing previous import ‘S4Vectors::splitAsList’ by ‘IRanges::splitAsList’ when loading ‘AnnotationDbi’”\n",
      "\n",
      "\n",
      "DOSE v3.14.0  For help: https://guangchuangyu.github.io/software/DOSE\n",
      "\n",
      "If you use DOSE in published research, please cite:\n",
      "Guangchuang Yu, Li-Gen Wang, Guang-Rong Yan, Qing-Yu He. DOSE: an R/Bioconductor package for Disease Ontology Semantic and Enrichment analysis. Bioinformatics 2015, 31(4):608-609\n",
      "\n",
      "\n"
     ]
    }
   ],
   "source": [
    "library(DOSE)\n",
    "data(geneList)\n",
    "de = names(geneList)[1:100]\n",
    "x = enrichDO(de)"
   ]
  },
  {
   "cell_type": "markdown",
   "metadata": {
    "lines_to_next_cell": 0
   },
   "source": [
    "\n",
    "13.1 filter\n"
   ]
  },
  {
   "cell_type": "code",
   "execution_count": 2,
   "metadata": {},
   "outputs": [
    {
     "name": "stderr",
     "output_type": "stream",
     "text": [
      "\n",
      "Attaching package: ‘clusterProfiler.dplyr’\n",
      "\n",
      "\n",
      "The following object is masked from ‘package:stats’:\n",
      "\n",
      "    filter\n",
      "\n",
      "\n"
     ]
    }
   ],
   "source": [
    "library(clusterProfiler.dplyr)"
   ]
  },
  {
   "cell_type": "code",
   "execution_count": 3,
   "metadata": {},
   "outputs": [
    {
     "data": {
      "text/plain": [
       "#\n",
       "# over-representation test\n",
       "#\n",
       "#...@organism \t Homo sapiens \n",
       "#...@ontology \t DO \n",
       "#...@keytype \t ENTREZID \n",
       "#...@gene \t chr [1:100] \"4312\" \"8318\" \"10874\" \"55143\" \"55388\" \"991\" \"6280\" \"2305\" ...\n",
       "#...pvalues adjusted by 'BH' with cutoff <0.05 \n",
       "#...28 enriched terms found\n",
       "'data.frame':\t28 obs. of  9 variables:\n",
       " $ ID         : chr  \"DOID:0060071\" \"DOID:5295\" \"DOID:8719\" \"DOID:3007\" ...\n",
       " $ Description: chr  \"pre-malignant neoplasm\" \"intestinal disease\" \"in situ carcinoma\" \"breast ductal carcinoma\" ...\n",
       " $ GeneRatio  : chr  \"5/77\" \"9/77\" \"4/77\" \"4/77\" ...\n",
       " $ BgRatio    : chr  \"22/8007\" \"157/8007\" \"18/8007\" \"29/8007\" ...\n",
       " $ pvalue     : num  1.67e-06 1.76e-05 2.18e-05 1.56e-04 2.08e-04 ...\n",
       " $ p.adjust   : num  0.00064 0.00279 0.00279 0.0136 0.0136 ...\n",
       " $ qvalue     : num  0.000461 0.002008 0.002008 0.009796 0.009796 ...\n",
       " $ geneID     : chr  \"6280/6278/10232/332/4321\" \"4312/6279/3627/10563/4283/890/366/4902/3620\" \"6280/6278/10232/332\" \"6280/6279/4751/6286\" ...\n",
       " $ Count      : int  5 9 4 4 13 6 13 5 5 6 ...\n",
       "#...Citation\n",
       "  Guangchuang Yu, Li-Gen Wang, Guang-Rong Yan, Qing-Yu He. DOSE: an\n",
       "  R/Bioconductor package for Disease Ontology Semantic and Enrichment\n",
       "  analysis. Bioinformatics 2015, 31(4):608-609 \n"
      ]
     },
     "metadata": {},
     "output_type": "display_data"
    }
   ],
   "source": [
    "filter(x, p.adjust < .05, qvalue < 0.2)"
   ]
  },
  {
   "cell_type": "markdown",
   "metadata": {
    "lines_to_next_cell": 0
   },
   "source": [
    "13.2 arrange\n",
    "\n"
   ]
  },
  {
   "cell_type": "code",
   "execution_count": 4,
   "metadata": {},
   "outputs": [
    {
     "data": {
      "text/plain": [
       "#\n",
       "# over-representation test\n",
       "#\n",
       "#...@organism \t Homo sapiens \n",
       "#...@ontology \t DO \n",
       "#...@keytype \t ENTREZID \n",
       "#...@gene \t chr [1:100] \"4312\" \"8318\" \"10874\" \"55143\" \"55388\" \"991\" \"6280\" \"2305\" ...\n",
       "#...pvalues adjusted by 'BH' with cutoff <0.05 \n",
       "#...28 enriched terms found\n",
       "'data.frame':\t28 obs. of  10 variables:\n",
       " $ ID         : chr  \"DOID:3908\" \"DOID:120\" \"DOID:2394\" \"DOID:3459\" ...\n",
       " $ Description: chr  \"non-small cell lung carcinoma\" \"female reproductive organ cancer\" \"ovarian cancer\" \"breast carcinoma\" ...\n",
       " $ GeneRatio  : chr  \"13/77\" \"13/77\" \"10/77\" \"10/77\" ...\n",
       " $ BgRatio    : chr  \"431/8007\" \"455/8007\" \"312/8007\" \"383/8007\" ...\n",
       " $ pvalue     : num  2.08e-04 3.52e-04 7.54e-04 3.48e-03 1.76e-05 ...\n",
       " $ p.adjust   : num  0.0136 0.01928 0.02625 0.04756 0.00279 ...\n",
       " $ qvalue     : num  0.0098 0.01389 0.0189 0.03424 0.00201 ...\n",
       " $ geneID     : chr  \"6280/2305/9133/6279/7153/6278/6241/11065/10232/332/6286/3002/9212\" \"4312/6279/7153/3627/820/983/10232/6362/332/6286/9212/4321/6790\" \"4312/820/983/10232/6362/332/6286/9212/4321/6790\" \"4312/6280/6279/7153/4751/890/4085/332/6286/6790\" ...\n",
       " $ Count      : int  13 13 10 10 9 7 7 6 6 6 ...\n",
       " $ geneRatio  : num  0.169 0.169 0.13 0.13 0.117 ...\n",
       "#...Citation\n",
       "  Guangchuang Yu, Li-Gen Wang, Guang-Rong Yan, Qing-Yu He. DOSE: an\n",
       "  R/Bioconductor package for Disease Ontology Semantic and Enrichment\n",
       "  analysis. Bioinformatics 2015, 31(4):608-609 \n"
      ]
     },
     "metadata": {},
     "output_type": "display_data"
    }
   ],
   "source": [
    "mutate(x, geneRatio = parse_ratio(GeneRatio)) %>%\n",
    "  arrange(desc(geneRatio))"
   ]
  },
  {
   "cell_type": "markdown",
   "metadata": {
    "lines_to_next_cell": 0
   },
   "source": [
    "13.3 select\n"
   ]
  },
  {
   "cell_type": "code",
   "execution_count": 5,
   "metadata": {},
   "outputs": [
    {
     "data": {
      "text/html": [
       "<table>\n",
       "<caption>A data.frame: 6 × 8</caption>\n",
       "<thead>\n",
       "\t<tr><th></th><th scope=col>ID</th><th scope=col>Description</th><th scope=col>GeneRatio</th><th scope=col>BgRatio</th><th scope=col>pvalue</th><th scope=col>p.adjust</th><th scope=col>qvalue</th><th scope=col>Count</th></tr>\n",
       "\t<tr><th></th><th scope=col>&lt;chr&gt;</th><th scope=col>&lt;chr&gt;</th><th scope=col>&lt;chr&gt;</th><th scope=col>&lt;chr&gt;</th><th scope=col>&lt;dbl&gt;</th><th scope=col>&lt;dbl&gt;</th><th scope=col>&lt;dbl&gt;</th><th scope=col>&lt;int&gt;</th></tr>\n",
       "</thead>\n",
       "<tbody>\n",
       "\t<tr><th scope=row>DOID:0060071</th><td>DOID:0060071</td><td>pre-malignant neoplasm       </td><td>5/77 </td><td>22/8007 </td><td>1.671524e-06</td><td>0.0006401937</td><td>0.0004609887</td><td> 5</td></tr>\n",
       "\t<tr><th scope=row>DOID:5295</th><td>DOID:5295   </td><td>intestinal disease           </td><td>9/77 </td><td>157/8007</td><td>1.759049e-05</td><td>0.0027885022</td><td>0.0020079362</td><td> 9</td></tr>\n",
       "\t<tr><th scope=row>DOID:8719</th><td>DOID:8719   </td><td>in situ carcinoma            </td><td>4/77 </td><td>18/8007 </td><td>2.184205e-05</td><td>0.0027885022</td><td>0.0020079362</td><td> 4</td></tr>\n",
       "\t<tr><th scope=row>DOID:3007</th><td>DOID:3007   </td><td>breast ductal carcinoma      </td><td>4/77 </td><td>29/8007 </td><td>1.564603e-04</td><td>0.0136037018</td><td>0.0097957122</td><td> 4</td></tr>\n",
       "\t<tr><th scope=row>DOID:3908</th><td>DOID:3908   </td><td>non-small cell lung carcinoma</td><td>13/77</td><td>431/8007</td><td>2.075001e-04</td><td>0.0136037018</td><td>0.0097957122</td><td>13</td></tr>\n",
       "\t<tr><th scope=row>DOID:0050589</th><td>DOID:0050589</td><td>inflammatory bowel disease   </td><td>6/77 </td><td>90/8007 </td><td>2.131128e-04</td><td>0.0136037018</td><td>0.0097957122</td><td> 6</td></tr>\n",
       "</tbody>\n",
       "</table>\n"
      ],
      "text/latex": [
       "A data.frame: 6 × 8\n",
       "\\begin{tabular}{r|llllllll}\n",
       "  & ID & Description & GeneRatio & BgRatio & pvalue & p.adjust & qvalue & Count\\\\\n",
       "  & <chr> & <chr> & <chr> & <chr> & <dbl> & <dbl> & <dbl> & <int>\\\\\n",
       "\\hline\n",
       "\tDOID:0060071 & DOID:0060071 & pre-malignant neoplasm        & 5/77  & 22/8007  & 1.671524e-06 & 0.0006401937 & 0.0004609887 &  5\\\\\n",
       "\tDOID:5295 & DOID:5295    & intestinal disease            & 9/77  & 157/8007 & 1.759049e-05 & 0.0027885022 & 0.0020079362 &  9\\\\\n",
       "\tDOID:8719 & DOID:8719    & in situ carcinoma             & 4/77  & 18/8007  & 2.184205e-05 & 0.0027885022 & 0.0020079362 &  4\\\\\n",
       "\tDOID:3007 & DOID:3007    & breast ductal carcinoma       & 4/77  & 29/8007  & 1.564603e-04 & 0.0136037018 & 0.0097957122 &  4\\\\\n",
       "\tDOID:3908 & DOID:3908    & non-small cell lung carcinoma & 13/77 & 431/8007 & 2.075001e-04 & 0.0136037018 & 0.0097957122 & 13\\\\\n",
       "\tDOID:0050589 & DOID:0050589 & inflammatory bowel disease    & 6/77  & 90/8007  & 2.131128e-04 & 0.0136037018 & 0.0097957122 &  6\\\\\n",
       "\\end{tabular}\n"
      ],
      "text/markdown": [
       "\n",
       "A data.frame: 6 × 8\n",
       "\n",
       "| <!--/--> | ID &lt;chr&gt; | Description &lt;chr&gt; | GeneRatio &lt;chr&gt; | BgRatio &lt;chr&gt; | pvalue &lt;dbl&gt; | p.adjust &lt;dbl&gt; | qvalue &lt;dbl&gt; | Count &lt;int&gt; |\n",
       "|---|---|---|---|---|---|---|---|---|\n",
       "| DOID:0060071 | DOID:0060071 | pre-malignant neoplasm        | 5/77  | 22/8007  | 1.671524e-06 | 0.0006401937 | 0.0004609887 |  5 |\n",
       "| DOID:5295 | DOID:5295    | intestinal disease            | 9/77  | 157/8007 | 1.759049e-05 | 0.0027885022 | 0.0020079362 |  9 |\n",
       "| DOID:8719 | DOID:8719    | in situ carcinoma             | 4/77  | 18/8007  | 2.184205e-05 | 0.0027885022 | 0.0020079362 |  4 |\n",
       "| DOID:3007 | DOID:3007    | breast ductal carcinoma       | 4/77  | 29/8007  | 1.564603e-04 | 0.0136037018 | 0.0097957122 |  4 |\n",
       "| DOID:3908 | DOID:3908    | non-small cell lung carcinoma | 13/77 | 431/8007 | 2.075001e-04 | 0.0136037018 | 0.0097957122 | 13 |\n",
       "| DOID:0050589 | DOID:0050589 | inflammatory bowel disease    | 6/77  | 90/8007  | 2.131128e-04 | 0.0136037018 | 0.0097957122 |  6 |\n",
       "\n"
      ],
      "text/plain": [
       "             ID           Description                   GeneRatio BgRatio \n",
       "DOID:0060071 DOID:0060071 pre-malignant neoplasm        5/77      22/8007 \n",
       "DOID:5295    DOID:5295    intestinal disease            9/77      157/8007\n",
       "DOID:8719    DOID:8719    in situ carcinoma             4/77      18/8007 \n",
       "DOID:3007    DOID:3007    breast ductal carcinoma       4/77      29/8007 \n",
       "DOID:3908    DOID:3908    non-small cell lung carcinoma 13/77     431/8007\n",
       "DOID:0050589 DOID:0050589 inflammatory bowel disease    6/77      90/8007 \n",
       "             pvalue       p.adjust     qvalue       Count\n",
       "DOID:0060071 1.671524e-06 0.0006401937 0.0004609887  5   \n",
       "DOID:5295    1.759049e-05 0.0027885022 0.0020079362  9   \n",
       "DOID:8719    2.184205e-05 0.0027885022 0.0020079362  4   \n",
       "DOID:3007    1.564603e-04 0.0136037018 0.0097957122  4   \n",
       "DOID:3908    2.075001e-04 0.0136037018 0.0097957122 13   \n",
       "DOID:0050589 2.131128e-04 0.0136037018 0.0097957122  6   "
      ]
     },
     "metadata": {},
     "output_type": "display_data"
    }
   ],
   "source": [
    "select(x, -geneID) %>% head"
   ]
  },
  {
   "cell_type": "markdown",
   "metadata": {
    "lines_to_next_cell": 0
   },
   "source": [
    "13.4 mutate\n"
   ]
  },
  {
   "cell_type": "code",
   "execution_count": 6,
   "metadata": {},
   "outputs": [
    {
     "data": {
      "text/plain": [
       "#\n",
       "# over-representation test\n",
       "#\n",
       "#...@organism \t Homo sapiens \n",
       "#...@ontology \t DO \n",
       "#...@keytype \t ENTREZID \n",
       "#...@gene \t chr [1:100] \"4312\" \"8318\" \"10874\" \"55143\" \"55388\" \"991\" \"6280\" \"2305\" ...\n",
       "#...pvalues adjusted by 'BH' with cutoff <0.05 \n",
       "#...28 enriched terms found\n",
       "'data.frame':\t28 obs. of  10 variables:\n",
       " $ ID         : chr  \"DOID:0060071\" \"DOID:5295\" \"DOID:8719\" \"DOID:3007\" ...\n",
       " $ Description: chr  \"pre-malignant neoplasm\" \"intestinal disease\" \"in situ carcinoma\" \"breast ductal carcinoma\" ...\n",
       " $ GeneRatio  : chr  \"5/77\" \"9/77\" \"4/77\" \"4/77\" ...\n",
       " $ BgRatio    : chr  \"22/8007\" \"157/8007\" \"18/8007\" \"29/8007\" ...\n",
       " $ pvalue     : num  1.67e-06 1.76e-05 2.18e-05 1.56e-04 2.08e-04 ...\n",
       " $ p.adjust   : num  0.00064 0.00279 0.00279 0.0136 0.0136 ...\n",
       " $ qvalue     : num  0.000461 0.002008 0.002008 0.009796 0.009796 ...\n",
       " $ geneID     : chr  \"6280/6278/10232/332/4321\" \"4312/6279/3627/10563/4283/890/366/4902/3620\" \"6280/6278/10232/332\" \"6280/6279/4751/6286\" ...\n",
       " $ Count      : int  5 9 4 4 13 6 13 5 5 6 ...\n",
       " $ richFactor : num  0.2273 0.0573 0.2222 0.1379 0.0302 ...\n",
       "#...Citation\n",
       "  Guangchuang Yu, Li-Gen Wang, Guang-Rong Yan, Qing-Yu He. DOSE: an\n",
       "  R/Bioconductor package for Disease Ontology Semantic and Enrichment\n",
       "  analysis. Bioinformatics 2015, 31(4):608-609 \n"
      ]
     },
     "metadata": {},
     "output_type": "display_data"
    }
   ],
   "source": [
    "y <- mutate(x, richFactor = Count / as.numeric(sub(\"/\\\\d+\", \"\", BgRatio)))\n",
    "y"
   ]
  },
  {
   "cell_type": "code",
   "execution_count": 7,
   "metadata": {},
   "outputs": [],
   "source": [
    "library(ggplot2)\n",
    "library(forcats)\n",
    "library(enrichplot)"
   ]
  },
  {
   "cell_type": "code",
   "execution_count": 8,
   "metadata": {},
   "outputs": [
    {
     "data": {
      "image/png": "[encoded data removed]",
      "text/plain": [
       "plot without title"
      ]
     },
     "metadata": {
      "image/png": {
       "height": 420,
       "width": 420
      },
      "text/plain": {
       "height": 420,
       "width": 420
      }
     },
     "output_type": "display_data"
    }
   ],
   "source": [
    "ggplot(y, showCategory = 20, \n",
    "       aes(richFactor, fct_reorder(Description, richFactor))) + \n",
    "  geom_segment(aes(xend=0, yend = Description)) +\n",
    "  geom_point(aes(color=p.adjust, size = Count)) +\n",
    "  scale_color_viridis_c(guide=guide_colorbar(reverse=TRUE)) +\n",
    "  scale_size_continuous(range=c(2, 10)) +\n",
    "  theme_minimal() + \n",
    "  xlab(\"rich factor\") +\n",
    "  ylab(NULL) + \n",
    "  ggtitle(\"Enriched Disease Ontology\")"
   ]
  },
  {
   "cell_type": "code",
   "execution_count": 9,
   "metadata": {},
   "outputs": [
    {
     "data": {
      "text/plain": [
       "#\n",
       "# over-representation test\n",
       "#\n",
       "#...@organism \t Homo sapiens \n",
       "#...@ontology \t DO \n",
       "#...@keytype \t ENTREZID \n",
       "#...@gene \t chr [1:100] \"4312\" \"8318\" \"10874\" \"55143\" \"55388\" \"991\" \"6280\" \"2305\" ...\n",
       "#...pvalues adjusted by 'BH' with cutoff <0.05 \n",
       "#...28 enriched terms found\n",
       "'data.frame':\t28 obs. of  10 variables:\n",
       " $ ID            : chr  \"DOID:0060071\" \"DOID:5295\" \"DOID:8719\" \"DOID:3007\" ...\n",
       " $ Description   : chr  \"pre-malignant neoplasm\" \"intestinal disease\" \"in situ carcinoma\" \"breast ductal carcinoma\" ...\n",
       " $ GeneRatio     : chr  \"5/77\" \"9/77\" \"4/77\" \"4/77\" ...\n",
       " $ BgRatio       : chr  \"22/8007\" \"157/8007\" \"18/8007\" \"29/8007\" ...\n",
       " $ pvalue        : num  1.67e-06 1.76e-05 2.18e-05 1.56e-04 2.08e-04 ...\n",
       " $ p.adjust      : num  0.00064 0.00279 0.00279 0.0136 0.0136 ...\n",
       " $ qvalue        : num  0.000461 0.002008 0.002008 0.009796 0.009796 ...\n",
       " $ geneID        : chr  \"6280/6278/10232/332/4321\" \"4312/6279/3627/10563/4283/890/366/4902/3620\" \"6280/6278/10232/332\" \"6280/6279/4751/6286\" ...\n",
       " $ Count         : int  5 9 4 4 13 6 13 5 5 6 ...\n",
       " $ FoldEnrichment: num  23.63 5.96 23.11 14.34 3.14 ...\n",
       "#...Citation\n",
       "  Guangchuang Yu, Li-Gen Wang, Guang-Rong Yan, Qing-Yu He. DOSE: an\n",
       "  R/Bioconductor package for Disease Ontology Semantic and Enrichment\n",
       "  analysis. Bioinformatics 2015, 31(4):608-609 \n"
      ]
     },
     "metadata": {},
     "output_type": "display_data"
    }
   ],
   "source": [
    "mutate(x, FoldEnrichment = parse_ratio(GeneRatio) / parse_ratio(BgRatio))"
   ]
  },
  {
   "cell_type": "markdown",
   "metadata": {},
   "source": [
    "13.5 slice"
   ]
  },
  {
   "cell_type": "code",
   "execution_count": 10,
   "metadata": {},
   "outputs": [
    {
     "name": "stderr",
     "output_type": "stream",
     "text": [
      "ReactomePA v1.28.0  For help: https://guangchuangyu.github.io/ReactomePA\n",
      "\n",
      "If you use ReactomePA in published research, please cite:\n",
      "Guangchuang Yu, Qing-Yu He. ReactomePA: an R/Bioconductor package for reactome pathway analysis and visualization. Molecular BioSystems 2016, 12(2):477-479\n",
      "\n",
      "Loading required package: org.Hs.eg.db\n",
      "\n",
      "Loading required package: AnnotationDbi\n",
      "\n",
      "Loading required package: stats4\n",
      "\n",
      "Loading required package: BiocGenerics\n",
      "\n",
      "Loading required package: parallel\n",
      "\n",
      "\n",
      "Attaching package: ‘BiocGenerics’\n",
      "\n",
      "\n",
      "The following objects are masked from ‘package:parallel’:\n",
      "\n",
      "    clusterApply, clusterApplyLB, clusterCall, clusterEvalQ,\n",
      "    clusterExport, clusterMap, parApply, parCapply, parLapply,\n",
      "    parLapplyLB, parRapply, parSapply, parSapplyLB\n",
      "\n",
      "\n",
      "The following objects are masked from ‘package:stats’:\n",
      "\n",
      "    IQR, mad, sd, var, xtabs\n",
      "\n",
      "\n",
      "The following objects are masked from ‘package:base’:\n",
      "\n",
      "    anyDuplicated, append, as.data.frame, basename, cbind, colnames,\n",
      "    dirname, do.call, duplicated, eval, evalq, Filter, Find, get, grep,\n",
      "    grepl, intersect, is.unsorted, lapply, Map, mapply, match, mget,\n",
      "    order, paste, pmax, pmax.int, pmin, pmin.int, Position, rank,\n",
      "    rbind, Reduce, rownames, sapply, setdiff, sort, table, tapply,\n",
      "    union, unique, unsplit, which, which.max, which.min\n",
      "\n",
      "\n",
      "Loading required package: Biobase\n",
      "\n",
      "Welcome to Bioconductor\n",
      "\n",
      "    Vignettes contain introductory material; view with\n",
      "    'browseVignettes()'. To cite Bioconductor, see\n",
      "    'citation(\"Biobase\")', and for packages 'citation(\"pkgname\")'.\n",
      "\n",
      "\n",
      "Loading required package: IRanges\n",
      "\n",
      "Loading required package: S4Vectors\n",
      "\n",
      "\n",
      "Attaching package: ‘S4Vectors’\n",
      "\n",
      "\n",
      "The following object is masked from ‘package:clusterProfiler.dplyr’:\n",
      "\n",
      "    rename\n",
      "\n",
      "\n",
      "The following object is masked from ‘package:base’:\n",
      "\n",
      "    expand.grid\n",
      "\n",
      "\n",
      "\n",
      "Attaching package: ‘IRanges’\n",
      "\n",
      "\n",
      "The following object is masked from ‘package:S4Vectors’:\n",
      "\n",
      "    splitAsList\n",
      "\n",
      "\n",
      "The following object is masked from ‘package:clusterProfiler.dplyr’:\n",
      "\n",
      "    slice\n",
      "\n",
      "\n",
      "\n",
      "Attaching package: ‘AnnotationDbi’\n",
      "\n",
      "\n",
      "The following object is masked from ‘package:clusterProfiler.dplyr’:\n",
      "\n",
      "    select\n",
      "\n",
      "\n",
      "\n",
      "\n",
      "preparing geneSet collections...\n",
      "\n",
      "GSEA analysis...\n",
      "\n",
      "Warning message in .GSEA(geneList = geneList, exponent = exponent, minGSSize = minGSSize, :\n",
      "“We do not recommend using nPerm parameter incurrent and future releases”\n",
      "Warning message in fgsea(pathways = geneSets, stats = geneList, nperm = nPerm, minSize = minGSSize, :\n",
      "“You are trying to run fgseaSimple. It is recommended to use fgseaMultilevel. To run fgseaMultilevel, you need to remove the nperm argument in the fgsea function call.”\n",
      "leading edge analysis...\n",
      "\n",
      "done...\n",
      "\n"
     ]
    }
   ],
   "source": [
    "library(ReactomePA)\n",
    "data(geneList)\n",
    "x <- gsePathway(geneList)"
   ]
  },
  {
   "cell_type": "code",
   "execution_count": 11,
   "metadata": {},
   "outputs": [
    {
     "ename": "ERROR",
     "evalue": "Error in new_Rle(values, lengths): Rle of type 'S4' is not supported\n",
     "output_type": "error",
     "traceback": [
      "Error in new_Rle(values, lengths): Rle of type 'S4' is not supported\nTraceback:\n",
      "1. arrange(x, abs(NES)) %>% group_by(sign(NES)) %>% slice(1:5)",
      "2. withVisible(eval(quote(`_fseq`(`_lhs`)), env, env))",
      "3. eval(quote(`_fseq`(`_lhs`)), env, env)",
      "4. eval(quote(`_fseq`(`_lhs`)), env, env)",
      "5. `_fseq`(`_lhs`)",
      "6. freduce(value, `_function_list`)",
      "7. withVisible(function_list[[k]](value))",
      "8. function_list[[k]](value)",
      "9. slice(., 1:5)",
      "10. slice(., 1:5)",
      "11. slice(as(x, \"Rle\"), lower = lower, upper = upper, ...)",
      "12. as(x, \"Rle\")",
      "13. asMethod(object)",
      "14. Rle(from)",
      "15. Rle(from)",
      "16. new_Rle(values, lengths)",
      "17. stop(\"Rle of type '\", typeof(values), \"' is not supported\")"
     ]
    }
   ],
   "source": [
    "library(clusterProfiler.dplyr)\n",
    "y <- arrange(x, abs(NES)) %>% \n",
    "  group_by(sign(NES)) %>% \n",
    "  slice(1:5)"
   ]
  },
  {
   "cell_type": "code",
   "execution_count": null,
   "metadata": {},
   "outputs": [],
   "source": [
    "library(forcats)\n",
    "library(ggplot2)\n",
    "library(ggstance)\n",
    "library(enrichplot)"
   ]
  },
  {
   "cell_type": "code",
   "execution_count": null,
   "metadata": {
    "lines_to_next_cell": 2
   },
   "outputs": [],
   "source": [
    "ggplot(y, aes(NES, fct_reorder(Description, NES), fill=qvalues), showCategory=10) + \n",
    "  geom_barh(stat='identity') + \n",
    "  scale_fill_continuous(low='red', high='blue', guide=guide_colorbar(reverse=TRUE)) + \n",
    "  theme_minimal() + ylab(NULL)"
   ]
  },
  {
   "cell_type": "markdown",
   "metadata": {
    "lines_to_next_cell": 0
   },
   "source": [
    "13.6 summarise\n"
   ]
  },
  {
   "cell_type": "code",
   "execution_count": null,
   "metadata": {},
   "outputs": [],
   "source": [
    "pi=seq(0, 1, length.out=11)"
   ]
  },
  {
   "cell_type": "code",
   "execution_count": null,
   "metadata": {},
   "outputs": [],
   "source": [
    "mutate(x, pp = cut(pvalue, pi)) %>%\n",
    "  group_by(pp) %>% \n",
    "  summarise(cnt = n()) %>% \n",
    "  ggplot(aes(pp, cnt)) + geom_col() + \n",
    "  theme_minimal() +\n",
    "  xlab(\"p value intervals\") +\n",
    "  ylab(\"Frequency\") + \n",
    "  ggtitle(\"p value distribution\")"
   ]
  },
  {
   "cell_type": "code",
   "execution_count": null,
   "metadata": {},
   "outputs": [],
   "source": []
  },
  {
   "cell_type": "code",
   "execution_count": null,
   "metadata": {},
   "outputs": [],
   "source": []
  }
 ],
 "metadata": {
  "jupytext": {
   "cell_metadata_filter": "-all",
   "notebook_metadata_filter": "-all",
   "text_representation": {
    "extension": ".R",
    "format_name": "spin"
   }
  },
  "kernelspec": {
   "display_name": "R",
   "language": "R",
   "name": "ir"
  },
  "language_info": {
   "codemirror_mode": "r",
   "file_extension": ".r",
   "mimetype": "text/x-r-source",
   "name": "R",
   "pygments_lexer": "r",
   "version": "3.6.1"
  }
 },
 "nbformat": 4,
 "nbformat_minor": 4
}
