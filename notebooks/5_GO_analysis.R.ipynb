{
 "cells": [
  {
   "cell_type": "markdown",
   "metadata": {
    "lines_to_next_cell": 0
   },
   "source": [
    "Chapter 5 Gene Ontology Analysis\n",
    "5.1 Supported organisms\n",
    "\n",
    "5.2 GO classification\n"
   ]
  },
  {
   "cell_type": "code",
   "execution_count": 1,
   "metadata": {},
   "outputs": [
    {
     "name": "stderr",
     "output_type": "stream",
     "text": [
      "Warning message:\n",
      "“multiple methods tables found for ‘splitAsList’”\n",
      "Warning message:\n",
      "“replacing previous import ‘S4Vectors::splitAsList’ by ‘IRanges::splitAsList’ when loading ‘AnnotationDbi’”\n",
      "\n",
      "\n",
      "clusterProfiler v3.17.0  For help: https://guangchuangyu.github.io/software/clusterProfiler\n",
      "\n",
      "If you use clusterProfiler in published research, please cite:\n",
      "Guangchuang Yu, Li-Gen Wang, Yanyan Han, Qing-Yu He. clusterProfiler: an R package for comparing biological themes among gene clusters. OMICS: A Journal of Integrative Biology. 2012, 16(5):284-287.\n",
      "\n",
      "\n",
      "Attaching package: ‘clusterProfiler’\n",
      "\n",
      "\n",
      "The following object is masked from ‘package:stats’:\n",
      "\n",
      "    filter\n",
      "\n",
      "\n"
     ]
    }
   ],
   "source": [
    "library(clusterProfiler)\n",
    "data(geneList, package=\"DOSE\")"
   ]
  },
  {
   "cell_type": "code",
   "execution_count": 2,
   "metadata": {},
   "outputs": [
    {
     "name": "stderr",
     "output_type": "stream",
     "text": [
      "Loading required package: AnnotationDbi\n",
      "\n",
      "Loading required package: stats4\n",
      "\n",
      "Loading required package: BiocGenerics\n",
      "\n",
      "Loading required package: parallel\n",
      "\n",
      "\n",
      "Attaching package: ‘BiocGenerics’\n",
      "\n",
      "\n",
      "The following objects are masked from ‘package:parallel’:\n",
      "\n",
      "    clusterApply, clusterApplyLB, clusterCall, clusterEvalQ,\n",
      "    clusterExport, clusterMap, parApply, parCapply, parLapply,\n",
      "    parLapplyLB, parRapply, parSapply, parSapplyLB\n",
      "\n",
      "\n",
      "The following objects are masked from ‘package:stats’:\n",
      "\n",
      "    IQR, mad, sd, var, xtabs\n",
      "\n",
      "\n",
      "The following objects are masked from ‘package:base’:\n",
      "\n",
      "    anyDuplicated, append, as.data.frame, basename, cbind, colnames,\n",
      "    dirname, do.call, duplicated, eval, evalq, Filter, Find, get, grep,\n",
      "    grepl, intersect, is.unsorted, lapply, Map, mapply, match, mget,\n",
      "    order, paste, pmax, pmax.int, pmin, pmin.int, Position, rank,\n",
      "    rbind, Reduce, rownames, sapply, setdiff, sort, table, tapply,\n",
      "    union, unique, unsplit, which, which.max, which.min\n",
      "\n",
      "\n",
      "Loading required package: Biobase\n",
      "\n",
      "Welcome to Bioconductor\n",
      "\n",
      "    Vignettes contain introductory material; view with\n",
      "    'browseVignettes()'. To cite Bioconductor, see\n",
      "    'citation(\"Biobase\")', and for packages 'citation(\"pkgname\")'.\n",
      "\n",
      "\n",
      "Loading required package: IRanges\n",
      "\n",
      "Loading required package: S4Vectors\n",
      "\n",
      "\n",
      "Attaching package: ‘S4Vectors’\n",
      "\n",
      "\n",
      "The following object is masked from ‘package:clusterProfiler’:\n",
      "\n",
      "    rename\n",
      "\n",
      "\n",
      "The following object is masked from ‘package:base’:\n",
      "\n",
      "    expand.grid\n",
      "\n",
      "\n",
      "\n",
      "Attaching package: ‘IRanges’\n",
      "\n",
      "\n",
      "The following object is masked from ‘package:S4Vectors’:\n",
      "\n",
      "    splitAsList\n",
      "\n",
      "\n",
      "The following object is masked from ‘package:clusterProfiler’:\n",
      "\n",
      "    slice\n",
      "\n",
      "\n",
      "\n",
      "Attaching package: ‘AnnotationDbi’\n",
      "\n",
      "\n",
      "The following object is masked from ‘package:clusterProfiler’:\n",
      "\n",
      "    select\n",
      "\n",
      "\n",
      "\n",
      "\n"
     ]
    }
   ],
   "source": [
    "library(org.Hs.eg.db)"
   ]
  },
  {
   "cell_type": "code",
   "execution_count": 3,
   "metadata": {},
   "outputs": [
    {
     "name": "stderr",
     "output_type": "stream",
     "text": [
      "'select()' returned 1:many mapping between keys and columns\n",
      "\n"
     ]
    },
    {
     "data": {
      "text/html": [
       "<table>\n",
       "<caption>A data.frame: 6 × 3</caption>\n",
       "<thead>\n",
       "\t<tr><th scope=col>ENTREZID</th><th scope=col>ENSEMBL</th><th scope=col>SYMBOL</th></tr>\n",
       "\t<tr><th scope=col>&lt;chr&gt;</th><th scope=col>&lt;chr&gt;</th><th scope=col>&lt;chr&gt;</th></tr>\n",
       "</thead>\n",
       "<tbody>\n",
       "\t<tr><td>4312 </td><td>ENSG00000196611</td><td>MMP1 </td></tr>\n",
       "\t<tr><td>8318 </td><td>ENSG00000093009</td><td>CDC45</td></tr>\n",
       "\t<tr><td>10874</td><td>ENSG00000109255</td><td>NMU  </td></tr>\n",
       "\t<tr><td>55143</td><td>ENSG00000134690</td><td>CDCA8</td></tr>\n",
       "\t<tr><td>55388</td><td>ENSG00000065328</td><td>MCM10</td></tr>\n",
       "\t<tr><td>991  </td><td>ENSG00000117399</td><td>CDC20</td></tr>\n",
       "</tbody>\n",
       "</table>\n"
      ],
      "text/latex": [
       "A data.frame: 6 × 3\n",
       "\\begin{tabular}{r|lll}\n",
       " ENTREZID & ENSEMBL & SYMBOL\\\\\n",
       " <chr> & <chr> & <chr>\\\\\n",
       "\\hline\n",
       "\t 4312  & ENSG00000196611 & MMP1 \\\\\n",
       "\t 8318  & ENSG00000093009 & CDC45\\\\\n",
       "\t 10874 & ENSG00000109255 & NMU  \\\\\n",
       "\t 55143 & ENSG00000134690 & CDCA8\\\\\n",
       "\t 55388 & ENSG00000065328 & MCM10\\\\\n",
       "\t 991   & ENSG00000117399 & CDC20\\\\\n",
       "\\end{tabular}\n"
      ],
      "text/markdown": [
       "\n",
       "A data.frame: 6 × 3\n",
       "\n",
       "| ENTREZID &lt;chr&gt; | ENSEMBL &lt;chr&gt; | SYMBOL &lt;chr&gt; |\n",
       "|---|---|---|\n",
       "| 4312  | ENSG00000196611 | MMP1  |\n",
       "| 8318  | ENSG00000093009 | CDC45 |\n",
       "| 10874 | ENSG00000109255 | NMU   |\n",
       "| 55143 | ENSG00000134690 | CDCA8 |\n",
       "| 55388 | ENSG00000065328 | MCM10 |\n",
       "| 991   | ENSG00000117399 | CDC20 |\n",
       "\n"
      ],
      "text/plain": [
       "  ENTREZID ENSEMBL         SYMBOL\n",
       "1 4312     ENSG00000196611 MMP1  \n",
       "2 8318     ENSG00000093009 CDC45 \n",
       "3 10874    ENSG00000109255 NMU   \n",
       "4 55143    ENSG00000134690 CDCA8 \n",
       "5 55388    ENSG00000065328 MCM10 \n",
       "6 991      ENSG00000117399 CDC20 "
      ]
     },
     "metadata": {},
     "output_type": "display_data"
    }
   ],
   "source": [
    "gene <- names(geneList)[abs(geneList) > 2]\n",
    "gene.df <- bitr(gene, fromType = \"ENTREZID\",\n",
    "                toType = c(\"ENSEMBL\", \"SYMBOL\"),\n",
    "                OrgDb = org.Hs.eg.db)\n",
    "head(gene.df)"
   ]
  },
  {
   "cell_type": "code",
   "execution_count": 4,
   "metadata": {},
   "outputs": [],
   "source": [
    "ggo <- groupGO(gene     = gene,\n",
    "               OrgDb    = org.Hs.eg.db,\n",
    "               ont      = \"CC\",\n",
    "               level    = 3,\n",
    "               readable = TRUE)"
   ]
  },
  {
   "cell_type": "code",
   "execution_count": 5,
   "metadata": {},
   "outputs": [
    {
     "data": {
      "text/html": [
       "<table>\n",
       "<caption>A data.frame: 6 × 5</caption>\n",
       "<thead>\n",
       "\t<tr><th></th><th scope=col>ID</th><th scope=col>Description</th><th scope=col>Count</th><th scope=col>GeneRatio</th><th scope=col>geneID</th></tr>\n",
       "\t<tr><th></th><th scope=col>&lt;fct&gt;</th><th scope=col>&lt;fct&gt;</th><th scope=col>&lt;int&gt;</th><th scope=col>&lt;fct&gt;</th><th scope=col>&lt;chr&gt;</th></tr>\n",
       "</thead>\n",
       "<tbody>\n",
       "\t<tr><th scope=row>GO:0005886</th><td>GO:0005886</td><td>plasma membrane               </td><td>52</td><td>52/207</td><td>S100A9/MELK/S100A8/MARCO/ASPM/CXCL10/LAMP3/CEP55/UGT8/UBE2C/SLC7A5/CXCL9/FADS2/MSLN/IL1R2/KIF18A/S100P/GZMB/TRAT1/GABRP/AQP9/GPR19/SLC2A6/KIF20A/LAG3/NUDT1/CACNA1D/VSTM4/CORIN/KCNK15/CA12/KCNE4/HLA-DQA1/ADH1B/PDZK1/C7/ACKR1/COL17A1/PSD3/EMCN/SLC44A4/LRP2/NLGN4X/MAPT/ERBB4/CX3CR1/LAMP5/ABCA8/STEAP4/PTPRT/TMC5/CYBRD1</td></tr>\n",
       "\t<tr><th scope=row>GO:0005628</th><td>GO:0005628</td><td>prospore membrane             </td><td> 0</td><td>0/207 </td><td>                                                                                                                                                                                                                                                                                                                            </td></tr>\n",
       "\t<tr><th scope=row>GO:0005789</th><td>GO:0005789</td><td>endoplasmic reticulum membrane</td><td> 8</td><td>8/207 </td><td>FADS2/CDK1/CHODL/ITPR1/HLA-DQA1/CYP4F8/CYP4B1/FMO5                                                                                                                                                                                                                                                                          </td></tr>\n",
       "\t<tr><th scope=row>GO:0019867</th><td>GO:0019867</td><td>outer membrane                </td><td> 2</td><td>2/207 </td><td>MAOB/PGR                                                                                                                                                                                                                                                                                                                    </td></tr>\n",
       "\t<tr><th scope=row>GO:0031090</th><td>GO:0031090</td><td>organelle membrane            </td><td>13</td><td>13/207</td><td>MARCO/LAMP3/DUSP2/DTL/NUDT1/MAOB/ITPR1/GASK1B/HLA-DQA1/LRP2/LAMP5/STEAP4/PGR                                                                                                                                                                                                                                                </td></tr>\n",
       "\t<tr><th scope=row>GO:0034357</th><td>GO:0034357</td><td>photosynthetic membrane       </td><td> 0</td><td>0/207 </td><td>                                                                                                                                                                                                                                                                                                                            </td></tr>\n",
       "</tbody>\n",
       "</table>\n"
      ],
      "text/latex": [
       "A data.frame: 6 × 5\n",
       "\\begin{tabular}{r|lllll}\n",
       "  & ID & Description & Count & GeneRatio & geneID\\\\\n",
       "  & <fct> & <fct> & <int> & <fct> & <chr>\\\\\n",
       "\\hline\n",
       "\tGO:0005886 & GO:0005886 & plasma membrane                & 52 & 52/207 & S100A9/MELK/S100A8/MARCO/ASPM/CXCL10/LAMP3/CEP55/UGT8/UBE2C/SLC7A5/CXCL9/FADS2/MSLN/IL1R2/KIF18A/S100P/GZMB/TRAT1/GABRP/AQP9/GPR19/SLC2A6/KIF20A/LAG3/NUDT1/CACNA1D/VSTM4/CORIN/KCNK15/CA12/KCNE4/HLA-DQA1/ADH1B/PDZK1/C7/ACKR1/COL17A1/PSD3/EMCN/SLC44A4/LRP2/NLGN4X/MAPT/ERBB4/CX3CR1/LAMP5/ABCA8/STEAP4/PTPRT/TMC5/CYBRD1\\\\\n",
       "\tGO:0005628 & GO:0005628 & prospore membrane              &  0 & 0/207  &                                                                                                                                                                                                                                                                                                                             \\\\\n",
       "\tGO:0005789 & GO:0005789 & endoplasmic reticulum membrane &  8 & 8/207  & FADS2/CDK1/CHODL/ITPR1/HLA-DQA1/CYP4F8/CYP4B1/FMO5                                                                                                                                                                                                                                                                          \\\\\n",
       "\tGO:0019867 & GO:0019867 & outer membrane                 &  2 & 2/207  & MAOB/PGR                                                                                                                                                                                                                                                                                                                    \\\\\n",
       "\tGO:0031090 & GO:0031090 & organelle membrane             & 13 & 13/207 & MARCO/LAMP3/DUSP2/DTL/NUDT1/MAOB/ITPR1/GASK1B/HLA-DQA1/LRP2/LAMP5/STEAP4/PGR                                                                                                                                                                                                                                                \\\\\n",
       "\tGO:0034357 & GO:0034357 & photosynthetic membrane        &  0 & 0/207  &                                                                                                                                                                                                                                                                                                                             \\\\\n",
       "\\end{tabular}\n"
      ],
      "text/markdown": [
       "\n",
       "A data.frame: 6 × 5\n",
       "\n",
       "| <!--/--> | ID &lt;fct&gt; | Description &lt;fct&gt; | Count &lt;int&gt; | GeneRatio &lt;fct&gt; | geneID &lt;chr&gt; |\n",
       "|---|---|---|---|---|---|\n",
       "| GO:0005886 | GO:0005886 | plasma membrane                | 52 | 52/207 | S100A9/MELK/S100A8/MARCO/ASPM/CXCL10/LAMP3/CEP55/UGT8/UBE2C/SLC7A5/CXCL9/FADS2/MSLN/IL1R2/KIF18A/S100P/GZMB/TRAT1/GABRP/AQP9/GPR19/SLC2A6/KIF20A/LAG3/NUDT1/CACNA1D/VSTM4/CORIN/KCNK15/CA12/KCNE4/HLA-DQA1/ADH1B/PDZK1/C7/ACKR1/COL17A1/PSD3/EMCN/SLC44A4/LRP2/NLGN4X/MAPT/ERBB4/CX3CR1/LAMP5/ABCA8/STEAP4/PTPRT/TMC5/CYBRD1 |\n",
       "| GO:0005628 | GO:0005628 | prospore membrane              |  0 | 0/207  | <!----> |\n",
       "| GO:0005789 | GO:0005789 | endoplasmic reticulum membrane |  8 | 8/207  | FADS2/CDK1/CHODL/ITPR1/HLA-DQA1/CYP4F8/CYP4B1/FMO5                                                                                                                                                                                                                                                                           |\n",
       "| GO:0019867 | GO:0019867 | outer membrane                 |  2 | 2/207  | MAOB/PGR                                                                                                                                                                                                                                                                                                                     |\n",
       "| GO:0031090 | GO:0031090 | organelle membrane             | 13 | 13/207 | MARCO/LAMP3/DUSP2/DTL/NUDT1/MAOB/ITPR1/GASK1B/HLA-DQA1/LRP2/LAMP5/STEAP4/PGR                                                                                                                                                                                                                                                 |\n",
       "| GO:0034357 | GO:0034357 | photosynthetic membrane        |  0 | 0/207  | <!----> |\n",
       "\n"
      ],
      "text/plain": [
       "           ID         Description                    Count GeneRatio\n",
       "GO:0005886 GO:0005886 plasma membrane                52    52/207   \n",
       "GO:0005628 GO:0005628 prospore membrane               0    0/207    \n",
       "GO:0005789 GO:0005789 endoplasmic reticulum membrane  8    8/207    \n",
       "GO:0019867 GO:0019867 outer membrane                  2    2/207    \n",
       "GO:0031090 GO:0031090 organelle membrane             13    13/207   \n",
       "GO:0034357 GO:0034357 photosynthetic membrane         0    0/207    \n",
       "           geneID                                                                                                                                                                                                                                                                                                                      \n",
       "GO:0005886 S100A9/MELK/S100A8/MARCO/ASPM/CXCL10/LAMP3/CEP55/UGT8/UBE2C/SLC7A5/CXCL9/FADS2/MSLN/IL1R2/KIF18A/S100P/GZMB/TRAT1/GABRP/AQP9/GPR19/SLC2A6/KIF20A/LAG3/NUDT1/CACNA1D/VSTM4/CORIN/KCNK15/CA12/KCNE4/HLA-DQA1/ADH1B/PDZK1/C7/ACKR1/COL17A1/PSD3/EMCN/SLC44A4/LRP2/NLGN4X/MAPT/ERBB4/CX3CR1/LAMP5/ABCA8/STEAP4/PTPRT/TMC5/CYBRD1\n",
       "GO:0005628                                                                                                                                                                                                                                                                                                                             \n",
       "GO:0005789 FADS2/CDK1/CHODL/ITPR1/HLA-DQA1/CYP4F8/CYP4B1/FMO5                                                                                                                                                                                                                                                                          \n",
       "GO:0019867 MAOB/PGR                                                                                                                                                                                                                                                                                                                    \n",
       "GO:0031090 MARCO/LAMP3/DUSP2/DTL/NUDT1/MAOB/ITPR1/GASK1B/HLA-DQA1/LRP2/LAMP5/STEAP4/PGR                                                                                                                                                                                                                                                \n",
       "GO:0034357                                                                                                                                                                                                                                                                                                                             "
      ]
     },
     "metadata": {},
     "output_type": "display_data"
    }
   ],
   "source": [
    "head(ggo)"
   ]
  },
  {
   "cell_type": "markdown",
   "metadata": {},
   "source": [
    "5.3 GO over-representation test\n"
   ]
  },
  {
   "cell_type": "code",
   "execution_count": 6,
   "metadata": {
    "lines_to_next_cell": 2
   },
   "outputs": [
    {
     "data": {
      "text/html": [
       "<table>\n",
       "<caption>A data.frame: 6 × 9</caption>\n",
       "<thead>\n",
       "\t<tr><th></th><th scope=col>ID</th><th scope=col>Description</th><th scope=col>GeneRatio</th><th scope=col>BgRatio</th><th scope=col>pvalue</th><th scope=col>p.adjust</th><th scope=col>qvalue</th><th scope=col>geneID</th><th scope=col>Count</th></tr>\n",
       "\t<tr><th></th><th scope=col>&lt;chr&gt;</th><th scope=col>&lt;chr&gt;</th><th scope=col>&lt;chr&gt;</th><th scope=col>&lt;chr&gt;</th><th scope=col>&lt;dbl&gt;</th><th scope=col>&lt;dbl&gt;</th><th scope=col>&lt;dbl&gt;</th><th scope=col>&lt;chr&gt;</th><th scope=col>&lt;int&gt;</th></tr>\n",
       "</thead>\n",
       "<tbody>\n",
       "\t<tr><th scope=row>GO:0000779</th><td>GO:0000779</td><td>condensed chromosome, centromeric region</td><td>14/197</td><td>85/11434 </td><td>1.662431e-10</td><td>3.802012e-08</td><td>3.572360e-08</td><td>CENPE/NDC80/HJURP/SKA1/NEK2/CENPM/CENPN/ERCC6L/MAD2L1/CDT1/BIRC5/NCAPG/AURKB/CCNB1                                        </td><td>14</td></tr>\n",
       "\t<tr><th scope=row>GO:0000776</th><td>GO:0000776</td><td>kinetochore                             </td><td>15/197</td><td>104/11434</td><td>2.551686e-10</td><td>3.802012e-08</td><td>3.572360e-08</td><td>CENPE/NDC80/HJURP/SKA1/NEK2/CENPM/CENPN/ERCC6L/MAD2L1/KIF18A/CDT1/BIRC5/TTK/AURKB/CCNB1                                   </td><td>15</td></tr>\n",
       "\t<tr><th scope=row>GO:0000775</th><td>GO:0000775</td><td>chromosome, centromeric region          </td><td>17/197</td><td>147/11434</td><td>5.495085e-10</td><td>5.458451e-08</td><td>5.128746e-08</td><td>CDCA8/CENPE/NDC80/HJURP/SKA1/NEK2/CENPM/CENPN/ERCC6L/MAD2L1/KIF18A/CDT1/BIRC5/TTK/NCAPG/AURKB/CCNB1                       </td><td>17</td></tr>\n",
       "\t<tr><th scope=row>GO:0000793</th><td>GO:0000793</td><td>condensed chromosome                    </td><td>17/197</td><td>154/11434</td><td>1.141189e-09</td><td>8.501857e-08</td><td>7.988322e-08</td><td>CENPE/NDC80/TOP2A/NCAPH/HJURP/SKA1/NEK2/CENPM/CENPN/ERCC6L/MAD2L1/CDT1/BIRC5/NCAPG/AURKB/CHEK1/CCNB1                      </td><td>17</td></tr>\n",
       "\t<tr><th scope=row>GO:0005819</th><td>GO:0005819</td><td>spindle                                 </td><td>21/197</td><td>256/11434</td><td>2.923725e-09</td><td>1.742540e-07</td><td>1.637286e-07</td><td>CDC20/KIF23/CENPE/ASPM/DLGAP5/SKA1/TPX2/TACC3/NEK2/CDK1/MAD2L1/KIF18A/KIF11/TTK/AURKB/PRC1/KIF18B/KIF20A/AURKA/CCNB1/KIF4A</td><td>21</td></tr>\n",
       "\t<tr><th scope=row>GO:0098687</th><td>GO:0098687</td><td>chromosomal region                      </td><td>21/197</td><td>265/11434</td><td>5.435150e-09</td><td>2.699458e-07</td><td>2.536403e-07</td><td>CDCA8/CENPE/NDC80/HJURP/SKA1/NEK2/CENPM/CENPN/CDK1/ERCC6L/MAD2L1/KIF18A/CDT1/BIRC5/EZH2/TTK/NCAPG/AURKB/CHEK1/CCNB1/MCM5  </td><td>21</td></tr>\n",
       "</tbody>\n",
       "</table>\n"
      ],
      "text/latex": [
       "A data.frame: 6 × 9\n",
       "\\begin{tabular}{r|lllllllll}\n",
       "  & ID & Description & GeneRatio & BgRatio & pvalue & p.adjust & qvalue & geneID & Count\\\\\n",
       "  & <chr> & <chr> & <chr> & <chr> & <dbl> & <dbl> & <dbl> & <chr> & <int>\\\\\n",
       "\\hline\n",
       "\tGO:0000779 & GO:0000779 & condensed chromosome, centromeric region & 14/197 & 85/11434  & 1.662431e-10 & 3.802012e-08 & 3.572360e-08 & CENPE/NDC80/HJURP/SKA1/NEK2/CENPM/CENPN/ERCC6L/MAD2L1/CDT1/BIRC5/NCAPG/AURKB/CCNB1                                         & 14\\\\\n",
       "\tGO:0000776 & GO:0000776 & kinetochore                              & 15/197 & 104/11434 & 2.551686e-10 & 3.802012e-08 & 3.572360e-08 & CENPE/NDC80/HJURP/SKA1/NEK2/CENPM/CENPN/ERCC6L/MAD2L1/KIF18A/CDT1/BIRC5/TTK/AURKB/CCNB1                                    & 15\\\\\n",
       "\tGO:0000775 & GO:0000775 & chromosome, centromeric region           & 17/197 & 147/11434 & 5.495085e-10 & 5.458451e-08 & 5.128746e-08 & CDCA8/CENPE/NDC80/HJURP/SKA1/NEK2/CENPM/CENPN/ERCC6L/MAD2L1/KIF18A/CDT1/BIRC5/TTK/NCAPG/AURKB/CCNB1                        & 17\\\\\n",
       "\tGO:0000793 & GO:0000793 & condensed chromosome                     & 17/197 & 154/11434 & 1.141189e-09 & 8.501857e-08 & 7.988322e-08 & CENPE/NDC80/TOP2A/NCAPH/HJURP/SKA1/NEK2/CENPM/CENPN/ERCC6L/MAD2L1/CDT1/BIRC5/NCAPG/AURKB/CHEK1/CCNB1                       & 17\\\\\n",
       "\tGO:0005819 & GO:0005819 & spindle                                  & 21/197 & 256/11434 & 2.923725e-09 & 1.742540e-07 & 1.637286e-07 & CDC20/KIF23/CENPE/ASPM/DLGAP5/SKA1/TPX2/TACC3/NEK2/CDK1/MAD2L1/KIF18A/KIF11/TTK/AURKB/PRC1/KIF18B/KIF20A/AURKA/CCNB1/KIF4A & 21\\\\\n",
       "\tGO:0098687 & GO:0098687 & chromosomal region                       & 21/197 & 265/11434 & 5.435150e-09 & 2.699458e-07 & 2.536403e-07 & CDCA8/CENPE/NDC80/HJURP/SKA1/NEK2/CENPM/CENPN/CDK1/ERCC6L/MAD2L1/KIF18A/CDT1/BIRC5/EZH2/TTK/NCAPG/AURKB/CHEK1/CCNB1/MCM5   & 21\\\\\n",
       "\\end{tabular}\n"
      ],
      "text/markdown": [
       "\n",
       "A data.frame: 6 × 9\n",
       "\n",
       "| <!--/--> | ID &lt;chr&gt; | Description &lt;chr&gt; | GeneRatio &lt;chr&gt; | BgRatio &lt;chr&gt; | pvalue &lt;dbl&gt; | p.adjust &lt;dbl&gt; | qvalue &lt;dbl&gt; | geneID &lt;chr&gt; | Count &lt;int&gt; |\n",
       "|---|---|---|---|---|---|---|---|---|---|\n",
       "| GO:0000779 | GO:0000779 | condensed chromosome, centromeric region | 14/197 | 85/11434  | 1.662431e-10 | 3.802012e-08 | 3.572360e-08 | CENPE/NDC80/HJURP/SKA1/NEK2/CENPM/CENPN/ERCC6L/MAD2L1/CDT1/BIRC5/NCAPG/AURKB/CCNB1                                         | 14 |\n",
       "| GO:0000776 | GO:0000776 | kinetochore                              | 15/197 | 104/11434 | 2.551686e-10 | 3.802012e-08 | 3.572360e-08 | CENPE/NDC80/HJURP/SKA1/NEK2/CENPM/CENPN/ERCC6L/MAD2L1/KIF18A/CDT1/BIRC5/TTK/AURKB/CCNB1                                    | 15 |\n",
       "| GO:0000775 | GO:0000775 | chromosome, centromeric region           | 17/197 | 147/11434 | 5.495085e-10 | 5.458451e-08 | 5.128746e-08 | CDCA8/CENPE/NDC80/HJURP/SKA1/NEK2/CENPM/CENPN/ERCC6L/MAD2L1/KIF18A/CDT1/BIRC5/TTK/NCAPG/AURKB/CCNB1                        | 17 |\n",
       "| GO:0000793 | GO:0000793 | condensed chromosome                     | 17/197 | 154/11434 | 1.141189e-09 | 8.501857e-08 | 7.988322e-08 | CENPE/NDC80/TOP2A/NCAPH/HJURP/SKA1/NEK2/CENPM/CENPN/ERCC6L/MAD2L1/CDT1/BIRC5/NCAPG/AURKB/CHEK1/CCNB1                       | 17 |\n",
       "| GO:0005819 | GO:0005819 | spindle                                  | 21/197 | 256/11434 | 2.923725e-09 | 1.742540e-07 | 1.637286e-07 | CDC20/KIF23/CENPE/ASPM/DLGAP5/SKA1/TPX2/TACC3/NEK2/CDK1/MAD2L1/KIF18A/KIF11/TTK/AURKB/PRC1/KIF18B/KIF20A/AURKA/CCNB1/KIF4A | 21 |\n",
       "| GO:0098687 | GO:0098687 | chromosomal region                       | 21/197 | 265/11434 | 5.435150e-09 | 2.699458e-07 | 2.536403e-07 | CDCA8/CENPE/NDC80/HJURP/SKA1/NEK2/CENPM/CENPN/CDK1/ERCC6L/MAD2L1/KIF18A/CDT1/BIRC5/EZH2/TTK/NCAPG/AURKB/CHEK1/CCNB1/MCM5   | 21 |\n",
       "\n"
      ],
      "text/plain": [
       "           ID         Description                              GeneRatio\n",
       "GO:0000779 GO:0000779 condensed chromosome, centromeric region 14/197   \n",
       "GO:0000776 GO:0000776 kinetochore                              15/197   \n",
       "GO:0000775 GO:0000775 chromosome, centromeric region           17/197   \n",
       "GO:0000793 GO:0000793 condensed chromosome                     17/197   \n",
       "GO:0005819 GO:0005819 spindle                                  21/197   \n",
       "GO:0098687 GO:0098687 chromosomal region                       21/197   \n",
       "           BgRatio   pvalue       p.adjust     qvalue      \n",
       "GO:0000779 85/11434  1.662431e-10 3.802012e-08 3.572360e-08\n",
       "GO:0000776 104/11434 2.551686e-10 3.802012e-08 3.572360e-08\n",
       "GO:0000775 147/11434 5.495085e-10 5.458451e-08 5.128746e-08\n",
       "GO:0000793 154/11434 1.141189e-09 8.501857e-08 7.988322e-08\n",
       "GO:0005819 256/11434 2.923725e-09 1.742540e-07 1.637286e-07\n",
       "GO:0098687 265/11434 5.435150e-09 2.699458e-07 2.536403e-07\n",
       "           geneID                                                                                                                    \n",
       "GO:0000779 CENPE/NDC80/HJURP/SKA1/NEK2/CENPM/CENPN/ERCC6L/MAD2L1/CDT1/BIRC5/NCAPG/AURKB/CCNB1                                        \n",
       "GO:0000776 CENPE/NDC80/HJURP/SKA1/NEK2/CENPM/CENPN/ERCC6L/MAD2L1/KIF18A/CDT1/BIRC5/TTK/AURKB/CCNB1                                   \n",
       "GO:0000775 CDCA8/CENPE/NDC80/HJURP/SKA1/NEK2/CENPM/CENPN/ERCC6L/MAD2L1/KIF18A/CDT1/BIRC5/TTK/NCAPG/AURKB/CCNB1                       \n",
       "GO:0000793 CENPE/NDC80/TOP2A/NCAPH/HJURP/SKA1/NEK2/CENPM/CENPN/ERCC6L/MAD2L1/CDT1/BIRC5/NCAPG/AURKB/CHEK1/CCNB1                      \n",
       "GO:0005819 CDC20/KIF23/CENPE/ASPM/DLGAP5/SKA1/TPX2/TACC3/NEK2/CDK1/MAD2L1/KIF18A/KIF11/TTK/AURKB/PRC1/KIF18B/KIF20A/AURKA/CCNB1/KIF4A\n",
       "GO:0098687 CDCA8/CENPE/NDC80/HJURP/SKA1/NEK2/CENPM/CENPN/CDK1/ERCC6L/MAD2L1/KIF18A/CDT1/BIRC5/EZH2/TTK/NCAPG/AURKB/CHEK1/CCNB1/MCM5  \n",
       "           Count\n",
       "GO:0000779 14   \n",
       "GO:0000776 15   \n",
       "GO:0000775 17   \n",
       "GO:0000793 17   \n",
       "GO:0005819 21   \n",
       "GO:0098687 21   "
      ]
     },
     "metadata": {},
     "output_type": "display_data"
    }
   ],
   "source": [
    "ego <- enrichGO(gene          = gene,\n",
    "                universe      = names(geneList),\n",
    "                OrgDb         = org.Hs.eg.db,\n",
    "                ont           = \"CC\",\n",
    "                pAdjustMethod = \"BH\",\n",
    "                pvalueCutoff  = 0.01,\n",
    "                qvalueCutoff  = 0.05,\n",
    "                readable      = TRUE)\n",
    "head(ego)"
   ]
  },
  {
   "cell_type": "code",
   "execution_count": 7,
   "metadata": {},
   "outputs": [],
   "source": [
    "ego2 <- enrichGO(gene         = gene.df$ENSEMBL,\n",
    "                 OrgDb         = org.Hs.eg.db,\n",
    "                 keyType       = 'ENSEMBL',\n",
    "                 ont           = \"CC\",\n",
    "                 pAdjustMethod = \"BH\",\n",
    "                 pvalueCutoff  = 0.01,\n",
    "                 qvalueCutoff  = 0.05)"
   ]
  },
  {
   "cell_type": "code",
   "execution_count": 8,
   "metadata": {
    "lines_to_next_cell": 0
   },
   "outputs": [
    {
     "data": {
      "text/html": [
       "<table>\n",
       "<caption>A data.frame: 6 × 9</caption>\n",
       "<thead>\n",
       "\t<tr><th></th><th scope=col>ID</th><th scope=col>Description</th><th scope=col>GeneRatio</th><th scope=col>BgRatio</th><th scope=col>pvalue</th><th scope=col>p.adjust</th><th scope=col>qvalue</th><th scope=col>geneID</th><th scope=col>Count</th></tr>\n",
       "\t<tr><th></th><th scope=col>&lt;chr&gt;</th><th scope=col>&lt;chr&gt;</th><th scope=col>&lt;chr&gt;</th><th scope=col>&lt;chr&gt;</th><th scope=col>&lt;dbl&gt;</th><th scope=col>&lt;dbl&gt;</th><th scope=col>&lt;dbl&gt;</th><th scope=col>&lt;chr&gt;</th><th scope=col>&lt;int&gt;</th></tr>\n",
       "</thead>\n",
       "<tbody>\n",
       "\t<tr><th scope=row>GO:0042613</th><td>GO:0042613</td><td>MHC class II protein complex              </td><td>14/228</td><td>95/20630 </td><td>2.518558e-12</td><td>3.312305e-10</td><td>2.608882e-10</td><td>HLA-DQA1/HLA-DQA1/HLA-DQA1/HLA-DQA1/HLA-DQA1/HLA-DQA1/HLA-DQA1/HLA-DQA1/HLA-DQA1/HLA-DQA1/HLA-DQA1/HLA-DQA1/HLA-DQA1/HLA-DQA1</td><td>14</td></tr>\n",
       "\t<tr><th scope=row>GO:0030669</th><td>GO:0030669</td><td>clathrin-coated endocytic vesicle membrane</td><td>14/228</td><td>96/20630 </td><td>2.919990e-12</td><td>3.312305e-10</td><td>2.608882e-10</td><td>HLA-DQA1/HLA-DQA1/HLA-DQA1/HLA-DQA1/HLA-DQA1/HLA-DQA1/HLA-DQA1/HLA-DQA1/HLA-DQA1/HLA-DQA1/HLA-DQA1/HLA-DQA1/HLA-DQA1/HLA-DQA1</td><td>14</td></tr>\n",
       "\t<tr><th scope=row>GO:0000779</th><td>GO:0000779</td><td>condensed chromosome, centromeric region  </td><td>15/228</td><td>119/20630</td><td>4.231645e-12</td><td>3.312305e-10</td><td>2.608882e-10</td><td>CENPE/NDC80/HJURP/SKA1/SKA1/NEK2/CENPM/CENPN/ERCC6L/MAD2L1/CDT1/BIRC5/NCAPG/AURKB/CCNB1                                      </td><td>15</td></tr>\n",
       "\t<tr><th scope=row>GO:0000776</th><td>GO:0000776</td><td>kinetochore                               </td><td>16/228</td><td>142/20630</td><td>4.632594e-12</td><td>3.312305e-10</td><td>2.608882e-10</td><td>CENPE/NDC80/HJURP/SKA1/SKA1/NEK2/CENPM/CENPN/ERCC6L/MAD2L1/KIF18A/CDT1/BIRC5/TTK/AURKB/CCNB1                                 </td><td>16</td></tr>\n",
       "\t<tr><th scope=row>GO:0000775</th><td>GO:0000775</td><td>chromosome, centromeric region            </td><td>18/228</td><td>202/20630</td><td>1.150023e-11</td><td>6.578130e-10</td><td>5.181155e-10</td><td>CDCA8/CENPE/NDC80/HJURP/SKA1/SKA1/NEK2/CENPM/CENPN/ERCC6L/MAD2L1/KIF18A/CDT1/BIRC5/TTK/NCAPG/AURKB/CCNB1                     </td><td>18</td></tr>\n",
       "\t<tr><th scope=row>GO:0000793</th><td>GO:0000793</td><td>condensed chromosome                      </td><td>18/228</td><td>209/20630</td><td>2.037631e-11</td><td>9.712706e-10</td><td>7.650051e-10</td><td>CENPE/NDC80/TOP2A/NCAPH/HJURP/SKA1/SKA1/NEK2/CENPM/CENPN/ERCC6L/MAD2L1/CDT1/BIRC5/NCAPG/AURKB/CHEK1/CCNB1                    </td><td>18</td></tr>\n",
       "</tbody>\n",
       "</table>\n"
      ],
      "text/latex": [
       "A data.frame: 6 × 9\n",
       "\\begin{tabular}{r|lllllllll}\n",
       "  & ID & Description & GeneRatio & BgRatio & pvalue & p.adjust & qvalue & geneID & Count\\\\\n",
       "  & <chr> & <chr> & <chr> & <chr> & <dbl> & <dbl> & <dbl> & <chr> & <int>\\\\\n",
       "\\hline\n",
       "\tGO:0042613 & GO:0042613 & MHC class II protein complex               & 14/228 & 95/20630  & 2.518558e-12 & 3.312305e-10 & 2.608882e-10 & HLA-DQA1/HLA-DQA1/HLA-DQA1/HLA-DQA1/HLA-DQA1/HLA-DQA1/HLA-DQA1/HLA-DQA1/HLA-DQA1/HLA-DQA1/HLA-DQA1/HLA-DQA1/HLA-DQA1/HLA-DQA1 & 14\\\\\n",
       "\tGO:0030669 & GO:0030669 & clathrin-coated endocytic vesicle membrane & 14/228 & 96/20630  & 2.919990e-12 & 3.312305e-10 & 2.608882e-10 & HLA-DQA1/HLA-DQA1/HLA-DQA1/HLA-DQA1/HLA-DQA1/HLA-DQA1/HLA-DQA1/HLA-DQA1/HLA-DQA1/HLA-DQA1/HLA-DQA1/HLA-DQA1/HLA-DQA1/HLA-DQA1 & 14\\\\\n",
       "\tGO:0000779 & GO:0000779 & condensed chromosome, centromeric region   & 15/228 & 119/20630 & 4.231645e-12 & 3.312305e-10 & 2.608882e-10 & CENPE/NDC80/HJURP/SKA1/SKA1/NEK2/CENPM/CENPN/ERCC6L/MAD2L1/CDT1/BIRC5/NCAPG/AURKB/CCNB1                                       & 15\\\\\n",
       "\tGO:0000776 & GO:0000776 & kinetochore                                & 16/228 & 142/20630 & 4.632594e-12 & 3.312305e-10 & 2.608882e-10 & CENPE/NDC80/HJURP/SKA1/SKA1/NEK2/CENPM/CENPN/ERCC6L/MAD2L1/KIF18A/CDT1/BIRC5/TTK/AURKB/CCNB1                                  & 16\\\\\n",
       "\tGO:0000775 & GO:0000775 & chromosome, centromeric region             & 18/228 & 202/20630 & 1.150023e-11 & 6.578130e-10 & 5.181155e-10 & CDCA8/CENPE/NDC80/HJURP/SKA1/SKA1/NEK2/CENPM/CENPN/ERCC6L/MAD2L1/KIF18A/CDT1/BIRC5/TTK/NCAPG/AURKB/CCNB1                      & 18\\\\\n",
       "\tGO:0000793 & GO:0000793 & condensed chromosome                       & 18/228 & 209/20630 & 2.037631e-11 & 9.712706e-10 & 7.650051e-10 & CENPE/NDC80/TOP2A/NCAPH/HJURP/SKA1/SKA1/NEK2/CENPM/CENPN/ERCC6L/MAD2L1/CDT1/BIRC5/NCAPG/AURKB/CHEK1/CCNB1                     & 18\\\\\n",
       "\\end{tabular}\n"
      ],
      "text/markdown": [
       "\n",
       "A data.frame: 6 × 9\n",
       "\n",
       "| <!--/--> | ID &lt;chr&gt; | Description &lt;chr&gt; | GeneRatio &lt;chr&gt; | BgRatio &lt;chr&gt; | pvalue &lt;dbl&gt; | p.adjust &lt;dbl&gt; | qvalue &lt;dbl&gt; | geneID &lt;chr&gt; | Count &lt;int&gt; |\n",
       "|---|---|---|---|---|---|---|---|---|---|\n",
       "| GO:0042613 | GO:0042613 | MHC class II protein complex               | 14/228 | 95/20630  | 2.518558e-12 | 3.312305e-10 | 2.608882e-10 | HLA-DQA1/HLA-DQA1/HLA-DQA1/HLA-DQA1/HLA-DQA1/HLA-DQA1/HLA-DQA1/HLA-DQA1/HLA-DQA1/HLA-DQA1/HLA-DQA1/HLA-DQA1/HLA-DQA1/HLA-DQA1 | 14 |\n",
       "| GO:0030669 | GO:0030669 | clathrin-coated endocytic vesicle membrane | 14/228 | 96/20630  | 2.919990e-12 | 3.312305e-10 | 2.608882e-10 | HLA-DQA1/HLA-DQA1/HLA-DQA1/HLA-DQA1/HLA-DQA1/HLA-DQA1/HLA-DQA1/HLA-DQA1/HLA-DQA1/HLA-DQA1/HLA-DQA1/HLA-DQA1/HLA-DQA1/HLA-DQA1 | 14 |\n",
       "| GO:0000779 | GO:0000779 | condensed chromosome, centromeric region   | 15/228 | 119/20630 | 4.231645e-12 | 3.312305e-10 | 2.608882e-10 | CENPE/NDC80/HJURP/SKA1/SKA1/NEK2/CENPM/CENPN/ERCC6L/MAD2L1/CDT1/BIRC5/NCAPG/AURKB/CCNB1                                       | 15 |\n",
       "| GO:0000776 | GO:0000776 | kinetochore                                | 16/228 | 142/20630 | 4.632594e-12 | 3.312305e-10 | 2.608882e-10 | CENPE/NDC80/HJURP/SKA1/SKA1/NEK2/CENPM/CENPN/ERCC6L/MAD2L1/KIF18A/CDT1/BIRC5/TTK/AURKB/CCNB1                                  | 16 |\n",
       "| GO:0000775 | GO:0000775 | chromosome, centromeric region             | 18/228 | 202/20630 | 1.150023e-11 | 6.578130e-10 | 5.181155e-10 | CDCA8/CENPE/NDC80/HJURP/SKA1/SKA1/NEK2/CENPM/CENPN/ERCC6L/MAD2L1/KIF18A/CDT1/BIRC5/TTK/NCAPG/AURKB/CCNB1                      | 18 |\n",
       "| GO:0000793 | GO:0000793 | condensed chromosome                       | 18/228 | 209/20630 | 2.037631e-11 | 9.712706e-10 | 7.650051e-10 | CENPE/NDC80/TOP2A/NCAPH/HJURP/SKA1/SKA1/NEK2/CENPM/CENPN/ERCC6L/MAD2L1/CDT1/BIRC5/NCAPG/AURKB/CHEK1/CCNB1                     | 18 |\n",
       "\n"
      ],
      "text/plain": [
       "           ID         Description                                GeneRatio\n",
       "GO:0042613 GO:0042613 MHC class II protein complex               14/228   \n",
       "GO:0030669 GO:0030669 clathrin-coated endocytic vesicle membrane 14/228   \n",
       "GO:0000779 GO:0000779 condensed chromosome, centromeric region   15/228   \n",
       "GO:0000776 GO:0000776 kinetochore                                16/228   \n",
       "GO:0000775 GO:0000775 chromosome, centromeric region             18/228   \n",
       "GO:0000793 GO:0000793 condensed chromosome                       18/228   \n",
       "           BgRatio   pvalue       p.adjust     qvalue      \n",
       "GO:0042613 95/20630  2.518558e-12 3.312305e-10 2.608882e-10\n",
       "GO:0030669 96/20630  2.919990e-12 3.312305e-10 2.608882e-10\n",
       "GO:0000779 119/20630 4.231645e-12 3.312305e-10 2.608882e-10\n",
       "GO:0000776 142/20630 4.632594e-12 3.312305e-10 2.608882e-10\n",
       "GO:0000775 202/20630 1.150023e-11 6.578130e-10 5.181155e-10\n",
       "GO:0000793 209/20630 2.037631e-11 9.712706e-10 7.650051e-10\n",
       "           geneID                                                                                                                       \n",
       "GO:0042613 HLA-DQA1/HLA-DQA1/HLA-DQA1/HLA-DQA1/HLA-DQA1/HLA-DQA1/HLA-DQA1/HLA-DQA1/HLA-DQA1/HLA-DQA1/HLA-DQA1/HLA-DQA1/HLA-DQA1/HLA-DQA1\n",
       "GO:0030669 HLA-DQA1/HLA-DQA1/HLA-DQA1/HLA-DQA1/HLA-DQA1/HLA-DQA1/HLA-DQA1/HLA-DQA1/HLA-DQA1/HLA-DQA1/HLA-DQA1/HLA-DQA1/HLA-DQA1/HLA-DQA1\n",
       "GO:0000779 CENPE/NDC80/HJURP/SKA1/SKA1/NEK2/CENPM/CENPN/ERCC6L/MAD2L1/CDT1/BIRC5/NCAPG/AURKB/CCNB1                                      \n",
       "GO:0000776 CENPE/NDC80/HJURP/SKA1/SKA1/NEK2/CENPM/CENPN/ERCC6L/MAD2L1/KIF18A/CDT1/BIRC5/TTK/AURKB/CCNB1                                 \n",
       "GO:0000775 CDCA8/CENPE/NDC80/HJURP/SKA1/SKA1/NEK2/CENPM/CENPN/ERCC6L/MAD2L1/KIF18A/CDT1/BIRC5/TTK/NCAPG/AURKB/CCNB1                     \n",
       "GO:0000793 CENPE/NDC80/TOP2A/NCAPH/HJURP/SKA1/SKA1/NEK2/CENPM/CENPN/ERCC6L/MAD2L1/CDT1/BIRC5/NCAPG/AURKB/CHEK1/CCNB1                    \n",
       "           Count\n",
       "GO:0042613 14   \n",
       "GO:0030669 14   \n",
       "GO:0000779 15   \n",
       "GO:0000776 16   \n",
       "GO:0000775 18   \n",
       "GO:0000793 18   "
      ]
     },
     "metadata": {},
     "output_type": "display_data"
    }
   ],
   "source": [
    "ego2 <- setReadable(ego2, OrgDb = org.Hs.eg.db)\n",
    "head(ego2)"
   ]
  },
  {
   "cell_type": "markdown",
   "metadata": {},
   "source": [
    "5.3.1 drop specific GO terms or level\n",
    "5.3.2 test GO at sepcific level\n",
    "5.3.3 reduce redundancy of enriched GO terms\n",
    "5.4 GO Gene Set Enrichment Analysis"
   ]
  },
  {
   "cell_type": "code",
   "execution_count": 9,
   "metadata": {},
   "outputs": [
    {
     "name": "stderr",
     "output_type": "stream",
     "text": [
      "Warning message in .GSEA(geneList = geneList, exponent = exponent, minGSSize = minGSSize, :\n",
      "“We do not recommend using nPerm parameter incurrent and future releases”\n",
      "Warning message in fgsea(pathways = geneSets, stats = geneList, nperm = nPerm, minSize = minGSSize, :\n",
      "“You are trying to run fgseaSimple. It is recommended to use fgseaMultilevel. To run fgseaMultilevel, you need to remove the nperm argument in the fgsea function call.”\n"
     ]
    }
   ],
   "source": [
    "ego3 <- gseGO(geneList     = geneList,\n",
    "              OrgDb        = org.Hs.eg.db,\n",
    "              ont          = \"CC\",\n",
    "              nPerm        = 1000,\n",
    "              minGSSize    = 100,\n",
    "              maxGSSize    = 500,\n",
    "              pvalueCutoff = 0.05,\n",
    "              verbose      = FALSE)"
   ]
  },
  {
   "cell_type": "markdown",
   "metadata": {},
   "source": [
    "5.5 GO Semantic Similarity Analysis"
   ]
  },
  {
   "cell_type": "markdown",
   "metadata": {},
   "source": [
    "5.5.1 GO analysis for non-model organisms"
   ]
  },
  {
   "cell_type": "code",
   "execution_count": null,
   "metadata": {
    "lines_to_next_cell": 2
   },
   "outputs": [],
   "source": []
  }
 ],
 "metadata": {
  "jupytext": {
   "cell_metadata_filter": "-all",
   "notebook_metadata_filter": "-all",
   "text_representation": {
    "extension": ".R",
    "format_name": "spin"
   }
  },
  "kernelspec": {
   "display_name": "R",
   "language": "R",
   "name": "ir"
  },
  "language_info": {
   "codemirror_mode": "r",
   "file_extension": ".r",
   "mimetype": "text/x-r-source",
   "name": "R",
   "pygments_lexer": "r",
   "version": "3.6.1"
  }
 },
 "nbformat": 4,
 "nbformat_minor": 4
}
