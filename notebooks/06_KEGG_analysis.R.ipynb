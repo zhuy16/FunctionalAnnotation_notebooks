{
 "cells": [
  {
   "cell_type": "markdown",
   "metadata": {
    "lines_to_next_cell": 0
   },
   "source": [
    "# Chapter 6 KEGG analysis\n"
   ]
  },
  {
   "cell_type": "code",
   "execution_count": 1,
   "metadata": {
    "lines_to_next_cell": 2
   },
   "outputs": [
    {
     "name": "stderr",
     "output_type": "stream",
     "text": [
      "\n",
      "clusterProfiler v3.17.0  For help: https://guangchuangyu.github.io/software/clusterProfiler\n",
      "\n",
      "If you use clusterProfiler in published research, please cite:\n",
      "Guangchuang Yu, Li-Gen Wang, Yanyan Han, Qing-Yu He. clusterProfiler: an R package for comparing biological themes among gene clusters. OMICS: A Journal of Integrative Biology. 2012, 16(5):284-287.\n",
      "\n",
      "Attaching package: ‘clusterProfiler’\n",
      "\n",
      "The following object is masked from ‘package:stats’:\n",
      "\n",
      "    filter\n",
      "\n"
     ]
    },
    {
     "data": {
      "text/html": [
       "<table>\n",
       "<caption>A data.frame: 1 × 3</caption>\n",
       "<thead>\n",
       "\t<tr><th></th><th scope=col>kegg_code</th><th scope=col>scientific_name</th><th scope=col>common_name</th></tr>\n",
       "\t<tr><th></th><th scope=col>&lt;chr&gt;</th><th scope=col>&lt;chr&gt;</th><th scope=col>&lt;chr&gt;</th></tr>\n",
       "</thead>\n",
       "<tbody>\n",
       "\t<tr><th scope=row>366</th><td>ece</td><td>Escherichia coli O157:H7 EDL933 (EHEC)</td><td>NA</td></tr>\n",
       "</tbody>\n",
       "</table>\n"
      ],
      "text/latex": [
       "A data.frame: 1 × 3\n",
       "\\begin{tabular}{r|lll}\n",
       "  & kegg\\_code & scientific\\_name & common\\_name\\\\\n",
       "  & <chr> & <chr> & <chr>\\\\\n",
       "\\hline\n",
       "\t366 & ece & Escherichia coli O157:H7 EDL933 (EHEC) & NA\\\\\n",
       "\\end{tabular}\n"
      ],
      "text/markdown": [
       "\n",
       "A data.frame: 1 × 3\n",
       "\n",
       "| <!--/--> | kegg_code &lt;chr&gt; | scientific_name &lt;chr&gt; | common_name &lt;chr&gt; |\n",
       "|---|---|---|---|\n",
       "| 366 | ece | Escherichia coli O157:H7 EDL933 (EHEC) | NA |\n",
       "\n"
      ],
      "text/plain": [
       "    kegg_code scientific_name                        common_name\n",
       "366 ece       Escherichia coli O157:H7 EDL933 (EHEC) NA         "
      ]
     },
     "metadata": {},
     "output_type": "display_data"
    }
   ],
   "source": [
    "library(clusterProfiler)\n",
    "search_kegg_organism('ece', by='kegg_code')"
   ]
  },
  {
   "cell_type": "code",
   "execution_count": 2,
   "metadata": {},
   "outputs": [
    {
     "data": {
      "text/html": [
       "<ol class=list-inline>\n",
       "\t<li>65</li>\n",
       "\t<li>3</li>\n",
       "</ol>\n"
      ],
      "text/latex": [
       "\\begin{enumerate*}\n",
       "\\item 65\n",
       "\\item 3\n",
       "\\end{enumerate*}\n"
      ],
      "text/markdown": [
       "1. 65\n",
       "2. 3\n",
       "\n",
       "\n"
      ],
      "text/plain": [
       "[1] 65  3"
      ]
     },
     "metadata": {},
     "output_type": "display_data"
    },
    {
     "data": {
      "text/html": [
       "<table>\n",
       "<caption>A data.frame: 6 × 3</caption>\n",
       "<thead>\n",
       "\t<tr><th></th><th scope=col>kegg_code</th><th scope=col>scientific_name</th><th scope=col>common_name</th></tr>\n",
       "\t<tr><th></th><th scope=col>&lt;chr&gt;</th><th scope=col>&lt;chr&gt;</th><th scope=col>&lt;chr&gt;</th></tr>\n",
       "</thead>\n",
       "<tbody>\n",
       "\t<tr><th scope=row>361</th><td>eco </td><td>Escherichia coli K-12 MG1655          </td><td>NA</td></tr>\n",
       "\t<tr><th scope=row>362</th><td>ecj </td><td>Escherichia coli K-12 W3110           </td><td>NA</td></tr>\n",
       "\t<tr><th scope=row>363</th><td>ecd </td><td>Escherichia coli K-12 DH10B           </td><td>NA</td></tr>\n",
       "\t<tr><th scope=row>364</th><td>ebw </td><td>Escherichia coli BW2952               </td><td>NA</td></tr>\n",
       "\t<tr><th scope=row>365</th><td>ecok</td><td>Escherichia coli K-12 MDS42           </td><td>NA</td></tr>\n",
       "\t<tr><th scope=row>366</th><td>ece </td><td>Escherichia coli O157:H7 EDL933 (EHEC)</td><td>NA</td></tr>\n",
       "</tbody>\n",
       "</table>\n"
      ],
      "text/latex": [
       "A data.frame: 6 × 3\n",
       "\\begin{tabular}{r|lll}\n",
       "  & kegg\\_code & scientific\\_name & common\\_name\\\\\n",
       "  & <chr> & <chr> & <chr>\\\\\n",
       "\\hline\n",
       "\t361 & eco  & Escherichia coli K-12 MG1655           & NA\\\\\n",
       "\t362 & ecj  & Escherichia coli K-12 W3110            & NA\\\\\n",
       "\t363 & ecd  & Escherichia coli K-12 DH10B            & NA\\\\\n",
       "\t364 & ebw  & Escherichia coli BW2952                & NA\\\\\n",
       "\t365 & ecok & Escherichia coli K-12 MDS42            & NA\\\\\n",
       "\t366 & ece  & Escherichia coli O157:H7 EDL933 (EHEC) & NA\\\\\n",
       "\\end{tabular}\n"
      ],
      "text/markdown": [
       "\n",
       "A data.frame: 6 × 3\n",
       "\n",
       "| <!--/--> | kegg_code &lt;chr&gt; | scientific_name &lt;chr&gt; | common_name &lt;chr&gt; |\n",
       "|---|---|---|---|\n",
       "| 361 | eco  | Escherichia coli K-12 MG1655           | NA |\n",
       "| 362 | ecj  | Escherichia coli K-12 W3110            | NA |\n",
       "| 363 | ecd  | Escherichia coli K-12 DH10B            | NA |\n",
       "| 364 | ebw  | Escherichia coli BW2952                | NA |\n",
       "| 365 | ecok | Escherichia coli K-12 MDS42            | NA |\n",
       "| 366 | ece  | Escherichia coli O157:H7 EDL933 (EHEC) | NA |\n",
       "\n"
      ],
      "text/plain": [
       "    kegg_code scientific_name                        common_name\n",
       "361 eco       Escherichia coli K-12 MG1655           NA         \n",
       "362 ecj       Escherichia coli K-12 W3110            NA         \n",
       "363 ecd       Escherichia coli K-12 DH10B            NA         \n",
       "364 ebw       Escherichia coli BW2952                NA         \n",
       "365 ecok      Escherichia coli K-12 MDS42            NA         \n",
       "366 ece       Escherichia coli O157:H7 EDL933 (EHEC) NA         "
      ]
     },
     "metadata": {},
     "output_type": "display_data"
    }
   ],
   "source": [
    "ecoli <- search_kegg_organism('Escherichia coli', by='scientific_name')\n",
    "dim(ecoli)\n",
    "head(ecoli)"
   ]
  },
  {
   "cell_type": "markdown",
   "metadata": {},
   "source": [
    "# 6.1 KEGG over-representation test"
   ]
  },
  {
   "cell_type": "code",
   "execution_count": 3,
   "metadata": {},
   "outputs": [],
   "source": [
    "data(geneList, package=\"DOSE\")\n",
    "gene <- names(geneList)[abs(geneList) > 2]"
   ]
  },
  {
   "cell_type": "code",
   "execution_count": 4,
   "metadata": {},
   "outputs": [
    {
     "name": "stderr",
     "output_type": "stream",
     "text": [
      "Reading KEGG annotation online:\n",
      "\n",
      "Reading KEGG annotation online:\n",
      "\n"
     ]
    },
    {
     "data": {
      "text/html": [
       "<table>\n",
       "<caption>A data.frame: 6 × 9</caption>\n",
       "<thead>\n",
       "\t<tr><th></th><th scope=col>ID</th><th scope=col>Description</th><th scope=col>GeneRatio</th><th scope=col>BgRatio</th><th scope=col>pvalue</th><th scope=col>p.adjust</th><th scope=col>qvalue</th><th scope=col>geneID</th><th scope=col>Count</th></tr>\n",
       "\t<tr><th></th><th scope=col>&lt;chr&gt;</th><th scope=col>&lt;chr&gt;</th><th scope=col>&lt;chr&gt;</th><th scope=col>&lt;chr&gt;</th><th scope=col>&lt;dbl&gt;</th><th scope=col>&lt;dbl&gt;</th><th scope=col>&lt;dbl&gt;</th><th scope=col>&lt;chr&gt;</th><th scope=col>&lt;int&gt;</th></tr>\n",
       "</thead>\n",
       "<tbody>\n",
       "\t<tr><th scope=row>hsa04110</th><td>hsa04110</td><td>Cell cycle                                                   </td><td>11/93</td><td>124/8040</td><td>1.573189e-07</td><td>3.162109e-05</td><td>3.096698e-05</td><td>8318/991/9133/890/983/4085/7272/1111/891/4174/9232</td><td>11</td></tr>\n",
       "\t<tr><th scope=row>hsa04114</th><td>hsa04114</td><td>Oocyte meiosis                                               </td><td>10/93</td><td>128/8040</td><td>1.941244e-06</td><td>1.950950e-04</td><td>1.910592e-04</td><td>991/9133/983/4085/51806/6790/891/9232/3708/5241   </td><td>10</td></tr>\n",
       "\t<tr><th scope=row>hsa04218</th><td>hsa04218</td><td>Cellular senescence                                          </td><td>10/93</td><td>160/8040</td><td>1.437121e-05</td><td>9.254977e-04</td><td>9.063528e-04</td><td>2305/4605/9133/890/983/51806/1111/891/776/3708    </td><td>10</td></tr>\n",
       "\t<tr><th scope=row>hsa04061</th><td>hsa04061</td><td>Viral protein interaction with cytokine and cytokine receptor</td><td>8/93 </td><td>100/8040</td><td>1.841786e-05</td><td>9.254977e-04</td><td>9.063528e-04</td><td>3627/10563/6373/4283/6362/6355/9547/1524          </td><td> 8</td></tr>\n",
       "\t<tr><th scope=row>hsa03320</th><td>hsa03320</td><td>PPAR signaling pathway                                       </td><td>7/93 </td><td>77/8040 </td><td>2.746065e-05</td><td>1.103918e-03</td><td>1.081082e-03</td><td>4312/9415/9370/5105/2167/3158/5346                </td><td> 7</td></tr>\n",
       "\t<tr><th scope=row>hsa04914</th><td>hsa04914</td><td>Progesterone-mediated oocyte maturation                      </td><td>7/93 </td><td>99/8040 </td><td>1.383239e-04</td><td>4.633851e-03</td><td>4.537995e-03</td><td>9133/890/983/4085/6790/891/5241                   </td><td> 7</td></tr>\n",
       "</tbody>\n",
       "</table>\n"
      ],
      "text/latex": [
       "A data.frame: 6 × 9\n",
       "\\begin{tabular}{r|lllllllll}\n",
       "  & ID & Description & GeneRatio & BgRatio & pvalue & p.adjust & qvalue & geneID & Count\\\\\n",
       "  & <chr> & <chr> & <chr> & <chr> & <dbl> & <dbl> & <dbl> & <chr> & <int>\\\\\n",
       "\\hline\n",
       "\thsa04110 & hsa04110 & Cell cycle                                                    & 11/93 & 124/8040 & 1.573189e-07 & 3.162109e-05 & 3.096698e-05 & 8318/991/9133/890/983/4085/7272/1111/891/4174/9232 & 11\\\\\n",
       "\thsa04114 & hsa04114 & Oocyte meiosis                                                & 10/93 & 128/8040 & 1.941244e-06 & 1.950950e-04 & 1.910592e-04 & 991/9133/983/4085/51806/6790/891/9232/3708/5241    & 10\\\\\n",
       "\thsa04218 & hsa04218 & Cellular senescence                                           & 10/93 & 160/8040 & 1.437121e-05 & 9.254977e-04 & 9.063528e-04 & 2305/4605/9133/890/983/51806/1111/891/776/3708     & 10\\\\\n",
       "\thsa04061 & hsa04061 & Viral protein interaction with cytokine and cytokine receptor & 8/93  & 100/8040 & 1.841786e-05 & 9.254977e-04 & 9.063528e-04 & 3627/10563/6373/4283/6362/6355/9547/1524           &  8\\\\\n",
       "\thsa03320 & hsa03320 & PPAR signaling pathway                                        & 7/93  & 77/8040  & 2.746065e-05 & 1.103918e-03 & 1.081082e-03 & 4312/9415/9370/5105/2167/3158/5346                 &  7\\\\\n",
       "\thsa04914 & hsa04914 & Progesterone-mediated oocyte maturation                       & 7/93  & 99/8040  & 1.383239e-04 & 4.633851e-03 & 4.537995e-03 & 9133/890/983/4085/6790/891/5241                    &  7\\\\\n",
       "\\end{tabular}\n"
      ],
      "text/markdown": [
       "\n",
       "A data.frame: 6 × 9\n",
       "\n",
       "| <!--/--> | ID &lt;chr&gt; | Description &lt;chr&gt; | GeneRatio &lt;chr&gt; | BgRatio &lt;chr&gt; | pvalue &lt;dbl&gt; | p.adjust &lt;dbl&gt; | qvalue &lt;dbl&gt; | geneID &lt;chr&gt; | Count &lt;int&gt; |\n",
       "|---|---|---|---|---|---|---|---|---|---|\n",
       "| hsa04110 | hsa04110 | Cell cycle                                                    | 11/93 | 124/8040 | 1.573189e-07 | 3.162109e-05 | 3.096698e-05 | 8318/991/9133/890/983/4085/7272/1111/891/4174/9232 | 11 |\n",
       "| hsa04114 | hsa04114 | Oocyte meiosis                                                | 10/93 | 128/8040 | 1.941244e-06 | 1.950950e-04 | 1.910592e-04 | 991/9133/983/4085/51806/6790/891/9232/3708/5241    | 10 |\n",
       "| hsa04218 | hsa04218 | Cellular senescence                                           | 10/93 | 160/8040 | 1.437121e-05 | 9.254977e-04 | 9.063528e-04 | 2305/4605/9133/890/983/51806/1111/891/776/3708     | 10 |\n",
       "| hsa04061 | hsa04061 | Viral protein interaction with cytokine and cytokine receptor | 8/93  | 100/8040 | 1.841786e-05 | 9.254977e-04 | 9.063528e-04 | 3627/10563/6373/4283/6362/6355/9547/1524           |  8 |\n",
       "| hsa03320 | hsa03320 | PPAR signaling pathway                                        | 7/93  | 77/8040  | 2.746065e-05 | 1.103918e-03 | 1.081082e-03 | 4312/9415/9370/5105/2167/3158/5346                 |  7 |\n",
       "| hsa04914 | hsa04914 | Progesterone-mediated oocyte maturation                       | 7/93  | 99/8040  | 1.383239e-04 | 4.633851e-03 | 4.537995e-03 | 9133/890/983/4085/6790/891/5241                    |  7 |\n",
       "\n"
      ],
      "text/plain": [
       "         ID       Description                                                  \n",
       "hsa04110 hsa04110 Cell cycle                                                   \n",
       "hsa04114 hsa04114 Oocyte meiosis                                               \n",
       "hsa04218 hsa04218 Cellular senescence                                          \n",
       "hsa04061 hsa04061 Viral protein interaction with cytokine and cytokine receptor\n",
       "hsa03320 hsa03320 PPAR signaling pathway                                       \n",
       "hsa04914 hsa04914 Progesterone-mediated oocyte maturation                      \n",
       "         GeneRatio BgRatio  pvalue       p.adjust     qvalue      \n",
       "hsa04110 11/93     124/8040 1.573189e-07 3.162109e-05 3.096698e-05\n",
       "hsa04114 10/93     128/8040 1.941244e-06 1.950950e-04 1.910592e-04\n",
       "hsa04218 10/93     160/8040 1.437121e-05 9.254977e-04 9.063528e-04\n",
       "hsa04061 8/93      100/8040 1.841786e-05 9.254977e-04 9.063528e-04\n",
       "hsa03320 7/93      77/8040  2.746065e-05 1.103918e-03 1.081082e-03\n",
       "hsa04914 7/93      99/8040  1.383239e-04 4.633851e-03 4.537995e-03\n",
       "         geneID                                             Count\n",
       "hsa04110 8318/991/9133/890/983/4085/7272/1111/891/4174/9232 11   \n",
       "hsa04114 991/9133/983/4085/51806/6790/891/9232/3708/5241    10   \n",
       "hsa04218 2305/4605/9133/890/983/51806/1111/891/776/3708     10   \n",
       "hsa04061 3627/10563/6373/4283/6362/6355/9547/1524            8   \n",
       "hsa03320 4312/9415/9370/5105/2167/3158/5346                  7   \n",
       "hsa04914 9133/890/983/4085/6790/891/5241                     7   "
      ]
     },
     "metadata": {},
     "output_type": "display_data"
    }
   ],
   "source": [
    "kk <- enrichKEGG(gene         = gene,\n",
    "                 organism     = 'hsa',\n",
    "                 pvalueCutoff = 0.05)\n",
    "head(kk)"
   ]
  },
  {
   "cell_type": "markdown",
   "metadata": {
    "lines_to_next_cell": 0
   },
   "source": [
    "# 6.2 KEGG Gene Set Enrichment Analysis\n"
   ]
  },
  {
   "cell_type": "code",
   "execution_count": 5,
   "metadata": {},
   "outputs": [
    {
     "name": "stderr",
     "output_type": "stream",
     "text": [
      "Warning message in .GSEA(geneList = geneList, exponent = exponent, minGSSize = minGSSize, :\n",
      "“We do not recommend using nPerm parameter incurrent and future releases”Warning message in fgsea(pathways = geneSets, stats = geneList, nperm = nPerm, minSize = minGSSize, :\n",
      "“You are trying to run fgseaSimple. It is recommended to use fgseaMultilevel. To run fgseaMultilevel, you need to remove the nperm argument in the fgsea function call.”"
     ]
    },
    {
     "data": {
      "text/html": [
       "<table>\n",
       "<caption>A data.frame: 6 × 11</caption>\n",
       "<thead>\n",
       "\t<tr><th></th><th scope=col>ID</th><th scope=col>Description</th><th scope=col>setSize</th><th scope=col>enrichmentScore</th><th scope=col>NES</th><th scope=col>pvalue</th><th scope=col>p.adjust</th><th scope=col>qvalues</th><th scope=col>rank</th><th scope=col>leading_edge</th><th scope=col>core_enrichment</th></tr>\n",
       "\t<tr><th></th><th scope=col>&lt;chr&gt;</th><th scope=col>&lt;chr&gt;</th><th scope=col>&lt;int&gt;</th><th scope=col>&lt;dbl&gt;</th><th scope=col>&lt;dbl&gt;</th><th scope=col>&lt;dbl&gt;</th><th scope=col>&lt;dbl&gt;</th><th scope=col>&lt;dbl&gt;</th><th scope=col>&lt;dbl&gt;</th><th scope=col>&lt;chr&gt;</th><th scope=col>&lt;chr&gt;</th></tr>\n",
       "</thead>\n",
       "<tbody>\n",
       "\t<tr><th scope=row>hsa04151</th><td>hsa04151</td><td>PI3K-Akt signaling pathway              </td><td>322</td><td>-0.3482755</td><td>-1.514662</td><td>0.001328021</td><td>0.02528736</td><td>0.01613228</td><td>1997</td><td>tags=23%, list=16%, signal=20%</td><td>627/2252/7059/92579/5563/5295/6794/1288/7010/3910/3371/3082/1291/4602/3791/1027/90993/3441/3643/1129/2322/1975/7450/596/3685/1942/2149/1280/4804/3675/595/2261/7248/2246/4803/3912/1902/1278/1277/2846/2057/1293/2247/55970/5618/7058/10161/56034/3693/4254/3480/4908/5159/1292/3908/2690/3909/8817/9223/4915/3551/2791/63923/3913/9863/3667/1287/3679/7060/3479/80310/1311/5105/2066/1101</td></tr>\n",
       "\t<tr><th scope=row>hsa04510</th><td>hsa04510</td><td>Focal adhesion                          </td><td>190</td><td>-0.4169068</td><td>-1.712804</td><td>0.001464129</td><td>0.02528736</td><td>0.01613228</td><td>2183</td><td>tags=27%, list=17%, signal=22%</td><td>5595/5228/7424/1499/4636/83660/7059/5295/1288/23396/3910/3371/3082/1291/394/3791/7450/596/3685/1280/3675/595/2318/3912/1793/1278/1277/1293/10398/55742/2317/7058/25759/56034/3693/3480/5159/857/1292/3908/3909/63923/3913/1287/3679/7060/3479/10451/80310/1311/1101                                                                                                                       </td></tr>\n",
       "\t<tr><th scope=row>hsa04218</th><td>hsa04218</td><td>Cellular senescence                     </td><td>143</td><td> 0.4153718</td><td> 1.772670</td><td>0.002923977</td><td>0.02528736</td><td>0.01613228</td><td>1155</td><td>tags=17%, list=9%, signal=16% </td><td>2305/4605/9133/890/983/51806/1111/891/993/3576/1978/898/9134/4609/1869/1029/22808/3804/1871/5499/91860/292/1019/11200/1875                                                                                                                                                                                                                                                                </td></tr>\n",
       "\t<tr><th scope=row>hsa04062</th><td>hsa04062</td><td>Chemokine signaling pathway             </td><td>165</td><td> 0.3754101</td><td> 1.628310</td><td>0.003021148</td><td>0.02528736</td><td>0.01613228</td><td>1298</td><td>tags=21%, list=10%, signal=19%</td><td>3627/10563/6373/4283/6362/6355/2921/6364/3576/6352/10663/1230/6772/6347/6351/3055/1237/1236/4067/6354/114/3702/6361/1794/1234/6367/6375/6374/2919/409/4793/2792/6360/5880                                                                                                                                                                                                                 </td></tr>\n",
       "\t<tr><th scope=row>hsa05152</th><td>hsa05152</td><td>Tuberculosis                            </td><td>162</td><td> 0.3745153</td><td> 1.611358</td><td>0.003095975</td><td>0.02528736</td><td>0.01613228</td><td>2823</td><td>tags=34%, list=23%, signal=27%</td><td>820/51806/6772/64581/3126/3112/8767/3654/1054/1051/3458/1520/11151/1594/50617/54205/91860/8877/3329/637/3689/7096/2207/3929/4360/5603/929/533/3452/6850/7124/1509/3569/7097/1378/8772/64170/3119/843/2213/8625/3920/2215/3587/5594/3593/9103/3592/6300/9114/10333/3109/3108/1432/3552                                                                                                     </td></tr>\n",
       "\t<tr><th scope=row>hsa05170</th><td>hsa05170</td><td>Human immunodeficiency virus 1 infection</td><td>189</td><td> 0.3711150</td><td> 1.646940</td><td>0.003105590</td><td>0.02528736</td><td>0.01613228</td><td>3178</td><td>tags=38%, list=25%, signal=29%</td><td>9133/9582/983/51806/1111/891/6890/200315/917/3654/919/915/5336/54205/91860/578/995/25939/637/1234/916/5603/2792/5880/6891/6921/3452/5604/7124/9978/7097/7852/8772/1174/7186/3135/164/60489/2787/356/7133/5605/27350/6199/1642/5594/4792/3134/5578/4893/8454/5582/2786/1147/3984/6300/200316/811/5606/2923/4775/162/1432/2784/836/5747/5058/3106/2770/5534/5579/4615                       </td></tr>\n",
       "</tbody>\n",
       "</table>\n"
      ],
      "text/latex": [
       "A data.frame: 6 × 11\n",
       "\\begin{tabular}{r|lllllllllll}\n",
       "  & ID & Description & setSize & enrichmentScore & NES & pvalue & p.adjust & qvalues & rank & leading\\_edge & core\\_enrichment\\\\\n",
       "  & <chr> & <chr> & <int> & <dbl> & <dbl> & <dbl> & <dbl> & <dbl> & <dbl> & <chr> & <chr>\\\\\n",
       "\\hline\n",
       "\thsa04151 & hsa04151 & PI3K-Akt signaling pathway               & 322 & -0.3482755 & -1.514662 & 0.001328021 & 0.02528736 & 0.01613228 & 1997 & tags=23\\%, list=16\\%, signal=20\\% & 627/2252/7059/92579/5563/5295/6794/1288/7010/3910/3371/3082/1291/4602/3791/1027/90993/3441/3643/1129/2322/1975/7450/596/3685/1942/2149/1280/4804/3675/595/2261/7248/2246/4803/3912/1902/1278/1277/2846/2057/1293/2247/55970/5618/7058/10161/56034/3693/4254/3480/4908/5159/1292/3908/2690/3909/8817/9223/4915/3551/2791/63923/3913/9863/3667/1287/3679/7060/3479/80310/1311/5105/2066/1101\\\\\n",
       "\thsa04510 & hsa04510 & Focal adhesion                           & 190 & -0.4169068 & -1.712804 & 0.001464129 & 0.02528736 & 0.01613228 & 2183 & tags=27\\%, list=17\\%, signal=22\\% & 5595/5228/7424/1499/4636/83660/7059/5295/1288/23396/3910/3371/3082/1291/394/3791/7450/596/3685/1280/3675/595/2318/3912/1793/1278/1277/1293/10398/55742/2317/7058/25759/56034/3693/3480/5159/857/1292/3908/3909/63923/3913/1287/3679/7060/3479/10451/80310/1311/1101                                                                                                                       \\\\\n",
       "\thsa04218 & hsa04218 & Cellular senescence                      & 143 &  0.4153718 &  1.772670 & 0.002923977 & 0.02528736 & 0.01613228 & 1155 & tags=17\\%, list=9\\%, signal=16\\%  & 2305/4605/9133/890/983/51806/1111/891/993/3576/1978/898/9134/4609/1869/1029/22808/3804/1871/5499/91860/292/1019/11200/1875                                                                                                                                                                                                                                                                \\\\\n",
       "\thsa04062 & hsa04062 & Chemokine signaling pathway              & 165 &  0.3754101 &  1.628310 & 0.003021148 & 0.02528736 & 0.01613228 & 1298 & tags=21\\%, list=10\\%, signal=19\\% & 3627/10563/6373/4283/6362/6355/2921/6364/3576/6352/10663/1230/6772/6347/6351/3055/1237/1236/4067/6354/114/3702/6361/1794/1234/6367/6375/6374/2919/409/4793/2792/6360/5880                                                                                                                                                                                                                 \\\\\n",
       "\thsa05152 & hsa05152 & Tuberculosis                             & 162 &  0.3745153 &  1.611358 & 0.003095975 & 0.02528736 & 0.01613228 & 2823 & tags=34\\%, list=23\\%, signal=27\\% & 820/51806/6772/64581/3126/3112/8767/3654/1054/1051/3458/1520/11151/1594/50617/54205/91860/8877/3329/637/3689/7096/2207/3929/4360/5603/929/533/3452/6850/7124/1509/3569/7097/1378/8772/64170/3119/843/2213/8625/3920/2215/3587/5594/3593/9103/3592/6300/9114/10333/3109/3108/1432/3552                                                                                                     \\\\\n",
       "\thsa05170 & hsa05170 & Human immunodeficiency virus 1 infection & 189 &  0.3711150 &  1.646940 & 0.003105590 & 0.02528736 & 0.01613228 & 3178 & tags=38\\%, list=25\\%, signal=29\\% & 9133/9582/983/51806/1111/891/6890/200315/917/3654/919/915/5336/54205/91860/578/995/25939/637/1234/916/5603/2792/5880/6891/6921/3452/5604/7124/9978/7097/7852/8772/1174/7186/3135/164/60489/2787/356/7133/5605/27350/6199/1642/5594/4792/3134/5578/4893/8454/5582/2786/1147/3984/6300/200316/811/5606/2923/4775/162/1432/2784/836/5747/5058/3106/2770/5534/5579/4615                       \\\\\n",
       "\\end{tabular}\n"
      ],
      "text/markdown": [
       "\n",
       "A data.frame: 6 × 11\n",
       "\n",
       "| <!--/--> | ID &lt;chr&gt; | Description &lt;chr&gt; | setSize &lt;int&gt; | enrichmentScore &lt;dbl&gt; | NES &lt;dbl&gt; | pvalue &lt;dbl&gt; | p.adjust &lt;dbl&gt; | qvalues &lt;dbl&gt; | rank &lt;dbl&gt; | leading_edge &lt;chr&gt; | core_enrichment &lt;chr&gt; |\n",
       "|---|---|---|---|---|---|---|---|---|---|---|---|\n",
       "| hsa04151 | hsa04151 | PI3K-Akt signaling pathway               | 322 | -0.3482755 | -1.514662 | 0.001328021 | 0.02528736 | 0.01613228 | 1997 | tags=23%, list=16%, signal=20% | 627/2252/7059/92579/5563/5295/6794/1288/7010/3910/3371/3082/1291/4602/3791/1027/90993/3441/3643/1129/2322/1975/7450/596/3685/1942/2149/1280/4804/3675/595/2261/7248/2246/4803/3912/1902/1278/1277/2846/2057/1293/2247/55970/5618/7058/10161/56034/3693/4254/3480/4908/5159/1292/3908/2690/3909/8817/9223/4915/3551/2791/63923/3913/9863/3667/1287/3679/7060/3479/80310/1311/5105/2066/1101 |\n",
       "| hsa04510 | hsa04510 | Focal adhesion                           | 190 | -0.4169068 | -1.712804 | 0.001464129 | 0.02528736 | 0.01613228 | 2183 | tags=27%, list=17%, signal=22% | 5595/5228/7424/1499/4636/83660/7059/5295/1288/23396/3910/3371/3082/1291/394/3791/7450/596/3685/1280/3675/595/2318/3912/1793/1278/1277/1293/10398/55742/2317/7058/25759/56034/3693/3480/5159/857/1292/3908/3909/63923/3913/1287/3679/7060/3479/10451/80310/1311/1101                                                                                                                        |\n",
       "| hsa04218 | hsa04218 | Cellular senescence                      | 143 |  0.4153718 |  1.772670 | 0.002923977 | 0.02528736 | 0.01613228 | 1155 | tags=17%, list=9%, signal=16%  | 2305/4605/9133/890/983/51806/1111/891/993/3576/1978/898/9134/4609/1869/1029/22808/3804/1871/5499/91860/292/1019/11200/1875                                                                                                                                                                                                                                                                 |\n",
       "| hsa04062 | hsa04062 | Chemokine signaling pathway              | 165 |  0.3754101 |  1.628310 | 0.003021148 | 0.02528736 | 0.01613228 | 1298 | tags=21%, list=10%, signal=19% | 3627/10563/6373/4283/6362/6355/2921/6364/3576/6352/10663/1230/6772/6347/6351/3055/1237/1236/4067/6354/114/3702/6361/1794/1234/6367/6375/6374/2919/409/4793/2792/6360/5880                                                                                                                                                                                                                  |\n",
       "| hsa05152 | hsa05152 | Tuberculosis                             | 162 |  0.3745153 |  1.611358 | 0.003095975 | 0.02528736 | 0.01613228 | 2823 | tags=34%, list=23%, signal=27% | 820/51806/6772/64581/3126/3112/8767/3654/1054/1051/3458/1520/11151/1594/50617/54205/91860/8877/3329/637/3689/7096/2207/3929/4360/5603/929/533/3452/6850/7124/1509/3569/7097/1378/8772/64170/3119/843/2213/8625/3920/2215/3587/5594/3593/9103/3592/6300/9114/10333/3109/3108/1432/3552                                                                                                      |\n",
       "| hsa05170 | hsa05170 | Human immunodeficiency virus 1 infection | 189 |  0.3711150 |  1.646940 | 0.003105590 | 0.02528736 | 0.01613228 | 3178 | tags=38%, list=25%, signal=29% | 9133/9582/983/51806/1111/891/6890/200315/917/3654/919/915/5336/54205/91860/578/995/25939/637/1234/916/5603/2792/5880/6891/6921/3452/5604/7124/9978/7097/7852/8772/1174/7186/3135/164/60489/2787/356/7133/5605/27350/6199/1642/5594/4792/3134/5578/4893/8454/5582/2786/1147/3984/6300/200316/811/5606/2923/4775/162/1432/2784/836/5747/5058/3106/2770/5534/5579/4615                        |\n",
       "\n"
      ],
      "text/plain": [
       "         ID       Description                              setSize\n",
       "hsa04151 hsa04151 PI3K-Akt signaling pathway               322    \n",
       "hsa04510 hsa04510 Focal adhesion                           190    \n",
       "hsa04218 hsa04218 Cellular senescence                      143    \n",
       "hsa04062 hsa04062 Chemokine signaling pathway              165    \n",
       "hsa05152 hsa05152 Tuberculosis                             162    \n",
       "hsa05170 hsa05170 Human immunodeficiency virus 1 infection 189    \n",
       "         enrichmentScore NES       pvalue      p.adjust   qvalues    rank\n",
       "hsa04151 -0.3482755      -1.514662 0.001328021 0.02528736 0.01613228 1997\n",
       "hsa04510 -0.4169068      -1.712804 0.001464129 0.02528736 0.01613228 2183\n",
       "hsa04218  0.4153718       1.772670 0.002923977 0.02528736 0.01613228 1155\n",
       "hsa04062  0.3754101       1.628310 0.003021148 0.02528736 0.01613228 1298\n",
       "hsa05152  0.3745153       1.611358 0.003095975 0.02528736 0.01613228 2823\n",
       "hsa05170  0.3711150       1.646940 0.003105590 0.02528736 0.01613228 3178\n",
       "         leading_edge                  \n",
       "hsa04151 tags=23%, list=16%, signal=20%\n",
       "hsa04510 tags=27%, list=17%, signal=22%\n",
       "hsa04218 tags=17%, list=9%, signal=16% \n",
       "hsa04062 tags=21%, list=10%, signal=19%\n",
       "hsa05152 tags=34%, list=23%, signal=27%\n",
       "hsa05170 tags=38%, list=25%, signal=29%\n",
       "         core_enrichment                                                                                                                                                                                                                                                                                                                                                                           \n",
       "hsa04151 627/2252/7059/92579/5563/5295/6794/1288/7010/3910/3371/3082/1291/4602/3791/1027/90993/3441/3643/1129/2322/1975/7450/596/3685/1942/2149/1280/4804/3675/595/2261/7248/2246/4803/3912/1902/1278/1277/2846/2057/1293/2247/55970/5618/7058/10161/56034/3693/4254/3480/4908/5159/1292/3908/2690/3909/8817/9223/4915/3551/2791/63923/3913/9863/3667/1287/3679/7060/3479/80310/1311/5105/2066/1101\n",
       "hsa04510 5595/5228/7424/1499/4636/83660/7059/5295/1288/23396/3910/3371/3082/1291/394/3791/7450/596/3685/1280/3675/595/2318/3912/1793/1278/1277/1293/10398/55742/2317/7058/25759/56034/3693/3480/5159/857/1292/3908/3909/63923/3913/1287/3679/7060/3479/10451/80310/1311/1101                                                                                                                       \n",
       "hsa04218 2305/4605/9133/890/983/51806/1111/891/993/3576/1978/898/9134/4609/1869/1029/22808/3804/1871/5499/91860/292/1019/11200/1875                                                                                                                                                                                                                                                                \n",
       "hsa04062 3627/10563/6373/4283/6362/6355/2921/6364/3576/6352/10663/1230/6772/6347/6351/3055/1237/1236/4067/6354/114/3702/6361/1794/1234/6367/6375/6374/2919/409/4793/2792/6360/5880                                                                                                                                                                                                                 \n",
       "hsa05152 820/51806/6772/64581/3126/3112/8767/3654/1054/1051/3458/1520/11151/1594/50617/54205/91860/8877/3329/637/3689/7096/2207/3929/4360/5603/929/533/3452/6850/7124/1509/3569/7097/1378/8772/64170/3119/843/2213/8625/3920/2215/3587/5594/3593/9103/3592/6300/9114/10333/3109/3108/1432/3552                                                                                                     \n",
       "hsa05170 9133/9582/983/51806/1111/891/6890/200315/917/3654/919/915/5336/54205/91860/578/995/25939/637/1234/916/5603/2792/5880/6891/6921/3452/5604/7124/9978/7097/7852/8772/1174/7186/3135/164/60489/2787/356/7133/5605/27350/6199/1642/5594/4792/3134/5578/4893/8454/5582/2786/1147/3984/6300/200316/811/5606/2923/4775/162/1432/2784/836/5747/5058/3106/2770/5534/5579/4615                       "
      ]
     },
     "metadata": {},
     "output_type": "display_data"
    }
   ],
   "source": [
    "kk2 <- gseKEGG(geneList     = geneList,\n",
    "               organism     = 'hsa',\n",
    "               nPerm        = 1000,\n",
    "               minGSSize    = 120,\n",
    "               pvalueCutoff = 0.05,\n",
    "               verbose      = FALSE)\n",
    "head(kk2)"
   ]
  },
  {
   "cell_type": "markdown",
   "metadata": {},
   "source": [
    "# 6.3 KEGG Module over-representation test"
   ]
  },
  {
   "cell_type": "code",
   "execution_count": 6,
   "metadata": {},
   "outputs": [
    {
     "name": "stderr",
     "output_type": "stream",
     "text": [
      "Reading KEGG annotation online:\n",
      "\n",
      "Reading KEGG annotation online:\n",
      "\n"
     ]
    },
    {
     "data": {
      "text/plain": [
       "#\n",
       "# over-representation test\n",
       "#\n",
       "#...@organism \t hsa \n",
       "#...@ontology \t MKEGG \n",
       "#...@gene \t chr [1:207] \"4312\" \"8318\" \"10874\" \"55143\" \"55388\" \"991\" \"6280\" \"2305\" ...\n",
       "#...pvalues adjusted by 'BH' with cutoff <0.05 \n",
       "#...0 enriched terms found\n",
       "#...Citation\n",
       "  Guangchuang Yu, Li-Gen Wang, Yanyan Han and Qing-Yu He.\n",
       "  clusterProfiler: an R package for comparing biological themes among\n",
       "  gene clusters. OMICS: A Journal of Integrative Biology\n",
       "  2012, 16(5):284-287 \n"
      ]
     },
     "metadata": {},
     "output_type": "display_data"
    }
   ],
   "source": [
    "mkk <- enrichMKEGG(gene = gene,\n",
    "                   organism = 'hsa')\n",
    "mkk"
   ]
  },
  {
   "cell_type": "markdown",
   "metadata": {
    "lines_to_next_cell": 0
   },
   "source": [
    "# 6.4 KEGG Module Gene Set Enrichment Analysis\n"
   ]
  },
  {
   "cell_type": "code",
   "execution_count": 7,
   "metadata": {
    "lines_to_next_cell": 2
   },
   "outputs": [
    {
     "name": "stderr",
     "output_type": "stream",
     "text": [
      "preparing geneSet collections...\n",
      "GSEA analysis...\n",
      "leading edge analysis...\n",
      "done...\n"
     ]
    }
   ],
   "source": [
    "mkk2 <- gseMKEGG(geneList = geneList, pvalueCutoff = 1,\n",
    "                 organism = 'hsa')"
   ]
  },
  {
   "cell_type": "code",
   "execution_count": 8,
   "metadata": {},
   "outputs": [
    {
     "data": {
      "text/html": [
       "<table>\n",
       "<caption>A data.frame: 6 × 11</caption>\n",
       "<thead>\n",
       "\t<tr><th></th><th scope=col>ID</th><th scope=col>Description</th><th scope=col>setSize</th><th scope=col>enrichmentScore</th><th scope=col>NES</th><th scope=col>pvalue</th><th scope=col>p.adjust</th><th scope=col>qvalues</th><th scope=col>rank</th><th scope=col>leading_edge</th><th scope=col>core_enrichment</th></tr>\n",
       "\t<tr><th></th><th scope=col>&lt;chr&gt;</th><th scope=col>&lt;chr&gt;</th><th scope=col>&lt;int&gt;</th><th scope=col>&lt;dbl&gt;</th><th scope=col>&lt;dbl&gt;</th><th scope=col>&lt;dbl&gt;</th><th scope=col>&lt;dbl&gt;</th><th scope=col>&lt;dbl&gt;</th><th scope=col>&lt;dbl&gt;</th><th scope=col>&lt;chr&gt;</th><th scope=col>&lt;chr&gt;</th></tr>\n",
       "</thead>\n",
       "<tbody>\n",
       "\t<tr><th scope=row>M00001</th><td>M00001</td><td><span style=white-space:pre-wrap>Glycolysis (Embden-Meyerhof pathway), glucose =&gt; pyruvate                 </span></td><td>24</td><td> 0.5739036</td><td> 1.744328</td><td>0.00593841</td><td>0.1840907</td><td>0.1687759</td><td>2886</td><td>tags=54%, list=23%, signal=42%</td><td>5214/3101/2821/7167/2597/5230/2023/5223/5315/3099/5232/2027/5211</td></tr>\n",
       "\t<tr><th scope=row>M00035</th><td>M00035</td><td>Methionine degradation                                                    </td><td>10</td><td> 0.6784636</td><td> 1.629571</td><td>0.02114535</td><td>0.2842298</td><td>0.2605842</td><td>1555</td><td>tags=50%, list=12%, signal=44%</td><td>875/1789/191/1788/1786                                          </td></tr>\n",
       "\t<tr><th scope=row>M00053</th><td>M00053</td><td>Pyrimidine deoxyribonuleotide biosynthesis, CDP/CTP =&gt; dCDP/dCTP,dTDP/dTTP</td><td>10</td><td> 0.6648004</td><td> 1.596753</td><td>0.02791173</td><td>0.2842298</td><td>0.2605842</td><td> 648</td><td>tags=40%, list=5%, signal=38% </td><td><span style=white-space:pre-wrap>6241/7298/4830/1841                                             </span></td></tr>\n",
       "\t<tr><th scope=row>M00002</th><td>M00002</td><td>Glycolysis, core module involving three-carbon compounds                  </td><td>11</td><td> 0.6421781</td><td> 1.603173</td><td>0.03667482</td><td>0.2842298</td><td>0.2605842</td><td>1381</td><td>tags=55%, list=11%, signal=49%</td><td>7167/2597/5230/2023/5223/5315                                   </td></tr>\n",
       "\t<tr><th scope=row>M00009</th><td>M00009</td><td>Citrate cycle (TCA cycle, Krebs cycle)                                    </td><td>22</td><td> 0.4504911</td><td> 1.345011</td><td>0.10178117</td><td>0.5730944</td><td>0.5254176</td><td>3514</td><td>tags=50%, list=28%, signal=36%</td><td>3418/50/4190/3419/2271/3421/55753/3417/1431/6389/4191           </td></tr>\n",
       "\t<tr><th scope=row>M00104</th><td>M00104</td><td><span style=white-space:pre-wrap>Bile acid biosynthesis, cholesterol =&gt; cholate/chenodeoxycholate          </span></td><td>10</td><td>-0.5876900</td><td>-1.365986</td><td>0.11092150</td><td>0.5730944</td><td>0.5254176</td><td> 961</td><td>tags=50%, list=8%, signal=46% </td><td><span style=white-space:pre-wrap>6342/10998/1581/3295/8309                                       </span></td></tr>\n",
       "</tbody>\n",
       "</table>\n"
      ],
      "text/latex": [
       "A data.frame: 6 × 11\n",
       "\\begin{tabular}{r|lllllllllll}\n",
       "  & ID & Description & setSize & enrichmentScore & NES & pvalue & p.adjust & qvalues & rank & leading\\_edge & core\\_enrichment\\\\\n",
       "  & <chr> & <chr> & <int> & <dbl> & <dbl> & <dbl> & <dbl> & <dbl> & <dbl> & <chr> & <chr>\\\\\n",
       "\\hline\n",
       "\tM00001 & M00001 & Glycolysis (Embden-Meyerhof pathway), glucose => pyruvate                  & 24 &  0.5739036 &  1.744328 & 0.00593841 & 0.1840907 & 0.1687759 & 2886 & tags=54\\%, list=23\\%, signal=42\\% & 5214/3101/2821/7167/2597/5230/2023/5223/5315/3099/5232/2027/5211\\\\\n",
       "\tM00035 & M00035 & Methionine degradation                                                     & 10 &  0.6784636 &  1.629571 & 0.02114535 & 0.2842298 & 0.2605842 & 1555 & tags=50\\%, list=12\\%, signal=44\\% & 875/1789/191/1788/1786                                          \\\\\n",
       "\tM00053 & M00053 & Pyrimidine deoxyribonuleotide biosynthesis, CDP/CTP => dCDP/dCTP,dTDP/dTTP & 10 &  0.6648004 &  1.596753 & 0.02791173 & 0.2842298 & 0.2605842 &  648 & tags=40\\%, list=5\\%, signal=38\\%  & 6241/7298/4830/1841                                             \\\\\n",
       "\tM00002 & M00002 & Glycolysis, core module involving three-carbon compounds                   & 11 &  0.6421781 &  1.603173 & 0.03667482 & 0.2842298 & 0.2605842 & 1381 & tags=55\\%, list=11\\%, signal=49\\% & 7167/2597/5230/2023/5223/5315                                   \\\\\n",
       "\tM00009 & M00009 & Citrate cycle (TCA cycle, Krebs cycle)                                     & 22 &  0.4504911 &  1.345011 & 0.10178117 & 0.5730944 & 0.5254176 & 3514 & tags=50\\%, list=28\\%, signal=36\\% & 3418/50/4190/3419/2271/3421/55753/3417/1431/6389/4191           \\\\\n",
       "\tM00104 & M00104 & Bile acid biosynthesis, cholesterol => cholate/chenodeoxycholate           & 10 & -0.5876900 & -1.365986 & 0.11092150 & 0.5730944 & 0.5254176 &  961 & tags=50\\%, list=8\\%, signal=46\\%  & 6342/10998/1581/3295/8309                                       \\\\\n",
       "\\end{tabular}\n"
      ],
      "text/markdown": [
       "\n",
       "A data.frame: 6 × 11\n",
       "\n",
       "| <!--/--> | ID &lt;chr&gt; | Description &lt;chr&gt; | setSize &lt;int&gt; | enrichmentScore &lt;dbl&gt; | NES &lt;dbl&gt; | pvalue &lt;dbl&gt; | p.adjust &lt;dbl&gt; | qvalues &lt;dbl&gt; | rank &lt;dbl&gt; | leading_edge &lt;chr&gt; | core_enrichment &lt;chr&gt; |\n",
       "|---|---|---|---|---|---|---|---|---|---|---|---|\n",
       "| M00001 | M00001 | Glycolysis (Embden-Meyerhof pathway), glucose =&gt; pyruvate                  | 24 |  0.5739036 |  1.744328 | 0.00593841 | 0.1840907 | 0.1687759 | 2886 | tags=54%, list=23%, signal=42% | 5214/3101/2821/7167/2597/5230/2023/5223/5315/3099/5232/2027/5211 |\n",
       "| M00035 | M00035 | Methionine degradation                                                     | 10 |  0.6784636 |  1.629571 | 0.02114535 | 0.2842298 | 0.2605842 | 1555 | tags=50%, list=12%, signal=44% | 875/1789/191/1788/1786                                           |\n",
       "| M00053 | M00053 | Pyrimidine deoxyribonuleotide biosynthesis, CDP/CTP =&gt; dCDP/dCTP,dTDP/dTTP | 10 |  0.6648004 |  1.596753 | 0.02791173 | 0.2842298 | 0.2605842 |  648 | tags=40%, list=5%, signal=38%  | 6241/7298/4830/1841                                              |\n",
       "| M00002 | M00002 | Glycolysis, core module involving three-carbon compounds                   | 11 |  0.6421781 |  1.603173 | 0.03667482 | 0.2842298 | 0.2605842 | 1381 | tags=55%, list=11%, signal=49% | 7167/2597/5230/2023/5223/5315                                    |\n",
       "| M00009 | M00009 | Citrate cycle (TCA cycle, Krebs cycle)                                     | 22 |  0.4504911 |  1.345011 | 0.10178117 | 0.5730944 | 0.5254176 | 3514 | tags=50%, list=28%, signal=36% | 3418/50/4190/3419/2271/3421/55753/3417/1431/6389/4191            |\n",
       "| M00104 | M00104 | Bile acid biosynthesis, cholesterol =&gt; cholate/chenodeoxycholate           | 10 | -0.5876900 | -1.365986 | 0.11092150 | 0.5730944 | 0.5254176 |  961 | tags=50%, list=8%, signal=46%  | 6342/10998/1581/3295/8309                                        |\n",
       "\n"
      ],
      "text/plain": [
       "       ID    \n",
       "M00001 M00001\n",
       "M00035 M00035\n",
       "M00053 M00053\n",
       "M00002 M00002\n",
       "M00009 M00009\n",
       "M00104 M00104\n",
       "       Description                                                               \n",
       "M00001 Glycolysis (Embden-Meyerhof pathway), glucose => pyruvate                 \n",
       "M00035 Methionine degradation                                                    \n",
       "M00053 Pyrimidine deoxyribonuleotide biosynthesis, CDP/CTP => dCDP/dCTP,dTDP/dTTP\n",
       "M00002 Glycolysis, core module involving three-carbon compounds                  \n",
       "M00009 Citrate cycle (TCA cycle, Krebs cycle)                                    \n",
       "M00104 Bile acid biosynthesis, cholesterol => cholate/chenodeoxycholate          \n",
       "       setSize enrichmentScore NES       pvalue     p.adjust  qvalues   rank\n",
       "M00001 24       0.5739036       1.744328 0.00593841 0.1840907 0.1687759 2886\n",
       "M00035 10       0.6784636       1.629571 0.02114535 0.2842298 0.2605842 1555\n",
       "M00053 10       0.6648004       1.596753 0.02791173 0.2842298 0.2605842  648\n",
       "M00002 11       0.6421781       1.603173 0.03667482 0.2842298 0.2605842 1381\n",
       "M00009 22       0.4504911       1.345011 0.10178117 0.5730944 0.5254176 3514\n",
       "M00104 10      -0.5876900      -1.365986 0.11092150 0.5730944 0.5254176  961\n",
       "       leading_edge                  \n",
       "M00001 tags=54%, list=23%, signal=42%\n",
       "M00035 tags=50%, list=12%, signal=44%\n",
       "M00053 tags=40%, list=5%, signal=38% \n",
       "M00002 tags=55%, list=11%, signal=49%\n",
       "M00009 tags=50%, list=28%, signal=36%\n",
       "M00104 tags=50%, list=8%, signal=46% \n",
       "       core_enrichment                                                 \n",
       "M00001 5214/3101/2821/7167/2597/5230/2023/5223/5315/3099/5232/2027/5211\n",
       "M00035 875/1789/191/1788/1786                                          \n",
       "M00053 6241/7298/4830/1841                                             \n",
       "M00002 7167/2597/5230/2023/5223/5315                                   \n",
       "M00009 3418/50/4190/3419/2271/3421/55753/3417/1431/6389/4191           \n",
       "M00104 6342/10998/1581/3295/8309                                       "
      ]
     },
     "metadata": {},
     "output_type": "display_data"
    }
   ],
   "source": [
    "head(mkk2)"
   ]
  },
  {
   "cell_type": "code",
   "execution_count": null,
   "metadata": {},
   "outputs": [],
   "source": []
  },
  {
   "cell_type": "code",
   "execution_count": null,
   "metadata": {},
   "outputs": [],
   "source": []
  }
 ],
 "metadata": {
  "jupytext": {
   "cell_metadata_filter": "-all",
   "notebook_metadata_filter": "-all",
   "text_representation": {
    "extension": ".R",
    "format_name": "spin"
   }
  },
  "kernelspec": {
   "display_name": "R",
   "language": "R",
   "name": "ir"
  },
  "language_info": {
   "codemirror_mode": "r",
   "file_extension": ".r",
   "mimetype": "text/x-r-source",
   "name": "R",
   "pygments_lexer": "r",
   "version": "3.6.1"
  }
 },
 "nbformat": 4,
 "nbformat_minor": 4
}
