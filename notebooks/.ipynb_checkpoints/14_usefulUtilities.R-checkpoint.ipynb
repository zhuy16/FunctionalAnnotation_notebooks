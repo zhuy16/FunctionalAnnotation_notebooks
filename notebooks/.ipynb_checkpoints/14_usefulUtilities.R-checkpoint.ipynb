{
 "cells": [
  {
   "cell_type": "code",
   "execution_count": null,
   "metadata": {},
   "outputs": [],
   "source": [
    "# Chapter 14 Useful utilities\n",
    "# 14.1 bitr: Biological Id TranslatoR"
   ]
  },
  {
   "cell_type": "code",
   "execution_count": 1,
   "metadata": {},
   "outputs": [
    {
     "name": "stderr",
     "output_type": "stream",
     "text": [
      "Loading required package: AnnotationDbi\n",
      "Loading required package: stats4\n",
      "Loading required package: BiocGenerics\n",
      "Loading required package: parallel\n",
      "\n",
      "Attaching package: ‘BiocGenerics’\n",
      "\n",
      "The following objects are masked from ‘package:parallel’:\n",
      "\n",
      "    clusterApply, clusterApplyLB, clusterCall, clusterEvalQ,\n",
      "    clusterExport, clusterMap, parApply, parCapply, parLapply,\n",
      "    parLapplyLB, parRapply, parSapply, parSapplyLB\n",
      "\n",
      "The following objects are masked from ‘package:stats’:\n",
      "\n",
      "    IQR, mad, sd, var, xtabs\n",
      "\n",
      "The following objects are masked from ‘package:base’:\n",
      "\n",
      "    anyDuplicated, append, as.data.frame, basename, cbind, colnames,\n",
      "    dirname, do.call, duplicated, eval, evalq, Filter, Find, get, grep,\n",
      "    grepl, intersect, is.unsorted, lapply, Map, mapply, match, mget,\n",
      "    order, paste, pmax, pmax.int, pmin, pmin.int, Position, rank,\n",
      "    rbind, Reduce, rownames, sapply, setdiff, sort, table, tapply,\n",
      "    union, unique, unsplit, which, which.max, which.min\n",
      "\n",
      "Loading required package: Biobase\n",
      "Welcome to Bioconductor\n",
      "\n",
      "    Vignettes contain introductory material; view with\n",
      "    'browseVignettes()'. To cite Bioconductor, see\n",
      "    'citation(\"Biobase\")', and for packages 'citation(\"pkgname\")'.\n",
      "\n",
      "Loading required package: IRanges\n",
      "Loading required package: S4Vectors\n",
      "\n",
      "Attaching package: ‘S4Vectors’\n",
      "\n",
      "The following object is masked from ‘package:base’:\n",
      "\n",
      "    expand.grid\n",
      "\n",
      "\n",
      "\n",
      "clusterProfiler v3.17.0  For help: https://guangchuangyu.github.io/software/clusterProfiler\n",
      "\n",
      "If you use clusterProfiler in published research, please cite:\n",
      "Guangchuang Yu, Li-Gen Wang, Yanyan Han, Qing-Yu He. clusterProfiler: an R package for comparing biological themes among gene clusters. OMICS: A Journal of Integrative Biology. 2012, 16(5):284-287.\n",
      "\n",
      "Attaching package: ‘clusterProfiler’\n",
      "\n",
      "The following object is masked from ‘package:AnnotationDbi’:\n",
      "\n",
      "    select\n",
      "\n",
      "The following object is masked from ‘package:IRanges’:\n",
      "\n",
      "    slice\n",
      "\n",
      "The following object is masked from ‘package:S4Vectors’:\n",
      "\n",
      "    rename\n",
      "\n",
      "The following object is masked from ‘package:stats’:\n",
      "\n",
      "    filter\n",
      "\n"
     ]
    }
   ],
   "source": [
    "library(org.Hs.eg.db)\n",
    "library(clusterProfiler)"
   ]
  },
  {
   "cell_type": "code",
   "execution_count": 2,
   "metadata": {
    "lines_to_next_cell": 2
   },
   "outputs": [
    {
     "name": "stderr",
     "output_type": "stream",
     "text": [
      "'select()' returned 1:1 mapping between keys and columns\n"
     ]
    },
    {
     "data": {
      "text/html": [
       "<table>\n",
       "<caption>A data.frame: 6 × 2</caption>\n",
       "<thead>\n",
       "\t<tr><th scope=col>SYMBOL</th><th scope=col>ENTREZID</th></tr>\n",
       "\t<tr><th scope=col>&lt;chr&gt;</th><th scope=col>&lt;chr&gt;</th></tr>\n",
       "</thead>\n",
       "<tbody>\n",
       "\t<tr><td>GPX3 </td><td>2878</td></tr>\n",
       "\t<tr><td>GLRX </td><td>2745</td></tr>\n",
       "\t<tr><td>LBP  </td><td>3929</td></tr>\n",
       "\t<tr><td>CRYAB</td><td>1410</td></tr>\n",
       "\t<tr><td>DEFB1</td><td>1672</td></tr>\n",
       "\t<tr><td>HCLS1</td><td>3059</td></tr>\n",
       "</tbody>\n",
       "</table>\n"
      ],
      "text/latex": [
       "A data.frame: 6 × 2\n",
       "\\begin{tabular}{r|ll}\n",
       " SYMBOL & ENTREZID\\\\\n",
       " <chr> & <chr>\\\\\n",
       "\\hline\n",
       "\t GPX3  & 2878\\\\\n",
       "\t GLRX  & 2745\\\\\n",
       "\t LBP   & 3929\\\\\n",
       "\t CRYAB & 1410\\\\\n",
       "\t DEFB1 & 1672\\\\\n",
       "\t HCLS1 & 3059\\\\\n",
       "\\end{tabular}\n"
      ],
      "text/markdown": [
       "\n",
       "A data.frame: 6 × 2\n",
       "\n",
       "| SYMBOL &lt;chr&gt; | ENTREZID &lt;chr&gt; |\n",
       "|---|---|\n",
       "| GPX3  | 2878 |\n",
       "| GLRX  | 2745 |\n",
       "| LBP   | 3929 |\n",
       "| CRYAB | 1410 |\n",
       "| DEFB1 | 1672 |\n",
       "| HCLS1 | 3059 |\n",
       "\n"
      ],
      "text/plain": [
       "  SYMBOL ENTREZID\n",
       "1 GPX3   2878    \n",
       "2 GLRX   2745    \n",
       "3 LBP    3929    \n",
       "4 CRYAB  1410    \n",
       "5 DEFB1  1672    \n",
       "6 HCLS1  3059    "
      ]
     },
     "metadata": {},
     "output_type": "display_data"
    }
   ],
   "source": [
    "x <- c(\"GPX3\",  \"GLRX\",   \"LBP\",   \"CRYAB\", \"DEFB1\", \"HCLS1\",   \"SOD2\",   \"HSPA2\",\n",
    "       \"ORM1\",  \"IGFBP1\", \"PTHLH\", \"GPC3\",  \"IGFBP3\",\"TOB1\",    \"MITF\",   \"NDRG1\",\n",
    "       \"NR1H4\", \"FGFR3\",  \"PVR\",   \"IL6\",   \"PTPRM\", \"ERBB2\",   \"NID2\",   \"LAMB1\",\n",
    "       \"COMP\",  \"PLS3\",   \"MCAM\",  \"SPP1\",  \"LAMC1\", \"COL4A2\",  \"COL4A1\", \"MYOC\",\n",
    "       \"ANXA4\", \"TFPI2\",  \"CST6\",  \"SLPI\",  \"TIMP2\", \"CPM\",     \"GGT1\",   \"NNMT\",\n",
    "       \"MAL\",   \"EEF1A2\", \"HGD\",   \"TCN2\",  \"CDA\",   \"PCCA\",    \"CRYM\",   \"PDXK\",\n",
    "       \"STC1\",  \"WARS\",  \"HMOX1\", \"FXYD2\", \"RBP4\",   \"SLC6A12\", \"KDELR3\", \"ITM2B\")\n",
    "eg = bitr(x, fromType=\"SYMBOL\", toType=\"ENTREZID\", OrgDb=\"org.Hs.eg.db\")\n",
    "head(eg)"
   ]
  },
  {
   "cell_type": "code",
   "execution_count": 3,
   "metadata": {},
   "outputs": [
    {
     "data": {
      "text/html": [
       "<ol class=list-inline>\n",
       "\t<li>'ACCNUM'</li>\n",
       "\t<li>'ALIAS'</li>\n",
       "\t<li>'ENSEMBL'</li>\n",
       "\t<li>'ENSEMBLPROT'</li>\n",
       "\t<li>'ENSEMBLTRANS'</li>\n",
       "\t<li>'ENTREZID'</li>\n",
       "\t<li>'ENZYME'</li>\n",
       "\t<li>'EVIDENCE'</li>\n",
       "\t<li>'EVIDENCEALL'</li>\n",
       "\t<li>'GENENAME'</li>\n",
       "\t<li>'GO'</li>\n",
       "\t<li>'GOALL'</li>\n",
       "\t<li>'IPI'</li>\n",
       "\t<li>'MAP'</li>\n",
       "\t<li>'OMIM'</li>\n",
       "\t<li>'ONTOLOGY'</li>\n",
       "\t<li>'ONTOLOGYALL'</li>\n",
       "\t<li>'PATH'</li>\n",
       "\t<li>'PFAM'</li>\n",
       "\t<li>'PMID'</li>\n",
       "\t<li>'PROSITE'</li>\n",
       "\t<li>'REFSEQ'</li>\n",
       "\t<li>'SYMBOL'</li>\n",
       "\t<li>'UCSCKG'</li>\n",
       "\t<li>'UNIGENE'</li>\n",
       "\t<li>'UNIPROT'</li>\n",
       "</ol>\n"
      ],
      "text/latex": [
       "\\begin{enumerate*}\n",
       "\\item 'ACCNUM'\n",
       "\\item 'ALIAS'\n",
       "\\item 'ENSEMBL'\n",
       "\\item 'ENSEMBLPROT'\n",
       "\\item 'ENSEMBLTRANS'\n",
       "\\item 'ENTREZID'\n",
       "\\item 'ENZYME'\n",
       "\\item 'EVIDENCE'\n",
       "\\item 'EVIDENCEALL'\n",
       "\\item 'GENENAME'\n",
       "\\item 'GO'\n",
       "\\item 'GOALL'\n",
       "\\item 'IPI'\n",
       "\\item 'MAP'\n",
       "\\item 'OMIM'\n",
       "\\item 'ONTOLOGY'\n",
       "\\item 'ONTOLOGYALL'\n",
       "\\item 'PATH'\n",
       "\\item 'PFAM'\n",
       "\\item 'PMID'\n",
       "\\item 'PROSITE'\n",
       "\\item 'REFSEQ'\n",
       "\\item 'SYMBOL'\n",
       "\\item 'UCSCKG'\n",
       "\\item 'UNIGENE'\n",
       "\\item 'UNIPROT'\n",
       "\\end{enumerate*}\n"
      ],
      "text/markdown": [
       "1. 'ACCNUM'\n",
       "2. 'ALIAS'\n",
       "3. 'ENSEMBL'\n",
       "4. 'ENSEMBLPROT'\n",
       "5. 'ENSEMBLTRANS'\n",
       "6. 'ENTREZID'\n",
       "7. 'ENZYME'\n",
       "8. 'EVIDENCE'\n",
       "9. 'EVIDENCEALL'\n",
       "10. 'GENENAME'\n",
       "11. 'GO'\n",
       "12. 'GOALL'\n",
       "13. 'IPI'\n",
       "14. 'MAP'\n",
       "15. 'OMIM'\n",
       "16. 'ONTOLOGY'\n",
       "17. 'ONTOLOGYALL'\n",
       "18. 'PATH'\n",
       "19. 'PFAM'\n",
       "20. 'PMID'\n",
       "21. 'PROSITE'\n",
       "22. 'REFSEQ'\n",
       "23. 'SYMBOL'\n",
       "24. 'UCSCKG'\n",
       "25. 'UNIGENE'\n",
       "26. 'UNIPROT'\n",
       "\n",
       "\n"
      ],
      "text/plain": [
       " [1] \"ACCNUM\"       \"ALIAS\"        \"ENSEMBL\"      \"ENSEMBLPROT\"  \"ENSEMBLTRANS\"\n",
       " [6] \"ENTREZID\"     \"ENZYME\"       \"EVIDENCE\"     \"EVIDENCEALL\"  \"GENENAME\"    \n",
       "[11] \"GO\"           \"GOALL\"        \"IPI\"          \"MAP\"          \"OMIM\"        \n",
       "[16] \"ONTOLOGY\"     \"ONTOLOGYALL\"  \"PATH\"         \"PFAM\"         \"PMID\"        \n",
       "[21] \"PROSITE\"      \"REFSEQ\"       \"SYMBOL\"       \"UCSCKG\"       \"UNIGENE\"     \n",
       "[26] \"UNIPROT\"     "
      ]
     },
     "metadata": {},
     "output_type": "display_data"
    }
   ],
   "source": [
    "library(org.Hs.eg.db)\n",
    "keytypes(org.Hs.eg.db)"
   ]
  },
  {
   "cell_type": "code",
   "execution_count": 4,
   "metadata": {},
   "outputs": [
    {
     "name": "stderr",
     "output_type": "stream",
     "text": [
      "'select()' returned 1:many mapping between keys and columns\n"
     ]
    },
    {
     "data": {
      "text/html": [
       "<table>\n",
       "<caption>A data.frame: 6 × 3</caption>\n",
       "<thead>\n",
       "\t<tr><th scope=col>SYMBOL</th><th scope=col>UNIPROT</th><th scope=col>ENSEMBL</th></tr>\n",
       "\t<tr><th scope=col>&lt;chr&gt;</th><th scope=col>&lt;chr&gt;</th><th scope=col>&lt;chr&gt;</th></tr>\n",
       "</thead>\n",
       "<tbody>\n",
       "\t<tr><td>GPX3 </td><td>P22352    </td><td>ENSG00000211445</td></tr>\n",
       "\t<tr><td>GLRX </td><td>A0A024RAM2</td><td>ENSG00000173221</td></tr>\n",
       "\t<tr><td>GLRX </td><td>P35754    </td><td>ENSG00000173221</td></tr>\n",
       "\t<tr><td>LBP  </td><td>P18428    </td><td>ENSG00000129988</td></tr>\n",
       "\t<tr><td>LBP  </td><td>Q8TCF0    </td><td>ENSG00000129988</td></tr>\n",
       "\t<tr><td>CRYAB</td><td>P02511    </td><td>ENSG00000109846</td></tr>\n",
       "</tbody>\n",
       "</table>\n"
      ],
      "text/latex": [
       "A data.frame: 6 × 3\n",
       "\\begin{tabular}{r|lll}\n",
       " SYMBOL & UNIPROT & ENSEMBL\\\\\n",
       " <chr> & <chr> & <chr>\\\\\n",
       "\\hline\n",
       "\t GPX3  & P22352     & ENSG00000211445\\\\\n",
       "\t GLRX  & A0A024RAM2 & ENSG00000173221\\\\\n",
       "\t GLRX  & P35754     & ENSG00000173221\\\\\n",
       "\t LBP   & P18428     & ENSG00000129988\\\\\n",
       "\t LBP   & Q8TCF0     & ENSG00000129988\\\\\n",
       "\t CRYAB & P02511     & ENSG00000109846\\\\\n",
       "\\end{tabular}\n"
      ],
      "text/markdown": [
       "\n",
       "A data.frame: 6 × 3\n",
       "\n",
       "| SYMBOL &lt;chr&gt; | UNIPROT &lt;chr&gt; | ENSEMBL &lt;chr&gt; |\n",
       "|---|---|---|\n",
       "| GPX3  | P22352     | ENSG00000211445 |\n",
       "| GLRX  | A0A024RAM2 | ENSG00000173221 |\n",
       "| GLRX  | P35754     | ENSG00000173221 |\n",
       "| LBP   | P18428     | ENSG00000129988 |\n",
       "| LBP   | Q8TCF0     | ENSG00000129988 |\n",
       "| CRYAB | P02511     | ENSG00000109846 |\n",
       "\n"
      ],
      "text/plain": [
       "  SYMBOL UNIPROT    ENSEMBL        \n",
       "1 GPX3   P22352     ENSG00000211445\n",
       "2 GLRX   A0A024RAM2 ENSG00000173221\n",
       "3 GLRX   P35754     ENSG00000173221\n",
       "4 LBP    P18428     ENSG00000129988\n",
       "5 LBP    Q8TCF0     ENSG00000129988\n",
       "6 CRYAB  P02511     ENSG00000109846"
      ]
     },
     "metadata": {},
     "output_type": "display_data"
    }
   ],
   "source": [
    "ids <- bitr(x, fromType=\"SYMBOL\", toType=c(\"UNIPROT\", \"ENSEMBL\"), OrgDb=\"org.Hs.eg.db\")\n",
    "head(ids)"
   ]
  },
  {
   "cell_type": "markdown",
   "metadata": {},
   "source": [
    "14.1.1 bitr_kegg: converting biological IDs using KEGG API"
   ]
  },
  {
   "cell_type": "code",
   "execution_count": 5,
   "metadata": {},
   "outputs": [
    {
     "data": {
      "text/html": [
       "<ol class=list-inline>\n",
       "\t<li>'4597'</li>\n",
       "\t<li>'7111'</li>\n",
       "\t<li>'5266'</li>\n",
       "\t<li>'2175'</li>\n",
       "\t<li>'755'</li>\n",
       "\t<li>'23046'</li>\n",
       "</ol>\n"
      ],
      "text/latex": [
       "\\begin{enumerate*}\n",
       "\\item '4597'\n",
       "\\item '7111'\n",
       "\\item '5266'\n",
       "\\item '2175'\n",
       "\\item '755'\n",
       "\\item '23046'\n",
       "\\end{enumerate*}\n"
      ],
      "text/markdown": [
       "1. '4597'\n",
       "2. '7111'\n",
       "3. '5266'\n",
       "4. '2175'\n",
       "5. '755'\n",
       "6. '23046'\n",
       "\n",
       "\n"
      ],
      "text/plain": [
       "[1] \"4597\"  \"7111\"  \"5266\"  \"2175\"  \"755\"   \"23046\""
      ]
     },
     "metadata": {},
     "output_type": "display_data"
    }
   ],
   "source": [
    "data(gcSample)\n",
    "hg <- gcSample[[1]]\n",
    "head(hg)"
   ]
  },
  {
   "cell_type": "code",
   "execution_count": 6,
   "metadata": {},
   "outputs": [
    {
     "name": "stderr",
     "output_type": "stream",
     "text": [
      "Reading KEGG annotation online:\n",
      "\n",
      "Warning message in bitr_kegg(hg, fromType = \"kegg\", toType = \"ncbi-proteinid\", organism = \"hsa\"):\n",
      "“3.7% of input gene IDs are fail to map...”"
     ]
    },
    {
     "data": {
      "text/html": [
       "<table>\n",
       "<caption>A data.frame: 6 × 2</caption>\n",
       "<thead>\n",
       "\t<tr><th scope=col>kegg</th><th scope=col>ncbi-proteinid</th></tr>\n",
       "\t<tr><th scope=col>&lt;chr&gt;</th><th scope=col>&lt;chr&gt;</th></tr>\n",
       "</thead>\n",
       "<tbody>\n",
       "\t<tr><td>10001</td><td>NP_005457   </td></tr>\n",
       "\t<tr><td>10209</td><td>NP_005792   </td></tr>\n",
       "\t<tr><td>10232</td><td>NP_037536   </td></tr>\n",
       "\t<tr><td>10324</td><td>NP_006054   </td></tr>\n",
       "\t<tr><td>10411</td><td>NP_001092002</td></tr>\n",
       "\t<tr><td>10614</td><td>NP_006451   </td></tr>\n",
       "</tbody>\n",
       "</table>\n"
      ],
      "text/latex": [
       "A data.frame: 6 × 2\n",
       "\\begin{tabular}{r|ll}\n",
       " kegg & ncbi-proteinid\\\\\n",
       " <chr> & <chr>\\\\\n",
       "\\hline\n",
       "\t 10001 & NP\\_005457   \\\\\n",
       "\t 10209 & NP\\_005792   \\\\\n",
       "\t 10232 & NP\\_037536   \\\\\n",
       "\t 10324 & NP\\_006054   \\\\\n",
       "\t 10411 & NP\\_001092002\\\\\n",
       "\t 10614 & NP\\_006451   \\\\\n",
       "\\end{tabular}\n"
      ],
      "text/markdown": [
       "\n",
       "A data.frame: 6 × 2\n",
       "\n",
       "| kegg &lt;chr&gt; | ncbi-proteinid &lt;chr&gt; |\n",
       "|---|---|\n",
       "| 10001 | NP_005457    |\n",
       "| 10209 | NP_005792    |\n",
       "| 10232 | NP_037536    |\n",
       "| 10324 | NP_006054    |\n",
       "| 10411 | NP_001092002 |\n",
       "| 10614 | NP_006451    |\n",
       "\n"
      ],
      "text/plain": [
       "  kegg  ncbi-proteinid\n",
       "1 10001 NP_005457     \n",
       "2 10209 NP_005792     \n",
       "3 10232 NP_037536     \n",
       "4 10324 NP_006054     \n",
       "5 10411 NP_001092002  \n",
       "6 10614 NP_006451     "
      ]
     },
     "metadata": {},
     "output_type": "display_data"
    }
   ],
   "source": [
    "eg2np <- bitr_kegg(hg, fromType='kegg', toType='ncbi-proteinid', organism='hsa')\n",
    "head(eg2np)"
   ]
  },
  {
   "cell_type": "code",
   "execution_count": 7,
   "metadata": {},
   "outputs": [
    {
     "name": "stderr",
     "output_type": "stream",
     "text": [
      "Reading KEGG annotation online:\n",
      "\n",
      "Warning message in download.file(url, method = method, ...):\n",
      "“cannot open URL 'http://rest.kegg.jp/conv/ncbi-geneid/ece': HTTP status was '400 Bad Request'”fail to download KEGG data...\n"
     ]
    },
    {
     "ename": "ERROR",
     "evalue": "Error in KEGG_convert(fromType, toType, organism): ncbi-geneid is not supported for ece ...\n",
     "output_type": "error",
     "traceback": [
      "Error in KEGG_convert(fromType, toType, organism): ncbi-geneid is not supported for ece ...\nTraceback:\n",
      "1. bitr_kegg(\"Z5100\", fromType = \"kegg\", toType = \"ncbi-geneid\", \n .     organism = \"ece\")",
      "2. KEGG_convert(fromType, toType, organism)",
      "3. stop(toType, \" is not supported for \", species, \" ...\")"
     ]
    }
   ],
   "source": [
    "bitr_kegg(\"Z5100\", fromType=\"kegg\", toType='ncbi-geneid', organism='ece')"
   ]
  },
  {
   "cell_type": "code",
   "execution_count": 8,
   "metadata": {},
   "outputs": [
    {
     "name": "stderr",
     "output_type": "stream",
     "text": [
      "Reading KEGG annotation online:\n",
      "\n"
     ]
    },
    {
     "data": {
      "text/html": [
       "<table>\n",
       "<caption>A data.frame: 1 × 2</caption>\n",
       "<thead>\n",
       "\t<tr><th scope=col>kegg</th><th scope=col>ncbi-proteinid</th></tr>\n",
       "\t<tr><th scope=col>&lt;chr&gt;</th><th scope=col>&lt;chr&gt;</th></tr>\n",
       "</thead>\n",
       "<tbody>\n",
       "\t<tr><td>Z5100</td><td>AAG58814</td></tr>\n",
       "</tbody>\n",
       "</table>\n"
      ],
      "text/latex": [
       "A data.frame: 1 × 2\n",
       "\\begin{tabular}{r|ll}\n",
       " kegg & ncbi-proteinid\\\\\n",
       " <chr> & <chr>\\\\\n",
       "\\hline\n",
       "\t Z5100 & AAG58814\\\\\n",
       "\\end{tabular}\n"
      ],
      "text/markdown": [
       "\n",
       "A data.frame: 1 × 2\n",
       "\n",
       "| kegg &lt;chr&gt; | ncbi-proteinid &lt;chr&gt; |\n",
       "|---|---|\n",
       "| Z5100 | AAG58814 |\n",
       "\n"
      ],
      "text/plain": [
       "  kegg  ncbi-proteinid\n",
       "1 Z5100 AAG58814      "
      ]
     },
     "metadata": {},
     "output_type": "display_data"
    }
   ],
   "source": [
    "bitr_kegg(\"Z5100\", fromType=\"kegg\", toType='ncbi-proteinid', organism='ece')"
   ]
  },
  {
   "cell_type": "code",
   "execution_count": 9,
   "metadata": {},
   "outputs": [
    {
     "name": "stderr",
     "output_type": "stream",
     "text": [
      "Reading KEGG annotation online:\n",
      "\n"
     ]
    },
    {
     "data": {
      "text/html": [
       "<table>\n",
       "<caption>A data.frame: 1 × 2</caption>\n",
       "<thead>\n",
       "\t<tr><th scope=col>kegg</th><th scope=col>uniprot</th></tr>\n",
       "\t<tr><th scope=col>&lt;chr&gt;</th><th scope=col>&lt;chr&gt;</th></tr>\n",
       "</thead>\n",
       "<tbody>\n",
       "\t<tr><td>Z5100</td><td>A0A4Q2TPW7</td></tr>\n",
       "</tbody>\n",
       "</table>\n"
      ],
      "text/latex": [
       "A data.frame: 1 × 2\n",
       "\\begin{tabular}{r|ll}\n",
       " kegg & uniprot\\\\\n",
       " <chr> & <chr>\\\\\n",
       "\\hline\n",
       "\t Z5100 & A0A4Q2TPW7\\\\\n",
       "\\end{tabular}\n"
      ],
      "text/markdown": [
       "\n",
       "A data.frame: 1 × 2\n",
       "\n",
       "| kegg &lt;chr&gt; | uniprot &lt;chr&gt; |\n",
       "|---|---|\n",
       "| Z5100 | A0A4Q2TPW7 |\n",
       "\n"
      ],
      "text/plain": [
       "  kegg  uniprot   \n",
       "1 Z5100 A0A4Q2TPW7"
      ]
     },
     "metadata": {},
     "output_type": "display_data"
    }
   ],
   "source": [
    "bitr_kegg(\"Z5100\", fromType=\"kegg\", toType='uniprot', organism='ece')"
   ]
  },
  {
   "cell_type": "markdown",
   "metadata": {
    "lines_to_next_cell": 0
   },
   "source": [
    "14.2 setReadable: translating gene IDs to human readable symbols\n"
   ]
  },
  {
   "cell_type": "code",
   "execution_count": 10,
   "metadata": {},
   "outputs": [],
   "source": [
    "library(org.Hs.eg.db)\n",
    "library(clusterProfiler)"
   ]
  },
  {
   "cell_type": "code",
   "execution_count": 11,
   "metadata": {},
   "outputs": [
    {
     "name": "stderr",
     "output_type": "stream",
     "text": [
      "Reading KEGG annotation online:\n",
      "\n",
      "Reading KEGG annotation online:\n",
      "\n"
     ]
    },
    {
     "data": {
      "text/html": [
       "<table>\n",
       "<caption>A data.frame: 3 × 9</caption>\n",
       "<thead>\n",
       "\t<tr><th></th><th scope=col>ID</th><th scope=col>Description</th><th scope=col>GeneRatio</th><th scope=col>BgRatio</th><th scope=col>pvalue</th><th scope=col>p.adjust</th><th scope=col>qvalue</th><th scope=col>geneID</th><th scope=col>Count</th></tr>\n",
       "\t<tr><th></th><th scope=col>&lt;chr&gt;</th><th scope=col>&lt;chr&gt;</th><th scope=col>&lt;chr&gt;</th><th scope=col>&lt;chr&gt;</th><th scope=col>&lt;dbl&gt;</th><th scope=col>&lt;dbl&gt;</th><th scope=col>&lt;dbl&gt;</th><th scope=col>&lt;chr&gt;</th><th scope=col>&lt;int&gt;</th></tr>\n",
       "</thead>\n",
       "<tbody>\n",
       "\t<tr><th scope=row>hsa04110</th><td>hsa04110</td><td>Cell cycle         </td><td>8/48</td><td>124/8040</td><td>5.744707e-07</td><td>6.548966e-05</td><td>5.986589e-05</td><td>8318/991/9133/890/983/4085/7272/1111</td><td>8</td></tr>\n",
       "\t<tr><th scope=row>hsa04218</th><td>hsa04218</td><td>Cellular senescence</td><td>7/48</td><td>160/8040</td><td>4.019984e-05</td><td>2.291391e-03</td><td>2.094623e-03</td><td>2305/4605/9133/890/983/51806/1111   </td><td>7</td></tr>\n",
       "\t<tr><th scope=row>hsa04114</th><td>hsa04114</td><td>Oocyte meiosis     </td><td>6/48</td><td>128/8040</td><td>1.027281e-04</td><td>3.903668e-03</td><td>3.568450e-03</td><td>991/9133/983/4085/51806/6790        </td><td>6</td></tr>\n",
       "</tbody>\n",
       "</table>\n"
      ],
      "text/latex": [
       "A data.frame: 3 × 9\n",
       "\\begin{tabular}{r|lllllllll}\n",
       "  & ID & Description & GeneRatio & BgRatio & pvalue & p.adjust & qvalue & geneID & Count\\\\\n",
       "  & <chr> & <chr> & <chr> & <chr> & <dbl> & <dbl> & <dbl> & <chr> & <int>\\\\\n",
       "\\hline\n",
       "\thsa04110 & hsa04110 & Cell cycle          & 8/48 & 124/8040 & 5.744707e-07 & 6.548966e-05 & 5.986589e-05 & 8318/991/9133/890/983/4085/7272/1111 & 8\\\\\n",
       "\thsa04218 & hsa04218 & Cellular senescence & 7/48 & 160/8040 & 4.019984e-05 & 2.291391e-03 & 2.094623e-03 & 2305/4605/9133/890/983/51806/1111    & 7\\\\\n",
       "\thsa04114 & hsa04114 & Oocyte meiosis      & 6/48 & 128/8040 & 1.027281e-04 & 3.903668e-03 & 3.568450e-03 & 991/9133/983/4085/51806/6790         & 6\\\\\n",
       "\\end{tabular}\n"
      ],
      "text/markdown": [
       "\n",
       "A data.frame: 3 × 9\n",
       "\n",
       "| <!--/--> | ID &lt;chr&gt; | Description &lt;chr&gt; | GeneRatio &lt;chr&gt; | BgRatio &lt;chr&gt; | pvalue &lt;dbl&gt; | p.adjust &lt;dbl&gt; | qvalue &lt;dbl&gt; | geneID &lt;chr&gt; | Count &lt;int&gt; |\n",
       "|---|---|---|---|---|---|---|---|---|---|\n",
       "| hsa04110 | hsa04110 | Cell cycle          | 8/48 | 124/8040 | 5.744707e-07 | 6.548966e-05 | 5.986589e-05 | 8318/991/9133/890/983/4085/7272/1111 | 8 |\n",
       "| hsa04218 | hsa04218 | Cellular senescence | 7/48 | 160/8040 | 4.019984e-05 | 2.291391e-03 | 2.094623e-03 | 2305/4605/9133/890/983/51806/1111    | 7 |\n",
       "| hsa04114 | hsa04114 | Oocyte meiosis      | 6/48 | 128/8040 | 1.027281e-04 | 3.903668e-03 | 3.568450e-03 | 991/9133/983/4085/51806/6790         | 6 |\n",
       "\n"
      ],
      "text/plain": [
       "         ID       Description         GeneRatio BgRatio  pvalue      \n",
       "hsa04110 hsa04110 Cell cycle          8/48      124/8040 5.744707e-07\n",
       "hsa04218 hsa04218 Cellular senescence 7/48      160/8040 4.019984e-05\n",
       "hsa04114 hsa04114 Oocyte meiosis      6/48      128/8040 1.027281e-04\n",
       "         p.adjust     qvalue       geneID                               Count\n",
       "hsa04110 6.548966e-05 5.986589e-05 8318/991/9133/890/983/4085/7272/1111 8    \n",
       "hsa04218 2.291391e-03 2.094623e-03 2305/4605/9133/890/983/51806/1111    7    \n",
       "hsa04114 3.903668e-03 3.568450e-03 991/9133/983/4085/51806/6790         6    "
      ]
     },
     "metadata": {},
     "output_type": "display_data"
    }
   ],
   "source": [
    "data(geneList, package=\"DOSE\")\n",
    "de <- names(geneList)[1:100]\n",
    "x <- enrichKEGG(de)\n",
    "## The geneID column is ENTREZID\n",
    "head(x, 3)"
   ]
  },
  {
   "cell_type": "code",
   "execution_count": 12,
   "metadata": {
    "lines_to_next_cell": 2
   },
   "outputs": [
    {
     "data": {
      "text/html": [
       "<table>\n",
       "<caption>A data.frame: 3 × 9</caption>\n",
       "<thead>\n",
       "\t<tr><th></th><th scope=col>ID</th><th scope=col>Description</th><th scope=col>GeneRatio</th><th scope=col>BgRatio</th><th scope=col>pvalue</th><th scope=col>p.adjust</th><th scope=col>qvalue</th><th scope=col>geneID</th><th scope=col>Count</th></tr>\n",
       "\t<tr><th></th><th scope=col>&lt;chr&gt;</th><th scope=col>&lt;chr&gt;</th><th scope=col>&lt;chr&gt;</th><th scope=col>&lt;chr&gt;</th><th scope=col>&lt;dbl&gt;</th><th scope=col>&lt;dbl&gt;</th><th scope=col>&lt;dbl&gt;</th><th scope=col>&lt;chr&gt;</th><th scope=col>&lt;int&gt;</th></tr>\n",
       "</thead>\n",
       "<tbody>\n",
       "\t<tr><th scope=row>hsa04110</th><td>hsa04110</td><td>Cell cycle         </td><td>8/48</td><td>124/8040</td><td>5.744707e-07</td><td>6.548966e-05</td><td>5.986589e-05</td><td>CDC45/CDC20/CCNB2/CCNA2/CDK1/MAD2L1/TTK/CHEK1</td><td>8</td></tr>\n",
       "\t<tr><th scope=row>hsa04218</th><td>hsa04218</td><td>Cellular senescence</td><td>7/48</td><td>160/8040</td><td>4.019984e-05</td><td>2.291391e-03</td><td>2.094623e-03</td><td>FOXM1/MYBL2/CCNB2/CCNA2/CDK1/CALML5/CHEK1    </td><td>7</td></tr>\n",
       "\t<tr><th scope=row>hsa04114</th><td>hsa04114</td><td>Oocyte meiosis     </td><td>6/48</td><td>128/8040</td><td>1.027281e-04</td><td>3.903668e-03</td><td>3.568450e-03</td><td>CDC20/CCNB2/CDK1/MAD2L1/CALML5/AURKA         </td><td>6</td></tr>\n",
       "</tbody>\n",
       "</table>\n"
      ],
      "text/latex": [
       "A data.frame: 3 × 9\n",
       "\\begin{tabular}{r|lllllllll}\n",
       "  & ID & Description & GeneRatio & BgRatio & pvalue & p.adjust & qvalue & geneID & Count\\\\\n",
       "  & <chr> & <chr> & <chr> & <chr> & <dbl> & <dbl> & <dbl> & <chr> & <int>\\\\\n",
       "\\hline\n",
       "\thsa04110 & hsa04110 & Cell cycle          & 8/48 & 124/8040 & 5.744707e-07 & 6.548966e-05 & 5.986589e-05 & CDC45/CDC20/CCNB2/CCNA2/CDK1/MAD2L1/TTK/CHEK1 & 8\\\\\n",
       "\thsa04218 & hsa04218 & Cellular senescence & 7/48 & 160/8040 & 4.019984e-05 & 2.291391e-03 & 2.094623e-03 & FOXM1/MYBL2/CCNB2/CCNA2/CDK1/CALML5/CHEK1     & 7\\\\\n",
       "\thsa04114 & hsa04114 & Oocyte meiosis      & 6/48 & 128/8040 & 1.027281e-04 & 3.903668e-03 & 3.568450e-03 & CDC20/CCNB2/CDK1/MAD2L1/CALML5/AURKA          & 6\\\\\n",
       "\\end{tabular}\n"
      ],
      "text/markdown": [
       "\n",
       "A data.frame: 3 × 9\n",
       "\n",
       "| <!--/--> | ID &lt;chr&gt; | Description &lt;chr&gt; | GeneRatio &lt;chr&gt; | BgRatio &lt;chr&gt; | pvalue &lt;dbl&gt; | p.adjust &lt;dbl&gt; | qvalue &lt;dbl&gt; | geneID &lt;chr&gt; | Count &lt;int&gt; |\n",
       "|---|---|---|---|---|---|---|---|---|---|\n",
       "| hsa04110 | hsa04110 | Cell cycle          | 8/48 | 124/8040 | 5.744707e-07 | 6.548966e-05 | 5.986589e-05 | CDC45/CDC20/CCNB2/CCNA2/CDK1/MAD2L1/TTK/CHEK1 | 8 |\n",
       "| hsa04218 | hsa04218 | Cellular senescence | 7/48 | 160/8040 | 4.019984e-05 | 2.291391e-03 | 2.094623e-03 | FOXM1/MYBL2/CCNB2/CCNA2/CDK1/CALML5/CHEK1     | 7 |\n",
       "| hsa04114 | hsa04114 | Oocyte meiosis      | 6/48 | 128/8040 | 1.027281e-04 | 3.903668e-03 | 3.568450e-03 | CDC20/CCNB2/CDK1/MAD2L1/CALML5/AURKA          | 6 |\n",
       "\n"
      ],
      "text/plain": [
       "         ID       Description         GeneRatio BgRatio  pvalue      \n",
       "hsa04110 hsa04110 Cell cycle          8/48      124/8040 5.744707e-07\n",
       "hsa04218 hsa04218 Cellular senescence 7/48      160/8040 4.019984e-05\n",
       "hsa04114 hsa04114 Oocyte meiosis      6/48      128/8040 1.027281e-04\n",
       "         p.adjust     qvalue      \n",
       "hsa04110 6.548966e-05 5.986589e-05\n",
       "hsa04218 2.291391e-03 2.094623e-03\n",
       "hsa04114 3.903668e-03 3.568450e-03\n",
       "         geneID                                        Count\n",
       "hsa04110 CDC45/CDC20/CCNB2/CCNA2/CDK1/MAD2L1/TTK/CHEK1 8    \n",
       "hsa04218 FOXM1/MYBL2/CCNB2/CCNA2/CDK1/CALML5/CHEK1     7    \n",
       "hsa04114 CDC20/CCNB2/CDK1/MAD2L1/CALML5/AURKA          6    "
      ]
     },
     "metadata": {},
     "output_type": "display_data"
    }
   ],
   "source": [
    "y <- setReadable(x, OrgDb = org.Hs.eg.db, keyType=\"ENTREZID\")\n",
    "## The geneID column is translated to symbol\n",
    "head(y, 3)"
   ]
  },
  {
   "cell_type": "code",
   "execution_count": null,
   "metadata": {},
   "outputs": [],
   "source": []
  }
 ],
 "metadata": {
  "jupytext": {
   "cell_metadata_filter": "-all",
   "notebook_metadata_filter": "-all",
   "text_representation": {
    "extension": ".R",
    "format_name": "spin"
   }
  },
  "kernelspec": {
   "display_name": "R",
   "language": "R",
   "name": "ir"
  },
  "language_info": {
   "codemirror_mode": "r",
   "file_extension": ".r",
   "mimetype": "text/x-r-source",
   "name": "R",
   "pygments_lexer": "r",
   "version": "3.6.1"
  }
 },
 "nbformat": 4,
 "nbformat_minor": 4
}
