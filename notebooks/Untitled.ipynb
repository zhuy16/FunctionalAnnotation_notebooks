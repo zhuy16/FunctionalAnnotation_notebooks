{
 "cells": [
  {
   "cell_type": "code",
   "execution_count": null,
   "metadata": {},
   "outputs": [
    {
     "name": "stdout",
     "output_type": "stream",
     "text": [
      "B Cell Receptor Signaling Pathway%WikiPathways_20180810%WP23%Homo sapiens       http://www.wikipathways.org/instance/WP23_r92558        4690    5781    11184   6195    4609    998     5777    10892   3635    4208    2308    4209    2549    4067    6885    640     118788  84433   5788    7462    6654    3662    3265    8394    8395    29760   1871    930     933     815     3932    2969    5294    5295    5296    5970    3551    5170    5608    23396   5601    5966    5604    5605    27071   5580    7006    4773    1385    1380    673     25780   5335    5336    5579    100847070       8462    5594    7410    5596    1147    2113    1386    4775    207     604     3608    7409    3725    4790    6452    5880    6850    4792    2889    695     2885    1432    973     1399    3059    974     1398    2002    975     5599    4149    5879    6464    5894    26469   2932    2931    2534    8517    867     9846    8915\n",
      "Trans-sulfuration pathway%WikiPathways_20180810%WP2333%Homo sapiens     http://www.wikipathways.org/instance/WP2333_r72015      1786    2730    27430   875     191     4357    1491    2805    4548    51380\n",
      "Nanoparticle triggered autophagic cell death%WikiPathways_20180810%WP2509%Homo sapiens  http://www.wikipathways.org/instance/WP2509_r92315      9474    8678    7248    285973  64422   55054   22863   406991  9140    83734   596     51100   84557   115201  3630    55626   7249    3643    81671   7405    10036   8408    9706    10533\n",
      "Benzene metabolism%WikiPathways_20180810%WP3891%Homo sapiens    http://www.wikipathways.org/instance/WP3891_r97681      2944    27294   4353    1571    1728    2052\n",
      "\u001b[7mbrary_3.5.2/clusterProfiler/extdata/wikipathways-20180810-gmt-Homo_sapiens.gmt\u001b[m\u001b[K"
     ]
    }
   ],
   "source": [
    "! cd /usr/local/apps/R/3.5/site-library_3.5.2/clusterProfiler/extdata/\n",
    "! less /usr/local/apps/R/3.5/site-library_3.5.2/clusterProfiler/extdata/wikipathways-20180810-gmt-Homo_sapiens.gmt"
   ]
  }
 ],
 "metadata": {
  "kernelspec": {
   "display_name": "Python 3",
   "language": "python",
   "name": "python3"
  },
  "language_info": {
   "codemirror_mode": {
    "name": "ipython",
    "version": 3
   },
   "file_extension": ".py",
   "mimetype": "text/x-python",
   "name": "python",
   "nbconvert_exporter": "python",
   "pygments_lexer": "ipython3",
   "version": "3.8.1"
  }
 },
 "nbformat": 4,
 "nbformat_minor": 4
}
