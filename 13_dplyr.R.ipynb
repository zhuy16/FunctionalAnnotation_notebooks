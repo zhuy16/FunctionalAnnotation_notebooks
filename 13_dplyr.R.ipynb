{
 "cells": [
  {
   "cell_type": "markdown",
   "metadata": {},
   "source": [
    "Chapter 13 dplyr verbs for clusterProfiler"
   ]
  },
  {
   "cell_type": "code",
   "execution_count": null,
   "metadata": {},
   "outputs": [],
   "source": [
    "library(DOSE)\n",
    "data(geneList)\n",
    "de = names(geneList)[1:100]\n",
    "x = enrichDO(de)"
   ]
  },
  {
   "cell_type": "markdown",
   "metadata": {
    "lines_to_next_cell": 0
   },
   "source": [
    "\n",
    "13.1 filter\n"
   ]
  },
  {
   "cell_type": "code",
   "execution_count": null,
   "metadata": {},
   "outputs": [],
   "source": [
    "library(clusterProfiler.dplyr)"
   ]
  },
  {
   "cell_type": "code",
   "execution_count": null,
   "metadata": {},
   "outputs": [],
   "source": [
    "filter(x, p.adjust < .05, qvalue < 0.2)"
   ]
  },
  {
   "cell_type": "markdown",
   "metadata": {
    "lines_to_next_cell": 0
   },
   "source": [
    "13.2 arrange\n",
    "\n"
   ]
  },
  {
   "cell_type": "code",
   "execution_count": null,
   "metadata": {},
   "outputs": [],
   "source": [
    "mutate(x, geneRatio = parse_ratio(GeneRatio)) %>%\n",
    "  arrange(desc(geneRatio))"
   ]
  },
  {
   "cell_type": "markdown",
   "metadata": {
    "lines_to_next_cell": 0
   },
   "source": [
    "13.3 select\n"
   ]
  },
  {
   "cell_type": "code",
   "execution_count": null,
   "metadata": {},
   "outputs": [],
   "source": [
    "select(x, -geneID) %>% head"
   ]
  },
  {
   "cell_type": "markdown",
   "metadata": {
    "lines_to_next_cell": 0
   },
   "source": [
    "13.4 mutate\n"
   ]
  },
  {
   "cell_type": "code",
   "execution_count": null,
   "metadata": {},
   "outputs": [],
   "source": [
    "y <- mutate(x, richFactor = Count / as.numeric(sub(\"/\\\\d+\", \"\", BgRatio)))\n",
    "y"
   ]
  },
  {
   "cell_type": "code",
   "execution_count": null,
   "metadata": {},
   "outputs": [],
   "source": [
    "library(ggplot2)\n",
    "library(forcats)\n",
    "library(enrichplot)"
   ]
  },
  {
   "cell_type": "code",
   "execution_count": null,
   "metadata": {},
   "outputs": [],
   "source": [
    "ggplot(y, showCategory = 20, \n",
    "       aes(richFactor, fct_reorder(Description, richFactor))) + \n",
    "  geom_segment(aes(xend=0, yend = Description)) +\n",
    "  geom_point(aes(color=p.adjust, size = Count)) +\n",
    "  scale_color_viridis_c(guide=guide_colorbar(reverse=TRUE)) +\n",
    "  scale_size_continuous(range=c(2, 10)) +\n",
    "  theme_minimal() + \n",
    "  xlab(\"rich factor\") +\n",
    "  ylab(NULL) + \n",
    "  ggtitle(\"Enriched Disease Ontology\")"
   ]
  },
  {
   "cell_type": "code",
   "execution_count": null,
   "metadata": {},
   "outputs": [],
   "source": [
    "mutate(x, FoldEnrichment = parse_ratio(GeneRatio) / parse_ratio(BgRatio))"
   ]
  },
  {
   "cell_type": "markdown",
   "metadata": {},
   "source": [
    "13.5 slice"
   ]
  },
  {
   "cell_type": "code",
   "execution_count": null,
   "metadata": {},
   "outputs": [],
   "source": [
    "library(ReactomePA)\n",
    "data(geneList)\n",
    "x <- gsePathway(geneList)"
   ]
  },
  {
   "cell_type": "code",
   "execution_count": null,
   "metadata": {},
   "outputs": [],
   "source": [
    "library(clusterProfiler.dplyr)\n",
    "y <- arrange(x, abs(NES)) %>% \n",
    "  group_by(sign(NES)) %>% \n",
    "  slice(1:5)"
   ]
  },
  {
   "cell_type": "code",
   "execution_count": null,
   "metadata": {},
   "outputs": [],
   "source": [
    "library(forcats)\n",
    "library(ggplot2)\n",
    "library(ggstance)\n",
    "library(enrichplot)"
   ]
  },
  {
   "cell_type": "code",
   "execution_count": null,
   "metadata": {
    "lines_to_next_cell": 2
   },
   "outputs": [],
   "source": [
    "ggplot(y, aes(NES, fct_reorder(Description, NES), fill=qvalues), showCategory=10) + \n",
    "  geom_barh(stat='identity') + \n",
    "  scale_fill_continuous(low='red', high='blue', guide=guide_colorbar(reverse=TRUE)) + \n",
    "  theme_minimal() + ylab(NULL)"
   ]
  },
  {
   "cell_type": "markdown",
   "metadata": {
    "lines_to_next_cell": 0
   },
   "source": [
    "13.6 summarise\n"
   ]
  },
  {
   "cell_type": "code",
   "execution_count": null,
   "metadata": {},
   "outputs": [],
   "source": [
    "pi=seq(0, 1, length.out=11)"
   ]
  },
  {
   "cell_type": "code",
   "execution_count": null,
   "metadata": {},
   "outputs": [],
   "source": [
    "mutate(x, pp = cut(pvalue, pi)) %>%\n",
    "  group_by(pp) %>% \n",
    "  summarise(cnt = n()) %>% \n",
    "  ggplot(aes(pp, cnt)) + geom_col() + \n",
    "  theme_minimal() +\n",
    "  xlab(\"p value intervals\") +\n",
    "  ylab(\"Frequency\") + \n",
    "  ggtitle(\"p value distribution\")"
   ]
  }
 ],
 "metadata": {
  "jupytext": {
   "cell_metadata_filter": "-all",
   "notebook_metadata_filter": "-all",
   "text_representation": {
    "extension": ".R",
    "format_name": "spin"
   }
  },
  "kernelspec": {
   "display_name": "R",
   "language": "R",
   "name": "ir"
  },
  "language_info": {
   "codemirror_mode": "r",
   "file_extension": ".r",
   "mimetype": "text/x-r-source",
   "name": "R",
   "pygments_lexer": "r",
   "version": "3.6.0"
  }
 },
 "nbformat": 4,
 "nbformat_minor": 4
}
