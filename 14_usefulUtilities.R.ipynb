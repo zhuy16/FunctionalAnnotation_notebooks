{
 "cells": [
  {
   "cell_type": "code",
   "execution_count": null,
   "metadata": {},
   "outputs": [],
   "source": [
    "# Chapter 14 Useful utilities\n",
    "# 14.1 bitr: Biological Id TranslatoR"
   ]
  },
  {
   "cell_type": "code",
   "execution_count": 1,
   "metadata": {
    "lines_to_next_cell": 2
   },
   "outputs": [
    {
     "ename": "ERROR",
     "evalue": "Error in bitr(x, fromType = \"SYMBOL\", toType = \"ENTREZID\", OrgDb = \"org.Hs.eg.db\"): could not find function \"bitr\"\n",
     "output_type": "error",
     "traceback": [
      "Error in bitr(x, fromType = \"SYMBOL\", toType = \"ENTREZID\", OrgDb = \"org.Hs.eg.db\"): could not find function \"bitr\"\nTraceback:\n"
     ]
    }
   ],
   "source": [
    "x <- c(\"GPX3\",  \"GLRX\",   \"LBP\",   \"CRYAB\", \"DEFB1\", \"HCLS1\",   \"SOD2\",   \"HSPA2\",\n",
    "       \"ORM1\",  \"IGFBP1\", \"PTHLH\", \"GPC3\",  \"IGFBP3\",\"TOB1\",    \"MITF\",   \"NDRG1\",\n",
    "       \"NR1H4\", \"FGFR3\",  \"PVR\",   \"IL6\",   \"PTPRM\", \"ERBB2\",   \"NID2\",   \"LAMB1\",\n",
    "       \"COMP\",  \"PLS3\",   \"MCAM\",  \"SPP1\",  \"LAMC1\", \"COL4A2\",  \"COL4A1\", \"MYOC\",\n",
    "       \"ANXA4\", \"TFPI2\",  \"CST6\",  \"SLPI\",  \"TIMP2\", \"CPM\",     \"GGT1\",   \"NNMT\",\n",
    "       \"MAL\",   \"EEF1A2\", \"HGD\",   \"TCN2\",  \"CDA\",   \"PCCA\",    \"CRYM\",   \"PDXK\",\n",
    "       \"STC1\",  \"WARS\",  \"HMOX1\", \"FXYD2\", \"RBP4\",   \"SLC6A12\", \"KDELR3\", \"ITM2B\")\n",
    "eg = bitr(x, fromType=\"SYMBOL\", toType=\"ENTREZID\", OrgDb=\"org.Hs.eg.db\")\n",
    "head(eg)"
   ]
  },
  {
   "cell_type": "code",
   "execution_count": 2,
   "metadata": {},
   "outputs": [
    {
     "name": "stderr",
     "output_type": "stream",
     "text": [
      "Loading required package: AnnotationDbi\n",
      "\n",
      "Loading required package: stats4\n",
      "\n",
      "Loading required package: BiocGenerics\n",
      "\n",
      "Loading required package: parallel\n",
      "\n",
      "\n",
      "Attaching package: ‘BiocGenerics’\n",
      "\n",
      "\n",
      "The following objects are masked from ‘package:parallel’:\n",
      "\n",
      "    clusterApply, clusterApplyLB, clusterCall, clusterEvalQ,\n",
      "    clusterExport, clusterMap, parApply, parCapply, parLapply,\n",
      "    parLapplyLB, parRapply, parSapply, parSapplyLB\n",
      "\n",
      "\n",
      "The following objects are masked from ‘package:stats’:\n",
      "\n",
      "    IQR, mad, sd, var, xtabs\n",
      "\n",
      "\n",
      "The following objects are masked from ‘package:base’:\n",
      "\n",
      "    anyDuplicated, append, as.data.frame, basename, cbind, colnames,\n",
      "    dirname, do.call, duplicated, eval, evalq, Filter, Find, get, grep,\n",
      "    grepl, intersect, is.unsorted, lapply, Map, mapply, match, mget,\n",
      "    order, paste, pmax, pmax.int, pmin, pmin.int, Position, rank,\n",
      "    rbind, Reduce, rownames, sapply, setdiff, sort, table, tapply,\n",
      "    union, unique, unsplit, which, which.max, which.min\n",
      "\n",
      "\n",
      "Loading required package: Biobase\n",
      "\n",
      "Welcome to Bioconductor\n",
      "\n",
      "    Vignettes contain introductory material; view with\n",
      "    'browseVignettes()'. To cite Bioconductor, see\n",
      "    'citation(\"Biobase\")', and for packages 'citation(\"pkgname\")'.\n",
      "\n",
      "\n",
      "Loading required package: IRanges\n",
      "\n",
      "Loading required package: S4Vectors\n",
      "\n",
      "\n",
      "Attaching package: ‘S4Vectors’\n",
      "\n",
      "\n",
      "The following object is masked from ‘package:base’:\n",
      "\n",
      "    expand.grid\n",
      "\n",
      "\n",
      "Warning message:\n",
      "“multiple methods tables found for ‘splitAsList’”\n",
      "\n",
      "Attaching package: ‘IRanges’\n",
      "\n",
      "\n",
      "The following object is masked from ‘package:S4Vectors’:\n",
      "\n",
      "    splitAsList\n",
      "\n",
      "\n",
      "Warning message:\n",
      "“replacing previous import ‘S4Vectors::splitAsList’ by ‘IRanges::splitAsList’ when loading ‘AnnotationDbi’”\n",
      "\n",
      "\n"
     ]
    },
    {
     "data": {
      "text/html": [
       "<ol class=list-inline>\n",
       "\t<li>'ACCNUM'</li>\n",
       "\t<li>'ALIAS'</li>\n",
       "\t<li>'ENSEMBL'</li>\n",
       "\t<li>'ENSEMBLPROT'</li>\n",
       "\t<li>'ENSEMBLTRANS'</li>\n",
       "\t<li>'ENTREZID'</li>\n",
       "\t<li>'ENZYME'</li>\n",
       "\t<li>'EVIDENCE'</li>\n",
       "\t<li>'EVIDENCEALL'</li>\n",
       "\t<li>'GENENAME'</li>\n",
       "\t<li>'GO'</li>\n",
       "\t<li>'GOALL'</li>\n",
       "\t<li>'IPI'</li>\n",
       "\t<li>'MAP'</li>\n",
       "\t<li>'OMIM'</li>\n",
       "\t<li>'ONTOLOGY'</li>\n",
       "\t<li>'ONTOLOGYALL'</li>\n",
       "\t<li>'PATH'</li>\n",
       "\t<li>'PFAM'</li>\n",
       "\t<li>'PMID'</li>\n",
       "\t<li>'PROSITE'</li>\n",
       "\t<li>'REFSEQ'</li>\n",
       "\t<li>'SYMBOL'</li>\n",
       "\t<li>'UCSCKG'</li>\n",
       "\t<li>'UNIGENE'</li>\n",
       "\t<li>'UNIPROT'</li>\n",
       "</ol>\n"
      ],
      "text/latex": [
       "\\begin{enumerate*}\n",
       "\\item 'ACCNUM'\n",
       "\\item 'ALIAS'\n",
       "\\item 'ENSEMBL'\n",
       "\\item 'ENSEMBLPROT'\n",
       "\\item 'ENSEMBLTRANS'\n",
       "\\item 'ENTREZID'\n",
       "\\item 'ENZYME'\n",
       "\\item 'EVIDENCE'\n",
       "\\item 'EVIDENCEALL'\n",
       "\\item 'GENENAME'\n",
       "\\item 'GO'\n",
       "\\item 'GOALL'\n",
       "\\item 'IPI'\n",
       "\\item 'MAP'\n",
       "\\item 'OMIM'\n",
       "\\item 'ONTOLOGY'\n",
       "\\item 'ONTOLOGYALL'\n",
       "\\item 'PATH'\n",
       "\\item 'PFAM'\n",
       "\\item 'PMID'\n",
       "\\item 'PROSITE'\n",
       "\\item 'REFSEQ'\n",
       "\\item 'SYMBOL'\n",
       "\\item 'UCSCKG'\n",
       "\\item 'UNIGENE'\n",
       "\\item 'UNIPROT'\n",
       "\\end{enumerate*}\n"
      ],
      "text/markdown": [
       "1. 'ACCNUM'\n",
       "2. 'ALIAS'\n",
       "3. 'ENSEMBL'\n",
       "4. 'ENSEMBLPROT'\n",
       "5. 'ENSEMBLTRANS'\n",
       "6. 'ENTREZID'\n",
       "7. 'ENZYME'\n",
       "8. 'EVIDENCE'\n",
       "9. 'EVIDENCEALL'\n",
       "10. 'GENENAME'\n",
       "11. 'GO'\n",
       "12. 'GOALL'\n",
       "13. 'IPI'\n",
       "14. 'MAP'\n",
       "15. 'OMIM'\n",
       "16. 'ONTOLOGY'\n",
       "17. 'ONTOLOGYALL'\n",
       "18. 'PATH'\n",
       "19. 'PFAM'\n",
       "20. 'PMID'\n",
       "21. 'PROSITE'\n",
       "22. 'REFSEQ'\n",
       "23. 'SYMBOL'\n",
       "24. 'UCSCKG'\n",
       "25. 'UNIGENE'\n",
       "26. 'UNIPROT'\n",
       "\n",
       "\n"
      ],
      "text/plain": [
       " [1] \"ACCNUM\"       \"ALIAS\"        \"ENSEMBL\"      \"ENSEMBLPROT\"  \"ENSEMBLTRANS\"\n",
       " [6] \"ENTREZID\"     \"ENZYME\"       \"EVIDENCE\"     \"EVIDENCEALL\"  \"GENENAME\"    \n",
       "[11] \"GO\"           \"GOALL\"        \"IPI\"          \"MAP\"          \"OMIM\"        \n",
       "[16] \"ONTOLOGY\"     \"ONTOLOGYALL\"  \"PATH\"         \"PFAM\"         \"PMID\"        \n",
       "[21] \"PROSITE\"      \"REFSEQ\"       \"SYMBOL\"       \"UCSCKG\"       \"UNIGENE\"     \n",
       "[26] \"UNIPROT\"     "
      ]
     },
     "metadata": {},
     "output_type": "display_data"
    }
   ],
   "source": [
    "library(org.Hs.eg.db)\n",
    "keytypes(org.Hs.eg.db)"
   ]
  },
  {
   "cell_type": "code",
   "execution_count": 3,
   "metadata": {},
   "outputs": [
    {
     "ename": "ERROR",
     "evalue": "Error in bitr(x, fromType = \"SYMBOL\", toType = c(\"UNIPROT\", \"ENSEMBL\"), : could not find function \"bitr\"\n",
     "output_type": "error",
     "traceback": [
      "Error in bitr(x, fromType = \"SYMBOL\", toType = c(\"UNIPROT\", \"ENSEMBL\"), : could not find function \"bitr\"\nTraceback:\n"
     ]
    }
   ],
   "source": [
    "ids <- bitr(x, fromType=\"SYMBOL\", toType=c(\"UNIPROT\", \"ENSEMBL\"), OrgDb=\"org.Hs.eg.db\")\n",
    "head(ids)"
   ]
  },
  {
   "cell_type": "markdown",
   "metadata": {},
   "source": [
    "14.1.1 bitr_kegg: converting biological IDs using KEGG API"
   ]
  },
  {
   "cell_type": "code",
   "execution_count": 4,
   "metadata": {},
   "outputs": [
    {
     "name": "stderr",
     "output_type": "stream",
     "text": [
      "Warning message in data(gcSample):\n",
      "“data set ‘gcSample’ not found”\n"
     ]
    },
    {
     "ename": "ERROR",
     "evalue": "Error in eval(expr, envir, enclos): object 'gcSample' not found\n",
     "output_type": "error",
     "traceback": [
      "Error in eval(expr, envir, enclos): object 'gcSample' not found\nTraceback:\n"
     ]
    }
   ],
   "source": [
    "data(gcSample)\n",
    "hg <- gcSample[[1]]\n",
    "head(hg)"
   ]
  },
  {
   "cell_type": "code",
   "execution_count": 5,
   "metadata": {},
   "outputs": [
    {
     "ename": "ERROR",
     "evalue": "Error in bitr_kegg(hg, fromType = \"kegg\", toType = \"ncbi-proteinid\", organism = \"hsa\"): could not find function \"bitr_kegg\"\n",
     "output_type": "error",
     "traceback": [
      "Error in bitr_kegg(hg, fromType = \"kegg\", toType = \"ncbi-proteinid\", organism = \"hsa\"): could not find function \"bitr_kegg\"\nTraceback:\n"
     ]
    }
   ],
   "source": [
    "eg2np <- bitr_kegg(hg, fromType='kegg', toType='ncbi-proteinid', organism='hsa')\n",
    "head(eg2np)"
   ]
  },
  {
   "cell_type": "code",
   "execution_count": 6,
   "metadata": {},
   "outputs": [
    {
     "ename": "ERROR",
     "evalue": "Error in bitr_kegg(\"Z5100\", fromType = \"kegg\", toType = \"ncbi-geneid\", : could not find function \"bitr_kegg\"\n",
     "output_type": "error",
     "traceback": [
      "Error in bitr_kegg(\"Z5100\", fromType = \"kegg\", toType = \"ncbi-geneid\", : could not find function \"bitr_kegg\"\nTraceback:\n"
     ]
    }
   ],
   "source": [
    "bitr_kegg(\"Z5100\", fromType=\"kegg\", toType='ncbi-geneid', organism='ece')"
   ]
  },
  {
   "cell_type": "code",
   "execution_count": 7,
   "metadata": {},
   "outputs": [
    {
     "ename": "ERROR",
     "evalue": "Error in bitr_kegg(\"Z5100\", fromType = \"kegg\", toType = \"ncbi-proteinid\", : could not find function \"bitr_kegg\"\n",
     "output_type": "error",
     "traceback": [
      "Error in bitr_kegg(\"Z5100\", fromType = \"kegg\", toType = \"ncbi-proteinid\", : could not find function \"bitr_kegg\"\nTraceback:\n"
     ]
    }
   ],
   "source": [
    "bitr_kegg(\"Z5100\", fromType=\"kegg\", toType='ncbi-proteinid', organism='ece')"
   ]
  },
  {
   "cell_type": "code",
   "execution_count": 8,
   "metadata": {},
   "outputs": [
    {
     "ename": "ERROR",
     "evalue": "Error in bitr_kegg(\"Z5100\", fromType = \"kegg\", toType = \"uniprot\", organism = \"ece\"): could not find function \"bitr_kegg\"\n",
     "output_type": "error",
     "traceback": [
      "Error in bitr_kegg(\"Z5100\", fromType = \"kegg\", toType = \"uniprot\", organism = \"ece\"): could not find function \"bitr_kegg\"\nTraceback:\n"
     ]
    }
   ],
   "source": [
    "bitr_kegg(\"Z5100\", fromType=\"kegg\", toType='uniprot', organism='ece')"
   ]
  },
  {
   "cell_type": "markdown",
   "metadata": {
    "lines_to_next_cell": 0
   },
   "source": [
    "14.2 setReadable: translating gene IDs to human readable symbols\n"
   ]
  },
  {
   "cell_type": "code",
   "execution_count": 9,
   "metadata": {},
   "outputs": [
    {
     "name": "stderr",
     "output_type": "stream",
     "text": [
      "\n",
      "\n",
      "clusterProfiler v3.17.0  For help: https://guangchuangyu.github.io/software/clusterProfiler\n",
      "\n",
      "If you use clusterProfiler in published research, please cite:\n",
      "Guangchuang Yu, Li-Gen Wang, Yanyan Han, Qing-Yu He. clusterProfiler: an R package for comparing biological themes among gene clusters. OMICS: A Journal of Integrative Biology. 2012, 16(5):284-287.\n",
      "\n",
      "\n",
      "Attaching package: ‘clusterProfiler’\n",
      "\n",
      "\n",
      "The following object is masked from ‘package:AnnotationDbi’:\n",
      "\n",
      "    select\n",
      "\n",
      "\n",
      "The following object is masked from ‘package:IRanges’:\n",
      "\n",
      "    slice\n",
      "\n",
      "\n",
      "The following object is masked from ‘package:S4Vectors’:\n",
      "\n",
      "    rename\n",
      "\n",
      "\n",
      "The following object is masked from ‘package:stats’:\n",
      "\n",
      "    filter\n",
      "\n",
      "\n"
     ]
    }
   ],
   "source": [
    "library(org.Hs.eg.db)\n",
    "library(clusterProfiler)"
   ]
  },
  {
   "cell_type": "code",
   "execution_count": 10,
   "metadata": {},
   "outputs": [
    {
     "name": "stderr",
     "output_type": "stream",
     "text": [
      "Reading KEGG annotation online:\n",
      "\n",
      "\n",
      "Reading KEGG annotation online:\n",
      "\n",
      "\n"
     ]
    },
    {
     "data": {
      "text/html": [
       "<table>\n",
       "<caption>A data.frame: 3 × 9</caption>\n",
       "<thead>\n",
       "\t<tr><th></th><th scope=col>ID</th><th scope=col>Description</th><th scope=col>GeneRatio</th><th scope=col>BgRatio</th><th scope=col>pvalue</th><th scope=col>p.adjust</th><th scope=col>qvalue</th><th scope=col>geneID</th><th scope=col>Count</th></tr>\n",
       "\t<tr><th></th><th scope=col>&lt;chr&gt;</th><th scope=col>&lt;chr&gt;</th><th scope=col>&lt;chr&gt;</th><th scope=col>&lt;chr&gt;</th><th scope=col>&lt;dbl&gt;</th><th scope=col>&lt;dbl&gt;</th><th scope=col>&lt;dbl&gt;</th><th scope=col>&lt;chr&gt;</th><th scope=col>&lt;int&gt;</th></tr>\n",
       "</thead>\n",
       "<tbody>\n",
       "\t<tr><th scope=row>hsa04110</th><td>hsa04110</td><td>Cell cycle         </td><td>8/48</td><td>124/8038</td><td>5.755413e-07</td><td>6.561171e-05</td><td>5.997746e-05</td><td>8318/991/9133/890/983/4085/7272/1111</td><td>8</td></tr>\n",
       "\t<tr><th scope=row>hsa04218</th><td>hsa04218</td><td>Cellular senescence</td><td>7/48</td><td>160/8038</td><td>4.026301e-05</td><td>2.294992e-03</td><td>2.097915e-03</td><td>2305/4605/9133/890/983/51806/1111   </td><td>7</td></tr>\n",
       "\t<tr><th scope=row>hsa04114</th><td>hsa04114</td><td>Oocyte meiosis     </td><td>6/48</td><td>128/8038</td><td>1.028675e-04</td><td>3.908967e-03</td><td>3.573294e-03</td><td>991/9133/983/4085/51806/6790        </td><td>6</td></tr>\n",
       "</tbody>\n",
       "</table>\n"
      ],
      "text/latex": [
       "A data.frame: 3 × 9\n",
       "\\begin{tabular}{r|lllllllll}\n",
       "  & ID & Description & GeneRatio & BgRatio & pvalue & p.adjust & qvalue & geneID & Count\\\\\n",
       "  & <chr> & <chr> & <chr> & <chr> & <dbl> & <dbl> & <dbl> & <chr> & <int>\\\\\n",
       "\\hline\n",
       "\thsa04110 & hsa04110 & Cell cycle          & 8/48 & 124/8038 & 5.755413e-07 & 6.561171e-05 & 5.997746e-05 & 8318/991/9133/890/983/4085/7272/1111 & 8\\\\\n",
       "\thsa04218 & hsa04218 & Cellular senescence & 7/48 & 160/8038 & 4.026301e-05 & 2.294992e-03 & 2.097915e-03 & 2305/4605/9133/890/983/51806/1111    & 7\\\\\n",
       "\thsa04114 & hsa04114 & Oocyte meiosis      & 6/48 & 128/8038 & 1.028675e-04 & 3.908967e-03 & 3.573294e-03 & 991/9133/983/4085/51806/6790         & 6\\\\\n",
       "\\end{tabular}\n"
      ],
      "text/markdown": [
       "\n",
       "A data.frame: 3 × 9\n",
       "\n",
       "| <!--/--> | ID &lt;chr&gt; | Description &lt;chr&gt; | GeneRatio &lt;chr&gt; | BgRatio &lt;chr&gt; | pvalue &lt;dbl&gt; | p.adjust &lt;dbl&gt; | qvalue &lt;dbl&gt; | geneID &lt;chr&gt; | Count &lt;int&gt; |\n",
       "|---|---|---|---|---|---|---|---|---|---|\n",
       "| hsa04110 | hsa04110 | Cell cycle          | 8/48 | 124/8038 | 5.755413e-07 | 6.561171e-05 | 5.997746e-05 | 8318/991/9133/890/983/4085/7272/1111 | 8 |\n",
       "| hsa04218 | hsa04218 | Cellular senescence | 7/48 | 160/8038 | 4.026301e-05 | 2.294992e-03 | 2.097915e-03 | 2305/4605/9133/890/983/51806/1111    | 7 |\n",
       "| hsa04114 | hsa04114 | Oocyte meiosis      | 6/48 | 128/8038 | 1.028675e-04 | 3.908967e-03 | 3.573294e-03 | 991/9133/983/4085/51806/6790         | 6 |\n",
       "\n"
      ],
      "text/plain": [
       "         ID       Description         GeneRatio BgRatio  pvalue      \n",
       "hsa04110 hsa04110 Cell cycle          8/48      124/8038 5.755413e-07\n",
       "hsa04218 hsa04218 Cellular senescence 7/48      160/8038 4.026301e-05\n",
       "hsa04114 hsa04114 Oocyte meiosis      6/48      128/8038 1.028675e-04\n",
       "         p.adjust     qvalue       geneID                               Count\n",
       "hsa04110 6.561171e-05 5.997746e-05 8318/991/9133/890/983/4085/7272/1111 8    \n",
       "hsa04218 2.294992e-03 2.097915e-03 2305/4605/9133/890/983/51806/1111    7    \n",
       "hsa04114 3.908967e-03 3.573294e-03 991/9133/983/4085/51806/6790         6    "
      ]
     },
     "metadata": {},
     "output_type": "display_data"
    }
   ],
   "source": [
    "data(geneList, package=\"DOSE\")\n",
    "de <- names(geneList)[1:100]\n",
    "x <- enrichKEGG(de)\n",
    "## The geneID column is ENTREZID\n",
    "head(x, 3)"
   ]
  },
  {
   "cell_type": "code",
   "execution_count": 11,
   "metadata": {
    "lines_to_next_cell": 2
   },
   "outputs": [
    {
     "data": {
      "text/html": [
       "<table>\n",
       "<caption>A data.frame: 3 × 9</caption>\n",
       "<thead>\n",
       "\t<tr><th></th><th scope=col>ID</th><th scope=col>Description</th><th scope=col>GeneRatio</th><th scope=col>BgRatio</th><th scope=col>pvalue</th><th scope=col>p.adjust</th><th scope=col>qvalue</th><th scope=col>geneID</th><th scope=col>Count</th></tr>\n",
       "\t<tr><th></th><th scope=col>&lt;chr&gt;</th><th scope=col>&lt;chr&gt;</th><th scope=col>&lt;chr&gt;</th><th scope=col>&lt;chr&gt;</th><th scope=col>&lt;dbl&gt;</th><th scope=col>&lt;dbl&gt;</th><th scope=col>&lt;dbl&gt;</th><th scope=col>&lt;chr&gt;</th><th scope=col>&lt;int&gt;</th></tr>\n",
       "</thead>\n",
       "<tbody>\n",
       "\t<tr><th scope=row>hsa04110</th><td>hsa04110</td><td>Cell cycle         </td><td>8/48</td><td>124/8038</td><td>5.755413e-07</td><td>6.561171e-05</td><td>5.997746e-05</td><td>CDC45/CDC20/CCNB2/CCNA2/CDK1/MAD2L1/TTK/CHEK1</td><td>8</td></tr>\n",
       "\t<tr><th scope=row>hsa04218</th><td>hsa04218</td><td>Cellular senescence</td><td>7/48</td><td>160/8038</td><td>4.026301e-05</td><td>2.294992e-03</td><td>2.097915e-03</td><td>FOXM1/MYBL2/CCNB2/CCNA2/CDK1/CALML5/CHEK1    </td><td>7</td></tr>\n",
       "\t<tr><th scope=row>hsa04114</th><td>hsa04114</td><td>Oocyte meiosis     </td><td>6/48</td><td>128/8038</td><td>1.028675e-04</td><td>3.908967e-03</td><td>3.573294e-03</td><td>CDC20/CCNB2/CDK1/MAD2L1/CALML5/AURKA         </td><td>6</td></tr>\n",
       "</tbody>\n",
       "</table>\n"
      ],
      "text/latex": [
       "A data.frame: 3 × 9\n",
       "\\begin{tabular}{r|lllllllll}\n",
       "  & ID & Description & GeneRatio & BgRatio & pvalue & p.adjust & qvalue & geneID & Count\\\\\n",
       "  & <chr> & <chr> & <chr> & <chr> & <dbl> & <dbl> & <dbl> & <chr> & <int>\\\\\n",
       "\\hline\n",
       "\thsa04110 & hsa04110 & Cell cycle          & 8/48 & 124/8038 & 5.755413e-07 & 6.561171e-05 & 5.997746e-05 & CDC45/CDC20/CCNB2/CCNA2/CDK1/MAD2L1/TTK/CHEK1 & 8\\\\\n",
       "\thsa04218 & hsa04218 & Cellular senescence & 7/48 & 160/8038 & 4.026301e-05 & 2.294992e-03 & 2.097915e-03 & FOXM1/MYBL2/CCNB2/CCNA2/CDK1/CALML5/CHEK1     & 7\\\\\n",
       "\thsa04114 & hsa04114 & Oocyte meiosis      & 6/48 & 128/8038 & 1.028675e-04 & 3.908967e-03 & 3.573294e-03 & CDC20/CCNB2/CDK1/MAD2L1/CALML5/AURKA          & 6\\\\\n",
       "\\end{tabular}\n"
      ],
      "text/markdown": [
       "\n",
       "A data.frame: 3 × 9\n",
       "\n",
       "| <!--/--> | ID &lt;chr&gt; | Description &lt;chr&gt; | GeneRatio &lt;chr&gt; | BgRatio &lt;chr&gt; | pvalue &lt;dbl&gt; | p.adjust &lt;dbl&gt; | qvalue &lt;dbl&gt; | geneID &lt;chr&gt; | Count &lt;int&gt; |\n",
       "|---|---|---|---|---|---|---|---|---|---|\n",
       "| hsa04110 | hsa04110 | Cell cycle          | 8/48 | 124/8038 | 5.755413e-07 | 6.561171e-05 | 5.997746e-05 | CDC45/CDC20/CCNB2/CCNA2/CDK1/MAD2L1/TTK/CHEK1 | 8 |\n",
       "| hsa04218 | hsa04218 | Cellular senescence | 7/48 | 160/8038 | 4.026301e-05 | 2.294992e-03 | 2.097915e-03 | FOXM1/MYBL2/CCNB2/CCNA2/CDK1/CALML5/CHEK1     | 7 |\n",
       "| hsa04114 | hsa04114 | Oocyte meiosis      | 6/48 | 128/8038 | 1.028675e-04 | 3.908967e-03 | 3.573294e-03 | CDC20/CCNB2/CDK1/MAD2L1/CALML5/AURKA          | 6 |\n",
       "\n"
      ],
      "text/plain": [
       "         ID       Description         GeneRatio BgRatio  pvalue      \n",
       "hsa04110 hsa04110 Cell cycle          8/48      124/8038 5.755413e-07\n",
       "hsa04218 hsa04218 Cellular senescence 7/48      160/8038 4.026301e-05\n",
       "hsa04114 hsa04114 Oocyte meiosis      6/48      128/8038 1.028675e-04\n",
       "         p.adjust     qvalue      \n",
       "hsa04110 6.561171e-05 5.997746e-05\n",
       "hsa04218 2.294992e-03 2.097915e-03\n",
       "hsa04114 3.908967e-03 3.573294e-03\n",
       "         geneID                                        Count\n",
       "hsa04110 CDC45/CDC20/CCNB2/CCNA2/CDK1/MAD2L1/TTK/CHEK1 8    \n",
       "hsa04218 FOXM1/MYBL2/CCNB2/CCNA2/CDK1/CALML5/CHEK1     7    \n",
       "hsa04114 CDC20/CCNB2/CDK1/MAD2L1/CALML5/AURKA          6    "
      ]
     },
     "metadata": {},
     "output_type": "display_data"
    }
   ],
   "source": [
    "y <- setReadable(x, OrgDb = org.Hs.eg.db, keyType=\"ENTREZID\")\n",
    "## The geneID column is translated to symbol\n",
    "head(y, 3)"
   ]
  },
  {
   "cell_type": "code",
   "execution_count": null,
   "metadata": {},
   "outputs": [],
   "source": []
  },
  {
   "cell_type": "code",
   "execution_count": null,
   "metadata": {},
   "outputs": [],
   "source": []
  },
  {
   "cell_type": "code",
   "execution_count": null,
   "metadata": {},
   "outputs": [],
   "source": []
  }
 ],
 "metadata": {
  "jupytext": {
   "cell_metadata_filter": "-all",
   "notebook_metadata_filter": "-all",
   "text_representation": {
    "extension": ".R",
    "format_name": "spin"
   }
  },
  "kernelspec": {
   "display_name": "R",
   "language": "R",
   "name": "ir"
  },
  "language_info": {
   "codemirror_mode": "r",
   "file_extension": ".r",
   "mimetype": "text/x-r-source",
   "name": "R",
   "pygments_lexer": "r",
   "version": "3.6.1"
  }
 },
 "nbformat": 4,
 "nbformat_minor": 4
}
