{
 "cells": [
  {
   "cell_type": "code",
   "execution_count": null,
   "metadata": {},
   "outputs": [],
   "source": [
    "# Chapter 14 Useful utilities\n",
    "# 14.1 bitr: Biological Id TranslatoR"
   ]
  },
  {
   "cell_type": "code",
   "execution_count": null,
   "metadata": {
    "lines_to_next_cell": 2
   },
   "outputs": [],
   "source": [
    "x <- c(\"GPX3\",  \"GLRX\",   \"LBP\",   \"CRYAB\", \"DEFB1\", \"HCLS1\",   \"SOD2\",   \"HSPA2\",\n",
    "       \"ORM1\",  \"IGFBP1\", \"PTHLH\", \"GPC3\",  \"IGFBP3\",\"TOB1\",    \"MITF\",   \"NDRG1\",\n",
    "       \"NR1H4\", \"FGFR3\",  \"PVR\",   \"IL6\",   \"PTPRM\", \"ERBB2\",   \"NID2\",   \"LAMB1\",\n",
    "       \"COMP\",  \"PLS3\",   \"MCAM\",  \"SPP1\",  \"LAMC1\", \"COL4A2\",  \"COL4A1\", \"MYOC\",\n",
    "       \"ANXA4\", \"TFPI2\",  \"CST6\",  \"SLPI\",  \"TIMP2\", \"CPM\",     \"GGT1\",   \"NNMT\",\n",
    "       \"MAL\",   \"EEF1A2\", \"HGD\",   \"TCN2\",  \"CDA\",   \"PCCA\",    \"CRYM\",   \"PDXK\",\n",
    "       \"STC1\",  \"WARS\",  \"HMOX1\", \"FXYD2\", \"RBP4\",   \"SLC6A12\", \"KDELR3\", \"ITM2B\")\n",
    "eg = bitr(x, fromType=\"SYMBOL\", toType=\"ENTREZID\", OrgDb=\"org.Hs.eg.db\")\n",
    "head(eg)"
   ]
  },
  {
   "cell_type": "code",
   "execution_count": null,
   "metadata": {},
   "outputs": [],
   "source": [
    "library(org.Hs.eg.db)\n",
    "keytypes(org.Hs.eg.db)"
   ]
  },
  {
   "cell_type": "code",
   "execution_count": null,
   "metadata": {},
   "outputs": [],
   "source": [
    "ids <- bitr(x, fromType=\"SYMBOL\", toType=c(\"UNIPROT\", \"ENSEMBL\"), OrgDb=\"org.Hs.eg.db\")\n",
    "head(ids)"
   ]
  },
  {
   "cell_type": "markdown",
   "metadata": {},
   "source": [
    "14.1.1 bitr_kegg: converting biological IDs using KEGG API"
   ]
  },
  {
   "cell_type": "code",
   "execution_count": null,
   "metadata": {},
   "outputs": [],
   "source": [
    "data(gcSample)\n",
    "hg <- gcSample[[1]]\n",
    "head(hg)"
   ]
  },
  {
   "cell_type": "code",
   "execution_count": null,
   "metadata": {},
   "outputs": [],
   "source": [
    "eg2np <- bitr_kegg(hg, fromType='kegg', toType='ncbi-proteinid', organism='hsa')\n",
    "head(eg2np)"
   ]
  },
  {
   "cell_type": "code",
   "execution_count": null,
   "metadata": {},
   "outputs": [],
   "source": [
    "bitr_kegg(\"Z5100\", fromType=\"kegg\", toType='ncbi-geneid', organism='ece')"
   ]
  },
  {
   "cell_type": "code",
   "execution_count": null,
   "metadata": {},
   "outputs": [],
   "source": [
    "bitr_kegg(\"Z5100\", fromType=\"kegg\", toType='ncbi-proteinid', organism='ece')"
   ]
  },
  {
   "cell_type": "code",
   "execution_count": null,
   "metadata": {},
   "outputs": [],
   "source": [
    "bitr_kegg(\"Z5100\", fromType=\"kegg\", toType='uniprot', organism='ece')"
   ]
  },
  {
   "cell_type": "markdown",
   "metadata": {
    "lines_to_next_cell": 0
   },
   "source": [
    "14.2 setReadable: translating gene IDs to human readable symbols\n"
   ]
  },
  {
   "cell_type": "code",
   "execution_count": null,
   "metadata": {},
   "outputs": [],
   "source": [
    "library(org.Hs.eg.db)\n",
    "library(clusterProfiler)"
   ]
  },
  {
   "cell_type": "code",
   "execution_count": null,
   "metadata": {},
   "outputs": [],
   "source": [
    "data(geneList, package=\"DOSE\")\n",
    "de <- names(geneList)[1:100]\n",
    "x <- enrichKEGG(de)\n",
    "## The geneID column is ENTREZID\n",
    "head(x, 3)"
   ]
  },
  {
   "cell_type": "code",
   "execution_count": null,
   "metadata": {
    "lines_to_next_cell": 2
   },
   "outputs": [],
   "source": [
    "y <- setReadable(x, OrgDb = org.Hs.eg.db, keyType=\"ENTREZID\")\n",
    "## The geneID column is translated to symbol\n",
    "head(y, 3)"
   ]
  }
 ],
 "metadata": {
  "jupytext": {
   "cell_metadata_filter": "-all",
   "notebook_metadata_filter": "-all",
   "text_representation": {
    "extension": ".R",
    "format_name": "spin"
   }
  },
  "kernelspec": {
   "display_name": "R",
   "language": "R",
   "name": "ir"
  },
  "language_info": {
   "codemirror_mode": "r",
   "file_extension": ".r",
   "mimetype": "text/x-r-source",
   "name": "R",
   "pygments_lexer": "r",
   "version": "3.6.0"
  }
 },
 "nbformat": 4,
 "nbformat_minor": 4
}
