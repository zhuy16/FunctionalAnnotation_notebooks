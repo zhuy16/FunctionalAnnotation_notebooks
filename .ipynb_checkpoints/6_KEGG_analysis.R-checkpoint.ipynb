{
 "cells": [
  {
   "cell_type": "markdown",
   "metadata": {
    "lines_to_next_cell": 0
   },
   "source": [
    "Chapter 6 KEGG analysis\n"
   ]
  },
  {
   "cell_type": "code",
   "execution_count": 1,
   "metadata": {
    "lines_to_next_cell": 2
   },
   "outputs": [
    {
     "name": "stderr",
     "output_type": "stream",
     "text": [
      "Warning message:\n",
      "“multiple methods tables found for ‘splitAsList’”\n",
      "Warning message:\n",
      "“replacing previous import ‘S4Vectors::splitAsList’ by ‘IRanges::splitAsList’ when loading ‘AnnotationDbi’”\n",
      "\n",
      "\n",
      "clusterProfiler v3.17.0  For help: https://guangchuangyu.github.io/software/clusterProfiler\n",
      "\n",
      "If you use clusterProfiler in published research, please cite:\n",
      "Guangchuang Yu, Li-Gen Wang, Yanyan Han, Qing-Yu He. clusterProfiler: an R package for comparing biological themes among gene clusters. OMICS: A Journal of Integrative Biology. 2012, 16(5):284-287.\n",
      "\n",
      "\n",
      "Attaching package: ‘clusterProfiler’\n",
      "\n",
      "\n",
      "The following object is masked from ‘package:stats’:\n",
      "\n",
      "    filter\n",
      "\n",
      "\n"
     ]
    },
    {
     "data": {
      "text/html": [
       "<table>\n",
       "<caption>A data.frame: 1 × 3</caption>\n",
       "<thead>\n",
       "\t<tr><th></th><th scope=col>kegg_code</th><th scope=col>scientific_name</th><th scope=col>common_name</th></tr>\n",
       "\t<tr><th></th><th scope=col>&lt;chr&gt;</th><th scope=col>&lt;chr&gt;</th><th scope=col>&lt;chr&gt;</th></tr>\n",
       "</thead>\n",
       "<tbody>\n",
       "\t<tr><th scope=row>366</th><td>ece</td><td>Escherichia coli O157:H7 EDL933 (EHEC)</td><td>NA</td></tr>\n",
       "</tbody>\n",
       "</table>\n"
      ],
      "text/latex": [
       "A data.frame: 1 × 3\n",
       "\\begin{tabular}{r|lll}\n",
       "  & kegg\\_code & scientific\\_name & common\\_name\\\\\n",
       "  & <chr> & <chr> & <chr>\\\\\n",
       "\\hline\n",
       "\t366 & ece & Escherichia coli O157:H7 EDL933 (EHEC) & NA\\\\\n",
       "\\end{tabular}\n"
      ],
      "text/markdown": [
       "\n",
       "A data.frame: 1 × 3\n",
       "\n",
       "| <!--/--> | kegg_code &lt;chr&gt; | scientific_name &lt;chr&gt; | common_name &lt;chr&gt; |\n",
       "|---|---|---|---|\n",
       "| 366 | ece | Escherichia coli O157:H7 EDL933 (EHEC) | NA |\n",
       "\n"
      ],
      "text/plain": [
       "    kegg_code scientific_name                        common_name\n",
       "366 ece       Escherichia coli O157:H7 EDL933 (EHEC) NA         "
      ]
     },
     "metadata": {},
     "output_type": "display_data"
    }
   ],
   "source": [
    "library(clusterProfiler)\n",
    "search_kegg_organism('ece', by='kegg_code')"
   ]
  },
  {
   "cell_type": "code",
   "execution_count": 2,
   "metadata": {},
   "outputs": [
    {
     "data": {
      "text/html": [
       "<ol class=list-inline>\n",
       "\t<li>65</li>\n",
       "\t<li>3</li>\n",
       "</ol>\n"
      ],
      "text/latex": [
       "\\begin{enumerate*}\n",
       "\\item 65\n",
       "\\item 3\n",
       "\\end{enumerate*}\n"
      ],
      "text/markdown": [
       "1. 65\n",
       "2. 3\n",
       "\n",
       "\n"
      ],
      "text/plain": [
       "[1] 65  3"
      ]
     },
     "metadata": {},
     "output_type": "display_data"
    },
    {
     "data": {
      "text/html": [
       "<table>\n",
       "<caption>A data.frame: 6 × 3</caption>\n",
       "<thead>\n",
       "\t<tr><th></th><th scope=col>kegg_code</th><th scope=col>scientific_name</th><th scope=col>common_name</th></tr>\n",
       "\t<tr><th></th><th scope=col>&lt;chr&gt;</th><th scope=col>&lt;chr&gt;</th><th scope=col>&lt;chr&gt;</th></tr>\n",
       "</thead>\n",
       "<tbody>\n",
       "\t<tr><th scope=row>361</th><td>eco </td><td>Escherichia coli K-12 MG1655          </td><td>NA</td></tr>\n",
       "\t<tr><th scope=row>362</th><td>ecj </td><td>Escherichia coli K-12 W3110           </td><td>NA</td></tr>\n",
       "\t<tr><th scope=row>363</th><td>ecd </td><td>Escherichia coli K-12 DH10B           </td><td>NA</td></tr>\n",
       "\t<tr><th scope=row>364</th><td>ebw </td><td>Escherichia coli BW2952               </td><td>NA</td></tr>\n",
       "\t<tr><th scope=row>365</th><td>ecok</td><td>Escherichia coli K-12 MDS42           </td><td>NA</td></tr>\n",
       "\t<tr><th scope=row>366</th><td>ece </td><td>Escherichia coli O157:H7 EDL933 (EHEC)</td><td>NA</td></tr>\n",
       "</tbody>\n",
       "</table>\n"
      ],
      "text/latex": [
       "A data.frame: 6 × 3\n",
       "\\begin{tabular}{r|lll}\n",
       "  & kegg\\_code & scientific\\_name & common\\_name\\\\\n",
       "  & <chr> & <chr> & <chr>\\\\\n",
       "\\hline\n",
       "\t361 & eco  & Escherichia coli K-12 MG1655           & NA\\\\\n",
       "\t362 & ecj  & Escherichia coli K-12 W3110            & NA\\\\\n",
       "\t363 & ecd  & Escherichia coli K-12 DH10B            & NA\\\\\n",
       "\t364 & ebw  & Escherichia coli BW2952                & NA\\\\\n",
       "\t365 & ecok & Escherichia coli K-12 MDS42            & NA\\\\\n",
       "\t366 & ece  & Escherichia coli O157:H7 EDL933 (EHEC) & NA\\\\\n",
       "\\end{tabular}\n"
      ],
      "text/markdown": [
       "\n",
       "A data.frame: 6 × 3\n",
       "\n",
       "| <!--/--> | kegg_code &lt;chr&gt; | scientific_name &lt;chr&gt; | common_name &lt;chr&gt; |\n",
       "|---|---|---|---|\n",
       "| 361 | eco  | Escherichia coli K-12 MG1655           | NA |\n",
       "| 362 | ecj  | Escherichia coli K-12 W3110            | NA |\n",
       "| 363 | ecd  | Escherichia coli K-12 DH10B            | NA |\n",
       "| 364 | ebw  | Escherichia coli BW2952                | NA |\n",
       "| 365 | ecok | Escherichia coli K-12 MDS42            | NA |\n",
       "| 366 | ece  | Escherichia coli O157:H7 EDL933 (EHEC) | NA |\n",
       "\n"
      ],
      "text/plain": [
       "    kegg_code scientific_name                        common_name\n",
       "361 eco       Escherichia coli K-12 MG1655           NA         \n",
       "362 ecj       Escherichia coli K-12 W3110            NA         \n",
       "363 ecd       Escherichia coli K-12 DH10B            NA         \n",
       "364 ebw       Escherichia coli BW2952                NA         \n",
       "365 ecok      Escherichia coli K-12 MDS42            NA         \n",
       "366 ece       Escherichia coli O157:H7 EDL933 (EHEC) NA         "
      ]
     },
     "metadata": {},
     "output_type": "display_data"
    }
   ],
   "source": [
    "ecoli <- search_kegg_organism('Escherichia coli', by='scientific_name')\n",
    "dim(ecoli)\n",
    "head(ecoli)"
   ]
  },
  {
   "cell_type": "markdown",
   "metadata": {},
   "source": [
    "6.1 KEGG over-representation test"
   ]
  },
  {
   "cell_type": "code",
   "execution_count": 3,
   "metadata": {},
   "outputs": [],
   "source": [
    "data(geneList, package=\"DOSE\")\n",
    "gene <- names(geneList)[abs(geneList) > 2]"
   ]
  },
  {
   "cell_type": "code",
   "execution_count": 4,
   "metadata": {},
   "outputs": [
    {
     "name": "stderr",
     "output_type": "stream",
     "text": [
      "Reading KEGG annotation online:\n",
      "\n",
      "\n",
      "Reading KEGG annotation online:\n",
      "\n",
      "\n"
     ]
    },
    {
     "data": {
      "text/html": [
       "<table>\n",
       "<caption>A data.frame: 6 × 9</caption>\n",
       "<thead>\n",
       "\t<tr><th></th><th scope=col>ID</th><th scope=col>Description</th><th scope=col>GeneRatio</th><th scope=col>BgRatio</th><th scope=col>pvalue</th><th scope=col>p.adjust</th><th scope=col>qvalue</th><th scope=col>geneID</th><th scope=col>Count</th></tr>\n",
       "\t<tr><th></th><th scope=col>&lt;chr&gt;</th><th scope=col>&lt;chr&gt;</th><th scope=col>&lt;chr&gt;</th><th scope=col>&lt;chr&gt;</th><th scope=col>&lt;dbl&gt;</th><th scope=col>&lt;dbl&gt;</th><th scope=col>&lt;dbl&gt;</th><th scope=col>&lt;chr&gt;</th><th scope=col>&lt;int&gt;</th></tr>\n",
       "</thead>\n",
       "<tbody>\n",
       "\t<tr><th scope=row>hsa04110</th><td>hsa04110</td><td>Cell cycle                                                   </td><td>11/93</td><td>124/8038</td><td>1.577081e-07</td><td>3.169933e-05</td><td>3.104359e-05</td><td>8318/991/9133/890/983/4085/7272/1111/891/4174/9232</td><td>11</td></tr>\n",
       "\t<tr><th scope=row>hsa04114</th><td>hsa04114</td><td>Oocyte meiosis                                               </td><td>10/93</td><td>128/8038</td><td>1.945538e-06</td><td>1.955265e-04</td><td>1.914819e-04</td><td>991/9133/983/4085/51806/6790/891/9232/3708/5241   </td><td>10</td></tr>\n",
       "\t<tr><th scope=row>hsa04218</th><td>hsa04218</td><td>Cellular senescence                                          </td><td>10/93</td><td>160/8038</td><td>1.440191e-05</td><td>9.271409e-04</td><td>9.079621e-04</td><td>2305/4605/9133/890/983/51806/1111/891/776/3708    </td><td>10</td></tr>\n",
       "\t<tr><th scope=row>hsa04061</th><td>hsa04061</td><td>Viral protein interaction with cytokine and cytokine receptor</td><td>8/93 </td><td>100/8038</td><td>1.845057e-05</td><td>9.271409e-04</td><td>9.079621e-04</td><td>3627/10563/6373/4283/6362/6355/9547/1524          </td><td> 8</td></tr>\n",
       "\t<tr><th scope=row>hsa03320</th><td>hsa03320</td><td>PPAR signaling pathway                                       </td><td>7/93 </td><td>77/8038 </td><td>2.750401e-05</td><td>1.105661e-03</td><td>1.082789e-03</td><td>4312/9415/9370/5105/2167/3158/5346                </td><td> 7</td></tr>\n",
       "\t<tr><th scope=row>hsa04914</th><td>hsa04914</td><td>Progesterone-mediated oocyte maturation                      </td><td>7/93 </td><td>99/8038 </td><td>1.385353e-04</td><td>4.640931e-03</td><td>4.544928e-03</td><td>9133/890/983/4085/6790/891/5241                   </td><td> 7</td></tr>\n",
       "</tbody>\n",
       "</table>\n"
      ],
      "text/latex": [
       "A data.frame: 6 × 9\n",
       "\\begin{tabular}{r|lllllllll}\n",
       "  & ID & Description & GeneRatio & BgRatio & pvalue & p.adjust & qvalue & geneID & Count\\\\\n",
       "  & <chr> & <chr> & <chr> & <chr> & <dbl> & <dbl> & <dbl> & <chr> & <int>\\\\\n",
       "\\hline\n",
       "\thsa04110 & hsa04110 & Cell cycle                                                    & 11/93 & 124/8038 & 1.577081e-07 & 3.169933e-05 & 3.104359e-05 & 8318/991/9133/890/983/4085/7272/1111/891/4174/9232 & 11\\\\\n",
       "\thsa04114 & hsa04114 & Oocyte meiosis                                                & 10/93 & 128/8038 & 1.945538e-06 & 1.955265e-04 & 1.914819e-04 & 991/9133/983/4085/51806/6790/891/9232/3708/5241    & 10\\\\\n",
       "\thsa04218 & hsa04218 & Cellular senescence                                           & 10/93 & 160/8038 & 1.440191e-05 & 9.271409e-04 & 9.079621e-04 & 2305/4605/9133/890/983/51806/1111/891/776/3708     & 10\\\\\n",
       "\thsa04061 & hsa04061 & Viral protein interaction with cytokine and cytokine receptor & 8/93  & 100/8038 & 1.845057e-05 & 9.271409e-04 & 9.079621e-04 & 3627/10563/6373/4283/6362/6355/9547/1524           &  8\\\\\n",
       "\thsa03320 & hsa03320 & PPAR signaling pathway                                        & 7/93  & 77/8038  & 2.750401e-05 & 1.105661e-03 & 1.082789e-03 & 4312/9415/9370/5105/2167/3158/5346                 &  7\\\\\n",
       "\thsa04914 & hsa04914 & Progesterone-mediated oocyte maturation                       & 7/93  & 99/8038  & 1.385353e-04 & 4.640931e-03 & 4.544928e-03 & 9133/890/983/4085/6790/891/5241                    &  7\\\\\n",
       "\\end{tabular}\n"
      ],
      "text/markdown": [
       "\n",
       "A data.frame: 6 × 9\n",
       "\n",
       "| <!--/--> | ID &lt;chr&gt; | Description &lt;chr&gt; | GeneRatio &lt;chr&gt; | BgRatio &lt;chr&gt; | pvalue &lt;dbl&gt; | p.adjust &lt;dbl&gt; | qvalue &lt;dbl&gt; | geneID &lt;chr&gt; | Count &lt;int&gt; |\n",
       "|---|---|---|---|---|---|---|---|---|---|\n",
       "| hsa04110 | hsa04110 | Cell cycle                                                    | 11/93 | 124/8038 | 1.577081e-07 | 3.169933e-05 | 3.104359e-05 | 8318/991/9133/890/983/4085/7272/1111/891/4174/9232 | 11 |\n",
       "| hsa04114 | hsa04114 | Oocyte meiosis                                                | 10/93 | 128/8038 | 1.945538e-06 | 1.955265e-04 | 1.914819e-04 | 991/9133/983/4085/51806/6790/891/9232/3708/5241    | 10 |\n",
       "| hsa04218 | hsa04218 | Cellular senescence                                           | 10/93 | 160/8038 | 1.440191e-05 | 9.271409e-04 | 9.079621e-04 | 2305/4605/9133/890/983/51806/1111/891/776/3708     | 10 |\n",
       "| hsa04061 | hsa04061 | Viral protein interaction with cytokine and cytokine receptor | 8/93  | 100/8038 | 1.845057e-05 | 9.271409e-04 | 9.079621e-04 | 3627/10563/6373/4283/6362/6355/9547/1524           |  8 |\n",
       "| hsa03320 | hsa03320 | PPAR signaling pathway                                        | 7/93  | 77/8038  | 2.750401e-05 | 1.105661e-03 | 1.082789e-03 | 4312/9415/9370/5105/2167/3158/5346                 |  7 |\n",
       "| hsa04914 | hsa04914 | Progesterone-mediated oocyte maturation                       | 7/93  | 99/8038  | 1.385353e-04 | 4.640931e-03 | 4.544928e-03 | 9133/890/983/4085/6790/891/5241                    |  7 |\n",
       "\n"
      ],
      "text/plain": [
       "         ID       Description                                                  \n",
       "hsa04110 hsa04110 Cell cycle                                                   \n",
       "hsa04114 hsa04114 Oocyte meiosis                                               \n",
       "hsa04218 hsa04218 Cellular senescence                                          \n",
       "hsa04061 hsa04061 Viral protein interaction with cytokine and cytokine receptor\n",
       "hsa03320 hsa03320 PPAR signaling pathway                                       \n",
       "hsa04914 hsa04914 Progesterone-mediated oocyte maturation                      \n",
       "         GeneRatio BgRatio  pvalue       p.adjust     qvalue      \n",
       "hsa04110 11/93     124/8038 1.577081e-07 3.169933e-05 3.104359e-05\n",
       "hsa04114 10/93     128/8038 1.945538e-06 1.955265e-04 1.914819e-04\n",
       "hsa04218 10/93     160/8038 1.440191e-05 9.271409e-04 9.079621e-04\n",
       "hsa04061 8/93      100/8038 1.845057e-05 9.271409e-04 9.079621e-04\n",
       "hsa03320 7/93      77/8038  2.750401e-05 1.105661e-03 1.082789e-03\n",
       "hsa04914 7/93      99/8038  1.385353e-04 4.640931e-03 4.544928e-03\n",
       "         geneID                                             Count\n",
       "hsa04110 8318/991/9133/890/983/4085/7272/1111/891/4174/9232 11   \n",
       "hsa04114 991/9133/983/4085/51806/6790/891/9232/3708/5241    10   \n",
       "hsa04218 2305/4605/9133/890/983/51806/1111/891/776/3708     10   \n",
       "hsa04061 3627/10563/6373/4283/6362/6355/9547/1524            8   \n",
       "hsa03320 4312/9415/9370/5105/2167/3158/5346                  7   \n",
       "hsa04914 9133/890/983/4085/6790/891/5241                     7   "
      ]
     },
     "metadata": {},
     "output_type": "display_data"
    }
   ],
   "source": [
    "kk <- enrichKEGG(gene         = gene,\n",
    "                 organism     = 'hsa',\n",
    "                 pvalueCutoff = 0.05)\n",
    "head(kk)"
   ]
  },
  {
   "cell_type": "markdown",
   "metadata": {
    "lines_to_next_cell": 0
   },
   "source": [
    "6.2 KEGG Gene Set Enrichment Analysis\n"
   ]
  },
  {
   "cell_type": "code",
   "execution_count": 5,
   "metadata": {},
   "outputs": [
    {
     "name": "stderr",
     "output_type": "stream",
     "text": [
      "Warning message in .GSEA(geneList = geneList, exponent = exponent, minGSSize = minGSSize, :\n",
      "“We do not recommend using nPerm parameter incurrent and future releases”\n",
      "Warning message in fgsea(pathways = geneSets, stats = geneList, nperm = nPerm, minSize = minGSSize, :\n",
      "“You are trying to run fgseaSimple. It is recommended to use fgseaMultilevel. To run fgseaMultilevel, you need to remove the nperm argument in the fgsea function call.”\n"
     ]
    },
    {
     "data": {
      "text/html": [
       "<table>\n",
       "<caption>A data.frame: 6 × 11</caption>\n",
       "<thead>\n",
       "\t<tr><th></th><th scope=col>ID</th><th scope=col>Description</th><th scope=col>setSize</th><th scope=col>enrichmentScore</th><th scope=col>NES</th><th scope=col>pvalue</th><th scope=col>p.adjust</th><th scope=col>qvalues</th><th scope=col>rank</th><th scope=col>leading_edge</th><th scope=col>core_enrichment</th></tr>\n",
       "\t<tr><th></th><th scope=col>&lt;chr&gt;</th><th scope=col>&lt;chr&gt;</th><th scope=col>&lt;int&gt;</th><th scope=col>&lt;dbl&gt;</th><th scope=col>&lt;dbl&gt;</th><th scope=col>&lt;dbl&gt;</th><th scope=col>&lt;dbl&gt;</th><th scope=col>&lt;dbl&gt;</th><th scope=col>&lt;dbl&gt;</th><th scope=col>&lt;chr&gt;</th><th scope=col>&lt;chr&gt;</th></tr>\n",
       "</thead>\n",
       "<tbody>\n",
       "\t<tr><th scope=row>hsa04151</th><td>hsa04151</td><td>PI3K-Akt signaling pathway</td><td>322</td><td>-0.3482755</td><td>-1.503497</td><td>0.001261034</td><td>0.01937757</td><td>0.01236209</td><td>1997</td><td>tags=23%, list=16%, signal=20%</td><td>627/2252/7059/92579/5563/5295/6794/1288/7010/3910/3371/3082/1291/4602/3791/1027/90993/3441/3643/1129/2322/1975/7450/596/3685/1942/2149/1280/4804/3675/595/2261/7248/2246/4803/3912/1902/1278/1277/2846/2057/1293/2247/55970/5618/7058/10161/56034/3693/4254/3480/4908/5159/1292/3908/2690/3909/8817/9223/4915/3551/2791/63923/3913/9863/3667/1287/3679/7060/3479/80310/1311/5105/2066/1101</td></tr>\n",
       "\t<tr><th scope=row>hsa04510</th><td>hsa04510</td><td>Focal adhesion            </td><td>188</td><td>-0.4188582</td><td>-1.710984</td><td>0.001373626</td><td>0.01937757</td><td>0.01236209</td><td>2183</td><td>tags=27%, list=17%, signal=23%</td><td>5595/5228/7424/1499/4636/83660/7059/5295/1288/23396/3910/3371/3082/1291/394/3791/7450/596/3685/1280/3675/595/2318/3912/1793/1278/1277/1293/10398/55742/2317/7058/25759/56034/3693/3480/5159/857/1292/3908/3909/63923/3913/1287/3679/7060/3479/10451/80310/1311/1101                                                                                                                       </td></tr>\n",
       "\t<tr><th scope=row>hsa04210</th><td>hsa04210</td><td>Apoptosis                 </td><td>130</td><td> 0.3538776</td><td> 1.512752</td><td>0.003174603</td><td>0.01937757</td><td>0.01236209</td><td>2394</td><td>tags=29%, list=19%, signal=24%</td><td>597/332/3002/4001/1515/1521/1075/5551/84823/330/7277/1520/54205/578/1439/84790/637/1514/10376/142/468/5604/7124/1509/8772/843/7186/9131/8739/356/5605/5594/4792/10018/7185/5366/4893/835                                                                                                                                                                                                  </td></tr>\n",
       "\t<tr><th scope=row>hsa05162</th><td>hsa05162</td><td>Measles                   </td><td>128</td><td> 0.3569799</td><td> 1.515353</td><td>0.003205128</td><td>0.01937757</td><td>0.01236209</td><td>2607</td><td>tags=34%, list=21%, signal=27%</td><td>898/9134/4599/3559/6772/3561/917/3654/915/4938/4940/64135/54205/578/1019/637/916/4939/940/23586/4793/7128/6504/3452/3569/7097/8772/2213/4478/356/3310/1460/5610/4792/9367/10379/9641/3593/1147/3558/2932/3592/3560                                                                                                                                                                        </td></tr>\n",
       "\t<tr><th scope=row>hsa03013</th><td>hsa03013</td><td>RNA transport             </td><td>131</td><td> 0.4116488</td><td> 1.759933</td><td>0.003236246</td><td>0.01937757</td><td>0.01236209</td><td>3383</td><td>tags=40%, list=27%, signal=29%</td><td>10460/1978/55110/54913/9688/8894/11260/10799/9631/4116/5042/8761/6396/23165/8662/10248/55706/79833/9775/29107/23636/5905/9513/5901/10775/10557/4927/79902/1981/26986/11171/10762/8480/8891/11097/26019/10940/4686/9972/81929/10556/3646/9470/387082/1977/57122/8563/7514/79023/3837/9818/56000                                                                                            </td></tr>\n",
       "\t<tr><th scope=row>hsa04218</th><td>hsa04218</td><td>Cellular senescence       </td><td>143</td><td> 0.4153718</td><td> 1.790847</td><td>0.003333333</td><td>0.01937757</td><td>0.01236209</td><td>1155</td><td>tags=17%, list=9%, signal=16% </td><td>2305/4605/9133/890/983/51806/1111/891/993/3576/1978/898/9134/4609/1869/1029/22808/3804/1871/5499/91860/292/1019/11200/1875                                                                                                                                                                                                                                                                </td></tr>\n",
       "</tbody>\n",
       "</table>\n"
      ],
      "text/latex": [
       "A data.frame: 6 × 11\n",
       "\\begin{tabular}{r|lllllllllll}\n",
       "  & ID & Description & setSize & enrichmentScore & NES & pvalue & p.adjust & qvalues & rank & leading\\_edge & core\\_enrichment\\\\\n",
       "  & <chr> & <chr> & <int> & <dbl> & <dbl> & <dbl> & <dbl> & <dbl> & <dbl> & <chr> & <chr>\\\\\n",
       "\\hline\n",
       "\thsa04151 & hsa04151 & PI3K-Akt signaling pathway & 322 & -0.3482755 & -1.503497 & 0.001261034 & 0.01937757 & 0.01236209 & 1997 & tags=23\\%, list=16\\%, signal=20\\% & 627/2252/7059/92579/5563/5295/6794/1288/7010/3910/3371/3082/1291/4602/3791/1027/90993/3441/3643/1129/2322/1975/7450/596/3685/1942/2149/1280/4804/3675/595/2261/7248/2246/4803/3912/1902/1278/1277/2846/2057/1293/2247/55970/5618/7058/10161/56034/3693/4254/3480/4908/5159/1292/3908/2690/3909/8817/9223/4915/3551/2791/63923/3913/9863/3667/1287/3679/7060/3479/80310/1311/5105/2066/1101\\\\\n",
       "\thsa04510 & hsa04510 & Focal adhesion             & 188 & -0.4188582 & -1.710984 & 0.001373626 & 0.01937757 & 0.01236209 & 2183 & tags=27\\%, list=17\\%, signal=23\\% & 5595/5228/7424/1499/4636/83660/7059/5295/1288/23396/3910/3371/3082/1291/394/3791/7450/596/3685/1280/3675/595/2318/3912/1793/1278/1277/1293/10398/55742/2317/7058/25759/56034/3693/3480/5159/857/1292/3908/3909/63923/3913/1287/3679/7060/3479/10451/80310/1311/1101                                                                                                                       \\\\\n",
       "\thsa04210 & hsa04210 & Apoptosis                  & 130 &  0.3538776 &  1.512752 & 0.003174603 & 0.01937757 & 0.01236209 & 2394 & tags=29\\%, list=19\\%, signal=24\\% & 597/332/3002/4001/1515/1521/1075/5551/84823/330/7277/1520/54205/578/1439/84790/637/1514/10376/142/468/5604/7124/1509/8772/843/7186/9131/8739/356/5605/5594/4792/10018/7185/5366/4893/835                                                                                                                                                                                                  \\\\\n",
       "\thsa05162 & hsa05162 & Measles                    & 128 &  0.3569799 &  1.515353 & 0.003205128 & 0.01937757 & 0.01236209 & 2607 & tags=34\\%, list=21\\%, signal=27\\% & 898/9134/4599/3559/6772/3561/917/3654/915/4938/4940/64135/54205/578/1019/637/916/4939/940/23586/4793/7128/6504/3452/3569/7097/8772/2213/4478/356/3310/1460/5610/4792/9367/10379/9641/3593/1147/3558/2932/3592/3560                                                                                                                                                                        \\\\\n",
       "\thsa03013 & hsa03013 & RNA transport              & 131 &  0.4116488 &  1.759933 & 0.003236246 & 0.01937757 & 0.01236209 & 3383 & tags=40\\%, list=27\\%, signal=29\\% & 10460/1978/55110/54913/9688/8894/11260/10799/9631/4116/5042/8761/6396/23165/8662/10248/55706/79833/9775/29107/23636/5905/9513/5901/10775/10557/4927/79902/1981/26986/11171/10762/8480/8891/11097/26019/10940/4686/9972/81929/10556/3646/9470/387082/1977/57122/8563/7514/79023/3837/9818/56000                                                                                            \\\\\n",
       "\thsa04218 & hsa04218 & Cellular senescence        & 143 &  0.4153718 &  1.790847 & 0.003333333 & 0.01937757 & 0.01236209 & 1155 & tags=17\\%, list=9\\%, signal=16\\%  & 2305/4605/9133/890/983/51806/1111/891/993/3576/1978/898/9134/4609/1869/1029/22808/3804/1871/5499/91860/292/1019/11200/1875                                                                                                                                                                                                                                                                \\\\\n",
       "\\end{tabular}\n"
      ],
      "text/markdown": [
       "\n",
       "A data.frame: 6 × 11\n",
       "\n",
       "| <!--/--> | ID &lt;chr&gt; | Description &lt;chr&gt; | setSize &lt;int&gt; | enrichmentScore &lt;dbl&gt; | NES &lt;dbl&gt; | pvalue &lt;dbl&gt; | p.adjust &lt;dbl&gt; | qvalues &lt;dbl&gt; | rank &lt;dbl&gt; | leading_edge &lt;chr&gt; | core_enrichment &lt;chr&gt; |\n",
       "|---|---|---|---|---|---|---|---|---|---|---|---|\n",
       "| hsa04151 | hsa04151 | PI3K-Akt signaling pathway | 322 | -0.3482755 | -1.503497 | 0.001261034 | 0.01937757 | 0.01236209 | 1997 | tags=23%, list=16%, signal=20% | 627/2252/7059/92579/5563/5295/6794/1288/7010/3910/3371/3082/1291/4602/3791/1027/90993/3441/3643/1129/2322/1975/7450/596/3685/1942/2149/1280/4804/3675/595/2261/7248/2246/4803/3912/1902/1278/1277/2846/2057/1293/2247/55970/5618/7058/10161/56034/3693/4254/3480/4908/5159/1292/3908/2690/3909/8817/9223/4915/3551/2791/63923/3913/9863/3667/1287/3679/7060/3479/80310/1311/5105/2066/1101 |\n",
       "| hsa04510 | hsa04510 | Focal adhesion             | 188 | -0.4188582 | -1.710984 | 0.001373626 | 0.01937757 | 0.01236209 | 2183 | tags=27%, list=17%, signal=23% | 5595/5228/7424/1499/4636/83660/7059/5295/1288/23396/3910/3371/3082/1291/394/3791/7450/596/3685/1280/3675/595/2318/3912/1793/1278/1277/1293/10398/55742/2317/7058/25759/56034/3693/3480/5159/857/1292/3908/3909/63923/3913/1287/3679/7060/3479/10451/80310/1311/1101                                                                                                                        |\n",
       "| hsa04210 | hsa04210 | Apoptosis                  | 130 |  0.3538776 |  1.512752 | 0.003174603 | 0.01937757 | 0.01236209 | 2394 | tags=29%, list=19%, signal=24% | 597/332/3002/4001/1515/1521/1075/5551/84823/330/7277/1520/54205/578/1439/84790/637/1514/10376/142/468/5604/7124/1509/8772/843/7186/9131/8739/356/5605/5594/4792/10018/7185/5366/4893/835                                                                                                                                                                                                   |\n",
       "| hsa05162 | hsa05162 | Measles                    | 128 |  0.3569799 |  1.515353 | 0.003205128 | 0.01937757 | 0.01236209 | 2607 | tags=34%, list=21%, signal=27% | 898/9134/4599/3559/6772/3561/917/3654/915/4938/4940/64135/54205/578/1019/637/916/4939/940/23586/4793/7128/6504/3452/3569/7097/8772/2213/4478/356/3310/1460/5610/4792/9367/10379/9641/3593/1147/3558/2932/3592/3560                                                                                                                                                                         |\n",
       "| hsa03013 | hsa03013 | RNA transport              | 131 |  0.4116488 |  1.759933 | 0.003236246 | 0.01937757 | 0.01236209 | 3383 | tags=40%, list=27%, signal=29% | 10460/1978/55110/54913/9688/8894/11260/10799/9631/4116/5042/8761/6396/23165/8662/10248/55706/79833/9775/29107/23636/5905/9513/5901/10775/10557/4927/79902/1981/26986/11171/10762/8480/8891/11097/26019/10940/4686/9972/81929/10556/3646/9470/387082/1977/57122/8563/7514/79023/3837/9818/56000                                                                                             |\n",
       "| hsa04218 | hsa04218 | Cellular senescence        | 143 |  0.4153718 |  1.790847 | 0.003333333 | 0.01937757 | 0.01236209 | 1155 | tags=17%, list=9%, signal=16%  | 2305/4605/9133/890/983/51806/1111/891/993/3576/1978/898/9134/4609/1869/1029/22808/3804/1871/5499/91860/292/1019/11200/1875                                                                                                                                                                                                                                                                 |\n",
       "\n"
      ],
      "text/plain": [
       "         ID       Description                setSize enrichmentScore NES      \n",
       "hsa04151 hsa04151 PI3K-Akt signaling pathway 322     -0.3482755      -1.503497\n",
       "hsa04510 hsa04510 Focal adhesion             188     -0.4188582      -1.710984\n",
       "hsa04210 hsa04210 Apoptosis                  130      0.3538776       1.512752\n",
       "hsa05162 hsa05162 Measles                    128      0.3569799       1.515353\n",
       "hsa03013 hsa03013 RNA transport              131      0.4116488       1.759933\n",
       "hsa04218 hsa04218 Cellular senescence        143      0.4153718       1.790847\n",
       "         pvalue      p.adjust   qvalues    rank leading_edge                  \n",
       "hsa04151 0.001261034 0.01937757 0.01236209 1997 tags=23%, list=16%, signal=20%\n",
       "hsa04510 0.001373626 0.01937757 0.01236209 2183 tags=27%, list=17%, signal=23%\n",
       "hsa04210 0.003174603 0.01937757 0.01236209 2394 tags=29%, list=19%, signal=24%\n",
       "hsa05162 0.003205128 0.01937757 0.01236209 2607 tags=34%, list=21%, signal=27%\n",
       "hsa03013 0.003236246 0.01937757 0.01236209 3383 tags=40%, list=27%, signal=29%\n",
       "hsa04218 0.003333333 0.01937757 0.01236209 1155 tags=17%, list=9%, signal=16% \n",
       "         core_enrichment                                                                                                                                                                                                                                                                                                                                                                           \n",
       "hsa04151 627/2252/7059/92579/5563/5295/6794/1288/7010/3910/3371/3082/1291/4602/3791/1027/90993/3441/3643/1129/2322/1975/7450/596/3685/1942/2149/1280/4804/3675/595/2261/7248/2246/4803/3912/1902/1278/1277/2846/2057/1293/2247/55970/5618/7058/10161/56034/3693/4254/3480/4908/5159/1292/3908/2690/3909/8817/9223/4915/3551/2791/63923/3913/9863/3667/1287/3679/7060/3479/80310/1311/5105/2066/1101\n",
       "hsa04510 5595/5228/7424/1499/4636/83660/7059/5295/1288/23396/3910/3371/3082/1291/394/3791/7450/596/3685/1280/3675/595/2318/3912/1793/1278/1277/1293/10398/55742/2317/7058/25759/56034/3693/3480/5159/857/1292/3908/3909/63923/3913/1287/3679/7060/3479/10451/80310/1311/1101                                                                                                                       \n",
       "hsa04210 597/332/3002/4001/1515/1521/1075/5551/84823/330/7277/1520/54205/578/1439/84790/637/1514/10376/142/468/5604/7124/1509/8772/843/7186/9131/8739/356/5605/5594/4792/10018/7185/5366/4893/835                                                                                                                                                                                                  \n",
       "hsa05162 898/9134/4599/3559/6772/3561/917/3654/915/4938/4940/64135/54205/578/1019/637/916/4939/940/23586/4793/7128/6504/3452/3569/7097/8772/2213/4478/356/3310/1460/5610/4792/9367/10379/9641/3593/1147/3558/2932/3592/3560                                                                                                                                                                        \n",
       "hsa03013 10460/1978/55110/54913/9688/8894/11260/10799/9631/4116/5042/8761/6396/23165/8662/10248/55706/79833/9775/29107/23636/5905/9513/5901/10775/10557/4927/79902/1981/26986/11171/10762/8480/8891/11097/26019/10940/4686/9972/81929/10556/3646/9470/387082/1977/57122/8563/7514/79023/3837/9818/56000                                                                                            \n",
       "hsa04218 2305/4605/9133/890/983/51806/1111/891/993/3576/1978/898/9134/4609/1869/1029/22808/3804/1871/5499/91860/292/1019/11200/1875                                                                                                                                                                                                                                                                "
      ]
     },
     "metadata": {},
     "output_type": "display_data"
    }
   ],
   "source": [
    "kk2 <- gseKEGG(geneList     = geneList,\n",
    "               organism     = 'hsa',\n",
    "               nPerm        = 1000,\n",
    "               minGSSize    = 120,\n",
    "               pvalueCutoff = 0.05,\n",
    "               verbose      = FALSE)\n",
    "head(kk2)"
   ]
  },
  {
   "cell_type": "markdown",
   "metadata": {},
   "source": [
    "6.3 KEGG Module over-representation test"
   ]
  },
  {
   "cell_type": "code",
   "execution_count": 6,
   "metadata": {},
   "outputs": [
    {
     "name": "stderr",
     "output_type": "stream",
     "text": [
      "Reading KEGG annotation online:\n",
      "\n",
      "\n",
      "Reading KEGG annotation online:\n",
      "\n",
      "\n"
     ]
    }
   ],
   "source": [
    "mkk <- enrichMKEGG(gene = gene,\n",
    "                   organism = 'hsa')"
   ]
  },
  {
   "cell_type": "markdown",
   "metadata": {
    "lines_to_next_cell": 0
   },
   "source": [
    "6.4 KEGG Module Gene Set Enrichment Analysis\n"
   ]
  },
  {
   "cell_type": "code",
   "execution_count": 7,
   "metadata": {
    "lines_to_next_cell": 2
   },
   "outputs": [
    {
     "name": "stderr",
     "output_type": "stream",
     "text": [
      "preparing geneSet collections...\n",
      "\n",
      "GSEA analysis...\n",
      "\n",
      "no term enriched under specific pvalueCutoff...\n",
      "\n"
     ]
    }
   ],
   "source": [
    "mkk2 <- gseMKEGG(geneList = geneList,\n",
    "                 organism = 'hsa')"
   ]
  },
  {
   "cell_type": "code",
   "execution_count": null,
   "metadata": {},
   "outputs": [],
   "source": []
  }
 ],
 "metadata": {
  "jupytext": {
   "cell_metadata_filter": "-all",
   "notebook_metadata_filter": "-all",
   "text_representation": {
    "extension": ".R",
    "format_name": "spin"
   }
  },
  "kernelspec": {
   "display_name": "R",
   "language": "R",
   "name": "ir"
  },
  "language_info": {
   "codemirror_mode": "r",
   "file_extension": ".r",
   "mimetype": "text/x-r-source",
   "name": "R",
   "pygments_lexer": "r",
   "version": "3.6.1"
  }
 },
 "nbformat": 4,
 "nbformat_minor": 4
}
