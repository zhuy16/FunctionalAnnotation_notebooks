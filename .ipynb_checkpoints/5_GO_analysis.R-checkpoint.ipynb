{
 "cells": [
  {
   "cell_type": "markdown",
   "metadata": {
    "lines_to_next_cell": 0
   },
   "source": [
    "Chapter 5 Gene Ontology Analysis\n",
    "5.1 Supported organisms\n",
    "\n",
    "5.2 GO classification\n"
   ]
  },
  {
   "cell_type": "code",
   "execution_count": 1,
   "metadata": {},
   "outputs": [
    {
     "name": "stderr",
     "output_type": "stream",
     "text": [
      "\n",
      "\n",
      "clusterProfiler v3.17.0  For help: https://guangchuangyu.github.io/software/clusterProfiler\n",
      "\n",
      "If you use clusterProfiler in published research, please cite:\n",
      "Guangchuang Yu, Li-Gen Wang, Yanyan Han, Qing-Yu He. clusterProfiler: an R package for comparing biological themes among gene clusters. OMICS: A Journal of Integrative Biology. 2012, 16(5):284-287.\n",
      "\n",
      "\n",
      "Attaching package: ‘clusterProfiler’\n",
      "\n",
      "\n",
      "The following object is masked from ‘package:stats’:\n",
      "\n",
      "    filter\n",
      "\n",
      "\n"
     ]
    }
   ],
   "source": [
    "library(clusterProfiler)\n",
    "data(geneList, package=\"DOSE\")"
   ]
  },
  {
   "cell_type": "code",
   "execution_count": 2,
   "metadata": {},
   "outputs": [
    {
     "name": "stderr",
     "output_type": "stream",
     "text": [
      "Loading required package: AnnotationDbi\n",
      "\n",
      "Loading required package: stats4\n",
      "\n",
      "Loading required package: BiocGenerics\n",
      "\n",
      "Loading required package: parallel\n",
      "\n",
      "\n",
      "Attaching package: ‘BiocGenerics’\n",
      "\n",
      "\n",
      "The following objects are masked from ‘package:parallel’:\n",
      "\n",
      "    clusterApply, clusterApplyLB, clusterCall, clusterEvalQ,\n",
      "    clusterExport, clusterMap, parApply, parCapply, parLapply,\n",
      "    parLapplyLB, parRapply, parSapply, parSapplyLB\n",
      "\n",
      "\n",
      "The following objects are masked from ‘package:stats’:\n",
      "\n",
      "    IQR, mad, sd, var, xtabs\n",
      "\n",
      "\n",
      "The following objects are masked from ‘package:base’:\n",
      "\n",
      "    anyDuplicated, append, as.data.frame, basename, cbind, colMeans,\n",
      "    colnames, colSums, dirname, do.call, duplicated, eval, evalq,\n",
      "    Filter, Find, get, grep, grepl, intersect, is.unsorted, lapply,\n",
      "    lengths, Map, mapply, match, mget, order, paste, pmax, pmax.int,\n",
      "    pmin, pmin.int, Position, rank, rbind, Reduce, rowMeans, rownames,\n",
      "    rowSums, sapply, setdiff, sort, table, tapply, union, unique,\n",
      "    unsplit, which, which.max, which.min\n",
      "\n",
      "\n",
      "Loading required package: Biobase\n",
      "\n",
      "Welcome to Bioconductor\n",
      "\n",
      "    Vignettes contain introductory material; view with\n",
      "    'browseVignettes()'. To cite Bioconductor, see\n",
      "    'citation(\"Biobase\")', and for packages 'citation(\"pkgname\")'.\n",
      "\n",
      "\n",
      "Loading required package: IRanges\n",
      "\n",
      "Loading required package: S4Vectors\n",
      "\n",
      "\n",
      "Attaching package: ‘S4Vectors’\n",
      "\n",
      "\n",
      "The following object is masked from ‘package:clusterProfiler’:\n",
      "\n",
      "    rename\n",
      "\n",
      "\n",
      "The following object is masked from ‘package:base’:\n",
      "\n",
      "    expand.grid\n",
      "\n",
      "\n",
      "\n",
      "Attaching package: ‘IRanges’\n",
      "\n",
      "\n",
      "The following object is masked from ‘package:clusterProfiler’:\n",
      "\n",
      "    slice\n",
      "\n",
      "\n",
      "\n",
      "Attaching package: ‘AnnotationDbi’\n",
      "\n",
      "\n",
      "The following object is masked from ‘package:clusterProfiler’:\n",
      "\n",
      "    select\n",
      "\n",
      "\n",
      "\n",
      "\n"
     ]
    }
   ],
   "source": [
    "library(org.Hs.eg.db)"
   ]
  },
  {
   "cell_type": "code",
   "execution_count": 3,
   "metadata": {},
   "outputs": [
    {
     "name": "stderr",
     "output_type": "stream",
     "text": [
      "'select()' returned 1:many mapping between keys and columns\n",
      "\n"
     ]
    },
    {
     "data": {
      "text/html": [
       "<table>\n",
       "<caption>A data.frame: 6 × 3</caption>\n",
       "<thead>\n",
       "\t<tr><th scope=col>ENTREZID</th><th scope=col>ENSEMBL</th><th scope=col>SYMBOL</th></tr>\n",
       "\t<tr><th scope=col>&lt;chr&gt;</th><th scope=col>&lt;chr&gt;</th><th scope=col>&lt;chr&gt;</th></tr>\n",
       "</thead>\n",
       "<tbody>\n",
       "\t<tr><td>4312 </td><td>ENSG00000196611</td><td>MMP1 </td></tr>\n",
       "\t<tr><td>8318 </td><td>ENSG00000093009</td><td>CDC45</td></tr>\n",
       "\t<tr><td>10874</td><td>ENSG00000109255</td><td>NMU  </td></tr>\n",
       "\t<tr><td>55143</td><td>ENSG00000134690</td><td>CDCA8</td></tr>\n",
       "\t<tr><td>55388</td><td>ENSG00000065328</td><td>MCM10</td></tr>\n",
       "\t<tr><td>991  </td><td>ENSG00000117399</td><td>CDC20</td></tr>\n",
       "</tbody>\n",
       "</table>\n"
      ],
      "text/latex": [
       "A data.frame: 6 × 3\n",
       "\\begin{tabular}{r|lll}\n",
       " ENTREZID & ENSEMBL & SYMBOL\\\\\n",
       " <chr> & <chr> & <chr>\\\\\n",
       "\\hline\n",
       "\t 4312  & ENSG00000196611 & MMP1 \\\\\n",
       "\t 8318  & ENSG00000093009 & CDC45\\\\\n",
       "\t 10874 & ENSG00000109255 & NMU  \\\\\n",
       "\t 55143 & ENSG00000134690 & CDCA8\\\\\n",
       "\t 55388 & ENSG00000065328 & MCM10\\\\\n",
       "\t 991   & ENSG00000117399 & CDC20\\\\\n",
       "\\end{tabular}\n"
      ],
      "text/markdown": [
       "\n",
       "A data.frame: 6 × 3\n",
       "\n",
       "| ENTREZID &lt;chr&gt; | ENSEMBL &lt;chr&gt; | SYMBOL &lt;chr&gt; |\n",
       "|---|---|---|\n",
       "| 4312  | ENSG00000196611 | MMP1  |\n",
       "| 8318  | ENSG00000093009 | CDC45 |\n",
       "| 10874 | ENSG00000109255 | NMU   |\n",
       "| 55143 | ENSG00000134690 | CDCA8 |\n",
       "| 55388 | ENSG00000065328 | MCM10 |\n",
       "| 991   | ENSG00000117399 | CDC20 |\n",
       "\n"
      ],
      "text/plain": [
       "  ENTREZID ENSEMBL         SYMBOL\n",
       "1 4312     ENSG00000196611 MMP1  \n",
       "2 8318     ENSG00000093009 CDC45 \n",
       "3 10874    ENSG00000109255 NMU   \n",
       "4 55143    ENSG00000134690 CDCA8 \n",
       "5 55388    ENSG00000065328 MCM10 \n",
       "6 991      ENSG00000117399 CDC20 "
      ]
     },
     "metadata": {},
     "output_type": "display_data"
    }
   ],
   "source": [
    "gene <- names(geneList)[abs(geneList) > 2]\n",
    "gene.df <- bitr(gene, fromType = \"ENTREZID\",\n",
    "                toType = c(\"ENSEMBL\", \"SYMBOL\"),\n",
    "                OrgDb = org.Hs.eg.db)\n",
    "head(gene.df)"
   ]
  },
  {
   "cell_type": "code",
   "execution_count": 4,
   "metadata": {},
   "outputs": [],
   "source": [
    "ggo <- groupGO(gene     = gene,\n",
    "               OrgDb    = org.Hs.eg.db,\n",
    "               ont      = \"CC\",\n",
    "               level    = 3,\n",
    "               readable = TRUE)"
   ]
  },
  {
   "cell_type": "code",
   "execution_count": 5,
   "metadata": {},
   "outputs": [
    {
     "data": {
      "text/html": [
       "<table>\n",
       "<caption>A data.frame: 6 × 5</caption>\n",
       "<thead>\n",
       "\t<tr><th></th><th scope=col>ID</th><th scope=col>Description</th><th scope=col>Count</th><th scope=col>GeneRatio</th><th scope=col>geneID</th></tr>\n",
       "\t<tr><th></th><th scope=col>&lt;fct&gt;</th><th scope=col>&lt;fct&gt;</th><th scope=col>&lt;int&gt;</th><th scope=col>&lt;fct&gt;</th><th scope=col>&lt;chr&gt;</th></tr>\n",
       "</thead>\n",
       "<tbody>\n",
       "\t<tr><th scope=row>GO:0005886</th><td>GO:0005886</td><td>plasma membrane               </td><td>55</td><td>55/207</td><td>S100A9/MELK/S100A8/MARCO/ASPM/CXCL10/LAMP3/CEP55/UGT8/UBE2C/SLC7A5/CXCL9/FADS2/MSLN/IL1R2/KIF18A/S100P/GZMB/TRAT1/GABRP/AQP9/GPR19/SLC2A6/KIF20A/LAG3/NUDT1/CACNA1D/VSTM4/ITPR1/SYT17/SLC16A4/CORIN/KCNK15/CA12/KCNE4/HLA-DQA1/ADH1B/PDZK1/C7/ACKR1/COL17A1/PSD3/EMCN/SLC44A4/LRP2/NLGN4X/MAPT/ERBB4/CX3CR1/LAMP5/ABCA8/STEAP4/PTPRT/TMC5/CYBRD1</td></tr>\n",
       "\t<tr><th scope=row>GO:0005628</th><td>GO:0005628</td><td>prospore membrane             </td><td> 0</td><td>0/207 </td><td>                                                                                                                                                                                                                                                                                                                                                </td></tr>\n",
       "\t<tr><th scope=row>GO:0005789</th><td>GO:0005789</td><td>endoplasmic reticulum membrane</td><td> 8</td><td>8/207 </td><td>FADS2/CDK1/CHODL/ITPR1/HLA-DQA1/CYP4F8/CYP4B1/FMO5                                                                                                                                                                                                                                                                                              </td></tr>\n",
       "\t<tr><th scope=row>GO:0019867</th><td>GO:0019867</td><td>outer membrane                </td><td> 3</td><td>3/207 </td><td>BCL2A1/MAOB/PGR                                                                                                                                                                                                                                                                                                                                 </td></tr>\n",
       "\t<tr><th scope=row>GO:0031090</th><td>GO:0031090</td><td>organelle membrane            </td><td>18</td><td>18/207</td><td>MARCO/BCL2A1/LAMP3/DUSP2/DTL/NUDT1/MAOB/ITPR1/FAM198B/HLA-DQA1/LRP2/CYP4F8/CYP4B1/LAMP5/FMO5/STEAP4/PGR/CYBRD1                                                                                                                                                                                                                                  </td></tr>\n",
       "\t<tr><th scope=row>GO:0034357</th><td>GO:0034357</td><td>photosynthetic membrane       </td><td> 0</td><td>0/207 </td><td>                                                                                                                                                                                                                                                                                                                                                </td></tr>\n",
       "</tbody>\n",
       "</table>\n"
      ],
      "text/latex": [
       "A data.frame: 6 × 5\n",
       "\\begin{tabular}{r|lllll}\n",
       "  & ID & Description & Count & GeneRatio & geneID\\\\\n",
       "  & <fct> & <fct> & <int> & <fct> & <chr>\\\\\n",
       "\\hline\n",
       "\tGO:0005886 & GO:0005886 & plasma membrane                & 55 & 55/207 & S100A9/MELK/S100A8/MARCO/ASPM/CXCL10/LAMP3/CEP55/UGT8/UBE2C/SLC7A5/CXCL9/FADS2/MSLN/IL1R2/KIF18A/S100P/GZMB/TRAT1/GABRP/AQP9/GPR19/SLC2A6/KIF20A/LAG3/NUDT1/CACNA1D/VSTM4/ITPR1/SYT17/SLC16A4/CORIN/KCNK15/CA12/KCNE4/HLA-DQA1/ADH1B/PDZK1/C7/ACKR1/COL17A1/PSD3/EMCN/SLC44A4/LRP2/NLGN4X/MAPT/ERBB4/CX3CR1/LAMP5/ABCA8/STEAP4/PTPRT/TMC5/CYBRD1\\\\\n",
       "\tGO:0005628 & GO:0005628 & prospore membrane              &  0 & 0/207  &                                                                                                                                                                                                                                                                                                                                                 \\\\\n",
       "\tGO:0005789 & GO:0005789 & endoplasmic reticulum membrane &  8 & 8/207  & FADS2/CDK1/CHODL/ITPR1/HLA-DQA1/CYP4F8/CYP4B1/FMO5                                                                                                                                                                                                                                                                                              \\\\\n",
       "\tGO:0019867 & GO:0019867 & outer membrane                 &  3 & 3/207  & BCL2A1/MAOB/PGR                                                                                                                                                                                                                                                                                                                                 \\\\\n",
       "\tGO:0031090 & GO:0031090 & organelle membrane             & 18 & 18/207 & MARCO/BCL2A1/LAMP3/DUSP2/DTL/NUDT1/MAOB/ITPR1/FAM198B/HLA-DQA1/LRP2/CYP4F8/CYP4B1/LAMP5/FMO5/STEAP4/PGR/CYBRD1                                                                                                                                                                                                                                  \\\\\n",
       "\tGO:0034357 & GO:0034357 & photosynthetic membrane        &  0 & 0/207  &                                                                                                                                                                                                                                                                                                                                                 \\\\\n",
       "\\end{tabular}\n"
      ],
      "text/markdown": [
       "\n",
       "A data.frame: 6 × 5\n",
       "\n",
       "| <!--/--> | ID &lt;fct&gt; | Description &lt;fct&gt; | Count &lt;int&gt; | GeneRatio &lt;fct&gt; | geneID &lt;chr&gt; |\n",
       "|---|---|---|---|---|---|\n",
       "| GO:0005886 | GO:0005886 | plasma membrane                | 55 | 55/207 | S100A9/MELK/S100A8/MARCO/ASPM/CXCL10/LAMP3/CEP55/UGT8/UBE2C/SLC7A5/CXCL9/FADS2/MSLN/IL1R2/KIF18A/S100P/GZMB/TRAT1/GABRP/AQP9/GPR19/SLC2A6/KIF20A/LAG3/NUDT1/CACNA1D/VSTM4/ITPR1/SYT17/SLC16A4/CORIN/KCNK15/CA12/KCNE4/HLA-DQA1/ADH1B/PDZK1/C7/ACKR1/COL17A1/PSD3/EMCN/SLC44A4/LRP2/NLGN4X/MAPT/ERBB4/CX3CR1/LAMP5/ABCA8/STEAP4/PTPRT/TMC5/CYBRD1 |\n",
       "| GO:0005628 | GO:0005628 | prospore membrane              |  0 | 0/207  | <!----> |\n",
       "| GO:0005789 | GO:0005789 | endoplasmic reticulum membrane |  8 | 8/207  | FADS2/CDK1/CHODL/ITPR1/HLA-DQA1/CYP4F8/CYP4B1/FMO5                                                                                                                                                                                                                                                                                               |\n",
       "| GO:0019867 | GO:0019867 | outer membrane                 |  3 | 3/207  | BCL2A1/MAOB/PGR                                                                                                                                                                                                                                                                                                                                  |\n",
       "| GO:0031090 | GO:0031090 | organelle membrane             | 18 | 18/207 | MARCO/BCL2A1/LAMP3/DUSP2/DTL/NUDT1/MAOB/ITPR1/FAM198B/HLA-DQA1/LRP2/CYP4F8/CYP4B1/LAMP5/FMO5/STEAP4/PGR/CYBRD1                                                                                                                                                                                                                                   |\n",
       "| GO:0034357 | GO:0034357 | photosynthetic membrane        |  0 | 0/207  | <!----> |\n",
       "\n"
      ],
      "text/plain": [
       "           ID         Description                    Count GeneRatio\n",
       "GO:0005886 GO:0005886 plasma membrane                55    55/207   \n",
       "GO:0005628 GO:0005628 prospore membrane               0    0/207    \n",
       "GO:0005789 GO:0005789 endoplasmic reticulum membrane  8    8/207    \n",
       "GO:0019867 GO:0019867 outer membrane                  3    3/207    \n",
       "GO:0031090 GO:0031090 organelle membrane             18    18/207   \n",
       "GO:0034357 GO:0034357 photosynthetic membrane         0    0/207    \n",
       "           geneID                                                                                                                                                                                                                                                                                                                                          \n",
       "GO:0005886 S100A9/MELK/S100A8/MARCO/ASPM/CXCL10/LAMP3/CEP55/UGT8/UBE2C/SLC7A5/CXCL9/FADS2/MSLN/IL1R2/KIF18A/S100P/GZMB/TRAT1/GABRP/AQP9/GPR19/SLC2A6/KIF20A/LAG3/NUDT1/CACNA1D/VSTM4/ITPR1/SYT17/SLC16A4/CORIN/KCNK15/CA12/KCNE4/HLA-DQA1/ADH1B/PDZK1/C7/ACKR1/COL17A1/PSD3/EMCN/SLC44A4/LRP2/NLGN4X/MAPT/ERBB4/CX3CR1/LAMP5/ABCA8/STEAP4/PTPRT/TMC5/CYBRD1\n",
       "GO:0005628                                                                                                                                                                                                                                                                                                                                                 \n",
       "GO:0005789 FADS2/CDK1/CHODL/ITPR1/HLA-DQA1/CYP4F8/CYP4B1/FMO5                                                                                                                                                                                                                                                                                              \n",
       "GO:0019867 BCL2A1/MAOB/PGR                                                                                                                                                                                                                                                                                                                                 \n",
       "GO:0031090 MARCO/BCL2A1/LAMP3/DUSP2/DTL/NUDT1/MAOB/ITPR1/FAM198B/HLA-DQA1/LRP2/CYP4F8/CYP4B1/LAMP5/FMO5/STEAP4/PGR/CYBRD1                                                                                                                                                                                                                                  \n",
       "GO:0034357                                                                                                                                                                                                                                                                                                                                                 "
      ]
     },
     "metadata": {},
     "output_type": "display_data"
    }
   ],
   "source": [
    "head(ggo)"
   ]
  },
  {
   "cell_type": "markdown",
   "metadata": {},
   "source": [
    "5.3 GO over-representation test\n"
   ]
  },
  {
   "cell_type": "code",
   "execution_count": 6,
   "metadata": {
    "lines_to_next_cell": 2
   },
   "outputs": [
    {
     "data": {
      "text/html": [
       "<table>\n",
       "<caption>A data.frame: 6 × 9</caption>\n",
       "<thead>\n",
       "\t<tr><th></th><th scope=col>ID</th><th scope=col>Description</th><th scope=col>GeneRatio</th><th scope=col>BgRatio</th><th scope=col>pvalue</th><th scope=col>p.adjust</th><th scope=col>qvalue</th><th scope=col>geneID</th><th scope=col>Count</th></tr>\n",
       "\t<tr><th></th><th scope=col>&lt;chr&gt;</th><th scope=col>&lt;chr&gt;</th><th scope=col>&lt;chr&gt;</th><th scope=col>&lt;chr&gt;</th><th scope=col>&lt;dbl&gt;</th><th scope=col>&lt;dbl&gt;</th><th scope=col>&lt;dbl&gt;</th><th scope=col>&lt;chr&gt;</th><th scope=col>&lt;int&gt;</th></tr>\n",
       "</thead>\n",
       "<tbody>\n",
       "\t<tr><th scope=row>GO:0005819</th><td>GO:0005819</td><td>spindle                                 </td><td>25/202</td><td>262/11812</td><td>2.569986e-12</td><td>8.146855e-10</td><td>7.520590e-10</td><td>CDCA8/CDC20/KIF23/CENPE/ASPM/DLGAP5/SKA1/NUSAP1/TPX2/TACC3/NEK2/CDK1/MAD2L1/KIF18A/BIRC5/KIF11/TTK/AURKB/PRC1/KIFC1/KIF18B/KIF20A/AURKA/CCNB1/KIF4A</td><td>25</td></tr>\n",
       "\t<tr><th scope=row>GO:0005876</th><td>GO:0005876</td><td>spindle microtubule                     </td><td>12/202</td><td>45/11812 </td><td>7.912518e-12</td><td>1.254134e-09</td><td>1.157726e-09</td><td>CENPE/SKA1/NUSAP1/CDK1/KIF18A/BIRC5/KIF11/AURKB/PRC1/KIF18B/AURKA/KIF4A                                                                            </td><td>12</td></tr>\n",
       "\t<tr><th scope=row>GO:0000779</th><td>GO:0000779</td><td>condensed chromosome, centromeric region</td><td>15/202</td><td>91/11812 </td><td>3.254384e-11</td><td>3.438799e-09</td><td>3.174452e-09</td><td>CENPE/NDC80/HJURP/SKA1/NEK2/CENPM/CENPN/ERCC6L/MAD2L1/CDT1/BIRC5/NCAPG/AURKB/AURKA/CCNB1                                                           </td><td>15</td></tr>\n",
       "\t<tr><th scope=row>GO:0072686</th><td>GO:0072686</td><td>mitotic spindle                         </td><td>14/202</td><td>84/11812 </td><td>1.292642e-10</td><td>9.903693e-09</td><td>9.142376e-09</td><td>KIF23/CENPE/ASPM/NUSAP1/TPX2/TACC3/CDK1/MAD2L1/KIF18A/KIF11/AURKB/KIFC1/KIF18B/AURKA                                                               </td><td>14</td></tr>\n",
       "\t<tr><th scope=row>GO:0000775</th><td>GO:0000775</td><td>chromosome, centromeric region          </td><td>18/202</td><td>156/11812</td><td>1.562097e-10</td><td>9.903693e-09</td><td>9.142376e-09</td><td>CDCA8/CENPE/NDC80/HJURP/SKA1/NEK2/CENPM/CENPN/ERCC6L/MAD2L1/KIF18A/CDT1/BIRC5/TTK/NCAPG/AURKB/AURKA/CCNB1                                          </td><td>18</td></tr>\n",
       "\t<tr><th scope=row>GO:0000776</th><td>GO:0000776</td><td>kinetochore                             </td><td>15/202</td><td>106/11812</td><td>3.073022e-10</td><td>1.623580e-08</td><td>1.498772e-08</td><td>CENPE/NDC80/HJURP/SKA1/NEK2/CENPM/CENPN/ERCC6L/MAD2L1/KIF18A/CDT1/BIRC5/TTK/AURKB/CCNB1                                                            </td><td>15</td></tr>\n",
       "</tbody>\n",
       "</table>\n"
      ],
      "text/latex": [
       "A data.frame: 6 × 9\n",
       "\\begin{tabular}{r|lllllllll}\n",
       "  & ID & Description & GeneRatio & BgRatio & pvalue & p.adjust & qvalue & geneID & Count\\\\\n",
       "  & <chr> & <chr> & <chr> & <chr> & <dbl> & <dbl> & <dbl> & <chr> & <int>\\\\\n",
       "\\hline\n",
       "\tGO:0005819 & GO:0005819 & spindle                                  & 25/202 & 262/11812 & 2.569986e-12 & 8.146855e-10 & 7.520590e-10 & CDCA8/CDC20/KIF23/CENPE/ASPM/DLGAP5/SKA1/NUSAP1/TPX2/TACC3/NEK2/CDK1/MAD2L1/KIF18A/BIRC5/KIF11/TTK/AURKB/PRC1/KIFC1/KIF18B/KIF20A/AURKA/CCNB1/KIF4A & 25\\\\\n",
       "\tGO:0005876 & GO:0005876 & spindle microtubule                      & 12/202 & 45/11812  & 7.912518e-12 & 1.254134e-09 & 1.157726e-09 & CENPE/SKA1/NUSAP1/CDK1/KIF18A/BIRC5/KIF11/AURKB/PRC1/KIF18B/AURKA/KIF4A                                                                             & 12\\\\\n",
       "\tGO:0000779 & GO:0000779 & condensed chromosome, centromeric region & 15/202 & 91/11812  & 3.254384e-11 & 3.438799e-09 & 3.174452e-09 & CENPE/NDC80/HJURP/SKA1/NEK2/CENPM/CENPN/ERCC6L/MAD2L1/CDT1/BIRC5/NCAPG/AURKB/AURKA/CCNB1                                                            & 15\\\\\n",
       "\tGO:0072686 & GO:0072686 & mitotic spindle                          & 14/202 & 84/11812  & 1.292642e-10 & 9.903693e-09 & 9.142376e-09 & KIF23/CENPE/ASPM/NUSAP1/TPX2/TACC3/CDK1/MAD2L1/KIF18A/KIF11/AURKB/KIFC1/KIF18B/AURKA                                                                & 14\\\\\n",
       "\tGO:0000775 & GO:0000775 & chromosome, centromeric region           & 18/202 & 156/11812 & 1.562097e-10 & 9.903693e-09 & 9.142376e-09 & CDCA8/CENPE/NDC80/HJURP/SKA1/NEK2/CENPM/CENPN/ERCC6L/MAD2L1/KIF18A/CDT1/BIRC5/TTK/NCAPG/AURKB/AURKA/CCNB1                                           & 18\\\\\n",
       "\tGO:0000776 & GO:0000776 & kinetochore                              & 15/202 & 106/11812 & 3.073022e-10 & 1.623580e-08 & 1.498772e-08 & CENPE/NDC80/HJURP/SKA1/NEK2/CENPM/CENPN/ERCC6L/MAD2L1/KIF18A/CDT1/BIRC5/TTK/AURKB/CCNB1                                                             & 15\\\\\n",
       "\\end{tabular}\n"
      ],
      "text/markdown": [
       "\n",
       "A data.frame: 6 × 9\n",
       "\n",
       "| <!--/--> | ID &lt;chr&gt; | Description &lt;chr&gt; | GeneRatio &lt;chr&gt; | BgRatio &lt;chr&gt; | pvalue &lt;dbl&gt; | p.adjust &lt;dbl&gt; | qvalue &lt;dbl&gt; | geneID &lt;chr&gt; | Count &lt;int&gt; |\n",
       "|---|---|---|---|---|---|---|---|---|---|\n",
       "| GO:0005819 | GO:0005819 | spindle                                  | 25/202 | 262/11812 | 2.569986e-12 | 8.146855e-10 | 7.520590e-10 | CDCA8/CDC20/KIF23/CENPE/ASPM/DLGAP5/SKA1/NUSAP1/TPX2/TACC3/NEK2/CDK1/MAD2L1/KIF18A/BIRC5/KIF11/TTK/AURKB/PRC1/KIFC1/KIF18B/KIF20A/AURKA/CCNB1/KIF4A | 25 |\n",
       "| GO:0005876 | GO:0005876 | spindle microtubule                      | 12/202 | 45/11812  | 7.912518e-12 | 1.254134e-09 | 1.157726e-09 | CENPE/SKA1/NUSAP1/CDK1/KIF18A/BIRC5/KIF11/AURKB/PRC1/KIF18B/AURKA/KIF4A                                                                             | 12 |\n",
       "| GO:0000779 | GO:0000779 | condensed chromosome, centromeric region | 15/202 | 91/11812  | 3.254384e-11 | 3.438799e-09 | 3.174452e-09 | CENPE/NDC80/HJURP/SKA1/NEK2/CENPM/CENPN/ERCC6L/MAD2L1/CDT1/BIRC5/NCAPG/AURKB/AURKA/CCNB1                                                            | 15 |\n",
       "| GO:0072686 | GO:0072686 | mitotic spindle                          | 14/202 | 84/11812  | 1.292642e-10 | 9.903693e-09 | 9.142376e-09 | KIF23/CENPE/ASPM/NUSAP1/TPX2/TACC3/CDK1/MAD2L1/KIF18A/KIF11/AURKB/KIFC1/KIF18B/AURKA                                                                | 14 |\n",
       "| GO:0000775 | GO:0000775 | chromosome, centromeric region           | 18/202 | 156/11812 | 1.562097e-10 | 9.903693e-09 | 9.142376e-09 | CDCA8/CENPE/NDC80/HJURP/SKA1/NEK2/CENPM/CENPN/ERCC6L/MAD2L1/KIF18A/CDT1/BIRC5/TTK/NCAPG/AURKB/AURKA/CCNB1                                           | 18 |\n",
       "| GO:0000776 | GO:0000776 | kinetochore                              | 15/202 | 106/11812 | 3.073022e-10 | 1.623580e-08 | 1.498772e-08 | CENPE/NDC80/HJURP/SKA1/NEK2/CENPM/CENPN/ERCC6L/MAD2L1/KIF18A/CDT1/BIRC5/TTK/AURKB/CCNB1                                                             | 15 |\n",
       "\n"
      ],
      "text/plain": [
       "           ID         Description                              GeneRatio\n",
       "GO:0005819 GO:0005819 spindle                                  25/202   \n",
       "GO:0005876 GO:0005876 spindle microtubule                      12/202   \n",
       "GO:0000779 GO:0000779 condensed chromosome, centromeric region 15/202   \n",
       "GO:0072686 GO:0072686 mitotic spindle                          14/202   \n",
       "GO:0000775 GO:0000775 chromosome, centromeric region           18/202   \n",
       "GO:0000776 GO:0000776 kinetochore                              15/202   \n",
       "           BgRatio   pvalue       p.adjust     qvalue      \n",
       "GO:0005819 262/11812 2.569986e-12 8.146855e-10 7.520590e-10\n",
       "GO:0005876 45/11812  7.912518e-12 1.254134e-09 1.157726e-09\n",
       "GO:0000779 91/11812  3.254384e-11 3.438799e-09 3.174452e-09\n",
       "GO:0072686 84/11812  1.292642e-10 9.903693e-09 9.142376e-09\n",
       "GO:0000775 156/11812 1.562097e-10 9.903693e-09 9.142376e-09\n",
       "GO:0000776 106/11812 3.073022e-10 1.623580e-08 1.498772e-08\n",
       "           geneID                                                                                                                                             \n",
       "GO:0005819 CDCA8/CDC20/KIF23/CENPE/ASPM/DLGAP5/SKA1/NUSAP1/TPX2/TACC3/NEK2/CDK1/MAD2L1/KIF18A/BIRC5/KIF11/TTK/AURKB/PRC1/KIFC1/KIF18B/KIF20A/AURKA/CCNB1/KIF4A\n",
       "GO:0005876 CENPE/SKA1/NUSAP1/CDK1/KIF18A/BIRC5/KIF11/AURKB/PRC1/KIF18B/AURKA/KIF4A                                                                            \n",
       "GO:0000779 CENPE/NDC80/HJURP/SKA1/NEK2/CENPM/CENPN/ERCC6L/MAD2L1/CDT1/BIRC5/NCAPG/AURKB/AURKA/CCNB1                                                           \n",
       "GO:0072686 KIF23/CENPE/ASPM/NUSAP1/TPX2/TACC3/CDK1/MAD2L1/KIF18A/KIF11/AURKB/KIFC1/KIF18B/AURKA                                                               \n",
       "GO:0000775 CDCA8/CENPE/NDC80/HJURP/SKA1/NEK2/CENPM/CENPN/ERCC6L/MAD2L1/KIF18A/CDT1/BIRC5/TTK/NCAPG/AURKB/AURKA/CCNB1                                          \n",
       "GO:0000776 CENPE/NDC80/HJURP/SKA1/NEK2/CENPM/CENPN/ERCC6L/MAD2L1/KIF18A/CDT1/BIRC5/TTK/AURKB/CCNB1                                                            \n",
       "           Count\n",
       "GO:0005819 25   \n",
       "GO:0005876 12   \n",
       "GO:0000779 15   \n",
       "GO:0072686 14   \n",
       "GO:0000775 18   \n",
       "GO:0000776 15   "
      ]
     },
     "metadata": {},
     "output_type": "display_data"
    }
   ],
   "source": [
    "ego <- enrichGO(gene          = gene,\n",
    "                universe      = names(geneList),\n",
    "                OrgDb         = org.Hs.eg.db,\n",
    "                ont           = \"CC\",\n",
    "                pAdjustMethod = \"BH\",\n",
    "                pvalueCutoff  = 0.01,\n",
    "                qvalueCutoff  = 0.05,\n",
    "                readable      = TRUE)\n",
    "head(ego)"
   ]
  },
  {
   "cell_type": "code",
   "execution_count": 7,
   "metadata": {},
   "outputs": [],
   "source": [
    "ego2 <- enrichGO(gene         = gene.df$ENSEMBL,\n",
    "                 OrgDb         = org.Hs.eg.db,\n",
    "                 keyType       = 'ENSEMBL',\n",
    "                 ont           = \"CC\",\n",
    "                 pAdjustMethod = \"BH\",\n",
    "                 pvalueCutoff  = 0.01,\n",
    "                 qvalueCutoff  = 0.05)"
   ]
  },
  {
   "cell_type": "code",
   "execution_count": 8,
   "metadata": {
    "lines_to_next_cell": 0
   },
   "outputs": [
    {
     "data": {
      "text/html": [
       "<table>\n",
       "<caption>A data.frame: 6 × 9</caption>\n",
       "<thead>\n",
       "\t<tr><th></th><th scope=col>ID</th><th scope=col>Description</th><th scope=col>GeneRatio</th><th scope=col>BgRatio</th><th scope=col>pvalue</th><th scope=col>p.adjust</th><th scope=col>qvalue</th><th scope=col>geneID</th><th scope=col>Count</th></tr>\n",
       "\t<tr><th></th><th scope=col>&lt;chr&gt;</th><th scope=col>&lt;chr&gt;</th><th scope=col>&lt;chr&gt;</th><th scope=col>&lt;chr&gt;</th><th scope=col>&lt;dbl&gt;</th><th scope=col>&lt;dbl&gt;</th><th scope=col>&lt;dbl&gt;</th><th scope=col>&lt;chr&gt;</th><th scope=col>&lt;int&gt;</th></tr>\n",
       "</thead>\n",
       "<tbody>\n",
       "\t<tr><th scope=row>GO:0005819</th><td>GO:0005819</td><td>spindle                                 </td><td>29/235</td><td>358/21794</td><td>2.910900e-17</td><td>8.732700e-15</td><td>6.832955e-15</td><td>CDCA8/CDC20/KIF23/CENPE/ASPM/DLGAP5/SKA1/SKA1/NUSAP1/TPX2/TACC3/NEK2/CDK1/MAD2L1/KIF18A/BIRC5/KIF11/TTK/AURKB/PRC1/KIFC1/KIFC1/KIFC1/KIFC1/KIF18B/KIF20A/AURKA/CCNB1/KIF4A</td><td>29</td></tr>\n",
       "\t<tr><th scope=row>GO:0072686</th><td>GO:0072686</td><td>mitotic spindle                         </td><td>17/235</td><td>114/21794</td><td>5.922520e-15</td><td>8.883780e-13</td><td>6.951168e-13</td><td>KIF23/CENPE/ASPM/NUSAP1/TPX2/TACC3/CDK1/MAD2L1/KIF18A/KIF11/AURKB/KIFC1/KIFC1/KIFC1/KIFC1/KIF18B/AURKA                                                                    </td><td>17</td></tr>\n",
       "\t<tr><th scope=row>GO:0005876</th><td>GO:0005876</td><td>spindle microtubule                     </td><td>13/235</td><td>56/21794 </td><td>2.394224e-14</td><td>2.394224e-12</td><td>1.873375e-12</td><td>CENPE/SKA1/SKA1/NUSAP1/CDK1/KIF18A/BIRC5/KIF11/AURKB/PRC1/KIF18B/AURKA/KIF4A                                                                                              </td><td>13</td></tr>\n",
       "\t<tr><th scope=row>GO:0000779</th><td>GO:0000779</td><td>condensed chromosome, centromeric region</td><td>16/235</td><td>126/21794</td><td>4.993110e-13</td><td>3.744833e-11</td><td>2.930167e-11</td><td>CENPE/NDC80/HJURP/SKA1/SKA1/NEK2/CENPM/CENPN/ERCC6L/MAD2L1/CDT1/BIRC5/NCAPG/AURKB/AURKA/CCNB1                                                                             </td><td>16</td></tr>\n",
       "\t<tr><th scope=row>GO:0000775</th><td>GO:0000775</td><td>chromosome, centromeric region          </td><td>19/235</td><td>212/21794</td><td>1.819426e-12</td><td>1.065631e-10</td><td>8.338095e-11</td><td>CDCA8/CENPE/NDC80/HJURP/SKA1/SKA1/NEK2/CENPM/CENPN/ERCC6L/MAD2L1/KIF18A/CDT1/BIRC5/TTK/NCAPG/AURKB/AURKA/CCNB1                                                            </td><td>19</td></tr>\n",
       "\t<tr><th scope=row>GO:0042613</th><td>GO:0042613</td><td>MHC class II protein complex            </td><td>14/235</td><td>96/21794 </td><td>2.131262e-12</td><td>1.065631e-10</td><td>8.338095e-11</td><td>HLA-DQA1/HLA-DQA1/HLA-DQA1/HLA-DQA1/HLA-DQA1/HLA-DQA1/HLA-DQA1/HLA-DQA1/HLA-DQA1/HLA-DQA1/HLA-DQA1/HLA-DQA1/HLA-DQA1/HLA-DQA1                                             </td><td>14</td></tr>\n",
       "</tbody>\n",
       "</table>\n"
      ],
      "text/latex": [
       "A data.frame: 6 × 9\n",
       "\\begin{tabular}{r|lllllllll}\n",
       "  & ID & Description & GeneRatio & BgRatio & pvalue & p.adjust & qvalue & geneID & Count\\\\\n",
       "  & <chr> & <chr> & <chr> & <chr> & <dbl> & <dbl> & <dbl> & <chr> & <int>\\\\\n",
       "\\hline\n",
       "\tGO:0005819 & GO:0005819 & spindle                                  & 29/235 & 358/21794 & 2.910900e-17 & 8.732700e-15 & 6.832955e-15 & CDCA8/CDC20/KIF23/CENPE/ASPM/DLGAP5/SKA1/SKA1/NUSAP1/TPX2/TACC3/NEK2/CDK1/MAD2L1/KIF18A/BIRC5/KIF11/TTK/AURKB/PRC1/KIFC1/KIFC1/KIFC1/KIFC1/KIF18B/KIF20A/AURKA/CCNB1/KIF4A & 29\\\\\n",
       "\tGO:0072686 & GO:0072686 & mitotic spindle                          & 17/235 & 114/21794 & 5.922520e-15 & 8.883780e-13 & 6.951168e-13 & KIF23/CENPE/ASPM/NUSAP1/TPX2/TACC3/CDK1/MAD2L1/KIF18A/KIF11/AURKB/KIFC1/KIFC1/KIFC1/KIFC1/KIF18B/AURKA                                                                     & 17\\\\\n",
       "\tGO:0005876 & GO:0005876 & spindle microtubule                      & 13/235 & 56/21794  & 2.394224e-14 & 2.394224e-12 & 1.873375e-12 & CENPE/SKA1/SKA1/NUSAP1/CDK1/KIF18A/BIRC5/KIF11/AURKB/PRC1/KIF18B/AURKA/KIF4A                                                                                               & 13\\\\\n",
       "\tGO:0000779 & GO:0000779 & condensed chromosome, centromeric region & 16/235 & 126/21794 & 4.993110e-13 & 3.744833e-11 & 2.930167e-11 & CENPE/NDC80/HJURP/SKA1/SKA1/NEK2/CENPM/CENPN/ERCC6L/MAD2L1/CDT1/BIRC5/NCAPG/AURKB/AURKA/CCNB1                                                                              & 16\\\\\n",
       "\tGO:0000775 & GO:0000775 & chromosome, centromeric region           & 19/235 & 212/21794 & 1.819426e-12 & 1.065631e-10 & 8.338095e-11 & CDCA8/CENPE/NDC80/HJURP/SKA1/SKA1/NEK2/CENPM/CENPN/ERCC6L/MAD2L1/KIF18A/CDT1/BIRC5/TTK/NCAPG/AURKB/AURKA/CCNB1                                                             & 19\\\\\n",
       "\tGO:0042613 & GO:0042613 & MHC class II protein complex             & 14/235 & 96/21794  & 2.131262e-12 & 1.065631e-10 & 8.338095e-11 & HLA-DQA1/HLA-DQA1/HLA-DQA1/HLA-DQA1/HLA-DQA1/HLA-DQA1/HLA-DQA1/HLA-DQA1/HLA-DQA1/HLA-DQA1/HLA-DQA1/HLA-DQA1/HLA-DQA1/HLA-DQA1                                              & 14\\\\\n",
       "\\end{tabular}\n"
      ],
      "text/markdown": [
       "\n",
       "A data.frame: 6 × 9\n",
       "\n",
       "| <!--/--> | ID &lt;chr&gt; | Description &lt;chr&gt; | GeneRatio &lt;chr&gt; | BgRatio &lt;chr&gt; | pvalue &lt;dbl&gt; | p.adjust &lt;dbl&gt; | qvalue &lt;dbl&gt; | geneID &lt;chr&gt; | Count &lt;int&gt; |\n",
       "|---|---|---|---|---|---|---|---|---|---|\n",
       "| GO:0005819 | GO:0005819 | spindle                                  | 29/235 | 358/21794 | 2.910900e-17 | 8.732700e-15 | 6.832955e-15 | CDCA8/CDC20/KIF23/CENPE/ASPM/DLGAP5/SKA1/SKA1/NUSAP1/TPX2/TACC3/NEK2/CDK1/MAD2L1/KIF18A/BIRC5/KIF11/TTK/AURKB/PRC1/KIFC1/KIFC1/KIFC1/KIFC1/KIF18B/KIF20A/AURKA/CCNB1/KIF4A | 29 |\n",
       "| GO:0072686 | GO:0072686 | mitotic spindle                          | 17/235 | 114/21794 | 5.922520e-15 | 8.883780e-13 | 6.951168e-13 | KIF23/CENPE/ASPM/NUSAP1/TPX2/TACC3/CDK1/MAD2L1/KIF18A/KIF11/AURKB/KIFC1/KIFC1/KIFC1/KIFC1/KIF18B/AURKA                                                                     | 17 |\n",
       "| GO:0005876 | GO:0005876 | spindle microtubule                      | 13/235 | 56/21794  | 2.394224e-14 | 2.394224e-12 | 1.873375e-12 | CENPE/SKA1/SKA1/NUSAP1/CDK1/KIF18A/BIRC5/KIF11/AURKB/PRC1/KIF18B/AURKA/KIF4A                                                                                               | 13 |\n",
       "| GO:0000779 | GO:0000779 | condensed chromosome, centromeric region | 16/235 | 126/21794 | 4.993110e-13 | 3.744833e-11 | 2.930167e-11 | CENPE/NDC80/HJURP/SKA1/SKA1/NEK2/CENPM/CENPN/ERCC6L/MAD2L1/CDT1/BIRC5/NCAPG/AURKB/AURKA/CCNB1                                                                              | 16 |\n",
       "| GO:0000775 | GO:0000775 | chromosome, centromeric region           | 19/235 | 212/21794 | 1.819426e-12 | 1.065631e-10 | 8.338095e-11 | CDCA8/CENPE/NDC80/HJURP/SKA1/SKA1/NEK2/CENPM/CENPN/ERCC6L/MAD2L1/KIF18A/CDT1/BIRC5/TTK/NCAPG/AURKB/AURKA/CCNB1                                                             | 19 |\n",
       "| GO:0042613 | GO:0042613 | MHC class II protein complex             | 14/235 | 96/21794  | 2.131262e-12 | 1.065631e-10 | 8.338095e-11 | HLA-DQA1/HLA-DQA1/HLA-DQA1/HLA-DQA1/HLA-DQA1/HLA-DQA1/HLA-DQA1/HLA-DQA1/HLA-DQA1/HLA-DQA1/HLA-DQA1/HLA-DQA1/HLA-DQA1/HLA-DQA1                                              | 14 |\n",
       "\n"
      ],
      "text/plain": [
       "           ID         Description                              GeneRatio\n",
       "GO:0005819 GO:0005819 spindle                                  29/235   \n",
       "GO:0072686 GO:0072686 mitotic spindle                          17/235   \n",
       "GO:0005876 GO:0005876 spindle microtubule                      13/235   \n",
       "GO:0000779 GO:0000779 condensed chromosome, centromeric region 16/235   \n",
       "GO:0000775 GO:0000775 chromosome, centromeric region           19/235   \n",
       "GO:0042613 GO:0042613 MHC class II protein complex             14/235   \n",
       "           BgRatio   pvalue       p.adjust     qvalue      \n",
       "GO:0005819 358/21794 2.910900e-17 8.732700e-15 6.832955e-15\n",
       "GO:0072686 114/21794 5.922520e-15 8.883780e-13 6.951168e-13\n",
       "GO:0005876 56/21794  2.394224e-14 2.394224e-12 1.873375e-12\n",
       "GO:0000779 126/21794 4.993110e-13 3.744833e-11 2.930167e-11\n",
       "GO:0000775 212/21794 1.819426e-12 1.065631e-10 8.338095e-11\n",
       "GO:0042613 96/21794  2.131262e-12 1.065631e-10 8.338095e-11\n",
       "           geneID                                                                                                                                                                    \n",
       "GO:0005819 CDCA8/CDC20/KIF23/CENPE/ASPM/DLGAP5/SKA1/SKA1/NUSAP1/TPX2/TACC3/NEK2/CDK1/MAD2L1/KIF18A/BIRC5/KIF11/TTK/AURKB/PRC1/KIFC1/KIFC1/KIFC1/KIFC1/KIF18B/KIF20A/AURKA/CCNB1/KIF4A\n",
       "GO:0072686 KIF23/CENPE/ASPM/NUSAP1/TPX2/TACC3/CDK1/MAD2L1/KIF18A/KIF11/AURKB/KIFC1/KIFC1/KIFC1/KIFC1/KIF18B/AURKA                                                                    \n",
       "GO:0005876 CENPE/SKA1/SKA1/NUSAP1/CDK1/KIF18A/BIRC5/KIF11/AURKB/PRC1/KIF18B/AURKA/KIF4A                                                                                              \n",
       "GO:0000779 CENPE/NDC80/HJURP/SKA1/SKA1/NEK2/CENPM/CENPN/ERCC6L/MAD2L1/CDT1/BIRC5/NCAPG/AURKB/AURKA/CCNB1                                                                             \n",
       "GO:0000775 CDCA8/CENPE/NDC80/HJURP/SKA1/SKA1/NEK2/CENPM/CENPN/ERCC6L/MAD2L1/KIF18A/CDT1/BIRC5/TTK/NCAPG/AURKB/AURKA/CCNB1                                                            \n",
       "GO:0042613 HLA-DQA1/HLA-DQA1/HLA-DQA1/HLA-DQA1/HLA-DQA1/HLA-DQA1/HLA-DQA1/HLA-DQA1/HLA-DQA1/HLA-DQA1/HLA-DQA1/HLA-DQA1/HLA-DQA1/HLA-DQA1                                             \n",
       "           Count\n",
       "GO:0005819 29   \n",
       "GO:0072686 17   \n",
       "GO:0005876 13   \n",
       "GO:0000779 16   \n",
       "GO:0000775 19   \n",
       "GO:0042613 14   "
      ]
     },
     "metadata": {},
     "output_type": "display_data"
    }
   ],
   "source": [
    "ego2 <- setReadable(ego2, OrgDb = org.Hs.eg.db)\n",
    "head(ego2)"
   ]
  },
  {
   "cell_type": "markdown",
   "metadata": {},
   "source": [
    "5.3.1 drop specific GO terms or level\n",
    "5.3.2 test GO at sepcific level\n",
    "5.3.3 reduce redundancy of enriched GO terms\n",
    "5.4 GO Gene Set Enrichment Analysis"
   ]
  },
  {
   "cell_type": "code",
   "execution_count": 9,
   "metadata": {},
   "outputs": [
    {
     "name": "stderr",
     "output_type": "stream",
     "text": [
      "Warning message in .GSEA(geneList = geneList, exponent = exponent, minGSSize = minGSSize, :\n",
      "“We do not recommend using nPerm parameter incurrent and future releases”\n",
      "Warning message in fgsea(pathways = geneSets, stats = geneList, nperm = nPerm, minSize = minGSSize, :\n",
      "“You are trying to run fgseaSimple. It is recommended to use fgseaMultilevel. To run fgseaMultilevel, you need to remove the nperm argument in the fgsea function call.”\n"
     ]
    }
   ],
   "source": [
    "ego3 <- gseGO(geneList     = geneList,\n",
    "              OrgDb        = org.Hs.eg.db,\n",
    "              ont          = \"CC\",\n",
    "              nPerm        = 1000,\n",
    "              minGSSize    = 100,\n",
    "              maxGSSize    = 500,\n",
    "              pvalueCutoff = 0.05,\n",
    "              verbose      = FALSE)"
   ]
  },
  {
   "cell_type": "markdown",
   "metadata": {},
   "source": [
    "5.5 GO Semantic Similarity Analysis"
   ]
  },
  {
   "cell_type": "markdown",
   "metadata": {},
   "source": [
    "5.5.1 GO analysis for non-model organisms"
   ]
  },
  {
   "cell_type": "code",
   "execution_count": null,
   "metadata": {
    "lines_to_next_cell": 2
   },
   "outputs": [],
   "source": []
  }
 ],
 "metadata": {
  "jupytext": {
   "cell_metadata_filter": "-all",
   "notebook_metadata_filter": "-all",
   "text_representation": {
    "extension": ".R",
    "format_name": "spin"
   }
  },
  "kernelspec": {
   "display_name": "R 3.5",
   "language": "R",
   "name": "ir35"
  },
  "language_info": {
   "codemirror_mode": "r",
   "file_extension": ".r",
   "mimetype": "text/x-r-source",
   "name": "R",
   "pygments_lexer": "r",
   "version": "3.5.2"
  }
 },
 "nbformat": 4,
 "nbformat_minor": 4
}
